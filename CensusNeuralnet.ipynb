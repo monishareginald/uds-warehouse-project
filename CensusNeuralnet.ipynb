{
 "cells": [
  {
   "cell_type": "markdown",
   "id": "c4bb301a-4244-4363-851b-1937acddf8b0",
   "metadata": {},
   "source": [
    "## Neural Network Model with Top 20 Feature Importances (including census data)"
   ]
  },
  {
   "cell_type": "code",
   "execution_count": 5,
   "id": "5072a3ba-730e-4b3d-8928-515ebf952f56",
   "metadata": {},
   "outputs": [],
   "source": [
    "#import libraries \n",
    "import pandas as pd\n",
    "import geopandas as gpd\n",
    "from sklearn.model_selection import train_test_split\n",
    "from sklearn.metrics import classification_report, confusion_matrix, accuracy_score, ConfusionMatrixDisplay\n",
    "import matplotlib.pyplot as plt"
   ]
  },
  {
   "cell_type": "code",
   "execution_count": null,
   "id": "90ff980c-1fc5-4624-b659-b1b556a9a4c5",
   "metadata": {},
   "outputs": [],
   "source": [
    "#read in data\n",
    "# read in data\n",
    "parcel_data=pd.read_csv('all_data_joined_2010.csv')\n",
    "\n"
   ]
  },
  {
   "cell_type": "code",
   "execution_count": null,
   "id": "2bcbe606-bd2a-4a19-82d1-315276aa563c",
   "metadata": {},
   "outputs": [],
   "source": [
    "# need to set APN to be index so that we can join this back to other information later on\n",
    "parceldata_10 = parcel_data\n",
    "parceldata_10.set_index('APN',inplace=True)\n",
    "parceldata_10.columns"
   ]
  },
  {
   "cell_type": "code",
   "execution_count": null,
   "id": "11976379-a921-47f9-b79b-25e2197ddb30",
   "metadata": {},
   "outputs": [],
   "source": [
    "parceldata_10 = parceldata_10.rename(columns = {'buit_within_decade': 'built_within_decade'})"
   ]
  },
  {
   "cell_type": "code",
   "execution_count": null,
   "id": "bf2aa573-2ac8-417c-92ae-f4de10e2fbf3",
   "metadata": {},
   "outputs": [],
   "source": [
    "# Create a dataset for data as of 2020\n",
    "parceldata_20=pd.read_csv('data/all_data_joined_2020.csv')\n",
    "\n",
    "# need to set APN to be index so that we can join this back to other information later on\n",
    "parceldata_20.set_index('APN',inplace=True)"
   ]
  },
  {
   "cell_type": "code",
   "execution_count": null,
   "id": "f2817cfb-a6db-49ca-b373-066fec01623b",
   "metadata": {},
   "outputs": [],
   "source": [
    "parceldata_20 = parceldata_20.rename(columns = {'buit_within_decade': 'built_within_decade'})"
   ]
  },
  {
   "cell_type": "markdown",
   "id": "bc6491b2-9fb4-481d-9d74-158c7d445587",
   "metadata": {},
   "source": [
    "## Standardize Data"
   ]
  },
  {
   "cell_type": "markdown",
   "id": "90974a73-324c-4d98-a504-cf1f88d29e9e",
   "metadata": {},
   "source": [
    "Use top 20 feature importances from random forest to run a model with fewer columns that includes census data"
   ]
  },
  {
   "cell_type": "code",
   "execution_count": null,
   "id": "e6a9215c-7977-4c1a-9f00-bf23e06295bd",
   "metadata": {},
   "outputs": [],
   "source": [
    "#subset parceldata10 to run model with only top 20 feature importances\n",
    "parceldata_10 = parceldata_10[['LAND_VALUE', 'ACRES', 'dollars_per_acre', 'distances', 'lon', 'lat',\n",
    "       'IL_RATIO', 'warehouse_start', 'Industrial', 'Vacant',\n",
    "       'Percent $10,000-$14,999', 'Percent $100,000 - $124,999',\n",
    "       'Percent White alone', 'Percent Some other race alone',\n",
    "       'Percent some_college', 'Percent less_highschool',\n",
    "       'Percent Renter Occupied', 'Percent No schooling completed',\n",
    "       'Percent Two or more races:', 'Percent Owner Occupied', 'built_within_decade']]"
   ]
  },
  {
   "cell_type": "code",
   "execution_count": null,
   "id": "a6f7789d-ceaa-49d2-aca2-9864c0a8612b",
   "metadata": {},
   "outputs": [],
   "source": [
    "#standardize data\n",
    "\n",
    "cols_to_exclude = ['built_within_decade']\n",
    "\n",
    "otherCols  = [col for col in parceldata_10.columns if col not in cols_to_exclude]\n",
    "otherCols"
   ]
  },
  {
   "cell_type": "code",
   "execution_count": null,
   "id": "90437562-89fb-4a23-89c5-300f1b78b734",
   "metadata": {},
   "outputs": [],
   "source": [
    "parceldata_10[otherCols].info()"
   ]
  },
  {
   "cell_type": "code",
   "execution_count": null,
   "id": "f44b2833-2554-4da3-af1c-7da86d8e4e70",
   "metadata": {},
   "outputs": [],
   "source": [
    "#scale \"otherCols\"\n",
    "from sklearn import preprocessing\n",
    "scaler = preprocessing.StandardScaler().fit(parceldata_10[otherCols])\n",
    "\n",
    "# convert to DataFrame and specify the column names and index\n",
    "df_scaled = pd.DataFrame(scaler.transform(parceldata_10[otherCols]), \n",
    "                         columns=otherCols, index=parceldata_10.index)\n",
    "\n",
    "# create a DataFrame with these scaled columns joined to the columns that we didn't scale\n",
    "df_scaled = df_scaled.join(parceldata_10[cols_to_exclude])\n",
    "\n",
    "df_scaled.head()"
   ]
  },
  {
   "cell_type": "code",
   "execution_count": null,
   "id": "c9ac4e27-fe22-4870-9793-0141196759a8",
   "metadata": {},
   "outputs": [],
   "source": [
    "\n",
    "\n",
    "# define variables \n",
    "cols=df_scaled.columns.to_list()\n",
    "xvars=[col for col in cols if col not in ('APN', 'built_within_decade')]\n",
    "yvar = 'built_within_decade'\n",
    "\n",
    "# create a dataframe with no NaNs\n",
    "parceldata_10_model = df_scaled[xvars+[yvar]].dropna()\n",
    "\n",
    "# create train-test split\n",
    "X_train, X_test, y_train, y_test = train_test_split(\n",
    "    parceldata_10_model[xvars], parceldata_10_model[yvar], test_size = 0.25, random_state = 1)"
   ]
  },
  {
   "cell_type": "code",
   "execution_count": null,
   "id": "88ffbcb8-10e9-4383-ae05-5baa615454a1",
   "metadata": {},
   "outputs": [],
   "source": [
    "parceldata_10_model[xvars].describe() ##check that it is standardized"
   ]
  },
  {
   "cell_type": "code",
   "execution_count": null,
   "id": "fa5df922-5a40-4cd5-a44c-b3c8adf70b4a",
   "metadata": {},
   "outputs": [],
   "source": [
    "#predict\n",
    "from sklearn.neural_network import MLPClassifier\n",
    "mlp = MLPClassifier(hidden_layer_sizes=(10, 10, 10), max_iter=1000, random_state = 1) ##add random state here or next line & check that it is using the standardized data\n",
    "mlp.fit(X_train, y_train)\n",
    "y_pred = mlp.predict(X_test)"
   ]
  },
  {
   "cell_type": "code",
   "execution_count": null,
   "id": "b3fa500a-2d08-4974-b7d6-af3e8f57d665",
   "metadata": {},
   "outputs": [],
   "source": [
    "# stop if the length of the predictions doesn't match the training dataset\n",
    "assert len(X_test)==len(y_pred)"
   ]
  },
  {
   "cell_type": "code",
   "execution_count": null,
   "id": "5aa588c4-b747-4771-9469-7265fa17184d",
   "metadata": {},
   "outputs": [],
   "source": [
    "#check how it did\n",
    "print(classification_report(y_test, y_pred))"
   ]
  },
  {
   "cell_type": "code",
   "execution_count": null,
   "id": "f306d289-cec7-4309-b07f-96c75439a5e3",
   "metadata": {},
   "outputs": [],
   "source": [
    "print('Predicted fraction True: {:.4f}. Actual fraction True: {:.4f}'.format(\n",
    "    y_pred.mean(), y_test.mean()))"
   ]
  },
  {
   "cell_type": "code",
   "execution_count": null,
   "id": "d1196860-e60c-4529-864e-704f3e63bc15",
   "metadata": {},
   "outputs": [],
   "source": [
    "#confusion matrix\n",
    "ConfusionMatrixDisplay.from_predictions(y_test, y_pred)\n",
    "#confusion matrix\n",
    "ConfusionMatrixDisplay.from_predictions(y_test, y_pred)\n",
    "plt.savefig('figures/confusion_matrix_Neuralnet_census.png', bbox_inches='tight',transparent=True)\n"
   ]
  },
  {
   "cell_type": "markdown",
   "id": "ae962abf-bdaf-4e4c-901b-c4df4df5fbbe",
   "metadata": {},
   "source": [
    "### Apply Model to 2020 Dataset"
   ]
  },
  {
   "cell_type": "markdown",
   "id": "2e5ab408-2612-4479-a19d-24e3a19338f4",
   "metadata": {},
   "source": [
    "### Standardize New Dataframe"
   ]
  },
  {
   "cell_type": "code",
   "execution_count": null,
   "id": "77d66166-a125-45e3-b0a2-69593c7df6c2",
   "metadata": {},
   "outputs": [],
   "source": [
    "#subset parceldata20 to run model with only top 20 feature importances\n",
    "parceldata_20 = parceldata_20[['LAND_VALUE', 'ACRES', 'dollars_per_acre', 'distances', 'lon', 'lat',\n",
    "       'IL_RATIO', 'warehouse_start', 'Industrial', 'Vacant',\n",
    "       'Percent $10,000-$14,999', 'Percent $100,000 - $124,999',\n",
    "       'Percent White alone', 'Percent Some other race alone',\n",
    "       'Percent some_college', 'Percent less_highschool',\n",
    "       'Percent Renter Occupied', 'Percent No schooling completed',\n",
    "       'Percent Two or more races:', 'Percent Owner Occupied', 'built_within_decade']]"
   ]
  },
  {
   "cell_type": "code",
   "execution_count": null,
   "id": "c9f61430-c39c-45ac-a93a-321649746e35",
   "metadata": {},
   "outputs": [],
   "source": [
    "#select columns to standardize\n",
    "\n",
    "cols_to_exclude = ['built_within_decade']\n",
    "\n",
    "otherCols  = [col for col in parceldata_20.columns if col not in cols_to_exclude]\n",
    "otherCols"
   ]
  },
  {
   "cell_type": "code",
   "execution_count": null,
   "id": "8d80ea4e-29ad-4ac9-b714-c658911da3fb",
   "metadata": {},
   "outputs": [],
   "source": [
    "#scale \"otherCols\"\n",
    "from sklearn import preprocessing\n",
    "scaler = preprocessing.StandardScaler().fit(parceldata_20[otherCols])\n",
    "\n",
    "# convert to DataFrame and specify the column names and index\n",
    "df_scaled2 = pd.DataFrame(scaler.transform(parceldata_20[otherCols]), \n",
    "                         columns=otherCols, index=parceldata_20.index)\n",
    "\n",
    "# create a DataFrame with these scaled columns joined to the columns that we didn't scale\n",
    "df_scaled2 = df_scaled2.join(parceldata_20[cols_to_exclude])\n",
    "\n",
    "df_scaled2.head()"
   ]
  },
  {
   "cell_type": "code",
   "execution_count": null,
   "id": "e9b35c02-f5c0-4890-85df-8d37f0508040",
   "metadata": {},
   "outputs": [],
   "source": [
    "# define variables \n",
    "cols=df_scaled2.columns.to_list()\n",
    "xvars=[col for col in cols if col not in ('APN', 'built_within_decade')]\n",
    "yvar = 'built_within_decade'\n",
    "\n",
    "# create a dataframe with no NaNs\n",
    "parceldata_20_model = df_scaled2[xvars+[yvar]].dropna()"
   ]
  },
  {
   "cell_type": "code",
   "execution_count": null,
   "id": "753af97a-51ac-4eaa-88ce-0a7cf23e5358",
   "metadata": {},
   "outputs": [],
   "source": [
    "# apply predictions from previous model to test dataset\n",
    "X_test=parceldata_20_model[xvars]\n",
    "y_pred = mlp.predict(X_test)"
   ]
  },
  {
   "cell_type": "code",
   "execution_count": null,
   "id": "d7a93635-de03-4dba-92ea-4497411668f5",
   "metadata": {},
   "outputs": [],
   "source": [
    "# stop if lengths don't match\n",
    "assert len(X_test)==len(y_pred)\n",
    "# how many does it predict?\n",
    "print('Predicted fraction True: {:.4f}'.format(y_pred.mean()))\n",
    "print('Predicted number True: {:.0f}'.format(y_pred.sum()))"
   ]
  },
  {
   "cell_type": "code",
   "execution_count": null,
   "id": "ccb53dd5-ab04-4968-b328-400e971c4178",
   "metadata": {},
   "outputs": [],
   "source": [
    "# create a dataframe of predictions about whether or not a parcel will have a warehouse built on it within 10 years & join this to the full df\n",
    "predictions = pd.DataFrame(mlp.predict_proba(X_test),columns = ['pred_noWH', 'pred_WH'])\n",
    "predictions= predictions.join((X_test).reset_index())\n",
    "predictions.set_index('APN',inplace=True)\n",
    "predictions.head()"
   ]
  },
  {
   "cell_type": "code",
   "execution_count": null,
   "id": "002fd85f-c7f4-4041-a677-2bb7511885fe",
   "metadata": {},
   "outputs": [],
   "source": [
    "#predictions.to_csv('predictions_neuralnet1.csv')"
   ]
  },
  {
   "cell_type": "code",
   "execution_count": null,
   "id": "c00a4d00-c0fe-441f-9946-e99c055ea4d1",
   "metadata": {},
   "outputs": [],
   "source": []
  }
 ],
 "metadata": {
  "kernelspec": {
   "display_name": "Python 3 (ipykernel)",
   "language": "python",
   "name": "python3"
  },
  "language_info": {
   "codemirror_mode": {
    "name": "ipython",
    "version": 3
   },
   "file_extension": ".py",
   "mimetype": "text/x-python",
   "name": "python",
   "nbconvert_exporter": "python",
   "pygments_lexer": "ipython3",
   "version": "3.9.16"
  }
 },
 "nbformat": 4,
 "nbformat_minor": 5
}
