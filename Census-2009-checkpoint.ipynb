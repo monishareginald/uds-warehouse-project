{
 "cells": [
  {
   "cell_type": "markdown",
   "id": "d0b2f93b-32fa-49bb-93d7-86d6c4508d74",
   "metadata": {},
   "source": [
    "## Demographic Data In San Bernardino + Riverside"
   ]
  },
  {
   "cell_type": "markdown",
   "id": "485ce17c-d622-4a46-a674-f10f8fd27b23",
   "metadata": {},
   "source": [
    "### Race & Housing (Rent/Own)"
   ]
  },
  {
   "cell_type": "code",
   "execution_count": 3,
   "id": "d4793592-4b47-4d02-af29-95c266cd021f",
   "metadata": {},
   "outputs": [],
   "source": [
    "import requests\n"
   ]
  },
  {
   "cell_type": "code",
   "execution_count": 7,
   "id": "c66dbeb0-506a-4039-8608-7bf476942a29",
   "metadata": {},
   "outputs": [],
   "source": [
    "import geopandas as gpd\n",
    "import pandas as pd"
   ]
  },
  {
   "cell_type": "code",
   "execution_count": 3,
   "id": "faeb182d-6eb8-4845-baca-669bd157b52c",
   "metadata": {},
   "outputs": [],
   "source": [
    "#look at tables\n",
    "#acs.filter_tables('OCCUPATION', by='description')"
   ]
  },
  {
   "cell_type": "code",
   "execution_count": 76,
   "id": "12dc9665-6635-49be-ade8-b745ca421d68",
   "metadata": {},
   "outputs": [],
   "source": [
    "#Race = table B02001\n",
    "# Housing - table 'B19013_001E':'Median HH Income','B25003_001E':'Total Occupied','B25003_002E':'Owner Occupied','B25003_003E':'Renter Occupied'\n",
    "#riverside = requests.get('https://api.census.gov/data/2009/acs/acs1?get=group(B02001)&for=TRACT&in=county:06071')\n",
    "r = requests.get('https://api.census.gov/data/2009/acs/acs1?get=NAME,B19013_001E&for=TRACT&in=state:06')"
   ]
  },
  {
   "cell_type": "code",
   "execution_count": 83,
   "id": "8e255869-a172-427c-affe-4d7e54453bc5",
   "metadata": {},
   "outputs": [],
   "source": [
    "\n",
    "r = requests.get('https://api.census.gov/data/2019/acs/acs1?get=NAME,B02015_009E,B02015_009M‌&for=state:06')"
   ]
  },
  {
   "cell_type": "code",
   "execution_count": 84,
   "id": "9eff66d3-b6e0-4ceb-ba4f-536aab44ce83",
   "metadata": {},
   "outputs": [
    {
     "name": "stdout",
     "output_type": "stream",
     "text": [
      "<class 'str'>\n"
     ]
    }
   ],
   "source": [
    "print(type(r.text))"
   ]
  },
  {
   "cell_type": "code",
   "execution_count": 85,
   "id": "ecad9e84-1104-49ae-90d1-b18354fc6fa7",
   "metadata": {},
   "outputs": [
    {
     "name": "stdout",
     "output_type": "stream",
     "text": [
      "\n"
     ]
    }
   ],
   "source": [
    "print(r.text)"
   ]
  },
  {
   "cell_type": "code",
   "execution_count": 86,
   "id": "bafa27c3-d5b9-4291-9fd2-8e8d74bebd6c",
   "metadata": {},
   "outputs": [
    {
     "ename": "JSONDecodeError",
     "evalue": "Expecting value: line 1 column 1 (char 0)",
     "output_type": "error",
     "traceback": [
      "\u001b[1;31m---------------------------------------------------------------------------\u001b[0m",
      "\u001b[1;31mJSONDecodeError\u001b[0m                           Traceback (most recent call last)",
      "File \u001b[1;32m~\\anaconda3\\envs\\environment\\lib\\site-packages\\requests\\models.py:971\u001b[0m, in \u001b[0;36mResponse.json\u001b[1;34m(self, **kwargs)\u001b[0m\n\u001b[0;32m    970\u001b[0m \u001b[38;5;28;01mtry\u001b[39;00m:\n\u001b[1;32m--> 971\u001b[0m     \u001b[38;5;28;01mreturn\u001b[39;00m complexjson\u001b[38;5;241m.\u001b[39mloads(\u001b[38;5;28mself\u001b[39m\u001b[38;5;241m.\u001b[39mtext, \u001b[38;5;241m*\u001b[39m\u001b[38;5;241m*\u001b[39mkwargs)\n\u001b[0;32m    972\u001b[0m \u001b[38;5;28;01mexcept\u001b[39;00m JSONDecodeError \u001b[38;5;28;01mas\u001b[39;00m e:\n\u001b[0;32m    973\u001b[0m     \u001b[38;5;66;03m# Catch JSON-related errors and raise as requests.JSONDecodeError\u001b[39;00m\n\u001b[0;32m    974\u001b[0m     \u001b[38;5;66;03m# This aliases json.JSONDecodeError and simplejson.JSONDecodeError\u001b[39;00m\n",
      "File \u001b[1;32m~\\anaconda3\\envs\\environment\\lib\\json\\__init__.py:346\u001b[0m, in \u001b[0;36mloads\u001b[1;34m(s, cls, object_hook, parse_float, parse_int, parse_constant, object_pairs_hook, **kw)\u001b[0m\n\u001b[0;32m    343\u001b[0m \u001b[38;5;28;01mif\u001b[39;00m (\u001b[38;5;28mcls\u001b[39m \u001b[38;5;129;01mis\u001b[39;00m \u001b[38;5;28;01mNone\u001b[39;00m \u001b[38;5;129;01mand\u001b[39;00m object_hook \u001b[38;5;129;01mis\u001b[39;00m \u001b[38;5;28;01mNone\u001b[39;00m \u001b[38;5;129;01mand\u001b[39;00m\n\u001b[0;32m    344\u001b[0m         parse_int \u001b[38;5;129;01mis\u001b[39;00m \u001b[38;5;28;01mNone\u001b[39;00m \u001b[38;5;129;01mand\u001b[39;00m parse_float \u001b[38;5;129;01mis\u001b[39;00m \u001b[38;5;28;01mNone\u001b[39;00m \u001b[38;5;129;01mand\u001b[39;00m\n\u001b[0;32m    345\u001b[0m         parse_constant \u001b[38;5;129;01mis\u001b[39;00m \u001b[38;5;28;01mNone\u001b[39;00m \u001b[38;5;129;01mand\u001b[39;00m object_pairs_hook \u001b[38;5;129;01mis\u001b[39;00m \u001b[38;5;28;01mNone\u001b[39;00m \u001b[38;5;129;01mand\u001b[39;00m \u001b[38;5;129;01mnot\u001b[39;00m kw):\n\u001b[1;32m--> 346\u001b[0m     \u001b[38;5;28;01mreturn\u001b[39;00m \u001b[43m_default_decoder\u001b[49m\u001b[38;5;241;43m.\u001b[39;49m\u001b[43mdecode\u001b[49m\u001b[43m(\u001b[49m\u001b[43ms\u001b[49m\u001b[43m)\u001b[49m\n\u001b[0;32m    347\u001b[0m \u001b[38;5;28;01mif\u001b[39;00m \u001b[38;5;28mcls\u001b[39m \u001b[38;5;129;01mis\u001b[39;00m \u001b[38;5;28;01mNone\u001b[39;00m:\n",
      "File \u001b[1;32m~\\anaconda3\\envs\\environment\\lib\\json\\decoder.py:337\u001b[0m, in \u001b[0;36mJSONDecoder.decode\u001b[1;34m(self, s, _w)\u001b[0m\n\u001b[0;32m    333\u001b[0m \u001b[38;5;250m\u001b[39m\u001b[38;5;124;03m\"\"\"Return the Python representation of ``s`` (a ``str`` instance\u001b[39;00m\n\u001b[0;32m    334\u001b[0m \u001b[38;5;124;03mcontaining a JSON document).\u001b[39;00m\n\u001b[0;32m    335\u001b[0m \n\u001b[0;32m    336\u001b[0m \u001b[38;5;124;03m\"\"\"\u001b[39;00m\n\u001b[1;32m--> 337\u001b[0m obj, end \u001b[38;5;241m=\u001b[39m \u001b[38;5;28;43mself\u001b[39;49m\u001b[38;5;241;43m.\u001b[39;49m\u001b[43mraw_decode\u001b[49m\u001b[43m(\u001b[49m\u001b[43ms\u001b[49m\u001b[43m,\u001b[49m\u001b[43m \u001b[49m\u001b[43midx\u001b[49m\u001b[38;5;241;43m=\u001b[39;49m\u001b[43m_w\u001b[49m\u001b[43m(\u001b[49m\u001b[43ms\u001b[49m\u001b[43m,\u001b[49m\u001b[43m \u001b[49m\u001b[38;5;241;43m0\u001b[39;49m\u001b[43m)\u001b[49m\u001b[38;5;241;43m.\u001b[39;49m\u001b[43mend\u001b[49m\u001b[43m(\u001b[49m\u001b[43m)\u001b[49m\u001b[43m)\u001b[49m\n\u001b[0;32m    338\u001b[0m end \u001b[38;5;241m=\u001b[39m _w(s, end)\u001b[38;5;241m.\u001b[39mend()\n",
      "File \u001b[1;32m~\\anaconda3\\envs\\environment\\lib\\json\\decoder.py:355\u001b[0m, in \u001b[0;36mJSONDecoder.raw_decode\u001b[1;34m(self, s, idx)\u001b[0m\n\u001b[0;32m    354\u001b[0m \u001b[38;5;28;01mexcept\u001b[39;00m \u001b[38;5;167;01mStopIteration\u001b[39;00m \u001b[38;5;28;01mas\u001b[39;00m err:\n\u001b[1;32m--> 355\u001b[0m     \u001b[38;5;28;01mraise\u001b[39;00m JSONDecodeError(\u001b[38;5;124m\"\u001b[39m\u001b[38;5;124mExpecting value\u001b[39m\u001b[38;5;124m\"\u001b[39m, s, err\u001b[38;5;241m.\u001b[39mvalue) \u001b[38;5;28;01mfrom\u001b[39;00m \u001b[38;5;28;01mNone\u001b[39;00m\n\u001b[0;32m    356\u001b[0m \u001b[38;5;28;01mreturn\u001b[39;00m obj, end\n",
      "\u001b[1;31mJSONDecodeError\u001b[0m: Expecting value: line 1 column 1 (char 0)",
      "\nDuring handling of the above exception, another exception occurred:\n",
      "\u001b[1;31mJSONDecodeError\u001b[0m                           Traceback (most recent call last)",
      "Cell \u001b[1;32mIn[86], line 1\u001b[0m\n\u001b[1;32m----> 1\u001b[0m riverside \u001b[38;5;241m=\u001b[39m \u001b[43mr\u001b[49m\u001b[38;5;241;43m.\u001b[39;49m\u001b[43mjson\u001b[49m\u001b[43m(\u001b[49m\u001b[43m)\u001b[49m\n\u001b[0;32m      2\u001b[0m \u001b[38;5;28mtype\u001b[39m(riverside)\n",
      "File \u001b[1;32m~\\anaconda3\\envs\\environment\\lib\\site-packages\\requests\\models.py:975\u001b[0m, in \u001b[0;36mResponse.json\u001b[1;34m(self, **kwargs)\u001b[0m\n\u001b[0;32m    971\u001b[0m     \u001b[38;5;28;01mreturn\u001b[39;00m complexjson\u001b[38;5;241m.\u001b[39mloads(\u001b[38;5;28mself\u001b[39m\u001b[38;5;241m.\u001b[39mtext, \u001b[38;5;241m*\u001b[39m\u001b[38;5;241m*\u001b[39mkwargs)\n\u001b[0;32m    972\u001b[0m \u001b[38;5;28;01mexcept\u001b[39;00m JSONDecodeError \u001b[38;5;28;01mas\u001b[39;00m e:\n\u001b[0;32m    973\u001b[0m     \u001b[38;5;66;03m# Catch JSON-related errors and raise as requests.JSONDecodeError\u001b[39;00m\n\u001b[0;32m    974\u001b[0m     \u001b[38;5;66;03m# This aliases json.JSONDecodeError and simplejson.JSONDecodeError\u001b[39;00m\n\u001b[1;32m--> 975\u001b[0m     \u001b[38;5;28;01mraise\u001b[39;00m RequestsJSONDecodeError(e\u001b[38;5;241m.\u001b[39mmsg, e\u001b[38;5;241m.\u001b[39mdoc, e\u001b[38;5;241m.\u001b[39mpos)\n",
      "\u001b[1;31mJSONDecodeError\u001b[0m: Expecting value: line 1 column 1 (char 0)"
     ]
    }
   ],
   "source": [
    "riverside = r.json()\n",
    "type(riverside)"
   ]
  },
  {
   "cell_type": "code",
   "execution_count": 36,
   "id": "a61f328c-db2f-4890-b40f-7790e6ebd56d",
   "metadata": {},
   "outputs": [
    {
     "ename": "TypeError",
     "evalue": "'Response' object is not subscriptable",
     "output_type": "error",
     "traceback": [
      "\u001b[1;31m---------------------------------------------------------------------------\u001b[0m",
      "\u001b[1;31mTypeError\u001b[0m                                 Traceback (most recent call last)",
      "Cell \u001b[1;32mIn[36], line 1\u001b[0m\n\u001b[1;32m----> 1\u001b[0m df \u001b[38;5;241m=\u001b[39m pd\u001b[38;5;241m.\u001b[39mDataFrame(\u001b[43mriverside\u001b[49m\u001b[43m[\u001b[49m\u001b[38;5;241;43m1\u001b[39;49m\u001b[43m:\u001b[49m\u001b[43m]\u001b[49m, columns\u001b[38;5;241m=\u001b[39mcensusdata[\u001b[38;5;241m0\u001b[39m])\n\u001b[0;32m      2\u001b[0m df\n",
      "\u001b[1;31mTypeError\u001b[0m: 'Response' object is not subscriptable"
     ]
    }
   ],
   "source": [
    "df = pd.DataFrame(riverside[1:], columns=censusdata[0])\n",
    "df"
   ]
  },
  {
   "cell_type": "code",
   "execution_count": 4,
   "id": "1d57aa56-aa2f-4c8c-baaa-e143f51ec0ea",
   "metadata": {},
   "outputs": [
    {
     "ename": "NotImplementedError",
     "evalue": "The requested year (2011) is too early/late. Only 2017, 2018, or 2019 are supported.",
     "output_type": "error",
     "traceback": [
      "\u001b[1;31m---------------------------------------------------------------------------\u001b[0m",
      "\u001b[1;31mNotImplementedError\u001b[0m                       Traceback (most recent call last)",
      "Cell \u001b[1;32mIn[4], line 3\u001b[0m\n\u001b[0;32m      1\u001b[0m \u001b[38;5;66;03m#Race = table B02001\u001b[39;00m\n\u001b[0;32m      2\u001b[0m \u001b[38;5;66;03m# Housing - table 'B19013_001E':'Median HH Income','B25003_001E':'Total Occupied','B25003_002E':'Owner Occupied','B25003_003E':'Renter Occupied'\u001b[39;00m\n\u001b[1;32m----> 3\u001b[0m riverside \u001b[38;5;241m=\u001b[39m \u001b[43mproducts\u001b[49m\u001b[38;5;241;43m.\u001b[39;49m\u001b[43mACS\u001b[49m\u001b[43m(\u001b[49m\u001b[38;5;241;43m2011\u001b[39;49m\u001b[43m)\u001b[49m\u001b[38;5;241m.\u001b[39mfrom_county(\u001b[38;5;124m'\u001b[39m\u001b[38;5;124mRiverside, CA\u001b[39m\u001b[38;5;124m'\u001b[39m, level\u001b[38;5;241m=\u001b[39m\u001b[38;5;124m'\u001b[39m\u001b[38;5;124mtract\u001b[39m\u001b[38;5;124m'\u001b[39m,\n\u001b[0;32m      4\u001b[0m                                         variables\u001b[38;5;241m=\u001b[39m[\u001b[38;5;124m'\u001b[39m\u001b[38;5;124mB02001\u001b[39m\u001b[38;5;124m'\u001b[39m,\u001b[38;5;124m'\u001b[39m\u001b[38;5;124mB19013_001E\u001b[39m\u001b[38;5;124m'\u001b[39m,\u001b[38;5;124m'\u001b[39m\u001b[38;5;124mB25003_001E\u001b[39m\u001b[38;5;124m'\u001b[39m,\u001b[38;5;124m'\u001b[39m\u001b[38;5;124mB25003_002E\u001b[39m\u001b[38;5;124m'\u001b[39m,\u001b[38;5;124m'\u001b[39m\u001b[38;5;124mB25003_003E\u001b[39m\u001b[38;5;124m'\u001b[39m])\n\u001b[0;32m      6\u001b[0m SB \u001b[38;5;241m=\u001b[39m products\u001b[38;5;241m.\u001b[39mACS(\u001b[38;5;241m2011\u001b[39m)\u001b[38;5;241m.\u001b[39mfrom_county(\u001b[38;5;124m'\u001b[39m\u001b[38;5;124mSan Bernardino, CA\u001b[39m\u001b[38;5;124m'\u001b[39m, level\u001b[38;5;241m=\u001b[39m\u001b[38;5;124m'\u001b[39m\u001b[38;5;124mtract\u001b[39m\u001b[38;5;124m'\u001b[39m, variables\u001b[38;5;241m=\u001b[39m[\u001b[38;5;124m'\u001b[39m\u001b[38;5;124mB02001\u001b[39m\u001b[38;5;124m'\u001b[39m,\u001b[38;5;124m'\u001b[39m\u001b[38;5;124mB19013_001E\u001b[39m\u001b[38;5;124m'\u001b[39m,\u001b[38;5;124m'\u001b[39m\u001b[38;5;124mB25003_001E\u001b[39m\u001b[38;5;124m'\u001b[39m,\u001b[38;5;124m'\u001b[39m\u001b[38;5;124mB25003_002E\u001b[39m\u001b[38;5;124m'\u001b[39m,\u001b[38;5;124m'\u001b[39m\u001b[38;5;124mB25003_003E\u001b[39m\u001b[38;5;124m'\u001b[39m])\n\u001b[0;32m      8\u001b[0m \u001b[38;5;66;03m#LA = products.ACS(2019).from_county('Los Angeles, CA', level='tract',variables=['B02001','B19013_001E','B25003_001E','B25003_002E','B25003_003E'])\u001b[39;00m\n",
      "File \u001b[1;32m~\\anaconda3\\envs\\environment\\lib\\site-packages\\cenpy\\products.py:683\u001b[0m, in \u001b[0;36mACS.__init__\u001b[1;34m(self, year)\u001b[0m\n\u001b[0;32m    681\u001b[0m     year \u001b[38;5;241m=\u001b[39m \u001b[38;5;241m2019\u001b[39m\n\u001b[0;32m    682\u001b[0m \u001b[38;5;28;01mif\u001b[39;00m year \u001b[38;5;129;01mnot\u001b[39;00m \u001b[38;5;129;01min\u001b[39;00m \u001b[38;5;28mlist\u001b[39m(\u001b[38;5;28mrange\u001b[39m(\u001b[38;5;241m2017\u001b[39m,\u001b[38;5;241m2020\u001b[39m)):\n\u001b[1;32m--> 683\u001b[0m     \u001b[38;5;28;01mraise\u001b[39;00m \u001b[38;5;167;01mNotImplementedError\u001b[39;00m(\n\u001b[0;32m    684\u001b[0m         \u001b[38;5;124m\"\u001b[39m\u001b[38;5;124mThe requested year (\u001b[39m\u001b[38;5;132;01m{}\u001b[39;00m\u001b[38;5;124m) is too early/late. \u001b[39m\u001b[38;5;124m\"\u001b[39m\n\u001b[0;32m    685\u001b[0m         \u001b[38;5;124m\"\u001b[39m\u001b[38;5;124mOnly 2017, 2018, or 2019 are supported.\u001b[39m\u001b[38;5;124m\"\u001b[39m\u001b[38;5;241m.\u001b[39mformat(year)\n\u001b[0;32m    686\u001b[0m     )\n\u001b[0;32m    687\u001b[0m \u001b[38;5;28mself\u001b[39m\u001b[38;5;241m.\u001b[39m_api \u001b[38;5;241m=\u001b[39m APIConnection(\u001b[38;5;124m\"\u001b[39m\u001b[38;5;124mACSDT\u001b[39m\u001b[38;5;132;01m{}\u001b[39;00m\u001b[38;5;124mY\u001b[39m\u001b[38;5;132;01m{}\u001b[39;00m\u001b[38;5;124m\"\u001b[39m\u001b[38;5;241m.\u001b[39mformat(\u001b[38;5;241m5\u001b[39m, year))\n\u001b[0;32m    688\u001b[0m \u001b[38;5;28mself\u001b[39m\u001b[38;5;241m.\u001b[39m_api\u001b[38;5;241m.\u001b[39mset_mapservice(\u001b[38;5;124m\"\u001b[39m\u001b[38;5;124mtigerWMS_ACS\u001b[39m\u001b[38;5;132;01m{}\u001b[39;00m\u001b[38;5;124m\"\u001b[39m\u001b[38;5;241m.\u001b[39mformat(year))\n",
      "\u001b[1;31mNotImplementedError\u001b[0m: The requested year (2011) is too early/late. Only 2017, 2018, or 2019 are supported."
     ]
    }
   ],
   "source": [
    "\n",
    "products.ACS(2011).from_county('Riverside, CA', level='tract',\n",
    "                                        variables=['B02001','B19013_001E','B25003_001E','B25003_002E','B25003_003E'])\n",
    "\n",
    "SB = products.ACS(2011).from_county('San Bernardino, CA', level='tract', variables=['B02001','B19013_001E','B25003_001E','B25003_002E','B25003_003E'])\n",
    "\n",
    "#LA = products.ACS(2019).from_county('Los Angeles, CA', level='tract',variables=['B02001','B19013_001E','B25003_001E','B25003_002E','B25003_003E'])"
   ]
  },
  {
   "cell_type": "code",
   "execution_count": null,
   "id": "18721595-8e2a-446d-9f86-08407710625a",
   "metadata": {},
   "outputs": [],
   "source": [
    "#create a single gdf using code from https://gis.stackexchange.com/questions/162659/joining-concat-list-of-similar-dataframes-in-geopandas \n",
    "gdf = gpd.GeoDataFrame(pd.concat([riverside,SB], ignore_index=True), crs=riverside.crs)"
   ]
  },
  {
   "cell_type": "code",
   "execution_count": null,
   "id": "4e668e5a-bd62-4b71-9315-025edccf4189",
   "metadata": {},
   "outputs": [],
   "source": [
    "gdf.rename(columns={\n",
    "                'B19013_001E':'Median HH Income', 'B25003_001E':'Total Occupied','B25003_002E':'Owner Occupied','B25003_003E':'Renter Occupied',\n",
    "            'B02001_001E': 'Total Pop',\n",
    "                'B02001_002E':'White alone',\n",
    "                \"B02001_003E\": \"Black or African American alone\", \n",
    "                \"B02001_004E\": \"American Indian and Alaska Native alone\",\n",
    "                \"B02001_005E\": \"Asian alone\",\n",
    "                \"B02001_006E\": \"Native Hawaiian and Other Pacific Islander alone\",\n",
    "                \"B02001_007E\": \"Some other race alone\",\n",
    "                \"B02001_008E\": \"Two or more races:\",\n",
    "                \"B02001_009E\": \"Two races including Some other race\",\n",
    "                \"B02001_010E\": \"Two races excluding Some other race, and three or more races\"}, inplace=True)"
   ]
  },
  {
   "cell_type": "code",
   "execution_count": null,
   "id": "ccb4cec3-75e6-4fb7-9644-57c373e652c3",
   "metadata": {},
   "outputs": [],
   "source": [
    "#gdf.columns.values.tolist()"
   ]
  },
  {
   "cell_type": "code",
   "execution_count": null,
   "id": "95080dc9-0433-4d99-b5e6-34eb47d0ec30",
   "metadata": {},
   "outputs": [],
   "source": [
    "race_cols = [ 'White alone',\n",
    " 'Black or African American alone',\n",
    " 'American Indian and Alaska Native alone',\n",
    " 'Asian alone',\n",
    " 'Native Hawaiian and Other Pacific Islander alone',\n",
    " 'Some other race alone',\n",
    " 'Two or more races:',\n",
    " 'Two races including Some other race',\n",
    " 'Two races excluding Some other race, and three or more races']"
   ]
  },
  {
   "cell_type": "code",
   "execution_count": null,
   "id": "befbcfac-3be3-4100-817b-58123197c88a",
   "metadata": {},
   "outputs": [],
   "source": [
    "for col in race_cols:\n",
    "    gdf[\"Percent \" + col] = (gdf[col]/gdf['Total Pop']) * 100"
   ]
  },
  {
   "cell_type": "code",
   "execution_count": null,
   "id": "dd857ce7-345b-4053-92fe-28f99d519fff",
   "metadata": {},
   "outputs": [],
   "source": [
    "gdf = gdf.drop(race_cols, axis=1)"
   ]
  },
  {
   "cell_type": "code",
   "execution_count": null,
   "id": "6bba4876-d274-4215-8ab4-edb0f8c8eab8",
   "metadata": {},
   "outputs": [],
   "source": [
    "gdf['Percent Owner Occupied'] = (gdf['Owner Occupied']/gdf['Total Occupied']) * 100\n",
    "gdf['Percent Renter Occupied'] = (gdf['Renter Occupied']/gdf['Total Occupied']) * 100"
   ]
  },
  {
   "cell_type": "code",
   "execution_count": null,
   "id": "54946a27-a548-40ed-899e-81fcf9413c25",
   "metadata": {},
   "outputs": [],
   "source": [
    "gdf = gdf.drop(['Total Occupied',\n",
    " 'Owner Occupied',\n",
    " 'Renter Occupied',], axis=1)"
   ]
  },
  {
   "cell_type": "code",
   "execution_count": null,
   "id": "84038648-f469-45e2-8d0c-df68d0ae9bf2",
   "metadata": {},
   "outputs": [],
   "source": [
    "gdf.head(3)"
   ]
  },
  {
   "cell_type": "code",
   "execution_count": null,
   "id": "bed19783-b7f8-4311-b6b5-1a5460dcbd3a",
   "metadata": {},
   "outputs": [],
   "source": [
    "import matplotlib.pyplot as plt \n",
    "\n",
    "# create a matplotlib figure and axis object\n",
    "fig, ax = plt.subplots(figsize=(20,10))\n",
    "\n",
    "gdf.plot('Percent White alone', ax=ax, cmap='plasma', legend=True, \n",
    "               legend_kwds={'orientation': 'horizontal'})\n",
    "ax.set_facecolor('k')"
   ]
  },
  {
   "cell_type": "markdown",
   "id": "739ce891-af49-454a-acef-081273436409",
   "metadata": {},
   "source": [
    "## Income"
   ]
  },
  {
   "cell_type": "code",
   "execution_count": null,
   "id": "d2ab746b-e9ff-4405-b93a-803b5b08e79e",
   "metadata": {},
   "outputs": [],
   "source": [
    "#Household income = table B19001\n",
    "\n",
    "riverside_HI = products.ACS(2011).from_county('Riverside, CA', level='tract',\n",
    "                                        variables='B19001')\n",
    "\n",
    "SB_HI = products.ACS(2011).from_county('San Bernardino, CA', level='tract', variables='B19001')\n",
    "\n",
    "#LA_HI = products.ACS(2019).from_county('Los Angeles, CA', level='tract',variables='B19001')"
   ]
  },
  {
   "cell_type": "code",
   "execution_count": null,
   "id": "07678a6a-f795-44a6-87fd-caa8a05ca062",
   "metadata": {},
   "outputs": [],
   "source": [
    "HI_gdf = gpd.GeoDataFrame(pd.concat([riverside_HI,SB_HI], ignore_index=True), crs=riverside_HI.crs)"
   ]
  },
  {
   "cell_type": "code",
   "execution_count": null,
   "id": "6ec922c5-7c17-475b-b0d3-46999c839cfc",
   "metadata": {},
   "outputs": [],
   "source": [
    "HI_gdf.head(1)"
   ]
  },
  {
   "cell_type": "code",
   "execution_count": null,
   "id": "96a9430e-7dd1-49ce-9b99-1880fd87655c",
   "metadata": {},
   "outputs": [],
   "source": [
    "#drop extra columns\n",
    "HI_gdf = HI_gdf[[\"B19001_001E\", \"B19001_002E\"    ,\n",
    "                \"B19001_003E\"     ,\n",
    "                \"B19001_004E\"    ,\n",
    "                \"B19001_005E\"    ,\n",
    "                \"B19001_006E\"     ,\n",
    "                \"B19001_007E\"     , \n",
    "                \"B19001_008E\"    ,\n",
    "                \"B19001_009E\"   ,\n",
    "                \"B19001_010E\" ,\n",
    "                \"B19001_011E\" ,\n",
    "                \"B19001_012E\",\n",
    "                \"B19001_013E\"  ,\n",
    "                \"B19001_014E\",\n",
    "                \"B19001_015E\"   ,\n",
    "                \"B19001_016E\",\n",
    "                \"B19001_017E\",\n",
    "                'geometry','GEOID']]"
   ]
  },
  {
   "cell_type": "code",
   "execution_count": null,
   "id": "371c60e6-1992-4bf9-9e5b-d31766fb13b0",
   "metadata": {},
   "outputs": [],
   "source": [
    " #rename columns\n",
    "HI_gdf.rename(columns={\"B19001_001E\":\"Total:\",       \n",
    "                \"B19001_002E\":\"<$10,000\",       \n",
    "                \"B19001_003E\": '$10,000-$14,999',     \n",
    "                \"B19001_004E\":'$15,000 - $19,999',     \n",
    "                \"B19001_005E\": '$20,000 - $24,999',     \n",
    "                \"B19001_006E\":\"$25,000 - $29,999\",      \n",
    "                \"B19001_007E\":\"$30,000 - $34,999\",       \n",
    "                \"B19001_008E\":\"$35,000 - $39,999\",      \n",
    "                \"B19001_009E\":  \"$40,000 - $44,999\",    \n",
    "                \"B19001_010E\":  \"$45,000 - $49,999\",   \n",
    "                \"B19001_011E\":  \"$50,000 - $59,999\",  \n",
    "                \"B19001_012E\":  \"$60,000 - $74,999\",  \n",
    "                \"B19001_013E\":  \"$75,000 - $99,999\",  \n",
    "                \"B19001_014E\": \"$100,000 - $124,999\",    \n",
    "                \"B19001_015E\":\"$125,000 - $149,999\",     \n",
    "                \"B19001_016E\":\"$150,000 - $199,999\",   \n",
    "                \"B19001_017E\": \"$200,000 or more\"}, inplace=True)"
   ]
  },
  {
   "cell_type": "code",
   "execution_count": null,
   "id": "5661a208-47a7-416d-ab4c-1b304a73be22",
   "metadata": {},
   "outputs": [],
   "source": [
    "#get col names\n",
    "#HI_gdf.columns.values.tolist()"
   ]
  },
  {
   "cell_type": "code",
   "execution_count": null,
   "id": "dc4c05b6-33e2-44ab-987c-c60b7e4759cd",
   "metadata": {},
   "outputs": [],
   "source": [
    "#make list of income related cols\n",
    "cols = [ '<$10,000',\n",
    " '$10,000-$14,999',\n",
    " '$15,000 - $19,999',\n",
    " '$20,000 - $24,999',\n",
    " '$25,000 - $29,999',\n",
    " '$30,000 - $34,999',\n",
    " '$35,000 - $39,999',\n",
    " '$40,000 - $44,999',\n",
    " '$45,000 - $49,999',\n",
    " '$50,000 - $59,999',\n",
    " '$60,000 - $74,999',\n",
    " '$75,000 - $99,999',\n",
    " '$100,000 - $124,999',\n",
    " '$125,000 - $149,999',\n",
    " '$150,000 - $199,999',\n",
    " '$200,000 or more']"
   ]
  },
  {
   "cell_type": "code",
   "execution_count": null,
   "id": "a3ce642e-d6de-4e14-b661-fd344fe89799",
   "metadata": {},
   "outputs": [],
   "source": [
    "#get household income percentages for tracts\n",
    "for col in cols:\n",
    "    HI_gdf[\"Percent \" + col] = (HI_gdf[col]/HI_gdf['Total:']) * 100"
   ]
  },
  {
   "cell_type": "code",
   "execution_count": null,
   "id": "d8d5b630-e8de-43d0-a5e1-767762ade838",
   "metadata": {},
   "outputs": [],
   "source": [
    "#drop old columns\n",
    "HI_gdf =  HI_gdf.drop(cols, axis=1)"
   ]
  },
  {
   "cell_type": "code",
   "execution_count": null,
   "id": "3433e2fd-5b40-41d6-8a82-c7d1e3ada136",
   "metadata": {},
   "outputs": [],
   "source": [
    "HI_gdf.head(1)\n",
    "                "
   ]
  },
  {
   "cell_type": "markdown",
   "id": "d7508be8-3923-4a25-bd8b-4549f84b7d02",
   "metadata": {},
   "source": [
    "## Education Level"
   ]
  },
  {
   "cell_type": "code",
   "execution_count": null,
   "id": "3ad0f2f3-2c99-4eb3-a1eb-4d13ee9e4b68",
   "metadata": {},
   "outputs": [],
   "source": [
    "#education level (population 25 years and older)  = B15003\n",
    "riverside_educ = products.ACS(2011).from_county('Riverside, CA', level='tract',\n",
    "                                        variables='B15003')\n",
    "\n",
    "SB_educ = products.ACS(2011).from_county('San Bernardino, CA', level='tract', variables='B15003')\n",
    "\n",
    "#LA_educ = products.ACS(2019).from_county('Los Angeles, CA', level='tract',variables='B15003')"
   ]
  },
  {
   "cell_type": "code",
   "execution_count": null,
   "id": "7ba99dcd-dd48-4ec8-96b0-374599b127ae",
   "metadata": {},
   "outputs": [],
   "source": [
    "educ_gdf = gpd.GeoDataFrame(pd.concat([riverside_educ,SB_educ], ignore_index=True), crs=riverside_educ.crs)"
   ]
  },
  {
   "cell_type": "code",
   "execution_count": null,
   "id": "0eb8df00-4554-402d-a133-161641f20a20",
   "metadata": {},
   "outputs": [],
   "source": [
    "  educ_gdf.rename(columns={\"B15003_001E\":\"Total_Educ\",\n",
    "      'B15003_002E':'No schooling completed',\n",
    "'B15003_017E':'Regular high school diploma',\n",
    "'B15003_018E':'GED or alternative credential',\n",
    "'B15003_021E':'Associates degree',\n",
    "'B15003_022E':'Bachelors degree',\n",
    "'B15003_023E':'Masters degree',\n",
    "'B15003_024E':'Professional school degree',\n",
    "'B15003_025E':'Doctorate degree'\n",
    "                }, inplace=True)"
   ]
  },
  {
   "cell_type": "code",
   "execution_count": null,
   "id": "b3cf05a8-a712-45d1-a30b-220916881fc2",
   "metadata": {},
   "outputs": [],
   "source": [
    "#create col for some school but less than highschool degree\n",
    "educ_gdf['less_highschool'] = educ_gdf.iloc[:,5:18].sum(axis=1)\n",
    "#create col for some school post highschool but less than secondary degree\n",
    "educ_gdf['some_college'] = educ_gdf.B15003_019E + educ_gdf.B15003_020E"
   ]
  },
  {
   "cell_type": "code",
   "execution_count": null,
   "id": "6927b299-e8e3-450e-b914-d4de48dcb924",
   "metadata": {},
   "outputs": [],
   "source": [
    "educ_gdf.head()"
   ]
  },
  {
   "cell_type": "code",
   "execution_count": null,
   "id": "c0006419-1fd1-4f3f-af36-a1e53f2950be",
   "metadata": {},
   "outputs": [],
   "source": [
    "#educ_gdf.columns.values.tolist()"
   ]
  },
  {
   "cell_type": "code",
   "execution_count": null,
   "id": "24d04eea-7c8c-4e31-99bc-62cc9910c31a",
   "metadata": {},
   "outputs": [],
   "source": [
    "#drop columns we don't need\n",
    "educ_gdf = educ_gdf[['GEOID', \n",
    " 'geometry',\n",
    " 'Total_Educ',\n",
    " 'No schooling completed',\n",
    " 'Regular high school diploma',\n",
    " 'GED or alternative credential',\n",
    " 'Associates degree',\n",
    " 'Bachelors degree',\n",
    " 'Masters degree',\n",
    " 'Professional school degree',\n",
    " 'Doctorate degree',\n",
    " 'NAME',\n",
    " 'state',\n",
    " 'county',\n",
    " 'tract',\n",
    " 'less_highschool',\n",
    " 'some_college']]"
   ]
  },
  {
   "cell_type": "code",
   "execution_count": null,
   "id": "f22a4987-7fbd-4347-8dda-e728e253467e",
   "metadata": {},
   "outputs": [],
   "source": [
    "cols =  ['No schooling completed',\n",
    " 'Regular high school diploma',\n",
    " 'GED or alternative credential',\n",
    " 'Associates degree',\n",
    " 'Bachelors degree',\n",
    " 'Masters degree',\n",
    " 'Professional school degree',\n",
    " 'Doctorate degree',\n",
    " 'less_highschool',\n",
    " 'some_college']"
   ]
  },
  {
   "cell_type": "code",
   "execution_count": null,
   "id": "13ef08e6-83b7-4c8a-a488-5a4db2a4cf0d",
   "metadata": {},
   "outputs": [],
   "source": [
    "for col in cols:\n",
    "    educ_gdf[\"Percent \" + col] = (educ_gdf[col]/educ_gdf['Total_Educ']) * 100"
   ]
  },
  {
   "cell_type": "code",
   "execution_count": null,
   "id": "4d601d1c-c254-4e0a-b1f5-a9483334a392",
   "metadata": {},
   "outputs": [],
   "source": [
    "educ_gdf = educ_gdf.drop(cols, axis=1)"
   ]
  },
  {
   "cell_type": "code",
   "execution_count": null,
   "id": "67efe63e-dbce-4a98-b804-7240f5887806",
   "metadata": {},
   "outputs": [],
   "source": [
    "educ_gdf.head()"
   ]
  },
  {
   "cell_type": "markdown",
   "id": "68287949-2a62-48eb-859f-bdb77b68bf20",
   "metadata": {},
   "source": [
    "## Occupation"
   ]
  },
  {
   "cell_type": "code",
   "execution_count": null,
   "id": "3c8a7287-4064-4862-8082-05807d822b72",
   "metadata": {},
   "outputs": [],
   "source": [
    "#Table B24080: Sex by Class of Worker for the Civilian Population).\n",
    "riverside_oc = products.ACS(2011).from_county('Riverside, CA', level='tract',\n",
    "                                        variables='B24080')\n",
    "\n",
    "SB_oc = products.ACS(2011).from_county('San Bernardino, CA', level='tract', variables='B24080')\n",
    "\n",
    "#LA_oc = products.ACS(2019).from_county('Los Angeles, CA', level='tract',variables='B24080')"
   ]
  },
  {
   "cell_type": "code",
   "execution_count": null,
   "id": "e6297929-a59b-4bfc-9245-14c6c7c2822b",
   "metadata": {},
   "outputs": [],
   "source": [
    "oc_gdf = gpd.GeoDataFrame(pd.concat([riverside_oc,SB_oc], ignore_index=True), crs=riverside_oc.crs)"
   ]
  },
  {
   "cell_type": "code",
   "execution_count": null,
   "id": "42185c26-8e09-4256-93c0-f6377d59b923",
   "metadata": {},
   "outputs": [],
   "source": [
    "#oc_gdf.columns.values.tolist()\n"
   ]
  },
  {
   "cell_type": "code",
   "execution_count": null,
   "id": "ada2206b-1b9b-4423-9026-ca736800b92a",
   "metadata": {},
   "outputs": [],
   "source": [
    "#get male and female columns to sum\n",
    "male_cols = oc_gdf[[\n",
    " 'B24080_003E',\n",
    " 'B24080_004E',\n",
    " 'B24080_005E',\n",
    " 'B24080_006E',\n",
    " 'B24080_007E',\n",
    " 'B24080_008E',\n",
    " 'B24080_009E',\n",
    " 'B24080_010E',\n",
    " 'B24080_011E']]\n",
    "female_cols = oc_gdf[[\n",
    " 'B24080_013E',\n",
    " 'B24080_014E',\n",
    " 'B24080_015E',\n",
    " 'B24080_016E',\n",
    " 'B24080_017E',\n",
    " 'B24080_018E',\n",
    " 'B24080_019E',\n",
    " 'B24080_020E',\n",
    " 'B24080_021E',\n",
    "]]\n"
   ]
  },
  {
   "cell_type": "code",
   "execution_count": null,
   "id": "bc762e29-797b-4fa0-9c92-0778c4abc2b9",
   "metadata": {},
   "outputs": [],
   "source": [
    "#rename columns to match\n",
    "male_cols.rename(columns={\n",
    "                \"B24080_003E\":  \"Private for-profit wage and salary workers:\",\n",
    "                \"B24080_004E\": \"Employee of private company workers\",\n",
    "                \"B24080_005E\":\"Self-employed in own incorporated business workers\",\n",
    "                \"B24080_006E\": \"Private not-for-profit wage and salary workers\",\n",
    "                \"B24080_007E\": \"Local government workers\",\n",
    "                \"B24080_008E\": \"State government workers\",\n",
    "                \"B24080_009E\": \"Federal government workers\",\n",
    "                \"B24080_010E\":  \"Self-employed in own not incorporated business workers\",\n",
    "                \"B24080_011E\": \"Unpaid family workers\"}, inplace=True)\n",
    "female_cols.rename(columns={     \n",
    "                \"B24080_013E\": \"Private for-profit wage and salary workers:\", \n",
    "                \"B24080_014E\": \"Employee of private company workers\", \n",
    "                \"B24080_015E\":\"Self-employed in own incorporated business workers\",\n",
    "                \"B24080_016E\": \"Private not-for-profit wage and salary workers\",\n",
    "                \"B24080_017E\": \"Local government workers\",\n",
    "                \"B24080_018E\": \"State government workers\", \n",
    "                \"B24080_019E\": \"Federal government workers\",\n",
    "                \"B24080_020E\":\"Self-employed in own not incorporated business workers\",  \n",
    "                \"B24080_021E\": \"Unpaid family workers\"}, inplace=True)"
   ]
  },
  {
   "cell_type": "code",
   "execution_count": null,
   "id": "d87157d9-4f28-47b0-a20a-9a6caa41a2a0",
   "metadata": {},
   "outputs": [],
   "source": [
    "#sum to get total\n",
    "df_sum = male_cols.add(female_cols, fill_value=0)"
   ]
  },
  {
   "cell_type": "code",
   "execution_count": null,
   "id": "fc056544-ffad-4716-8b3d-190a83cdc4cd",
   "metadata": {},
   "outputs": [],
   "source": [
    "#add back tract column\n",
    "df_sum['tract'] = oc_gdf['tract']"
   ]
  },
  {
   "cell_type": "code",
   "execution_count": null,
   "id": "e30ffe5a-286f-4cab-a958-6686a001d04a",
   "metadata": {},
   "outputs": [],
   "source": [
    "df_sum.head(1)"
   ]
  },
  {
   "cell_type": "code",
   "execution_count": null,
   "id": "dbb3aad2-eddc-40fb-b0f8-8e98286086d9",
   "metadata": {},
   "outputs": [],
   "source": [
    "#merge to get back geometries\n",
    "oc_gdf = pd.merge(df_sum,oc_gdf,on='tract')"
   ]
  },
  {
   "cell_type": "code",
   "execution_count": null,
   "id": "7a039bfb-02fd-487a-8f1f-62113bec067e",
   "metadata": {},
   "outputs": [],
   "source": [
    "oc_gdf.head(1)"
   ]
  },
  {
   "cell_type": "code",
   "execution_count": null,
   "id": "8bd895af-3763-4ecd-942f-62dbe54f8392",
   "metadata": {},
   "outputs": [],
   "source": [
    "#rename total workers column\n",
    "oc_gdf.rename(columns={\"B24080_001E\": \"Total Workers:\"}, inplace=True)"
   ]
  },
  {
   "cell_type": "code",
   "execution_count": null,
   "id": "9d1a406e-7e4d-4298-8709-0b005717b21f",
   "metadata": {},
   "outputs": [],
   "source": [
    "#oc_gdf.columns.values.tolist()"
   ]
  },
  {
   "cell_type": "code",
   "execution_count": null,
   "id": "ec6f96af-4ff8-4038-a456-04c189c2c003",
   "metadata": {},
   "outputs": [],
   "source": [
    "#drop columns\n",
    "oc_gdf = oc_gdf[['Private for-profit wage and salary workers:',\n",
    " 'Employee of private company workers',\n",
    " 'Self-employed in own incorporated business workers',\n",
    " 'Private not-for-profit wage and salary workers',\n",
    " 'Local government workers',\n",
    " 'State government workers',\n",
    " 'Federal government workers',\n",
    " 'Self-employed in own not incorporated business workers',\n",
    " 'Unpaid family workers',\n",
    "                 \"Total Workers:\",\n",
    " 'geometry']]"
   ]
  },
  {
   "cell_type": "code",
   "execution_count": null,
   "id": "cbf43646-f73c-4f44-b6f3-b1dd15b62af6",
   "metadata": {},
   "outputs": [],
   "source": [
    "cols = [ 'Private for-profit wage and salary workers:',\n",
    " 'Employee of private company workers',\n",
    " 'Self-employed in own incorporated business workers',\n",
    " 'Private not-for-profit wage and salary workers',\n",
    " 'Local government workers',\n",
    " 'State government workers',\n",
    " 'Federal government workers',\n",
    " 'Self-employed in own not incorporated business workers',\n",
    " 'Unpaid family workers']"
   ]
  },
  {
   "cell_type": "code",
   "execution_count": null,
   "id": "dcffad32-1f5b-47ad-8d67-f7ac5b729111",
   "metadata": {},
   "outputs": [],
   "source": [
    "for col in cols:\n",
    "    oc_gdf[\"Percent \" + col] = (oc_gdf[col]/oc_gdf['Total Workers:']) * 100"
   ]
  },
  {
   "cell_type": "code",
   "execution_count": null,
   "id": "dfe43809-400e-4125-9b6f-156eea1ccab0",
   "metadata": {},
   "outputs": [],
   "source": [
    "oc_gdf = oc_gdf.drop(cols, axis=1)\n",
    "\n"
   ]
  },
  {
   "cell_type": "code",
   "execution_count": null,
   "id": "794d5506-6a82-4b2d-b157-de95c752936f",
   "metadata": {},
   "outputs": [],
   "source": [
    "##Percent Private for-profit wage and salary workers = employee of private company + self-employed  - dropping\n",
    "oc_gdf = oc_gdf.drop(columns=['Percent Private for-profit wage and salary workers:'], axis=1)"
   ]
  },
  {
   "cell_type": "code",
   "execution_count": null,
   "id": "09d626bc-0f1d-48f4-a1b9-77204205429d",
   "metadata": {},
   "outputs": [],
   "source": [
    "oc_gdf = gpd.GeoDataFrame(oc_gdf, crs=riverside.crs, geometry='geometry')"
   ]
  },
  {
   "cell_type": "code",
   "execution_count": null,
   "id": "d97b4e1d-bb01-4647-90b4-75c6fb0e5480",
   "metadata": {},
   "outputs": [],
   "source": [
    "oc_gdf.head()"
   ]
  },
  {
   "cell_type": "markdown",
   "id": "28ed5d75-42f7-4a91-8af3-1b98759f21e6",
   "metadata": {},
   "source": [
    "## Joining all the dataframes"
   ]
  },
  {
   "cell_type": "code",
   "execution_count": null,
   "id": "fbe45bda-145e-4080-bbb3-85d1db267bb6",
   "metadata": {},
   "outputs": [],
   "source": [
    "#oc_gdf + educ_gdf + HI_gdf + gdf\n",
    "\n",
    "census_gdf = gpd.sjoin(gdf,HI_gdf, how='inner')\n",
    "\n"
   ]
  },
  {
   "cell_type": "code",
   "execution_count": null,
   "id": "2a7135b8-3f81-4900-940b-a153a3f35458",
   "metadata": {},
   "outputs": [],
   "source": [
    "census_gdf = census_gdf.drop('index_right', axis=1)"
   ]
  },
  {
   "cell_type": "code",
   "execution_count": null,
   "id": "871c71e3-3af1-4a8d-beab-faaa81f51a89",
   "metadata": {},
   "outputs": [],
   "source": [
    "census_gdf = gpd.sjoin(census_gdf,educ_gdf,how = 'inner')"
   ]
  },
  {
   "cell_type": "code",
   "execution_count": null,
   "id": "1d3dc037-a6ea-4c98-8067-24405a49a5fa",
   "metadata": {},
   "outputs": [],
   "source": [
    "census_gdf = census_gdf.drop('index_right', axis=1)"
   ]
  },
  {
   "cell_type": "code",
   "execution_count": null,
   "id": "d65a1a16-df95-41d5-ba1a-2348d907c7db",
   "metadata": {},
   "outputs": [],
   "source": [
    "census_gdf = gpd.sjoin(census_gdf,oc_gdf,how = 'inner')"
   ]
  },
  {
   "cell_type": "code",
   "execution_count": null,
   "id": "bacb806e-ae64-46c7-b3d2-ee9de4b55276",
   "metadata": {},
   "outputs": [],
   "source": [
    "#census_gdf.info()"
   ]
  },
  {
   "cell_type": "code",
   "execution_count": null,
   "id": "f946576a-c45f-498d-bc3a-e09411600180",
   "metadata": {},
   "outputs": [],
   "source": [
    "census_gdf = census_gdf.drop(columns = ['GEOID_right',                                                                                                                   \n",
    "'NAME_right',                                                   \n",
    "'state_right',                                                         \n",
    "'county_right',                                                   \n",
    "'tract_right',   \n",
    "'Total:',\n",
    "'index_right',\n",
    "'Total_Educ']  , axis=1)"
   ]
  },
  {
   "cell_type": "code",
   "execution_count": null,
   "id": "c4eec080-4798-4e3f-959f-78a4e33144c3",
   "metadata": {},
   "outputs": [],
   "source": [
    "census_gdf.rename(columns={\"Total Workers:\":\"Total Workers\",\"state_left\":\"state\",\"county_left\":\"county\",\"tract_left\":\"tract\",\"NAME_left\":\"NAME\"}, inplace=True)"
   ]
  },
  {
   "cell_type": "code",
   "execution_count": null,
   "id": "505226d2-9d6f-44fb-99cb-7a835d9cfd3b",
   "metadata": {},
   "outputs": [],
   "source": [
    "census_gdf_2011 = census_gdf"
   ]
  },
  {
   "cell_type": "code",
   "execution_count": null,
   "id": "cf8446f8-403f-4684-9042-99be6f648173",
   "metadata": {},
   "outputs": [],
   "source": [
    "#census_gdf_2011.to_csv(index=False)"
   ]
  },
  {
   "cell_type": "code",
   "execution_count": null,
   "id": "4bee833f-db4c-43c6-b0d6-0d9a31f345b4",
   "metadata": {},
   "outputs": [],
   "source": []
  }
 ],
 "metadata": {
  "kernelspec": {
   "display_name": "Python 3 (ipykernel)",
   "language": "python",
   "name": "python3"
  },
  "language_info": {
   "codemirror_mode": {
    "name": "ipython",
    "version": 3
   },
   "file_extension": ".py",
   "mimetype": "text/x-python",
   "name": "python",
   "nbconvert_exporter": "python",
   "pygments_lexer": "ipython3",
   "version": "3.9.16"
  }
 },
 "nbformat": 4,
 "nbformat_minor": 5
}
