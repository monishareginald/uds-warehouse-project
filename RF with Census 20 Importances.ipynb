{
 "cells": [
  {
   "cell_type": "markdown",
   "id": "01eb2d86-05b2-4585-a3fc-307c3053b6f0",
   "metadata": {},
   "source": [
    "## Random Forest Model"
   ]
  },
  {
   "cell_type": "code",
   "execution_count": 1,
   "id": "ce1508fb-b9fc-4f08-9e99-f8843f8a5ae5",
   "metadata": {},
   "outputs": [],
   "source": [
    "# import libraries\n",
    "import pandas as pd\n",
    "import geopandas as gpd\n",
    "import numpy as np\n",
    "import matplotlib.pyplot as plt\n",
    "import seaborn as sns\n",
    "\n",
    "from sklearn.model_selection import train_test_split\n",
    "from sklearn.ensemble import RandomForestClassifier \n",
    "from sklearn.metrics import classification_report, confusion_matrix, accuracy_score, ConfusionMatrixDisplay\n",
    "from sklearn.inspection import PartialDependenceDisplay"
   ]
  },
  {
   "cell_type": "markdown",
   "id": "12240145-01b5-4020-bae6-7618a10926af",
   "metadata": {},
   "source": [
    "First we import the 2010 and 2020 dataset created in these notebooks: 2010 and 2020"
   ]
  },
  {
   "cell_type": "code",
   "execution_count": 48,
   "id": "5e56db94-4d11-4056-be13-7268e8983ccb",
   "metadata": {},
   "outputs": [
    {
     "name": "stderr",
     "output_type": "stream",
     "text": [
      "C:\\Users\\lucyb\\AppData\\Local\\Temp\\ipykernel_21544\\1023464178.py:2: DtypeWarning: Columns (4) have mixed types. Specify dtype option on import or set low_memory=False.\n",
      "  parceldata_10=pd.read_csv('all_data_joined_2010.csv')\n"
     ]
    },
    {
     "data": {
      "text/plain": [
       "Index(['GEO_ID', 'LAND_VALUE', 'distances', 'building_class', 'year', 'acres',\n",
       "       'sqft', 'num_warehouses', 'warehouse_start', 'buit_within_decade',\n",
       "       ...\n",
       "       'tract_y_y', 'Percent Employee of private company workers',\n",
       "       'Percent Self-employed in own incorporated business workers',\n",
       "       'Percent Private not-for-profit wage and salary workers',\n",
       "       'Percent Local government workers', 'Percent State government workers',\n",
       "       'Percent Federal government workers',\n",
       "       'Percent Self-employed in own not incorporated business workers',\n",
       "       'Percent Unpaid family workers', 'geometry_census'],\n",
       "      dtype='object', length=109)"
      ]
     },
     "execution_count": 48,
     "metadata": {},
     "output_type": "execute_result"
    }
   ],
   "source": [
    "# read in data\n",
    "parceldata_10=pd.read_csv('all_data_joined_2010.csv')\n",
    "\n",
    "# need to set APN to be index so that we can join this back to other information later on\n",
    "parceldata_10.set_index('APN',inplace=True)\n",
    "parceldata_10.columns"
   ]
  },
  {
   "cell_type": "code",
   "execution_count": 49,
   "id": "86e25536-c981-4461-9aaf-113d8aef338e",
   "metadata": {},
   "outputs": [],
   "source": [
    "parceldata_10 = parceldata_10.rename(columns = {'buit_within_decade': 'built_within_decade'})"
   ]
  },
  {
   "cell_type": "code",
   "execution_count": 60,
   "id": "afe8db03-ba33-493a-b72a-c4b1ea7c9a53",
   "metadata": {},
   "outputs": [
    {
     "name": "stderr",
     "output_type": "stream",
     "text": [
      "C:\\Users\\lucyb\\AppData\\Local\\Temp\\ipykernel_21544\\3347432583.py:2: DtypeWarning: Columns (4) have mixed types. Specify dtype option on import or set low_memory=False.\n",
      "  parceldata_20=pd.read_csv('data/all_data_joined_2020.csv')\n"
     ]
    },
    {
     "data": {
      "text/html": [
       "<div>\n",
       "<style scoped>\n",
       "    .dataframe tbody tr th:only-of-type {\n",
       "        vertical-align: middle;\n",
       "    }\n",
       "\n",
       "    .dataframe tbody tr th {\n",
       "        vertical-align: top;\n",
       "    }\n",
       "\n",
       "    .dataframe thead th {\n",
       "        text-align: right;\n",
       "    }\n",
       "</style>\n",
       "<table border=\"1\" class=\"dataframe\">\n",
       "  <thead>\n",
       "    <tr style=\"text-align: right;\">\n",
       "      <th></th>\n",
       "      <th>GEO_ID</th>\n",
       "      <th>LAND_VALUE</th>\n",
       "      <th>distances</th>\n",
       "      <th>building_class</th>\n",
       "      <th>year</th>\n",
       "      <th>acres</th>\n",
       "      <th>sqft</th>\n",
       "      <th>num_warehouses</th>\n",
       "      <th>warehouse_start</th>\n",
       "      <th>buit_within_decade</th>\n",
       "      <th>...</th>\n",
       "      <th>Total Workers</th>\n",
       "      <th>Percent Employee of private company workers</th>\n",
       "      <th>Percent Self-employed in own incorporated business workers</th>\n",
       "      <th>Percent Private not-for-profit wage and salary workers</th>\n",
       "      <th>Percent Local government workers</th>\n",
       "      <th>Percent State government workers</th>\n",
       "      <th>Percent Federal government workers</th>\n",
       "      <th>Percent Self-employed in own not incorporated business workers</th>\n",
       "      <th>Percent Unpaid family workers</th>\n",
       "      <th>geometry_census</th>\n",
       "    </tr>\n",
       "    <tr>\n",
       "      <th>APN</th>\n",
       "      <th></th>\n",
       "      <th></th>\n",
       "      <th></th>\n",
       "      <th></th>\n",
       "      <th></th>\n",
       "      <th></th>\n",
       "      <th></th>\n",
       "      <th></th>\n",
       "      <th></th>\n",
       "      <th></th>\n",
       "      <th></th>\n",
       "      <th></th>\n",
       "      <th></th>\n",
       "      <th></th>\n",
       "      <th></th>\n",
       "      <th></th>\n",
       "      <th></th>\n",
       "      <th></th>\n",
       "      <th></th>\n",
       "      <th></th>\n",
       "      <th></th>\n",
       "    </tr>\n",
       "  </thead>\n",
       "  <tbody>\n",
       "    <tr>\n",
       "      <th>210080008.0</th>\n",
       "      <td>6.065030e+09</td>\n",
       "      <td>415583.0</td>\n",
       "      <td>1276.949816</td>\n",
       "      <td>NaN</td>\n",
       "      <td>NaN</td>\n",
       "      <td>NaN</td>\n",
       "      <td>NaN</td>\n",
       "      <td>0.0</td>\n",
       "      <td>0</td>\n",
       "      <td>0</td>\n",
       "      <td>...</td>\n",
       "      <td>571.0</td>\n",
       "      <td>78.458844</td>\n",
       "      <td>2.802102</td>\n",
       "      <td>7.180385</td>\n",
       "      <td>6.830123</td>\n",
       "      <td>1.050788</td>\n",
       "      <td>0.0</td>\n",
       "      <td>3.677758</td>\n",
       "      <td>0.0</td>\n",
       "      <td>POLYGON ((-13064177.03 4027912.35, -13064167.1...</td>\n",
       "    </tr>\n",
       "    <tr>\n",
       "      <th>210060035.0</th>\n",
       "      <td>6.065030e+09</td>\n",
       "      <td>0.0</td>\n",
       "      <td>1448.959298</td>\n",
       "      <td>NaN</td>\n",
       "      <td>NaN</td>\n",
       "      <td>NaN</td>\n",
       "      <td>NaN</td>\n",
       "      <td>0.0</td>\n",
       "      <td>0</td>\n",
       "      <td>0</td>\n",
       "      <td>...</td>\n",
       "      <td>571.0</td>\n",
       "      <td>78.458844</td>\n",
       "      <td>2.802102</td>\n",
       "      <td>7.180385</td>\n",
       "      <td>6.830123</td>\n",
       "      <td>1.050788</td>\n",
       "      <td>0.0</td>\n",
       "      <td>3.677758</td>\n",
       "      <td>0.0</td>\n",
       "      <td>POLYGON ((-13064177.03 4027912.35, -13064167.1...</td>\n",
       "    </tr>\n",
       "    <tr>\n",
       "      <th>210210051.0</th>\n",
       "      <td>6.065030e+09</td>\n",
       "      <td>154517.0</td>\n",
       "      <td>960.746466</td>\n",
       "      <td>NaN</td>\n",
       "      <td>NaN</td>\n",
       "      <td>NaN</td>\n",
       "      <td>NaN</td>\n",
       "      <td>0.0</td>\n",
       "      <td>0</td>\n",
       "      <td>0</td>\n",
       "      <td>...</td>\n",
       "      <td>571.0</td>\n",
       "      <td>78.458844</td>\n",
       "      <td>2.802102</td>\n",
       "      <td>7.180385</td>\n",
       "      <td>6.830123</td>\n",
       "      <td>1.050788</td>\n",
       "      <td>0.0</td>\n",
       "      <td>3.677758</td>\n",
       "      <td>0.0</td>\n",
       "      <td>POLYGON ((-13064177.03 4027912.35, -13064167.1...</td>\n",
       "    </tr>\n",
       "    <tr>\n",
       "      <th>210210076.0</th>\n",
       "      <td>6.065030e+09</td>\n",
       "      <td>0.0</td>\n",
       "      <td>885.698095</td>\n",
       "      <td>NaN</td>\n",
       "      <td>NaN</td>\n",
       "      <td>NaN</td>\n",
       "      <td>NaN</td>\n",
       "      <td>0.0</td>\n",
       "      <td>0</td>\n",
       "      <td>0</td>\n",
       "      <td>...</td>\n",
       "      <td>571.0</td>\n",
       "      <td>78.458844</td>\n",
       "      <td>2.802102</td>\n",
       "      <td>7.180385</td>\n",
       "      <td>6.830123</td>\n",
       "      <td>1.050788</td>\n",
       "      <td>0.0</td>\n",
       "      <td>3.677758</td>\n",
       "      <td>0.0</td>\n",
       "      <td>POLYGON ((-13064177.03 4027912.35, -13064167.1...</td>\n",
       "    </tr>\n",
       "    <tr>\n",
       "      <th>210210046.0</th>\n",
       "      <td>6.065030e+09</td>\n",
       "      <td>73581.0</td>\n",
       "      <td>852.249225</td>\n",
       "      <td>NaN</td>\n",
       "      <td>NaN</td>\n",
       "      <td>NaN</td>\n",
       "      <td>NaN</td>\n",
       "      <td>0.0</td>\n",
       "      <td>0</td>\n",
       "      <td>0</td>\n",
       "      <td>...</td>\n",
       "      <td>571.0</td>\n",
       "      <td>78.458844</td>\n",
       "      <td>2.802102</td>\n",
       "      <td>7.180385</td>\n",
       "      <td>6.830123</td>\n",
       "      <td>1.050788</td>\n",
       "      <td>0.0</td>\n",
       "      <td>3.677758</td>\n",
       "      <td>0.0</td>\n",
       "      <td>POLYGON ((-13064177.03 4027912.35, -13064167.1...</td>\n",
       "    </tr>\n",
       "  </tbody>\n",
       "</table>\n",
       "<p>5 rows × 105 columns</p>\n",
       "</div>"
      ],
      "text/plain": [
       "                   GEO_ID  LAND_VALUE    distances building_class  year  \\\n",
       "APN                                                                       \n",
       "210080008.0  6.065030e+09    415583.0  1276.949816            NaN   NaN   \n",
       "210060035.0  6.065030e+09         0.0  1448.959298            NaN   NaN   \n",
       "210210051.0  6.065030e+09    154517.0   960.746466            NaN   NaN   \n",
       "210210076.0  6.065030e+09         0.0   885.698095            NaN   NaN   \n",
       "210210046.0  6.065030e+09     73581.0   852.249225            NaN   NaN   \n",
       "\n",
       "             acres  sqft  num_warehouses  warehouse_start  buit_within_decade  \\\n",
       "APN                                                                             \n",
       "210080008.0    NaN   NaN             0.0                0                   0   \n",
       "210060035.0    NaN   NaN             0.0                0                   0   \n",
       "210210051.0    NaN   NaN             0.0                0                   0   \n",
       "210210076.0    NaN   NaN             0.0                0                   0   \n",
       "210210046.0    NaN   NaN             0.0                0                   0   \n",
       "\n",
       "             ...  Total Workers  Percent Employee of private company workers  \\\n",
       "APN          ...                                                               \n",
       "210080008.0  ...          571.0                                    78.458844   \n",
       "210060035.0  ...          571.0                                    78.458844   \n",
       "210210051.0  ...          571.0                                    78.458844   \n",
       "210210076.0  ...          571.0                                    78.458844   \n",
       "210210046.0  ...          571.0                                    78.458844   \n",
       "\n",
       "            Percent Self-employed in own incorporated business workers  \\\n",
       "APN                                                                      \n",
       "210080008.0                                           2.802102           \n",
       "210060035.0                                           2.802102           \n",
       "210210051.0                                           2.802102           \n",
       "210210076.0                                           2.802102           \n",
       "210210046.0                                           2.802102           \n",
       "\n",
       "             Percent Private not-for-profit wage and salary workers  \\\n",
       "APN                                                                   \n",
       "210080008.0                                           7.180385        \n",
       "210060035.0                                           7.180385        \n",
       "210210051.0                                           7.180385        \n",
       "210210076.0                                           7.180385        \n",
       "210210046.0                                           7.180385        \n",
       "\n",
       "             Percent Local government workers  \\\n",
       "APN                                             \n",
       "210080008.0                          6.830123   \n",
       "210060035.0                          6.830123   \n",
       "210210051.0                          6.830123   \n",
       "210210076.0                          6.830123   \n",
       "210210046.0                          6.830123   \n",
       "\n",
       "            Percent State government workers  \\\n",
       "APN                                            \n",
       "210080008.0                         1.050788   \n",
       "210060035.0                         1.050788   \n",
       "210210051.0                         1.050788   \n",
       "210210076.0                         1.050788   \n",
       "210210046.0                         1.050788   \n",
       "\n",
       "            Percent Federal government workers  \\\n",
       "APN                                              \n",
       "210080008.0                                0.0   \n",
       "210060035.0                                0.0   \n",
       "210210051.0                                0.0   \n",
       "210210076.0                                0.0   \n",
       "210210046.0                                0.0   \n",
       "\n",
       "             Percent Self-employed in own not incorporated business workers  \\\n",
       "APN                                                                           \n",
       "210080008.0                                           3.677758                \n",
       "210060035.0                                           3.677758                \n",
       "210210051.0                                           3.677758                \n",
       "210210076.0                                           3.677758                \n",
       "210210046.0                                           3.677758                \n",
       "\n",
       "             Percent Unpaid family workers  \\\n",
       "APN                                          \n",
       "210080008.0                            0.0   \n",
       "210060035.0                            0.0   \n",
       "210210051.0                            0.0   \n",
       "210210076.0                            0.0   \n",
       "210210046.0                            0.0   \n",
       "\n",
       "                                               geometry_census  \n",
       "APN                                                             \n",
       "210080008.0  POLYGON ((-13064177.03 4027912.35, -13064167.1...  \n",
       "210060035.0  POLYGON ((-13064177.03 4027912.35, -13064167.1...  \n",
       "210210051.0  POLYGON ((-13064177.03 4027912.35, -13064167.1...  \n",
       "210210076.0  POLYGON ((-13064177.03 4027912.35, -13064167.1...  \n",
       "210210046.0  POLYGON ((-13064177.03 4027912.35, -13064167.1...  \n",
       "\n",
       "[5 rows x 105 columns]"
      ]
     },
     "execution_count": 60,
     "metadata": {},
     "output_type": "execute_result"
    }
   ],
   "source": [
    "# Create a dataset for data as of 2020\n",
    "parceldata_20=pd.read_csv('data/all_data_joined_2020.csv')\n",
    "\n",
    "# need to set APN to be index so that we can join this back to other information later on\n",
    "parceldata_20.set_index('APN',inplace=True)\n"
   ]
  },
  {
   "cell_type": "code",
   "execution_count": 62,
   "id": "0ffcf2d7-3701-49bd-bdf2-f6eda3f43906",
   "metadata": {},
   "outputs": [],
   "source": [
    "parceldata_20 = parceldata_20.rename(columns = {'buit_within_decade': 'built_within_decade'})"
   ]
  },
  {
   "cell_type": "markdown",
   "id": "d7a12b58-70e3-4179-9c6c-f09a1c9e7059",
   "metadata": {},
   "source": [
    "### Train Random Forest Model with 2010 Dataset"
   ]
  },
  {
   "cell_type": "markdown",
   "id": "117b25ce-e297-4536-8ade-5f972bbe7aca",
   "metadata": {},
   "source": [
    "Here we set up the training model by specifying the x and y variables to use and creating a train/test split"
   ]
  },
  {
   "cell_type": "markdown",
   "id": "75d72464-8509-4de2-9195-f7056aa56808",
   "metadata": {},
   "source": [
    "Use top 20 feature importances found in test model to run a model with fewer columns"
   ]
  },
  {
   "cell_type": "code",
   "execution_count": 51,
   "id": "1ddb2b29-e693-465d-ac88-7d7e82fe00e7",
   "metadata": {},
   "outputs": [],
   "source": [
    "#subset parceldata10 to run model with only top 20 feature importances\n",
    "parceldata_10 = parceldata_10[['LAND_VALUE', 'ACRES', 'dollars_per_acre', 'distances', 'lon', 'lat',\n",
    "       'IL_RATIO', 'warehouse_start', 'Industrial', 'Vacant',\n",
    "       'Percent $10,000-$14,999', 'Percent $100,000 - $124,999',\n",
    "       'Percent White alone', 'Percent Some other race alone',\n",
    "       'Percent some_college', 'Percent less_highschool',\n",
    "       'Percent Renter Occupied', 'Percent No schooling completed',\n",
    "       'Percent Two or more races:', 'Percent Owner Occupied', 'built_within_decade']]\n",
    "                            \n"
   ]
  },
  {
   "cell_type": "code",
   "execution_count": 63,
   "id": "c68a31d4-710b-4c30-b809-b6e66553b820",
   "metadata": {},
   "outputs": [],
   "source": [
    "#same for parceldata20, \n",
    "parceldata_20 = parceldata_20[['LAND_VALUE', 'ACRES', 'dollars_per_acre', 'distances', 'lon', 'lat',\n",
    "       'IL_RATIO', 'warehouse_start', 'Industrial', 'Vacant',\n",
    "       'Percent $10,000-$14,999', 'Percent $100,000 - $124,999',\n",
    "       'Percent White alone', 'Percent Some other race alone',\n",
    "       'Percent some_college', 'Percent less_highschool',\n",
    "       'Percent Renter Occupied', 'Percent No schooling completed',\n",
    "       'Percent Two or more races:', 'Percent Owner Occupied', 'built_within_decade']]"
   ]
  },
  {
   "cell_type": "code",
   "execution_count": 53,
   "id": "d376296f-4ba4-4ec3-aa17-ccd3b2a80ff1",
   "metadata": {},
   "outputs": [],
   "source": [
    "# define variables \n",
    "cols=parceldata_10.columns.to_list()\n",
    "xvars=[col for col in cols if col not in ('APN', 'built_within_decade')]\n",
    "yvar = 'built_within_decade'\n",
    "\n",
    "# create a dataframe with no NaNs\n",
    "parceldata_10_model = parceldata_10[xvars+[yvar]].dropna()\n",
    "\n",
    "# create train-test split\n",
    "X_train, X_test, y_train, y_test = train_test_split(\n",
    "    parceldata_10_model[xvars], parceldata_10_model[yvar], test_size = 0.25, random_state = 1)"
   ]
  },
  {
   "cell_type": "markdown",
   "id": "2f83503b-c819-4b94-8e19-554b0a2538c2",
   "metadata": {},
   "source": [
    "Now we run the model and use it to make predictions with the test dataset"
   ]
  },
  {
   "cell_type": "code",
   "execution_count": 54,
   "id": "e3754b89-2303-4efa-b5a4-987afe2ada12",
   "metadata": {},
   "outputs": [],
   "source": [
    "# initialize the random forest classifer object\n",
    "rf = RandomForestClassifier(n_estimators = 50, random_state = 1)\n",
    "\n",
    "# fit the model\n",
    "rf.fit(X_train, y_train)\n",
    "\n",
    "# apply predictions to test dataset\n",
    "y_pred = rf.predict(X_test)"
   ]
  },
  {
   "cell_type": "code",
   "execution_count": 55,
   "id": "ddb38e67-37a6-4628-8369-42aaaafea3e4",
   "metadata": {},
   "outputs": [],
   "source": [
    "# stop if the length of the predictions doesn't match the training dataset\n",
    "assert len(X_test)==len(y_pred)"
   ]
  },
  {
   "cell_type": "markdown",
   "id": "ee3ffd68-cb9b-4d1d-96e2-edb7f823a043",
   "metadata": {},
   "source": [
    "We used a Confusion Matrix for an initial assessment of performance"
   ]
  },
  {
   "cell_type": "code",
   "execution_count": 56,
   "id": "6e9ac99e-ce06-4728-84b7-520faca2bf38",
   "metadata": {},
   "outputs": [
    {
     "name": "stdout",
     "output_type": "stream",
     "text": [
      "Predicted fraction True: 0.0001. Actual fraction True: 0.0003\n"
     ]
    },
    {
     "data": {
      "text/plain": [
       "<sklearn.metrics._plot.confusion_matrix.ConfusionMatrixDisplay at 0x2b89485b880>"
      ]
     },
     "execution_count": 56,
     "metadata": {},
     "output_type": "execute_result"
    },
    {
     "data": {
      "image/png": "[encoded data removed]",
      "text/plain": [
       "<Figure size 640x480 with 2 Axes>"
      ]
     },
     "metadata": {},
     "output_type": "display_data"
    }
   ],
   "source": [
    "print('Predicted fraction True: {:.4f}. Actual fraction True: {:.4f}'.format(\n",
    "    y_pred.mean(), y_test.mean()))\n",
    "ConfusionMatrixDisplay.from_predictions(y_test, y_pred)"
   ]
  },
  {
   "cell_type": "markdown",
   "id": "a8618ad3-c323-4a5c-9349-07db80eb7a8a",
   "metadata": {},
   "source": [
    "We used the feature importances to identify variables worth looking into further"
   ]
  },
  {
   "cell_type": "code",
   "execution_count": 59,
   "id": "3ccfab76-9aed-41cf-9412-c19f36f6c461",
   "metadata": {},
   "outputs": [
    {
     "data": {
      "image/png": "[encoded data removed]",
      "text/plain": [
       "<Figure size 500x400 with 1 Axes>"
      ]
     },
     "metadata": {},
     "output_type": "display_data"
    }
   ],
   "source": [
    "# create series of importances\n",
    "importances = rf.feature_importances_\n",
    "forest_importances = pd.Series(importances, index=X_train.columns)\n",
    "forest_importances.sort_values(inplace=True, ascending=False)\n",
    "\n",
    "# plot them\n",
    "fig, ax = plt.subplots(figsize=(5,4))\n",
    "sns.barplot(x=forest_importances[:20].values, y=forest_importances[:20].index, ax=ax)\n",
    "ax.set_title(\"Feature importances using MDI\")\n",
    "ax.set_ylabel(\"Mean decrease in impurity\")\n",
    "fig.savefig('figures/top20importances.png')"
   ]
  },
  {
   "cell_type": "markdown",
   "id": "eac904d6-10a1-4d88-a1fe-2696be9e86e6",
   "metadata": {},
   "source": [
    "### Apply Model to 2020 Dataset"
   ]
  },
  {
   "cell_type": "code",
   "execution_count": 64,
   "id": "b0740ab4-4f41-42e3-9d3e-ded119a24688",
   "metadata": {},
   "outputs": [],
   "source": [
    "# define variables \n",
    "cols=parceldata_20.columns.to_list()\n",
    "xvars=[col for col in cols if col not in ('APN', 'built_within_decade')]\n",
    "yvar = 'built_within_decade'\n",
    "\n",
    "# create a dataframe with no NaNs\n",
    "parceldata_20_model = parceldata_20[xvars+[yvar]].dropna()"
   ]
  },
  {
   "cell_type": "markdown",
   "id": "e71a053f-ea59-4c3a-833f-ce262d8395a3",
   "metadata": {},
   "source": [
    "We now use the same RF model from before to predict the percent chance that a warehouse will be built within a decade on the 2020 data"
   ]
  },
  {
   "cell_type": "code",
   "execution_count": 65,
   "id": "f21c6110-6e21-4e52-aca2-9620e64b0919",
   "metadata": {},
   "outputs": [],
   "source": [
    "# apply predictions from previous model to test dataset\n",
    "X_test=parceldata_20_model[xvars]\n",
    "y_pred = rf.predict(X_test)"
   ]
  },
  {
   "cell_type": "code",
   "execution_count": 66,
   "id": "e8eb1b49-5d8a-4260-8d05-ebbd12047289",
   "metadata": {},
   "outputs": [
    {
     "name": "stdout",
     "output_type": "stream",
     "text": [
      "Predicted fraction True: 0.0000\n",
      "Predicted number True: 3\n"
     ]
    }
   ],
   "source": [
    "# stop if lengths don't match\n",
    "assert len(X_test)==len(y_pred)\n",
    "# how many does it predict?\n",
    "print('Predicted fraction True: {:.4f}'.format(y_pred.mean()))\n",
    "print('Predicted number True: {:.0f}'.format(y_pred.sum()))"
   ]
  },
  {
   "cell_type": "markdown",
   "id": "a896db71-59d0-4cc3-836d-7580a0d4d67e",
   "metadata": {},
   "source": [
    "We will now create a dataframe of predictions to be able to visualize the results"
   ]
  },
  {
   "cell_type": "code",
   "execution_count": 67,
   "id": "e3a458f4-cfa6-4740-9f5f-7ebade5c03b4",
   "metadata": {},
   "outputs": [
    {
     "data": {
      "text/html": [
       "<div>\n",
       "<style scoped>\n",
       "    .dataframe tbody tr th:only-of-type {\n",
       "        vertical-align: middle;\n",
       "    }\n",
       "\n",
       "    .dataframe tbody tr th {\n",
       "        vertical-align: top;\n",
       "    }\n",
       "\n",
       "    .dataframe thead th {\n",
       "        text-align: right;\n",
       "    }\n",
       "</style>\n",
       "<table border=\"1\" class=\"dataframe\">\n",
       "  <thead>\n",
       "    <tr style=\"text-align: right;\">\n",
       "      <th></th>\n",
       "      <th>pred_noWH</th>\n",
       "      <th>pred_WH</th>\n",
       "      <th>LAND_VALUE</th>\n",
       "      <th>ACRES</th>\n",
       "      <th>dollars_per_acre</th>\n",
       "      <th>distances</th>\n",
       "      <th>lon</th>\n",
       "      <th>lat</th>\n",
       "      <th>IL_RATIO</th>\n",
       "      <th>warehouse_start</th>\n",
       "      <th>...</th>\n",
       "      <th>Percent $10,000-$14,999</th>\n",
       "      <th>Percent $100,000 - $124,999</th>\n",
       "      <th>Percent White alone</th>\n",
       "      <th>Percent Some other race alone</th>\n",
       "      <th>Percent some_college</th>\n",
       "      <th>Percent less_highschool</th>\n",
       "      <th>Percent Renter Occupied</th>\n",
       "      <th>Percent No schooling completed</th>\n",
       "      <th>Percent Two or more races:</th>\n",
       "      <th>Percent Owner Occupied</th>\n",
       "    </tr>\n",
       "    <tr>\n",
       "      <th>APN</th>\n",
       "      <th></th>\n",
       "      <th></th>\n",
       "      <th></th>\n",
       "      <th></th>\n",
       "      <th></th>\n",
       "      <th></th>\n",
       "      <th></th>\n",
       "      <th></th>\n",
       "      <th></th>\n",
       "      <th></th>\n",
       "      <th></th>\n",
       "      <th></th>\n",
       "      <th></th>\n",
       "      <th></th>\n",
       "      <th></th>\n",
       "      <th></th>\n",
       "      <th></th>\n",
       "      <th></th>\n",
       "      <th></th>\n",
       "      <th></th>\n",
       "      <th></th>\n",
       "    </tr>\n",
       "  </thead>\n",
       "  <tbody>\n",
       "    <tr>\n",
       "      <th>210080008.0</th>\n",
       "      <td>1.0</td>\n",
       "      <td>0.0</td>\n",
       "      <td>415583.0</td>\n",
       "      <td>1.018478</td>\n",
       "      <td>4.080434e+05</td>\n",
       "      <td>1276.949816</td>\n",
       "      <td>-117.349561</td>\n",
       "      <td>33.997017</td>\n",
       "      <td>0.77632</td>\n",
       "      <td>0</td>\n",
       "      <td>...</td>\n",
       "      <td>0.0</td>\n",
       "      <td>6.318681</td>\n",
       "      <td>28.393006</td>\n",
       "      <td>43.630308</td>\n",
       "      <td>32.540862</td>\n",
       "      <td>22.43685</td>\n",
       "      <td>47.802198</td>\n",
       "      <td>6.53789</td>\n",
       "      <td>0.0</td>\n",
       "      <td>52.197802</td>\n",
       "    </tr>\n",
       "    <tr>\n",
       "      <th>210060035.0</th>\n",
       "      <td>1.0</td>\n",
       "      <td>0.0</td>\n",
       "      <td>0.0</td>\n",
       "      <td>0.259053</td>\n",
       "      <td>0.000000e+00</td>\n",
       "      <td>1448.959298</td>\n",
       "      <td>-117.348550</td>\n",
       "      <td>33.997814</td>\n",
       "      <td>0.00000</td>\n",
       "      <td>0</td>\n",
       "      <td>...</td>\n",
       "      <td>0.0</td>\n",
       "      <td>6.318681</td>\n",
       "      <td>28.393006</td>\n",
       "      <td>43.630308</td>\n",
       "      <td>32.540862</td>\n",
       "      <td>22.43685</td>\n",
       "      <td>47.802198</td>\n",
       "      <td>6.53789</td>\n",
       "      <td>0.0</td>\n",
       "      <td>52.197802</td>\n",
       "    </tr>\n",
       "    <tr>\n",
       "      <th>210210051.0</th>\n",
       "      <td>1.0</td>\n",
       "      <td>0.0</td>\n",
       "      <td>154517.0</td>\n",
       "      <td>0.055572</td>\n",
       "      <td>2.780501e+06</td>\n",
       "      <td>960.746466</td>\n",
       "      <td>-117.352501</td>\n",
       "      <td>33.994702</td>\n",
       "      <td>2.14815</td>\n",
       "      <td>0</td>\n",
       "      <td>...</td>\n",
       "      <td>0.0</td>\n",
       "      <td>6.318681</td>\n",
       "      <td>28.393006</td>\n",
       "      <td>43.630308</td>\n",
       "      <td>32.540862</td>\n",
       "      <td>22.43685</td>\n",
       "      <td>47.802198</td>\n",
       "      <td>6.53789</td>\n",
       "      <td>0.0</td>\n",
       "      <td>52.197802</td>\n",
       "    </tr>\n",
       "    <tr>\n",
       "      <th>210210076.0</th>\n",
       "      <td>1.0</td>\n",
       "      <td>0.0</td>\n",
       "      <td>0.0</td>\n",
       "      <td>0.480909</td>\n",
       "      <td>0.000000e+00</td>\n",
       "      <td>885.698095</td>\n",
       "      <td>-117.352219</td>\n",
       "      <td>33.994711</td>\n",
       "      <td>0.00000</td>\n",
       "      <td>0</td>\n",
       "      <td>...</td>\n",
       "      <td>0.0</td>\n",
       "      <td>6.318681</td>\n",
       "      <td>28.393006</td>\n",
       "      <td>43.630308</td>\n",
       "      <td>32.540862</td>\n",
       "      <td>22.43685</td>\n",
       "      <td>47.802198</td>\n",
       "      <td>6.53789</td>\n",
       "      <td>0.0</td>\n",
       "      <td>52.197802</td>\n",
       "    </tr>\n",
       "    <tr>\n",
       "      <th>210210046.0</th>\n",
       "      <td>1.0</td>\n",
       "      <td>0.0</td>\n",
       "      <td>73581.0</td>\n",
       "      <td>0.053479</td>\n",
       "      <td>1.375885e+06</td>\n",
       "      <td>852.249225</td>\n",
       "      <td>-117.352879</td>\n",
       "      <td>33.994740</td>\n",
       "      <td>3.66671</td>\n",
       "      <td>0</td>\n",
       "      <td>...</td>\n",
       "      <td>0.0</td>\n",
       "      <td>6.318681</td>\n",
       "      <td>28.393006</td>\n",
       "      <td>43.630308</td>\n",
       "      <td>32.540862</td>\n",
       "      <td>22.43685</td>\n",
       "      <td>47.802198</td>\n",
       "      <td>6.53789</td>\n",
       "      <td>0.0</td>\n",
       "      <td>52.197802</td>\n",
       "    </tr>\n",
       "  </tbody>\n",
       "</table>\n",
       "<p>5 rows × 22 columns</p>\n",
       "</div>"
      ],
      "text/plain": [
       "             pred_noWH  pred_WH  LAND_VALUE     ACRES  dollars_per_acre  \\\n",
       "APN                                                                       \n",
       "210080008.0        1.0      0.0    415583.0  1.018478      4.080434e+05   \n",
       "210060035.0        1.0      0.0         0.0  0.259053      0.000000e+00   \n",
       "210210051.0        1.0      0.0    154517.0  0.055572      2.780501e+06   \n",
       "210210076.0        1.0      0.0         0.0  0.480909      0.000000e+00   \n",
       "210210046.0        1.0      0.0     73581.0  0.053479      1.375885e+06   \n",
       "\n",
       "               distances         lon        lat  IL_RATIO  warehouse_start  \\\n",
       "APN                                                                          \n",
       "210080008.0  1276.949816 -117.349561  33.997017   0.77632                0   \n",
       "210060035.0  1448.959298 -117.348550  33.997814   0.00000                0   \n",
       "210210051.0   960.746466 -117.352501  33.994702   2.14815                0   \n",
       "210210076.0   885.698095 -117.352219  33.994711   0.00000                0   \n",
       "210210046.0   852.249225 -117.352879  33.994740   3.66671                0   \n",
       "\n",
       "             ...  Percent $10,000-$14,999  Percent $100,000 - $124,999  \\\n",
       "APN          ...                                                         \n",
       "210080008.0  ...                      0.0                     6.318681   \n",
       "210060035.0  ...                      0.0                     6.318681   \n",
       "210210051.0  ...                      0.0                     6.318681   \n",
       "210210076.0  ...                      0.0                     6.318681   \n",
       "210210046.0  ...                      0.0                     6.318681   \n",
       "\n",
       "             Percent White alone  Percent Some other race alone  \\\n",
       "APN                                                               \n",
       "210080008.0            28.393006                      43.630308   \n",
       "210060035.0            28.393006                      43.630308   \n",
       "210210051.0            28.393006                      43.630308   \n",
       "210210076.0            28.393006                      43.630308   \n",
       "210210046.0            28.393006                      43.630308   \n",
       "\n",
       "             Percent some_college  Percent less_highschool  \\\n",
       "APN                                                          \n",
       "210080008.0             32.540862                 22.43685   \n",
       "210060035.0             32.540862                 22.43685   \n",
       "210210051.0             32.540862                 22.43685   \n",
       "210210076.0             32.540862                 22.43685   \n",
       "210210046.0             32.540862                 22.43685   \n",
       "\n",
       "             Percent Renter Occupied  Percent No schooling completed  \\\n",
       "APN                                                                    \n",
       "210080008.0                47.802198                         6.53789   \n",
       "210060035.0                47.802198                         6.53789   \n",
       "210210051.0                47.802198                         6.53789   \n",
       "210210076.0                47.802198                         6.53789   \n",
       "210210046.0                47.802198                         6.53789   \n",
       "\n",
       "             Percent Two or more races:  Percent Owner Occupied  \n",
       "APN                                                              \n",
       "210080008.0                         0.0               52.197802  \n",
       "210060035.0                         0.0               52.197802  \n",
       "210210051.0                         0.0               52.197802  \n",
       "210210076.0                         0.0               52.197802  \n",
       "210210046.0                         0.0               52.197802  \n",
       "\n",
       "[5 rows x 22 columns]"
      ]
     },
     "execution_count": 67,
     "metadata": {},
     "output_type": "execute_result"
    }
   ],
   "source": [
    "# create a dataframe of predictions about whether or not a parcel will have a warehouse built on it within 10 years & join this to the full df\n",
    "predictions = pd.DataFrame(rf.predict_proba(X_test),columns = ['pred_noWH', 'pred_WH'])\n",
    "predictions= predictions.join((X_test).reset_index())\n",
    "predictions.set_index('APN',inplace=True)\n",
    "predictions.head()"
   ]
  },
  {
   "cell_type": "code",
   "execution_count": 68,
   "id": "2fa6c508-59ce-4411-b508-0212a27d80c0",
   "metadata": {},
   "outputs": [
    {
     "name": "stdout",
     "output_type": "stream",
     "text": [
      "3\n",
      "176\n"
     ]
    }
   ],
   "source": [
    "# not a whole lot actally predicted to become warehouses... maybe visualize percentages above a certain point if census data doesn't fix\n",
    "print(len(predictions[predictions.pred_WH>0.5]))\n",
    "print(len(predictions[predictions.pred_WH>0.25]))"
   ]
  },
  {
   "cell_type": "code",
   "execution_count": null,
   "id": "ce664393-dbe4-4700-9ae0-c53a91cddd8d",
   "metadata": {},
   "outputs": [],
   "source": [
    "# save her!!!!\n",
    "predictions.to_csv('predictionstop20.csv')"
   ]
  },
  {
   "cell_type": "code",
   "execution_count": null,
   "id": "76e25187-f857-4dff-808d-7e5c13162a81",
   "metadata": {},
   "outputs": [],
   "source": []
  }
 ],
 "metadata": {
  "kernelspec": {
   "display_name": "Python 3 (ipykernel)",
   "language": "python",
   "name": "python3"
  },
  "language_info": {
   "codemirror_mode": {
    "name": "ipython",
    "version": 3
   },
   "file_extension": ".py",
   "mimetype": "text/x-python",
   "name": "python",
   "nbconvert_exporter": "python",
   "pygments_lexer": "ipython3",
   "version": "3.9.16"
  }
 },
 "nbformat": 4,
 "nbformat_minor": 5
}
