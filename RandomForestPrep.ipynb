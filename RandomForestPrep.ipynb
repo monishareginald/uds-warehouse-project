{
 "cells": [
  {
   "cell_type": "markdown",
   "id": "01eb2d86-05b2-4585-a3fc-307c3053b6f0",
   "metadata": {},
   "source": [
    "## Random Forest Model"
   ]
  },
  {
   "cell_type": "code",
   "execution_count": 1,
   "id": "ce1508fb-b9fc-4f08-9e99-f8843f8a5ae5",
   "metadata": {},
   "outputs": [],
   "source": [
    "# import libraries\n",
    "import pandas as pd\n",
    "import geopandas as gpd\n",
    "import numpy as np\n",
    "import matplotlib.pyplot as plt\n",
    "import seaborn as sns\n",
    "\n",
    "from sklearn.model_selection import train_test_split\n",
    "from sklearn.ensemble import RandomForestClassifier \n",
    "from sklearn.metrics import classification_report, confusion_matrix, accuracy_score, ConfusionMatrixDisplay\n",
    "from sklearn.inspection import PartialDependenceDisplay"
   ]
  },
  {
   "cell_type": "markdown",
   "id": "12240145-01b5-4020-bae6-7618a10926af",
   "metadata": {},
   "source": [
    "First we import and clean up the Parcel dataset that was created in LINK TO ALYSSA'S NOTEBOOK HERE"
   ]
  },
  {
   "cell_type": "code",
   "execution_count": 2,
   "id": "5e56db94-4d11-4056-be13-7268e8983ccb",
   "metadata": {},
   "outputs": [
    {
     "name": "stderr",
     "output_type": "stream",
     "text": [
      "C:\\Users\\Monisha\\AppData\\Local\\Temp\\ipykernel_10328\\984724337.py:2: DtypeWarning: Columns (3) have mixed types. Specify dtype option on import or set low_memory=False.\n",
      "  parcel_data=pd.read_csv('data/join_scag_to_parcels_left_2019.csv')\n"
     ]
    },
    {
     "data": {
      "text/html": [
       "<div>\n",
       "<style scoped>\n",
       "    .dataframe tbody tr th:only-of-type {\n",
       "        vertical-align: middle;\n",
       "    }\n",
       "\n",
       "    .dataframe tbody tr th {\n",
       "        vertical-align: top;\n",
       "    }\n",
       "\n",
       "    .dataframe thead th {\n",
       "        text-align: right;\n",
       "    }\n",
       "</style>\n",
       "<table border=\"1\" class=\"dataframe\">\n",
       "  <thead>\n",
       "    <tr style=\"text-align: right;\">\n",
       "      <th></th>\n",
       "      <th>APN</th>\n",
       "      <th>LAND_VALUE</th>\n",
       "      <th>distances</th>\n",
       "      <th>building_class</th>\n",
       "      <th>year</th>\n",
       "      <th>acres</th>\n",
       "      <th>sqft</th>\n",
       "      <th>num_warehouses</th>\n",
       "      <th>warehouse_2010</th>\n",
       "      <th>warehouse_2020</th>\n",
       "      <th>...</th>\n",
       "      <th>Specific Plan</th>\n",
       "      <th>Transportation, Communications, and Utilities</th>\n",
       "      <th>Under Construction</th>\n",
       "      <th>Undevelopable</th>\n",
       "      <th>Unknown</th>\n",
       "      <th>Vacant</th>\n",
       "      <th>Water</th>\n",
       "      <th>dollars_per_acre</th>\n",
       "      <th>county_Riverside</th>\n",
       "      <th>county_San Bernardino</th>\n",
       "    </tr>\n",
       "  </thead>\n",
       "  <tbody>\n",
       "    <tr>\n",
       "      <th>0</th>\n",
       "      <td>933260003.0</td>\n",
       "      <td>48418.0</td>\n",
       "      <td>38449.033944</td>\n",
       "      <td>NaN</td>\n",
       "      <td>NaN</td>\n",
       "      <td>NaN</td>\n",
       "      <td>NaN</td>\n",
       "      <td>0.0</td>\n",
       "      <td>0</td>\n",
       "      <td>0</td>\n",
       "      <td>...</td>\n",
       "      <td>0.0</td>\n",
       "      <td>0.0</td>\n",
       "      <td>0.0</td>\n",
       "      <td>0.0</td>\n",
       "      <td>0.0</td>\n",
       "      <td>0.0</td>\n",
       "      <td>0.0</td>\n",
       "      <td>2406.435207</td>\n",
       "      <td>1</td>\n",
       "      <td>0</td>\n",
       "    </tr>\n",
       "    <tr>\n",
       "      <th>1</th>\n",
       "      <td>933190003.0</td>\n",
       "      <td>210496.0</td>\n",
       "      <td>39355.337470</td>\n",
       "      <td>NaN</td>\n",
       "      <td>NaN</td>\n",
       "      <td>NaN</td>\n",
       "      <td>NaN</td>\n",
       "      <td>0.0</td>\n",
       "      <td>0</td>\n",
       "      <td>0</td>\n",
       "      <td>...</td>\n",
       "      <td>0.0</td>\n",
       "      <td>0.0</td>\n",
       "      <td>0.0</td>\n",
       "      <td>0.0</td>\n",
       "      <td>0.0</td>\n",
       "      <td>1.0</td>\n",
       "      <td>0.0</td>\n",
       "      <td>10667.570219</td>\n",
       "      <td>1</td>\n",
       "      <td>0</td>\n",
       "    </tr>\n",
       "    <tr>\n",
       "      <th>2</th>\n",
       "      <td>933200001.0</td>\n",
       "      <td>347975.0</td>\n",
       "      <td>39133.409768</td>\n",
       "      <td>NaN</td>\n",
       "      <td>NaN</td>\n",
       "      <td>NaN</td>\n",
       "      <td>NaN</td>\n",
       "      <td>0.0</td>\n",
       "      <td>0</td>\n",
       "      <td>0</td>\n",
       "      <td>...</td>\n",
       "      <td>0.0</td>\n",
       "      <td>0.0</td>\n",
       "      <td>0.0</td>\n",
       "      <td>0.0</td>\n",
       "      <td>0.0</td>\n",
       "      <td>1.0</td>\n",
       "      <td>0.0</td>\n",
       "      <td>17690.981870</td>\n",
       "      <td>1</td>\n",
       "      <td>0</td>\n",
       "    </tr>\n",
       "    <tr>\n",
       "      <th>3</th>\n",
       "      <td>933180027.0</td>\n",
       "      <td>88468.0</td>\n",
       "      <td>39830.303362</td>\n",
       "      <td>NaN</td>\n",
       "      <td>NaN</td>\n",
       "      <td>NaN</td>\n",
       "      <td>NaN</td>\n",
       "      <td>0.0</td>\n",
       "      <td>0</td>\n",
       "      <td>0</td>\n",
       "      <td>...</td>\n",
       "      <td>0.0</td>\n",
       "      <td>0.0</td>\n",
       "      <td>0.0</td>\n",
       "      <td>0.0</td>\n",
       "      <td>0.0</td>\n",
       "      <td>1.0</td>\n",
       "      <td>0.0</td>\n",
       "      <td>9505.916138</td>\n",
       "      <td>1</td>\n",
       "      <td>0</td>\n",
       "    </tr>\n",
       "    <tr>\n",
       "      <th>4</th>\n",
       "      <td>933180028.0</td>\n",
       "      <td>334555.0</td>\n",
       "      <td>38830.371787</td>\n",
       "      <td>NaN</td>\n",
       "      <td>NaN</td>\n",
       "      <td>NaN</td>\n",
       "      <td>NaN</td>\n",
       "      <td>0.0</td>\n",
       "      <td>0</td>\n",
       "      <td>0</td>\n",
       "      <td>...</td>\n",
       "      <td>0.0</td>\n",
       "      <td>0.0</td>\n",
       "      <td>0.0</td>\n",
       "      <td>0.0</td>\n",
       "      <td>0.0</td>\n",
       "      <td>0.0</td>\n",
       "      <td>0.0</td>\n",
       "      <td>16032.116147</td>\n",
       "      <td>1</td>\n",
       "      <td>0</td>\n",
       "    </tr>\n",
       "  </tbody>\n",
       "</table>\n",
       "<p>5 rows × 53 columns</p>\n",
       "</div>"
      ],
      "text/plain": [
       "           APN  LAND_VALUE     distances building_class  year  acres  sqft  \\\n",
       "0  933260003.0     48418.0  38449.033944            NaN   NaN    NaN   NaN   \n",
       "1  933190003.0    210496.0  39355.337470            NaN   NaN    NaN   NaN   \n",
       "2  933200001.0    347975.0  39133.409768            NaN   NaN    NaN   NaN   \n",
       "3  933180027.0     88468.0  39830.303362            NaN   NaN    NaN   NaN   \n",
       "4  933180028.0    334555.0  38830.371787            NaN   NaN    NaN   NaN   \n",
       "\n",
       "   num_warehouses  warehouse_2010  warehouse_2020  ...  Specific Plan  \\\n",
       "0             0.0               0               0  ...            0.0   \n",
       "1             0.0               0               0  ...            0.0   \n",
       "2             0.0               0               0  ...            0.0   \n",
       "3             0.0               0               0  ...            0.0   \n",
       "4             0.0               0               0  ...            0.0   \n",
       "\n",
       "   Transportation, Communications, and Utilities  Under Construction  \\\n",
       "0                                            0.0                 0.0   \n",
       "1                                            0.0                 0.0   \n",
       "2                                            0.0                 0.0   \n",
       "3                                            0.0                 0.0   \n",
       "4                                            0.0                 0.0   \n",
       "\n",
       "  Undevelopable  Unknown  Vacant Water dollars_per_acre  county_Riverside  \\\n",
       "0           0.0      0.0     0.0   0.0      2406.435207                 1   \n",
       "1           0.0      0.0     1.0   0.0     10667.570219                 1   \n",
       "2           0.0      0.0     1.0   0.0     17690.981870                 1   \n",
       "3           0.0      0.0     1.0   0.0      9505.916138                 1   \n",
       "4           0.0      0.0     0.0   0.0     16032.116147                 1   \n",
       "\n",
       "   county_San Bernardino  \n",
       "0                      0  \n",
       "1                      0  \n",
       "2                      0  \n",
       "3                      0  \n",
       "4                      0  \n",
       "\n",
       "[5 rows x 53 columns]"
      ]
     },
     "execution_count": 2,
     "metadata": {},
     "output_type": "execute_result"
    }
   ],
   "source": [
    "# read in data\n",
    "parcel_data=pd.read_csv('data/join_scag_to_parcels_left_2019.csv')\n",
    "\n",
    "# data clean-up\n",
    "# use lambda functions to denote whether warehouse had been built on each parcel by 2010 and by 2020 (fixing error in previous version)\n",
    "parcel_data['warehouse_2010']=parcel_data.year.apply(lambda x: 1 if x<2010 else 0)\n",
    "parcel_data['warehouse_2020']=parcel_data.year.apply(lambda x: 1 if x<2020 else 0)\n",
    "parcel_data['built_2010s']=parcel_data.year.apply(lambda x: 1 if (2010 <= x < 2020) else 0)\n",
    "\n",
    "# replace county names w/ dummies\n",
    "dummies=pd.get_dummies(parcel_data.COUNTY, prefix='county')\n",
    "parcel_data = parcel_data.join(dummies)\n",
    "parcel_data.head()"
   ]
  },
  {
   "cell_type": "markdown",
   "id": "d7a12b58-70e3-4179-9c6c-f09a1c9e7059",
   "metadata": {},
   "source": [
    "### Train Random Forest Model with 2010 Dataset"
   ]
  },
  {
   "cell_type": "markdown",
   "id": "733db5f3-0005-4f4a-8295-7d02f6a44aed",
   "metadata": {},
   "source": [
    "First we create a dataset to represent the conditions in the Inland Empire in 2010"
   ]
  },
  {
   "cell_type": "code",
   "execution_count": 3,
   "id": "627f8adc-1540-4c7a-9106-649bd2ad3f00",
   "metadata": {},
   "outputs": [],
   "source": [
    "# copy dataset and delete/rename variables as needed\n",
    "parceldata_10=parcel_data.copy()\n",
    "parceldata_10.drop(columns=['warehouse_2020'],inplace=True)\n",
    "parceldata_10.rename(columns={'warehouse_2010':'warehouse_start','built_2010s':'buit_within_decade'},inplace=True)\n",
    "\n",
    "# need to set APN to be index so that we can join this back to other information later on\n",
    "parceldata_10.set_index('APN',inplace=True)"
   ]
  },
  {
   "cell_type": "markdown",
   "id": "117b25ce-e297-4536-8ade-5f972bbe7aca",
   "metadata": {},
   "source": [
    "Here we set up the training model by specifying the x and y variables to use and creating a train/test split"
   ]
  },
  {
   "cell_type": "code",
   "execution_count": 4,
   "id": "d376296f-4ba4-4ec3-aa17-ccd3b2a80ff1",
   "metadata": {},
   "outputs": [],
   "source": [
    "# define variables \n",
    "cols=parceldata_10.columns.to_list()\n",
    "xvars=[col for col in cols if col not in ('APN','building_class','year','acres','sqft','num_warehouses','buit_within_decade',\n",
    "                                          'geometry','PID19','APN19','CITY','COUNTY','LU19','LU16','JURISDICTI','LU19_CLASS','SCAG_ZN_CO','Shape_Leng','Shape_Area')]\n",
    "yvar = 'buit_within_decade'\n",
    "\n",
    "# create a dataframe with no NaNs\n",
    "parceldata_10_model = parceldata_10[xvars+[yvar]].dropna()\n",
    "\n",
    "# create train-test split\n",
    "X_train, X_test, y_train, y_test = train_test_split(\n",
    "    parceldata_10_model[xvars], parceldata_10_model[yvar], test_size = 0.25, random_state = 1)"
   ]
  },
  {
   "cell_type": "markdown",
   "id": "2f83503b-c819-4b94-8e19-554b0a2538c2",
   "metadata": {},
   "source": [
    "Now we run the model and use it to make predictions with the test dataset"
   ]
  },
  {
   "cell_type": "code",
   "execution_count": 5,
   "id": "e3754b89-2303-4efa-b5a4-987afe2ada12",
   "metadata": {},
   "outputs": [],
   "source": [
    "# initialize the random forest classifer object\n",
    "rf = RandomForestClassifier(n_estimators = 50, random_state = 1)\n",
    "\n",
    "# fit the model\n",
    "rf.fit(X_train, y_train)\n",
    "\n",
    "# apply predictions to test dataset\n",
    "y_pred = rf.predict(X_test)"
   ]
  },
  {
   "cell_type": "code",
   "execution_count": 6,
   "id": "ddb38e67-37a6-4628-8369-42aaaafea3e4",
   "metadata": {},
   "outputs": [],
   "source": [
    "# stop if the length of the predictions doesn't match the training dataset\n",
    "assert len(X_test)==len(y_pred)"
   ]
  },
  {
   "cell_type": "markdown",
   "id": "ee3ffd68-cb9b-4d1d-96e2-edb7f823a043",
   "metadata": {},
   "source": [
    "We used a Confusion Matrix for an initial assessment of performance"
   ]
  },
  {
   "cell_type": "code",
   "execution_count": 7,
   "id": "6e9ac99e-ce06-4728-84b7-520faca2bf38",
   "metadata": {},
   "outputs": [
    {
     "name": "stdout",
     "output_type": "stream",
     "text": [
      "Predicted fraction True: 0.0001. Actual fraction True: 0.0003\n"
     ]
    },
    {
     "data": {
      "text/plain": [
       "<sklearn.metrics._plot.confusion_matrix.ConfusionMatrixDisplay at 0x237818334f0>"
      ]
     },
     "execution_count": 7,
     "metadata": {},
     "output_type": "execute_result"
    },
    {
     "data": {
      "image/png": "[encoded data removed]",
      "text/plain": [
       "<Figure size 640x480 with 2 Axes>"
      ]
     },
     "metadata": {},
     "output_type": "display_data"
    }
   ],
   "source": [
    "print('Predicted fraction True: {:.4f}. Actual fraction True: {:.4f}'.format(\n",
    "    y_pred.mean(), y_test.mean()))\n",
    "ConfusionMatrixDisplay.from_predictions(y_test, y_pred)"
   ]
  },
  {
   "cell_type": "markdown",
   "id": "a8618ad3-c323-4a5c-9349-07db80eb7a8a",
   "metadata": {},
   "source": [
    "We used the feature importances to identify variables worth looking into further"
   ]
  },
  {
   "cell_type": "code",
   "execution_count": 8,
   "id": "3ccfab76-9aed-41cf-9412-c19f36f6c461",
   "metadata": {},
   "outputs": [
    {
     "data": {
      "text/plain": [
       "Text(0, 0.5, 'Mean decrease in impurity')"
      ]
     },
     "execution_count": 8,
     "metadata": {},
     "output_type": "execute_result"
    },
    {
     "data": {
      "image/png": "[encoded data removed]",
      "text/plain": [
       "<Figure size 500x400 with 1 Axes>"
      ]
     },
     "metadata": {},
     "output_type": "display_data"
    }
   ],
   "source": [
    "# create series of importances\n",
    "importances = rf.feature_importances_\n",
    "forest_importances = pd.Series(importances, index=X_train.columns)\n",
    "forest_importances.sort_values(inplace=True, ascending=False)\n",
    "\n",
    "# plot them\n",
    "fig, ax = plt.subplots(figsize=(5,4))\n",
    "sns.barplot(x=forest_importances[:15].values, y=forest_importances[:15].index, ax=ax)\n",
    "ax.set_title(\"Feature importances using MDI\")\n",
    "ax.set_ylabel(\"Mean decrease in impurity\")"
   ]
  },
  {
   "cell_type": "markdown",
   "id": "eac904d6-10a1-4d88-a1fe-2696be9e86e6",
   "metadata": {},
   "source": [
    "### Apply Model to 2020 Dataset"
   ]
  },
  {
   "cell_type": "markdown",
   "id": "1d5b464e-86f5-4d9b-8a43-ca4774e3429f",
   "metadata": {},
   "source": [
    "Now we create a dataset to represent the conditions in the Inland Empire in 2020"
   ]
  },
  {
   "cell_type": "code",
   "execution_count": 9,
   "id": "afe8db03-ba33-493a-b72a-c4b1ea7c9a53",
   "metadata": {},
   "outputs": [],
   "source": [
    "# Create a dataset for data as of 2020\n",
    "parceldata_20=parcel_data.copy()\n",
    "parceldata_20.drop(columns=['warehouse_2010'],inplace=True)\n",
    "parceldata_20.rename(columns={'warehouse_2020':'warehouse_start','built_2010s':'buit_within_decade'},inplace=True)\n",
    "\n",
    "# need to set APN to be index so that we can join this back to other information later on\n",
    "parceldata_20.set_index('APN',inplace=True)"
   ]
  },
  {
   "cell_type": "code",
   "execution_count": 10,
   "id": "b0740ab4-4f41-42e3-9d3e-ded119a24688",
   "metadata": {},
   "outputs": [],
   "source": [
    "# define variables \n",
    "cols=parceldata_20.columns.to_list()\n",
    "xvars=[col for col in cols if col not in ('APN','building_class','year','acres','sqft','num_warehouses','buit_within_decade',\n",
    "                                          'geometry','PID19','APN19','CITY','COUNTY','LU19','LU16','JURISDICTI','LU19_CLASS','SCAG_ZN_CO','Shape_Leng','Shape_Area')]\n",
    "yvar = 'buit_within_decade'\n",
    "\n",
    "# create a dataframe with no NaNs\n",
    "parceldata_20_model = parceldata_20[xvars+[yvar]].dropna()"
   ]
  },
  {
   "cell_type": "markdown",
   "id": "e71a053f-ea59-4c3a-833f-ce262d8395a3",
   "metadata": {},
   "source": [
    "We now use the same RF model from before to predict the percent chance that a warehouse will be built within a decade on the 2020 data"
   ]
  },
  {
   "cell_type": "code",
   "execution_count": 11,
   "id": "f21c6110-6e21-4e52-aca2-9620e64b0919",
   "metadata": {},
   "outputs": [],
   "source": [
    "# apply predictions from previous model to test dataset\n",
    "X_test=parceldata_20_model[xvars]\n",
    "y_pred = rf.predict(X_test)"
   ]
  },
  {
   "cell_type": "code",
   "execution_count": 12,
   "id": "e8eb1b49-5d8a-4260-8d05-ebbd12047289",
   "metadata": {},
   "outputs": [
    {
     "name": "stdout",
     "output_type": "stream",
     "text": [
      "Predicted fraction True: 0.0000\n",
      "Predicted number True: 55\n"
     ]
    }
   ],
   "source": [
    "# stop if lengths don't match\n",
    "assert len(X_test)==len(y_pred)\n",
    "# how many does it predict?\n",
    "print('Predicted fraction True: {:.4f}'.format(y_pred.mean()))\n",
    "print('Predicted number True: {:.0f}'.format(y_pred.sum()))"
   ]
  },
  {
   "cell_type": "markdown",
   "id": "a896db71-59d0-4cc3-836d-7580a0d4d67e",
   "metadata": {},
   "source": [
    "We will now create a dataframe of predictions to be able to visualize the results"
   ]
  },
  {
   "cell_type": "code",
   "execution_count": 13,
   "id": "e3a458f4-cfa6-4740-9f5f-7ebade5c03b4",
   "metadata": {},
   "outputs": [
    {
     "data": {
      "text/html": [
       "<div>\n",
       "<style scoped>\n",
       "    .dataframe tbody tr th:only-of-type {\n",
       "        vertical-align: middle;\n",
       "    }\n",
       "\n",
       "    .dataframe tbody tr th {\n",
       "        vertical-align: top;\n",
       "    }\n",
       "\n",
       "    .dataframe thead th {\n",
       "        text-align: right;\n",
       "    }\n",
       "</style>\n",
       "<table border=\"1\" class=\"dataframe\">\n",
       "  <thead>\n",
       "    <tr style=\"text-align: right;\">\n",
       "      <th></th>\n",
       "      <th>pred_noWH</th>\n",
       "      <th>pred_WH</th>\n",
       "      <th>LAND_VALUE</th>\n",
       "      <th>distances</th>\n",
       "      <th>warehouse_start</th>\n",
       "      <th>lon</th>\n",
       "      <th>lat</th>\n",
       "      <th>ACRES</th>\n",
       "      <th>IL_RATIO</th>\n",
       "      <th>Agriculture</th>\n",
       "      <th>...</th>\n",
       "      <th>Specific Plan</th>\n",
       "      <th>Transportation, Communications, and Utilities</th>\n",
       "      <th>Under Construction</th>\n",
       "      <th>Undevelopable</th>\n",
       "      <th>Unknown</th>\n",
       "      <th>Vacant</th>\n",
       "      <th>Water</th>\n",
       "      <th>dollars_per_acre</th>\n",
       "      <th>county_Riverside</th>\n",
       "      <th>county_San Bernardino</th>\n",
       "    </tr>\n",
       "    <tr>\n",
       "      <th>APN</th>\n",
       "      <th></th>\n",
       "      <th></th>\n",
       "      <th></th>\n",
       "      <th></th>\n",
       "      <th></th>\n",
       "      <th></th>\n",
       "      <th></th>\n",
       "      <th></th>\n",
       "      <th></th>\n",
       "      <th></th>\n",
       "      <th></th>\n",
       "      <th></th>\n",
       "      <th></th>\n",
       "      <th></th>\n",
       "      <th></th>\n",
       "      <th></th>\n",
       "      <th></th>\n",
       "      <th></th>\n",
       "      <th></th>\n",
       "      <th></th>\n",
       "      <th></th>\n",
       "    </tr>\n",
       "  </thead>\n",
       "  <tbody>\n",
       "    <tr>\n",
       "      <th>933260003.0</th>\n",
       "      <td>1.0</td>\n",
       "      <td>0.0</td>\n",
       "      <td>48418.0</td>\n",
       "      <td>38449.033944</td>\n",
       "      <td>0</td>\n",
       "      <td>-117.275300</td>\n",
       "      <td>33.461170</td>\n",
       "      <td>20.120218</td>\n",
       "      <td>0.38932</td>\n",
       "      <td>1.0</td>\n",
       "      <td>...</td>\n",
       "      <td>0.0</td>\n",
       "      <td>0.0</td>\n",
       "      <td>0.0</td>\n",
       "      <td>0.0</td>\n",
       "      <td>0.0</td>\n",
       "      <td>0.0</td>\n",
       "      <td>0.0</td>\n",
       "      <td>2406.435207</td>\n",
       "      <td>1</td>\n",
       "      <td>0</td>\n",
       "    </tr>\n",
       "    <tr>\n",
       "      <th>933190003.0</th>\n",
       "      <td>1.0</td>\n",
       "      <td>0.0</td>\n",
       "      <td>210496.0</td>\n",
       "      <td>39355.337470</td>\n",
       "      <td>0</td>\n",
       "      <td>-117.276927</td>\n",
       "      <td>33.464093</td>\n",
       "      <td>19.732329</td>\n",
       "      <td>0.00000</td>\n",
       "      <td>0.0</td>\n",
       "      <td>...</td>\n",
       "      <td>0.0</td>\n",
       "      <td>0.0</td>\n",
       "      <td>0.0</td>\n",
       "      <td>0.0</td>\n",
       "      <td>0.0</td>\n",
       "      <td>1.0</td>\n",
       "      <td>0.0</td>\n",
       "      <td>10667.570219</td>\n",
       "      <td>1</td>\n",
       "      <td>0</td>\n",
       "    </tr>\n",
       "    <tr>\n",
       "      <th>933200001.0</th>\n",
       "      <td>1.0</td>\n",
       "      <td>0.0</td>\n",
       "      <td>347975.0</td>\n",
       "      <td>39133.409768</td>\n",
       "      <td>0</td>\n",
       "      <td>-117.275362</td>\n",
       "      <td>33.465158</td>\n",
       "      <td>19.669626</td>\n",
       "      <td>0.00000</td>\n",
       "      <td>0.0</td>\n",
       "      <td>...</td>\n",
       "      <td>0.0</td>\n",
       "      <td>0.0</td>\n",
       "      <td>0.0</td>\n",
       "      <td>0.0</td>\n",
       "      <td>0.0</td>\n",
       "      <td>1.0</td>\n",
       "      <td>0.0</td>\n",
       "      <td>17690.981870</td>\n",
       "      <td>1</td>\n",
       "      <td>0</td>\n",
       "    </tr>\n",
       "    <tr>\n",
       "      <th>933180027.0</th>\n",
       "      <td>1.0</td>\n",
       "      <td>0.0</td>\n",
       "      <td>88468.0</td>\n",
       "      <td>39830.303362</td>\n",
       "      <td>0</td>\n",
       "      <td>-117.277299</td>\n",
       "      <td>33.468321</td>\n",
       "      <td>9.306625</td>\n",
       "      <td>0.00000</td>\n",
       "      <td>0.0</td>\n",
       "      <td>...</td>\n",
       "      <td>0.0</td>\n",
       "      <td>0.0</td>\n",
       "      <td>0.0</td>\n",
       "      <td>0.0</td>\n",
       "      <td>0.0</td>\n",
       "      <td>1.0</td>\n",
       "      <td>0.0</td>\n",
       "      <td>9505.916138</td>\n",
       "      <td>1</td>\n",
       "      <td>0</td>\n",
       "    </tr>\n",
       "    <tr>\n",
       "      <th>933180028.0</th>\n",
       "      <td>1.0</td>\n",
       "      <td>0.0</td>\n",
       "      <td>334555.0</td>\n",
       "      <td>38830.371787</td>\n",
       "      <td>0</td>\n",
       "      <td>-117.275263</td>\n",
       "      <td>33.469289</td>\n",
       "      <td>20.867800</td>\n",
       "      <td>0.63740</td>\n",
       "      <td>0.0</td>\n",
       "      <td>...</td>\n",
       "      <td>0.0</td>\n",
       "      <td>0.0</td>\n",
       "      <td>0.0</td>\n",
       "      <td>0.0</td>\n",
       "      <td>0.0</td>\n",
       "      <td>0.0</td>\n",
       "      <td>0.0</td>\n",
       "      <td>16032.116147</td>\n",
       "      <td>1</td>\n",
       "      <td>0</td>\n",
       "    </tr>\n",
       "  </tbody>\n",
       "</table>\n",
       "<p>5 rows × 35 columns</p>\n",
       "</div>"
      ],
      "text/plain": [
       "             pred_noWH  pred_WH  LAND_VALUE     distances  warehouse_start  \\\n",
       "APN                                                                          \n",
       "933260003.0        1.0      0.0     48418.0  38449.033944                0   \n",
       "933190003.0        1.0      0.0    210496.0  39355.337470                0   \n",
       "933200001.0        1.0      0.0    347975.0  39133.409768                0   \n",
       "933180027.0        1.0      0.0     88468.0  39830.303362                0   \n",
       "933180028.0        1.0      0.0    334555.0  38830.371787                0   \n",
       "\n",
       "                    lon        lat      ACRES  IL_RATIO  Agriculture  ...  \\\n",
       "APN                                                                   ...   \n",
       "933260003.0 -117.275300  33.461170  20.120218   0.38932          1.0  ...   \n",
       "933190003.0 -117.276927  33.464093  19.732329   0.00000          0.0  ...   \n",
       "933200001.0 -117.275362  33.465158  19.669626   0.00000          0.0  ...   \n",
       "933180027.0 -117.277299  33.468321   9.306625   0.00000          0.0  ...   \n",
       "933180028.0 -117.275263  33.469289  20.867800   0.63740          0.0  ...   \n",
       "\n",
       "             Specific Plan  Transportation, Communications, and Utilities  \\\n",
       "APN                                                                         \n",
       "933260003.0            0.0                                            0.0   \n",
       "933190003.0            0.0                                            0.0   \n",
       "933200001.0            0.0                                            0.0   \n",
       "933180027.0            0.0                                            0.0   \n",
       "933180028.0            0.0                                            0.0   \n",
       "\n",
       "             Under Construction  Undevelopable  Unknown  Vacant  Water  \\\n",
       "APN                                                                      \n",
       "933260003.0                 0.0            0.0      0.0     0.0    0.0   \n",
       "933190003.0                 0.0            0.0      0.0     1.0    0.0   \n",
       "933200001.0                 0.0            0.0      0.0     1.0    0.0   \n",
       "933180027.0                 0.0            0.0      0.0     1.0    0.0   \n",
       "933180028.0                 0.0            0.0      0.0     0.0    0.0   \n",
       "\n",
       "             dollars_per_acre  county_Riverside  county_San Bernardino  \n",
       "APN                                                                     \n",
       "933260003.0       2406.435207                 1                      0  \n",
       "933190003.0      10667.570219                 1                      0  \n",
       "933200001.0      17690.981870                 1                      0  \n",
       "933180027.0       9505.916138                 1                      0  \n",
       "933180028.0      16032.116147                 1                      0  \n",
       "\n",
       "[5 rows x 35 columns]"
      ]
     },
     "execution_count": 13,
     "metadata": {},
     "output_type": "execute_result"
    }
   ],
   "source": [
    "# create a dataframe of predictions about whether or not a parcel will have a warehouse built on it within 10 years & join this to the full df\n",
    "predictions = pd.DataFrame(rf.predict_proba(X_test),columns = ['pred_noWH', 'pred_WH'])\n",
    "predictions= predictions.join((X_test).reset_index())\n",
    "predictions.set_index('APN',inplace=True)\n",
    "predictions.head()"
   ]
  },
  {
   "cell_type": "code",
   "execution_count": 14,
   "id": "2fa6c508-59ce-4411-b508-0212a27d80c0",
   "metadata": {},
   "outputs": [
    {
     "name": "stdout",
     "output_type": "stream",
     "text": [
      "55\n",
      "265\n"
     ]
    }
   ],
   "source": [
    "# not a whole lot actally predicted to become warehouses... maybe visualize percentages above a certain point if census data doesn't fix\n",
    "print(len(predictions[predictions.pred_WH>0.5]))\n",
    "print(len(predictions[predictions.pred_WH>0.25]))"
   ]
  }
 ],
 "metadata": {
  "kernelspec": {
   "display_name": "Python 3 (ipykernel)",
   "language": "python",
   "name": "python3"
  },
  "language_info": {
   "codemirror_mode": {
    "name": "ipython",
    "version": 3
   },
   "file_extension": ".py",
   "mimetype": "text/x-python",
   "name": "python",
   "nbconvert_exporter": "python",
   "pygments_lexer": "ipython3",
   "version": "3.9.16"
  }
 },
 "nbformat": 4,
 "nbformat_minor": 5
}
