{
 "cells": [
  {
   "cell_type": "markdown",
   "id": "291bf538-19d5-493f-9bfc-cbb0558ac096",
   "metadata": {},
   "source": [
    "# Spatial Join to Census Data and Re-Running Random Forest"
   ]
  },
  {
   "cell_type": "code",
   "execution_count": 1,
   "id": "26a0aab1-58a0-447a-aaec-742a2dee223c",
   "metadata": {},
   "outputs": [],
   "source": [
    "# import libraries\n",
    "import pandas as pd\n",
    "import geopandas as gpd\n",
    "import numpy as np\n",
    "import matplotlib.pyplot as plt\n",
    "import seaborn as sns\n",
    "\n",
    "from sklearn.model_selection import train_test_split\n",
    "from sklearn.ensemble import RandomForestClassifier \n",
    "from sklearn.metrics import classification_report, confusion_matrix, accuracy_score, ConfusionMatrixDisplay\n",
    "from sklearn.inspection import PartialDependenceDisplay"
   ]
  },
  {
   "cell_type": "code",
   "execution_count": null,
   "id": "fbd6f946-ce5d-4405-a83e-5abb4deb0289",
   "metadata": {},
   "outputs": [],
   "source": [
    "#Plot to make sure everything is where it needs to be\n",
    "import contextily as ctx\n",
    "fig, ax = plt.subplots(figsize=(5, 5))\n",
    "census09.to_crs(2229).plot(ax=ax)\n",
    "parcel_data_geo.to_crs(2229).plot(ax=ax,color='red')\n",
    "#counties.plot(ax=ax,color='none')\n",
    "#coties.to_crs(2229).plot(ax=ax,color='none',edgecolor='blue')\n",
    "ax.axis\n",
    "#ax.set_xlim(minx-10000,maxx+10000)\n",
    "#ax.set_ylim(miny-10000,maxy+10000)\n",
    "ctx.add_basemap(ax, source=ctx.providers.CartoDB.Positron, crs=2229)\n",
    "#we seem to be missing a cluster of parcels out in the desert, maybe it is a lake? will investigate"
   ]
  }
 ],
 "metadata": {
  "kernelspec": {
   "display_name": "Python 3 (ipykernel)",
   "language": "python",
   "name": "python3"
  },
  "language_info": {
   "codemirror_mode": {
    "name": "ipython",
    "version": 3
   },
   "file_extension": ".py",
   "mimetype": "text/x-python",
   "name": "python",
   "nbconvert_exporter": "python",
   "pygments_lexer": "ipython3",
   "version": "3.10.9"
  }
 },
 "nbformat": 4,
 "nbformat_minor": 5
}
