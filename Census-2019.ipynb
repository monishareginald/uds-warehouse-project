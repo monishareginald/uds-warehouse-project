{
 "cells": [
  {
   "cell_type": "markdown",
   "id": "d0b2f93b-32fa-49bb-93d7-86d6c4508d74",
   "metadata": {},
   "source": [
    "## Demographic Data In San Bernardino + Riverside"
   ]
  },
  {
   "cell_type": "markdown",
   "id": "485ce17c-d622-4a46-a674-f10f8fd27b23",
   "metadata": {},
   "source": [
    "### Race & Housing (Rent/Own)"
   ]
  },
  {
   "cell_type": "code",
   "execution_count": 2,
   "id": "9a34e945-66f0-454e-b359-c358a6992b9c",
   "metadata": {},
   "outputs": [],
   "source": [
    "#get cenpy\n",
    "import cenpy\n",
    "from cenpy import products\n",
    "\n",
    "# create a connection to the American Community Survey\n",
    "acs = cenpy.products.ACS()"
   ]
  },
  {
   "cell_type": "code",
   "execution_count": 3,
   "id": "c66dbeb0-506a-4039-8608-7bf476942a29",
   "metadata": {},
   "outputs": [],
   "source": [
    "import geopandas as gpd\n",
    "import pandas as pd"
   ]
  },
  {
   "cell_type": "code",
   "execution_count": 4,
   "id": "faeb182d-6eb8-4845-baca-669bd157b52c",
   "metadata": {},
   "outputs": [],
   "source": [
    "#look at tables\n",
    "#acs.filter_tables('OCCUPATION', by='description')"
   ]
  },
  {
   "cell_type": "code",
   "execution_count": null,
   "id": "1d57aa56-aa2f-4c8c-baaa-e143f51ec0ea",
   "metadata": {},
   "outputs": [
    {
     "name": "stderr",
     "output_type": "stream",
     "text": [
      "C:\\Users\\cpugh\\anaconda3\\envs\\environment\\lib\\site-packages\\cenpy\\products.py:762: FutureWarning: The `op` parameter is deprecated and will be removed in a future release. Please use the `predicate` parameter instead.\n",
      "  return self._from_name(county, variables, level, \"Counties\", **kwargs)\n",
      "C:\\Users\\cpugh\\anaconda3\\envs\\environment\\lib\\site-packages\\cenpy\\products.py:762: FutureWarning: The `op` parameter is deprecated and will be removed in a future release. Please use the `predicate` parameter instead.\n",
      "  return self._from_name(county, variables, level, \"Counties\", **kwargs)\n"
     ]
    }
   ],
   "source": [
    "#Race = table B02001\n",
    "# Housing - table 'B19013_001E':'Median HH Income','B25003_001E':'Total Occupied','B25003_002E':'Owner Occupied','B25003_003E':'Renter Occupied'\n",
    "riverside = products.ACS(2019).from_county('Riverside, CA', level='tract',\n",
    "                                        variables=['B02001','B19013_001E','B25003_001E','B25003_002E','B25003_003E'])\n",
    "\n",
    "SB = products.ACS(2019).from_county('San Bernardino, CA', level='tract', variables=['B02001','B19013_001E','B25003_001E','B25003_002E','B25003_003E'])\n",
    "\n",
    "#LA = products.ACS(2019).from_county('Los Angeles, CA', level='tract',variables=['B02001','B19013_001E','B25003_001E','B25003_002E','B25003_003E'])"
   ]
  },
  {
   "cell_type": "code",
   "execution_count": null,
   "id": "b5c68469-6980-494c-aa8a-ccaef2660410",
   "metadata": {},
   "outputs": [
    {
     "data": {
      "text/plain": [
       "369"
      ]
     },
     "execution_count": 6,
     "metadata": {},
     "output_type": "execute_result"
    }
   ],
   "source": [
    "len(SB)"
   ]
  },
  {
   "cell_type": "code",
   "execution_count": null,
   "id": "18721595-8e2a-446d-9f86-08407710625a",
   "metadata": {},
   "outputs": [],
   "source": [
    "#create a single gdf using code from https://gis.stackexchange.com/questions/162659/joining-concat-list-of-similar-dataframes-in-geopandas \n",
    "gdf = gpd.GeoDataFrame(pd.concat([riverside,SB], ignore_index=True), crs=riverside.crs)"
   ]
  },
  {
   "cell_type": "code",
   "execution_count": null,
   "id": "4e668e5a-bd62-4b71-9315-025edccf4189",
   "metadata": {},
   "outputs": [],
   "source": [
    "gdf.rename(columns={\n",
    "                'B19013_001E':'Median HH Income', 'B25003_001E':'Total Occupied','B25003_002E':'Owner Occupied','B25003_003E':'Renter Occupied',\n",
    "            'B02001_001E': 'Total Pop',\n",
    "                'B02001_002E':'White alone',\n",
    "                \"B02001_003E\": \"Black or African American alone\", \n",
    "                \"B02001_004E\": \"American Indian and Alaska Native alone\",\n",
    "                \"B02001_005E\": \"Asian alone\",\n",
    "                \"B02001_006E\": \"Native Hawaiian and Other Pacific Islander alone\",\n",
    "                \"B02001_007E\": \"Some other race alone\",\n",
    "                \"B02001_008E\": \"Two or more races:\",\n",
    "                \"B02001_009E\": \"Two races including Some other race\",\n",
    "                \"B02001_010E\": \"Two races excluding Some other race, and three or more races\"}, inplace=True)"
   ]
  },
  {
   "cell_type": "code",
   "execution_count": null,
   "id": "ccb4cec3-75e6-4fb7-9644-57c373e652c3",
   "metadata": {},
   "outputs": [],
   "source": [
    "#gdf.columns.values.tolist()"
   ]
  },
  {
   "cell_type": "code",
   "execution_count": null,
   "id": "95080dc9-0433-4d99-b5e6-34eb47d0ec30",
   "metadata": {},
   "outputs": [],
   "source": [
    "race_cols = [ 'White alone',\n",
    " 'Black or African American alone',\n",
    " 'American Indian and Alaska Native alone',\n",
    " 'Asian alone',\n",
    " 'Native Hawaiian and Other Pacific Islander alone',\n",
    " 'Some other race alone',\n",
    " 'Two or more races:',\n",
    " 'Two races including Some other race',\n",
    " 'Two races excluding Some other race, and three or more races']"
   ]
  },
  {
   "cell_type": "code",
   "execution_count": null,
   "id": "befbcfac-3be3-4100-817b-58123197c88a",
   "metadata": {},
   "outputs": [],
   "source": [
    "for col in race_cols:\n",
    "    gdf[\"Percent \" + col] = (gdf[col]/gdf['Total Pop']) * 100"
   ]
  },
  {
   "cell_type": "code",
   "execution_count": null,
   "id": "dd857ce7-345b-4053-92fe-28f99d519fff",
   "metadata": {},
   "outputs": [],
   "source": [
    "gdf = gdf.drop(race_cols, axis=1)"
   ]
  },
  {
   "cell_type": "code",
   "execution_count": null,
   "id": "6bba4876-d274-4215-8ab4-edb0f8c8eab8",
   "metadata": {},
   "outputs": [],
   "source": [
    "gdf['Percent Owner Occupied'] = (gdf['Owner Occupied']/gdf['Total Occupied']) * 100\n",
    "gdf['Percent Renter Occupied'] = (gdf['Renter Occupied']/gdf['Total Occupied']) * 100"
   ]
  },
  {
   "cell_type": "code",
   "execution_count": null,
   "id": "54946a27-a548-40ed-899e-81fcf9413c25",
   "metadata": {},
   "outputs": [],
   "source": [
    "gdf = gdf.drop(['Total Occupied',\n",
    " 'Owner Occupied',\n",
    " 'Renter Occupied',], axis=1)"
   ]
  },
  {
   "cell_type": "code",
   "execution_count": null,
   "id": "84038648-f469-45e2-8d0c-df68d0ae9bf2",
   "metadata": {},
   "outputs": [
    {
     "data": {
      "text/html": [
       "<div>\n",
       "<style scoped>\n",
       "    .dataframe tbody tr th:only-of-type {\n",
       "        vertical-align: middle;\n",
       "    }\n",
       "\n",
       "    .dataframe tbody tr th {\n",
       "        vertical-align: top;\n",
       "    }\n",
       "\n",
       "    .dataframe thead th {\n",
       "        text-align: right;\n",
       "    }\n",
       "</style>\n",
       "<table border=\"1\" class=\"dataframe\">\n",
       "  <thead>\n",
       "    <tr style=\"text-align: right;\">\n",
       "      <th></th>\n",
       "      <th>GEOID</th>\n",
       "      <th>geometry</th>\n",
       "      <th>Total Pop</th>\n",
       "      <th>Median HH Income</th>\n",
       "      <th>NAME</th>\n",
       "      <th>state</th>\n",
       "      <th>county</th>\n",
       "      <th>tract</th>\n",
       "      <th>Percent White alone</th>\n",
       "      <th>Percent Black or African American alone</th>\n",
       "      <th>Percent American Indian and Alaska Native alone</th>\n",
       "      <th>Percent Asian alone</th>\n",
       "      <th>Percent Native Hawaiian and Other Pacific Islander alone</th>\n",
       "      <th>Percent Some other race alone</th>\n",
       "      <th>Percent Two or more races:</th>\n",
       "      <th>Percent Two races including Some other race</th>\n",
       "      <th>Percent Two races excluding Some other race, and three or more races</th>\n",
       "      <th>Percent Owner Occupied</th>\n",
       "      <th>Percent Renter Occupied</th>\n",
       "    </tr>\n",
       "  </thead>\n",
       "  <tbody>\n",
       "    <tr>\n",
       "      <th>0</th>\n",
       "      <td>06065041904</td>\n",
       "      <td>POLYGON ((-13099233.990 4011396.270, -13099207...</td>\n",
       "      <td>5391.0</td>\n",
       "      <td>107880.0</td>\n",
       "      <td>Census Tract 419.04, Riverside County, California</td>\n",
       "      <td>06</td>\n",
       "      <td>065</td>\n",
       "      <td>041904</td>\n",
       "      <td>64.756075</td>\n",
       "      <td>1.279911</td>\n",
       "      <td>0.741977</td>\n",
       "      <td>8.662586</td>\n",
       "      <td>0.556483</td>\n",
       "      <td>22.352068</td>\n",
       "      <td>1.650900</td>\n",
       "      <td>0.964571</td>\n",
       "      <td>0.686329</td>\n",
       "      <td>89.201183</td>\n",
       "      <td>10.798817</td>\n",
       "    </tr>\n",
       "    <tr>\n",
       "      <th>1</th>\n",
       "      <td>06065041702</td>\n",
       "      <td>POLYGON ((-13089529.040 4010560.230, -13089521...</td>\n",
       "      <td>5185.0</td>\n",
       "      <td>79283.0</td>\n",
       "      <td>Census Tract 417.02, Riverside County, California</td>\n",
       "      <td>06</td>\n",
       "      <td>065</td>\n",
       "      <td>041702</td>\n",
       "      <td>78.842816</td>\n",
       "      <td>2.179364</td>\n",
       "      <td>0.000000</td>\n",
       "      <td>1.832208</td>\n",
       "      <td>0.000000</td>\n",
       "      <td>10.896818</td>\n",
       "      <td>6.248795</td>\n",
       "      <td>5.400193</td>\n",
       "      <td>0.848602</td>\n",
       "      <td>74.360847</td>\n",
       "      <td>25.639153</td>\n",
       "    </tr>\n",
       "    <tr>\n",
       "      <th>2</th>\n",
       "      <td>06065041500</td>\n",
       "      <td>POLYGON ((-13096164.800 4014145.990, -13096149...</td>\n",
       "      <td>3263.0</td>\n",
       "      <td>60735.0</td>\n",
       "      <td>Census Tract 415, Riverside County, California</td>\n",
       "      <td>06</td>\n",
       "      <td>065</td>\n",
       "      <td>041500</td>\n",
       "      <td>63.745020</td>\n",
       "      <td>6.068036</td>\n",
       "      <td>1.777505</td>\n",
       "      <td>4.934110</td>\n",
       "      <td>0.919399</td>\n",
       "      <td>21.391358</td>\n",
       "      <td>1.164572</td>\n",
       "      <td>0.490346</td>\n",
       "      <td>0.674226</td>\n",
       "      <td>16.544790</td>\n",
       "      <td>83.455210</td>\n",
       "    </tr>\n",
       "  </tbody>\n",
       "</table>\n",
       "</div>"
      ],
      "text/plain": [
       "         GEOID                                           geometry  Total Pop  \\\n",
       "0  06065041904  POLYGON ((-13099233.990 4011396.270, -13099207...     5391.0   \n",
       "1  06065041702  POLYGON ((-13089529.040 4010560.230, -13089521...     5185.0   \n",
       "2  06065041500  POLYGON ((-13096164.800 4014145.990, -13096149...     3263.0   \n",
       "\n",
       "   Median HH Income                                               NAME state  \\\n",
       "0          107880.0  Census Tract 419.04, Riverside County, California    06   \n",
       "1           79283.0  Census Tract 417.02, Riverside County, California    06   \n",
       "2           60735.0     Census Tract 415, Riverside County, California    06   \n",
       "\n",
       "  county   tract  Percent White alone  \\\n",
       "0    065  041904            64.756075   \n",
       "1    065  041702            78.842816   \n",
       "2    065  041500            63.745020   \n",
       "\n",
       "   Percent Black or African American alone  \\\n",
       "0                                 1.279911   \n",
       "1                                 2.179364   \n",
       "2                                 6.068036   \n",
       "\n",
       "   Percent American Indian and Alaska Native alone  Percent Asian alone  \\\n",
       "0                                         0.741977             8.662586   \n",
       "1                                         0.000000             1.832208   \n",
       "2                                         1.777505             4.934110   \n",
       "\n",
       "   Percent Native Hawaiian and Other Pacific Islander alone  \\\n",
       "0                                           0.556483          \n",
       "1                                           0.000000          \n",
       "2                                           0.919399          \n",
       "\n",
       "   Percent Some other race alone  Percent Two or more races:  \\\n",
       "0                      22.352068                    1.650900   \n",
       "1                      10.896818                    6.248795   \n",
       "2                      21.391358                    1.164572   \n",
       "\n",
       "   Percent Two races including Some other race  \\\n",
       "0                                     0.964571   \n",
       "1                                     5.400193   \n",
       "2                                     0.490346   \n",
       "\n",
       "   Percent Two races excluding Some other race, and three or more races  \\\n",
       "0                                           0.686329                      \n",
       "1                                           0.848602                      \n",
       "2                                           0.674226                      \n",
       "\n",
       "   Percent Owner Occupied  Percent Renter Occupied  \n",
       "0               89.201183                10.798817  \n",
       "1               74.360847                25.639153  \n",
       "2               16.544790                83.455210  "
      ]
     },
     "execution_count": 15,
     "metadata": {},
     "output_type": "execute_result"
    }
   ],
   "source": [
    "gdf.head(3)"
   ]
  },
  {
   "cell_type": "code",
   "execution_count": null,
   "id": "37fe5884-29e9-49bb-aeee-b5ac39032cac",
   "metadata": {},
   "outputs": [
    {
     "data": {
      "text/plain": [
       "822"
      ]
     },
     "execution_count": 16,
     "metadata": {},
     "output_type": "execute_result"
    }
   ],
   "source": [
    "len(gdf)"
   ]
  },
  {
   "cell_type": "code",
   "execution_count": 28,
   "id": "bed19783-b7f8-4311-b6b5-1a5460dcbd3a",
   "metadata": {},
   "outputs": [
    {
     "data": {
      "image/png": "[encoded data removed]",
      "text/plain": [
       "<Figure size 2000x1000 with 2 Axes>"
      ]
     },
     "metadata": {},
     "output_type": "display_data"
    }
   ],
   "source": [
    "import matplotlib.pyplot as plt \n",
    "\n",
    "# create a matplotlib figure and axis object\n",
    "fig, ax = plt.subplots(figsize=(20,10))\n",
    "\n",
    "gdf.plot('Percent Renter Occupied', ax=ax, cmap='plasma', legend=True, \n",
    "               legend_kwds={'orientation': 'horizontal'})\n",
    "ax.set_facecolor('k')\n",
    "\n",
    "ax.set_xticks([])\n",
    "ax.set_yticks([])\n",
    "\n",
    "ax.set_title('Percent Renter Occupied')\n",
    "plt.savefig('figures/renter_map.png', bbox_inches='tight',transparent=True)"
   ]
  },
  {
   "cell_type": "code",
   "execution_count": 29,
   "id": "4b019e79-2667-41b9-adc0-8cdcdcfebf44",
   "metadata": {},
   "outputs": [
    {
     "data": {
      "image/png": "[encoded data removed]",
      "text/plain": [
       "<Figure size 2000x1000 with 2 Axes>"
      ]
     },
     "metadata": {},
     "output_type": "display_data"
    }
   ],
   "source": [
    "import matplotlib.pyplot as plt \n",
    "\n",
    "# create a matplotlib figure and axis object\n",
    "fig, ax = plt.subplots(figsize=(20,10))\n",
    "\n",
    "gdf.plot('Percent White alone', ax=ax, cmap='plasma', legend=True, \n",
    "               legend_kwds={'orientation': 'horizontal'})\n",
    "ax.set_facecolor('k')\n",
    "\n",
    "ax.set_xticks([])\n",
    "ax.set_yticks([])\n",
    "\n",
    "ax.set_title('Percent White-alone')\n",
    "plt.savefig('figures/percent_white_alone.png', bbox_inches='tight',transparent=True)"
   ]
  },
  {
   "cell_type": "markdown",
   "id": "739ce891-af49-454a-acef-081273436409",
   "metadata": {},
   "source": [
    "## Income"
   ]
  },
  {
   "cell_type": "code",
   "execution_count": 30,
   "id": "d2ab746b-e9ff-4405-b93a-803b5b08e79e",
   "metadata": {},
   "outputs": [
    {
     "name": "stderr",
     "output_type": "stream",
     "text": [
      "C:\\Users\\cpugh\\anaconda3\\envs\\environment\\lib\\site-packages\\cenpy\\products.py:762: FutureWarning: The `op` parameter is deprecated and will be removed in a future release. Please use the `predicate` parameter instead.\n",
      "  return self._from_name(county, variables, level, \"Counties\", **kwargs)\n",
      "C:\\Users\\cpugh\\anaconda3\\envs\\environment\\lib\\site-packages\\geopandas\\geodataframe.py:1443: PerformanceWarning: DataFrame is highly fragmented.  This is usually the result of calling `frame.insert` many times, which has poor performance.  Consider joining all columns at once using pd.concat(axis=1) instead. To get a de-fragmented frame, use `newframe = frame.copy()`\n",
      "  super().__setitem__(key, value)\n",
      "C:\\Users\\cpugh\\anaconda3\\envs\\environment\\lib\\site-packages\\cenpy\\products.py:762: FutureWarning: The `op` parameter is deprecated and will be removed in a future release. Please use the `predicate` parameter instead.\n",
      "  return self._from_name(county, variables, level, \"Counties\", **kwargs)\n",
      "C:\\Users\\cpugh\\anaconda3\\envs\\environment\\lib\\site-packages\\geopandas\\geodataframe.py:1443: PerformanceWarning: DataFrame is highly fragmented.  This is usually the result of calling `frame.insert` many times, which has poor performance.  Consider joining all columns at once using pd.concat(axis=1) instead. To get a de-fragmented frame, use `newframe = frame.copy()`\n",
      "  super().__setitem__(key, value)\n"
     ]
    }
   ],
   "source": [
    "#Household income = table B19001\n",
    "\n",
    "riverside_HI = products.ACS(2019).from_county('Riverside, CA', level='tract',\n",
    "                                        variables='B19001')\n",
    "\n",
    "SB_HI = products.ACS(2019).from_county('San Bernardino, CA', level='tract', variables='B19001')\n",
    "\n",
    "#LA_HI = products.ACS(2019).from_county('Los Angeles, CA', level='tract',variables='B19001')"
   ]
  },
  {
   "cell_type": "code",
   "execution_count": 31,
   "id": "07678a6a-f795-44a6-87fd-caa8a05ca062",
   "metadata": {},
   "outputs": [],
   "source": [
    "HI_gdf = gpd.GeoDataFrame(pd.concat([riverside_HI,SB_HI], ignore_index=True), crs=riverside_HI.crs)"
   ]
  },
  {
   "cell_type": "code",
   "execution_count": 32,
   "id": "6ec922c5-7c17-475b-b0d3-46999c839cfc",
   "metadata": {},
   "outputs": [
    {
     "data": {
      "text/html": [
       "<div>\n",
       "<style scoped>\n",
       "    .dataframe tbody tr th:only-of-type {\n",
       "        vertical-align: middle;\n",
       "    }\n",
       "\n",
       "    .dataframe tbody tr th {\n",
       "        vertical-align: top;\n",
       "    }\n",
       "\n",
       "    .dataframe thead th {\n",
       "        text-align: right;\n",
       "    }\n",
       "</style>\n",
       "<table border=\"1\" class=\"dataframe\">\n",
       "  <thead>\n",
       "    <tr style=\"text-align: right;\">\n",
       "      <th></th>\n",
       "      <th>GEOID</th>\n",
       "      <th>geometry</th>\n",
       "      <th>B19001A_001E</th>\n",
       "      <th>B19001A_002E</th>\n",
       "      <th>B19001A_003E</th>\n",
       "      <th>B19001A_004E</th>\n",
       "      <th>B19001A_005E</th>\n",
       "      <th>B19001A_006E</th>\n",
       "      <th>B19001A_007E</th>\n",
       "      <th>B19001A_008E</th>\n",
       "      <th>...</th>\n",
       "      <th>B19001_009E</th>\n",
       "      <th>B19001_010E</th>\n",
       "      <th>B19001_011E</th>\n",
       "      <th>B19001_012E</th>\n",
       "      <th>B19001_013E</th>\n",
       "      <th>B19001_014E</th>\n",
       "      <th>B19001_015E</th>\n",
       "      <th>B19001_016E</th>\n",
       "      <th>B19001_017E</th>\n",
       "      <th>NAME</th>\n",
       "    </tr>\n",
       "  </thead>\n",
       "  <tbody>\n",
       "    <tr>\n",
       "      <th>0</th>\n",
       "      <td>06065041904</td>\n",
       "      <td>POLYGON ((-13099233.990 4011396.270, -13099207...</td>\n",
       "      <td>1015.0</td>\n",
       "      <td>29.0</td>\n",
       "      <td>31.0</td>\n",
       "      <td>8.0</td>\n",
       "      <td>25.0</td>\n",
       "      <td>44.0</td>\n",
       "      <td>8.0</td>\n",
       "      <td>7.0</td>\n",
       "      <td>...</td>\n",
       "      <td>73.0</td>\n",
       "      <td>17.0</td>\n",
       "      <td>41.0</td>\n",
       "      <td>124.0</td>\n",
       "      <td>186.0</td>\n",
       "      <td>226.0</td>\n",
       "      <td>164.0</td>\n",
       "      <td>183.0</td>\n",
       "      <td>170.0</td>\n",
       "      <td>Census Tract 419.04, Riverside County, California</td>\n",
       "    </tr>\n",
       "  </tbody>\n",
       "</table>\n",
       "<p>1 rows × 176 columns</p>\n",
       "</div>"
      ],
      "text/plain": [
       "         GEOID                                           geometry  \\\n",
       "0  06065041904  POLYGON ((-13099233.990 4011396.270, -13099207...   \n",
       "\n",
       "   B19001A_001E  B19001A_002E  B19001A_003E  B19001A_004E  B19001A_005E  \\\n",
       "0        1015.0          29.0          31.0           8.0          25.0   \n",
       "\n",
       "   B19001A_006E  B19001A_007E  B19001A_008E  ...  B19001_009E  B19001_010E  \\\n",
       "0          44.0           8.0           7.0  ...         73.0         17.0   \n",
       "\n",
       "   B19001_011E  B19001_012E  B19001_013E  B19001_014E  B19001_015E  \\\n",
       "0         41.0        124.0        186.0        226.0        164.0   \n",
       "\n",
       "   B19001_016E  B19001_017E                                               NAME  \n",
       "0        183.0        170.0  Census Tract 419.04, Riverside County, California  \n",
       "\n",
       "[1 rows x 176 columns]"
      ]
     },
     "execution_count": 32,
     "metadata": {},
     "output_type": "execute_result"
    }
   ],
   "source": [
    "HI_gdf.head(1)"
   ]
  },
  {
   "cell_type": "code",
   "execution_count": 33,
   "id": "96a9430e-7dd1-49ce-9b99-1880fd87655c",
   "metadata": {},
   "outputs": [],
   "source": [
    "#drop extra columns\n",
    "HI_gdf = HI_gdf[[\"B19001_001E\", \"B19001_002E\"    ,\n",
    "                \"B19001_003E\"     ,\n",
    "                \"B19001_004E\"    ,\n",
    "                \"B19001_005E\"    ,\n",
    "                \"B19001_006E\"     ,\n",
    "                \"B19001_007E\"     , \n",
    "                \"B19001_008E\"    ,\n",
    "                \"B19001_009E\"   ,\n",
    "                \"B19001_010E\" ,\n",
    "                \"B19001_011E\" ,\n",
    "                \"B19001_012E\",\n",
    "                \"B19001_013E\"  ,\n",
    "                \"B19001_014E\",\n",
    "                \"B19001_015E\"   ,\n",
    "                \"B19001_016E\",\n",
    "                \"B19001_017E\",\n",
    "                'geometry','GEOID']]"
   ]
  },
  {
   "cell_type": "code",
   "execution_count": 34,
   "id": "371c60e6-1992-4bf9-9e5b-d31766fb13b0",
   "metadata": {},
   "outputs": [],
   "source": [
    " #rename columns\n",
    "HI_gdf.rename(columns={\"B19001_001E\":\"Total:\",       \n",
    "                \"B19001_002E\":\"<$10,000\",       \n",
    "                \"B19001_003E\": '$10,000-$14,999',     \n",
    "                \"B19001_004E\":'$15,000 - $19,999',     \n",
    "                \"B19001_005E\": '$20,000 - $24,999',     \n",
    "                \"B19001_006E\":\"$25,000 - $29,999\",      \n",
    "                \"B19001_007E\":\"$30,000 - $34,999\",       \n",
    "                \"B19001_008E\":\"$35,000 - $39,999\",      \n",
    "                \"B19001_009E\":  \"$40,000 - $44,999\",    \n",
    "                \"B19001_010E\":  \"$45,000 - $49,999\",   \n",
    "                \"B19001_011E\":  \"$50,000 - $59,999\",  \n",
    "                \"B19001_012E\":  \"$60,000 - $74,999\",  \n",
    "                \"B19001_013E\":  \"$75,000 - $99,999\",  \n",
    "                \"B19001_014E\": \"$100,000 - $124,999\",    \n",
    "                \"B19001_015E\":\"$125,000 - $149,999\",     \n",
    "                \"B19001_016E\":\"$150,000 - $199,999\",   \n",
    "                \"B19001_017E\": \"$200,000 or more\"}, inplace=True)"
   ]
  },
  {
   "cell_type": "code",
   "execution_count": 35,
   "id": "5661a208-47a7-416d-ab4c-1b304a73be22",
   "metadata": {},
   "outputs": [],
   "source": [
    "#get col names\n",
    "#HI_gdf.columns.values.tolist()"
   ]
  },
  {
   "cell_type": "code",
   "execution_count": 36,
   "id": "dc4c05b6-33e2-44ab-987c-c60b7e4759cd",
   "metadata": {},
   "outputs": [],
   "source": [
    "#make list of income related cols\n",
    "cols = [ '<$10,000',\n",
    " '$10,000-$14,999',\n",
    " '$15,000 - $19,999',\n",
    " '$20,000 - $24,999',\n",
    " '$25,000 - $29,999',\n",
    " '$30,000 - $34,999',\n",
    " '$35,000 - $39,999',\n",
    " '$40,000 - $44,999',\n",
    " '$45,000 - $49,999',\n",
    " '$50,000 - $59,999',\n",
    " '$60,000 - $74,999',\n",
    " '$75,000 - $99,999',\n",
    " '$100,000 - $124,999',\n",
    " '$125,000 - $149,999',\n",
    " '$150,000 - $199,999',\n",
    " '$200,000 or more']"
   ]
  },
  {
   "cell_type": "code",
   "execution_count": 37,
   "id": "a3ce642e-d6de-4e14-b661-fd344fe89799",
   "metadata": {},
   "outputs": [],
   "source": [
    "#get household income percentages for tracts\n",
    "for col in cols:\n",
    "    HI_gdf[\"Percent \" + col] = (HI_gdf[col]/HI_gdf['Total:']) * 100"
   ]
  },
  {
   "cell_type": "code",
   "execution_count": 38,
   "id": "d8d5b630-e8de-43d0-a5e1-767762ade838",
   "metadata": {},
   "outputs": [],
   "source": [
    "#drop old columns\n",
    "HI_gdf =  HI_gdf.drop(cols, axis=1)"
   ]
  },
  {
   "cell_type": "code",
   "execution_count": 43,
   "id": "caa44c7e-9904-4db1-a3a2-2481285670a1",
   "metadata": {},
   "outputs": [
    {
     "data": {
      "text/html": [
       "<div>\n",
       "<style scoped>\n",
       "    .dataframe tbody tr th:only-of-type {\n",
       "        vertical-align: middle;\n",
       "    }\n",
       "\n",
       "    .dataframe tbody tr th {\n",
       "        vertical-align: top;\n",
       "    }\n",
       "\n",
       "    .dataframe thead th {\n",
       "        text-align: right;\n",
       "    }\n",
       "</style>\n",
       "<table border=\"1\" class=\"dataframe\">\n",
       "  <thead>\n",
       "    <tr style=\"text-align: right;\">\n",
       "      <th></th>\n",
       "      <th>Total:</th>\n",
       "      <th>geometry</th>\n",
       "      <th>GEOID</th>\n",
       "      <th>Percent &lt;$10,000</th>\n",
       "      <th>Percent $10,000-$14,999</th>\n",
       "      <th>Percent $15,000 - $19,999</th>\n",
       "      <th>Percent $20,000 - $24,999</th>\n",
       "      <th>Percent $25,000 - $29,999</th>\n",
       "      <th>Percent $30,000 - $34,999</th>\n",
       "      <th>Percent $35,000 - $39,999</th>\n",
       "      <th>Percent $40,000 - $44,999</th>\n",
       "      <th>Percent $45,000 - $49,999</th>\n",
       "      <th>Percent $50,000 - $59,999</th>\n",
       "      <th>Percent $60,000 - $74,999</th>\n",
       "      <th>Percent $75,000 - $99,999</th>\n",
       "      <th>Percent $100,000 - $124,999</th>\n",
       "      <th>Percent $125,000 - $149,999</th>\n",
       "      <th>Percent $150,000 - $199,999</th>\n",
       "      <th>Percent $200,000 or more</th>\n",
       "    </tr>\n",
       "  </thead>\n",
       "  <tbody>\n",
       "    <tr>\n",
       "      <th>0</th>\n",
       "      <td>1352.0</td>\n",
       "      <td>POLYGON ((-13099233.990 4011396.270, -13099207...</td>\n",
       "      <td>06065041904</td>\n",
       "      <td>2.144970</td>\n",
       "      <td>2.292899</td>\n",
       "      <td>0.591716</td>\n",
       "      <td>2.662722</td>\n",
       "      <td>3.624260</td>\n",
       "      <td>0.591716</td>\n",
       "      <td>0.517751</td>\n",
       "      <td>5.399408</td>\n",
       "      <td>1.257396</td>\n",
       "      <td>3.032544</td>\n",
       "      <td>9.171598</td>\n",
       "      <td>13.757396</td>\n",
       "      <td>16.715976</td>\n",
       "      <td>12.130178</td>\n",
       "      <td>13.535503</td>\n",
       "      <td>12.573964</td>\n",
       "    </tr>\n",
       "    <tr>\n",
       "      <th>1</th>\n",
       "      <td>1369.0</td>\n",
       "      <td>POLYGON ((-13089529.040 4010560.230, -13089521...</td>\n",
       "      <td>06065041702</td>\n",
       "      <td>4.528853</td>\n",
       "      <td>2.702703</td>\n",
       "      <td>3.360117</td>\n",
       "      <td>0.000000</td>\n",
       "      <td>1.680058</td>\n",
       "      <td>3.360117</td>\n",
       "      <td>1.095690</td>\n",
       "      <td>0.000000</td>\n",
       "      <td>10.153397</td>\n",
       "      <td>5.551497</td>\n",
       "      <td>13.440467</td>\n",
       "      <td>18.626735</td>\n",
       "      <td>14.097882</td>\n",
       "      <td>6.428050</td>\n",
       "      <td>10.007305</td>\n",
       "      <td>4.967129</td>\n",
       "    </tr>\n",
       "    <tr>\n",
       "      <th>2</th>\n",
       "      <td>1094.0</td>\n",
       "      <td>POLYGON ((-13096164.800 4014145.990, -13096149...</td>\n",
       "      <td>06065041500</td>\n",
       "      <td>2.102377</td>\n",
       "      <td>6.672761</td>\n",
       "      <td>9.049360</td>\n",
       "      <td>3.930530</td>\n",
       "      <td>3.564899</td>\n",
       "      <td>6.672761</td>\n",
       "      <td>0.639854</td>\n",
       "      <td>4.478976</td>\n",
       "      <td>3.107861</td>\n",
       "      <td>8.866545</td>\n",
       "      <td>15.722121</td>\n",
       "      <td>19.744059</td>\n",
       "      <td>5.850091</td>\n",
       "      <td>3.473492</td>\n",
       "      <td>0.000000</td>\n",
       "      <td>6.124314</td>\n",
       "    </tr>\n",
       "    <tr>\n",
       "      <th>3</th>\n",
       "      <td>1141.0</td>\n",
       "      <td>POLYGON ((-13087670.230 4014380.140, -13087646...</td>\n",
       "      <td>06065040809</td>\n",
       "      <td>5.959684</td>\n",
       "      <td>0.000000</td>\n",
       "      <td>6.222612</td>\n",
       "      <td>0.000000</td>\n",
       "      <td>3.155127</td>\n",
       "      <td>6.310254</td>\n",
       "      <td>2.366345</td>\n",
       "      <td>2.278703</td>\n",
       "      <td>2.103418</td>\n",
       "      <td>9.290096</td>\n",
       "      <td>12.708151</td>\n",
       "      <td>12.883436</td>\n",
       "      <td>15.863278</td>\n",
       "      <td>2.103418</td>\n",
       "      <td>12.269939</td>\n",
       "      <td>6.485539</td>\n",
       "    </tr>\n",
       "    <tr>\n",
       "      <th>4</th>\n",
       "      <td>2349.0</td>\n",
       "      <td>POLYGON ((-13087499.580 4023599.500, -13087495...</td>\n",
       "      <td>06065040615</td>\n",
       "      <td>2.894849</td>\n",
       "      <td>2.894849</td>\n",
       "      <td>1.745424</td>\n",
       "      <td>0.723712</td>\n",
       "      <td>0.979140</td>\n",
       "      <td>1.277139</td>\n",
       "      <td>0.000000</td>\n",
       "      <td>1.660281</td>\n",
       "      <td>0.000000</td>\n",
       "      <td>4.980843</td>\n",
       "      <td>1.702852</td>\n",
       "      <td>9.450830</td>\n",
       "      <td>9.280545</td>\n",
       "      <td>21.030226</td>\n",
       "      <td>23.201362</td>\n",
       "      <td>18.177948</td>\n",
       "    </tr>\n",
       "  </tbody>\n",
       "</table>\n",
       "</div>"
      ],
      "text/plain": [
       "   Total:                                           geometry        GEOID  \\\n",
       "0  1352.0  POLYGON ((-13099233.990 4011396.270, -13099207...  06065041904   \n",
       "1  1369.0  POLYGON ((-13089529.040 4010560.230, -13089521...  06065041702   \n",
       "2  1094.0  POLYGON ((-13096164.800 4014145.990, -13096149...  06065041500   \n",
       "3  1141.0  POLYGON ((-13087670.230 4014380.140, -13087646...  06065040809   \n",
       "4  2349.0  POLYGON ((-13087499.580 4023599.500, -13087495...  06065040615   \n",
       "\n",
       "   Percent <$10,000  Percent $10,000-$14,999  Percent $15,000 - $19,999  \\\n",
       "0          2.144970                 2.292899                   0.591716   \n",
       "1          4.528853                 2.702703                   3.360117   \n",
       "2          2.102377                 6.672761                   9.049360   \n",
       "3          5.959684                 0.000000                   6.222612   \n",
       "4          2.894849                 2.894849                   1.745424   \n",
       "\n",
       "   Percent $20,000 - $24,999  Percent $25,000 - $29,999  \\\n",
       "0                   2.662722                   3.624260   \n",
       "1                   0.000000                   1.680058   \n",
       "2                   3.930530                   3.564899   \n",
       "3                   0.000000                   3.155127   \n",
       "4                   0.723712                   0.979140   \n",
       "\n",
       "   Percent $30,000 - $34,999  Percent $35,000 - $39,999  \\\n",
       "0                   0.591716                   0.517751   \n",
       "1                   3.360117                   1.095690   \n",
       "2                   6.672761                   0.639854   \n",
       "3                   6.310254                   2.366345   \n",
       "4                   1.277139                   0.000000   \n",
       "\n",
       "   Percent $40,000 - $44,999  Percent $45,000 - $49,999  \\\n",
       "0                   5.399408                   1.257396   \n",
       "1                   0.000000                  10.153397   \n",
       "2                   4.478976                   3.107861   \n",
       "3                   2.278703                   2.103418   \n",
       "4                   1.660281                   0.000000   \n",
       "\n",
       "   Percent $50,000 - $59,999  Percent $60,000 - $74,999  \\\n",
       "0                   3.032544                   9.171598   \n",
       "1                   5.551497                  13.440467   \n",
       "2                   8.866545                  15.722121   \n",
       "3                   9.290096                  12.708151   \n",
       "4                   4.980843                   1.702852   \n",
       "\n",
       "   Percent $75,000 - $99,999  Percent $100,000 - $124,999  \\\n",
       "0                  13.757396                    16.715976   \n",
       "1                  18.626735                    14.097882   \n",
       "2                  19.744059                     5.850091   \n",
       "3                  12.883436                    15.863278   \n",
       "4                   9.450830                     9.280545   \n",
       "\n",
       "   Percent $125,000 - $149,999  Percent $150,000 - $199,999  \\\n",
       "0                    12.130178                    13.535503   \n",
       "1                     6.428050                    10.007305   \n",
       "2                     3.473492                     0.000000   \n",
       "3                     2.103418                    12.269939   \n",
       "4                    21.030226                    23.201362   \n",
       "\n",
       "   Percent $200,000 or more  \n",
       "0                 12.573964  \n",
       "1                  4.967129  \n",
       "2                  6.124314  \n",
       "3                  6.485539  \n",
       "4                 18.177948  "
      ]
     },
     "execution_count": 43,
     "metadata": {},
     "output_type": "execute_result"
    }
   ],
   "source": [
    "HI_gdf.head()"
   ]
  },
  {
   "cell_type": "code",
   "execution_count": 39,
   "id": "3433e2fd-5b40-41d6-8a82-c7d1e3ada136",
   "metadata": {},
   "outputs": [
    {
     "data": {
      "text/plain": [
       "822"
      ]
     },
     "execution_count": 39,
     "metadata": {},
     "output_type": "execute_result"
    }
   ],
   "source": [
    "len(HI_gdf)\n",
    "                "
   ]
  },
  {
   "cell_type": "code",
   "execution_count": 59,
   "id": "48efc964-b346-4358-bb91-7aca5c0271b3",
   "metadata": {},
   "outputs": [
    {
     "data": {
      "image/png": "[encoded data removed]",
      "text/plain": [
       "<Figure size 2000x1000 with 2 Axes>"
      ]
     },
     "metadata": {},
     "output_type": "display_data"
    }
   ],
   "source": [
    "import matplotlib.pyplot as plt \n",
    "\n",
    "# create a matplotlib figure and axis object\n",
    "fig, ax = plt.subplots(figsize=(20,10))\n",
    "\n",
    "HI_gdf.plot('Percent $10,000-$14,999', ax=ax, cmap='plasma', legend=True, \n",
    "               legend_kwds={'orientation': 'horizontal'})\n",
    "ax.set_facecolor('k')\n",
    "\n",
    "ax.set_xticks([])\n",
    "ax.set_yticks([])\n",
    "\n",
    "ax.set_title('Percent Residents with Income between $10,000-$14,999')\n",
    "plt.savefig('figures/percent_lowincome.png', bbox_inches='tight',transparent=True)"
   ]
  },
  {
   "cell_type": "markdown",
   "id": "d7508be8-3923-4a25-bd8b-4549f84b7d02",
   "metadata": {},
   "source": [
    "## Education Level"
   ]
  },
  {
   "cell_type": "code",
   "execution_count": 27,
   "id": "3ad0f2f3-2c99-4eb3-a1eb-4d13ee9e4b68",
   "metadata": {},
   "outputs": [
    {
     "name": "stderr",
     "output_type": "stream",
     "text": [
      "C:\\Users\\cpugh\\anaconda3\\envs\\environment\\lib\\site-packages\\cenpy\\products.py:762: FutureWarning: The `op` parameter is deprecated and will be removed in a future release. Please use the `predicate` parameter instead.\n",
      "  return self._from_name(county, variables, level, \"Counties\", **kwargs)\n",
      "C:\\Users\\cpugh\\anaconda3\\envs\\environment\\lib\\site-packages\\cenpy\\products.py:762: FutureWarning: The `op` parameter is deprecated and will be removed in a future release. Please use the `predicate` parameter instead.\n",
      "  return self._from_name(county, variables, level, \"Counties\", **kwargs)\n"
     ]
    }
   ],
   "source": [
    "#education level (population 25 years and older)  = B15003\n",
    "riverside_educ = products.ACS(2019).from_county('Riverside, CA', level='tract',\n",
    "                                        variables='B15003')\n",
    "\n",
    "SB_educ = products.ACS(2019).from_county('San Bernardino, CA', level='tract', variables='B15003')\n",
    "\n",
    "#LA_educ = products.ACS(2019).from_county('Los Angeles, CA', level='tract',variables='B15003')"
   ]
  },
  {
   "cell_type": "code",
   "execution_count": 28,
   "id": "7ba99dcd-dd48-4ec8-96b0-374599b127ae",
   "metadata": {},
   "outputs": [],
   "source": [
    "educ_gdf = gpd.GeoDataFrame(pd.concat([riverside_educ,SB_educ], ignore_index=True), crs=riverside_educ.crs)"
   ]
  },
  {
   "cell_type": "code",
   "execution_count": 29,
   "id": "0eb8df00-4554-402d-a133-161641f20a20",
   "metadata": {},
   "outputs": [],
   "source": [
    "  educ_gdf.rename(columns={\"B15003_001E\":\"Total_Educ\",\n",
    "      'B15003_002E':'No schooling completed',\n",
    "'B15003_017E':'Regular high school diploma',\n",
    "'B15003_018E':'GED or alternative credential',\n",
    "'B15003_021E':'Associates degree',\n",
    "'B15003_022E':'Bachelors degree',\n",
    "'B15003_023E':'Masters degree',\n",
    "'B15003_024E':'Professional school degree',\n",
    "'B15003_025E':'Doctorate degree'\n",
    "                }, inplace=True)"
   ]
  },
  {
   "cell_type": "code",
   "execution_count": 30,
   "id": "b3cf05a8-a712-45d1-a30b-220916881fc2",
   "metadata": {},
   "outputs": [],
   "source": [
    "#create col for some school but less than highschool degree\n",
    "educ_gdf['less_highschool'] = educ_gdf.iloc[:,5:18].sum(axis=1)\n",
    "#create col for some school post highschool but less than secondary degree\n",
    "educ_gdf['some_college'] = educ_gdf.B15003_019E + educ_gdf.B15003_020E\n",
    "educ_gdf['high school diploma'] = educ_gdf['Regular high school diploma'] + educ_gdf['GED or alternative credential']"
   ]
  },
  {
   "cell_type": "code",
   "execution_count": 31,
   "id": "6927b299-e8e3-450e-b914-d4de48dcb924",
   "metadata": {},
   "outputs": [
    {
     "data": {
      "text/html": [
       "<div>\n",
       "<style scoped>\n",
       "    .dataframe tbody tr th:only-of-type {\n",
       "        vertical-align: middle;\n",
       "    }\n",
       "\n",
       "    .dataframe tbody tr th {\n",
       "        vertical-align: top;\n",
       "    }\n",
       "\n",
       "    .dataframe thead th {\n",
       "        text-align: right;\n",
       "    }\n",
       "</style>\n",
       "<table border=\"1\" class=\"dataframe\">\n",
       "  <thead>\n",
       "    <tr style=\"text-align: right;\">\n",
       "      <th></th>\n",
       "      <th>GEOID</th>\n",
       "      <th>geometry</th>\n",
       "      <th>Total_Educ</th>\n",
       "      <th>No schooling completed</th>\n",
       "      <th>B15003_003E</th>\n",
       "      <th>B15003_004E</th>\n",
       "      <th>B15003_005E</th>\n",
       "      <th>B15003_006E</th>\n",
       "      <th>B15003_007E</th>\n",
       "      <th>B15003_008E</th>\n",
       "      <th>...</th>\n",
       "      <th>Masters degree</th>\n",
       "      <th>Professional school degree</th>\n",
       "      <th>Doctorate degree</th>\n",
       "      <th>NAME</th>\n",
       "      <th>state</th>\n",
       "      <th>county</th>\n",
       "      <th>tract</th>\n",
       "      <th>less_highschool</th>\n",
       "      <th>some_college</th>\n",
       "      <th>high school diploma</th>\n",
       "    </tr>\n",
       "  </thead>\n",
       "  <tbody>\n",
       "    <tr>\n",
       "      <th>0</th>\n",
       "      <td>06065041904</td>\n",
       "      <td>POLYGON ((-13099233.990 4011396.270, -13099207...</td>\n",
       "      <td>3480.0</td>\n",
       "      <td>50.0</td>\n",
       "      <td>0.0</td>\n",
       "      <td>0.0</td>\n",
       "      <td>0.0</td>\n",
       "      <td>16.0</td>\n",
       "      <td>0.0</td>\n",
       "      <td>0.0</td>\n",
       "      <td>...</td>\n",
       "      <td>253.0</td>\n",
       "      <td>5.0</td>\n",
       "      <td>27.0</td>\n",
       "      <td>Census Tract 419.04, Riverside County, California</td>\n",
       "      <td>06</td>\n",
       "      <td>065</td>\n",
       "      <td>041904</td>\n",
       "      <td>317.0</td>\n",
       "      <td>904.0</td>\n",
       "      <td>1062.0</td>\n",
       "    </tr>\n",
       "    <tr>\n",
       "      <th>1</th>\n",
       "      <td>06065041702</td>\n",
       "      <td>POLYGON ((-13089529.040 4010560.230, -13089521...</td>\n",
       "      <td>3632.0</td>\n",
       "      <td>102.0</td>\n",
       "      <td>0.0</td>\n",
       "      <td>0.0</td>\n",
       "      <td>0.0</td>\n",
       "      <td>34.0</td>\n",
       "      <td>0.0</td>\n",
       "      <td>0.0</td>\n",
       "      <td>...</td>\n",
       "      <td>86.0</td>\n",
       "      <td>43.0</td>\n",
       "      <td>0.0</td>\n",
       "      <td>Census Tract 417.02, Riverside County, California</td>\n",
       "      <td>06</td>\n",
       "      <td>065</td>\n",
       "      <td>041702</td>\n",
       "      <td>405.0</td>\n",
       "      <td>630.0</td>\n",
       "      <td>1498.0</td>\n",
       "    </tr>\n",
       "    <tr>\n",
       "      <th>2</th>\n",
       "      <td>06065041500</td>\n",
       "      <td>POLYGON ((-13096164.800 4014145.990, -13096149...</td>\n",
       "      <td>2079.0</td>\n",
       "      <td>86.0</td>\n",
       "      <td>0.0</td>\n",
       "      <td>0.0</td>\n",
       "      <td>0.0</td>\n",
       "      <td>0.0</td>\n",
       "      <td>4.0</td>\n",
       "      <td>18.0</td>\n",
       "      <td>...</td>\n",
       "      <td>170.0</td>\n",
       "      <td>156.0</td>\n",
       "      <td>0.0</td>\n",
       "      <td>Census Tract 415, Riverside County, California</td>\n",
       "      <td>06</td>\n",
       "      <td>065</td>\n",
       "      <td>041500</td>\n",
       "      <td>319.0</td>\n",
       "      <td>494.0</td>\n",
       "      <td>513.0</td>\n",
       "    </tr>\n",
       "    <tr>\n",
       "      <th>3</th>\n",
       "      <td>06065040809</td>\n",
       "      <td>POLYGON ((-13087670.230 4014380.140, -13087646...</td>\n",
       "      <td>2625.0</td>\n",
       "      <td>164.0</td>\n",
       "      <td>0.0</td>\n",
       "      <td>0.0</td>\n",
       "      <td>0.0</td>\n",
       "      <td>0.0</td>\n",
       "      <td>0.0</td>\n",
       "      <td>0.0</td>\n",
       "      <td>...</td>\n",
       "      <td>124.0</td>\n",
       "      <td>21.0</td>\n",
       "      <td>36.0</td>\n",
       "      <td>Census Tract 408.09, Riverside County, California</td>\n",
       "      <td>06</td>\n",
       "      <td>065</td>\n",
       "      <td>040809</td>\n",
       "      <td>263.0</td>\n",
       "      <td>449.0</td>\n",
       "      <td>808.0</td>\n",
       "    </tr>\n",
       "    <tr>\n",
       "      <th>4</th>\n",
       "      <td>06065040615</td>\n",
       "      <td>POLYGON ((-13087499.580 4023599.500, -13087495...</td>\n",
       "      <td>6604.0</td>\n",
       "      <td>127.0</td>\n",
       "      <td>0.0</td>\n",
       "      <td>0.0</td>\n",
       "      <td>0.0</td>\n",
       "      <td>0.0</td>\n",
       "      <td>0.0</td>\n",
       "      <td>0.0</td>\n",
       "      <td>...</td>\n",
       "      <td>575.0</td>\n",
       "      <td>48.0</td>\n",
       "      <td>43.0</td>\n",
       "      <td>Census Tract 406.15, Riverside County, California</td>\n",
       "      <td>06</td>\n",
       "      <td>065</td>\n",
       "      <td>040615</td>\n",
       "      <td>392.0</td>\n",
       "      <td>1489.0</td>\n",
       "      <td>1264.0</td>\n",
       "    </tr>\n",
       "  </tbody>\n",
       "</table>\n",
       "<p>5 rows × 34 columns</p>\n",
       "</div>"
      ],
      "text/plain": [
       "         GEOID                                           geometry  Total_Educ  \\\n",
       "0  06065041904  POLYGON ((-13099233.990 4011396.270, -13099207...      3480.0   \n",
       "1  06065041702  POLYGON ((-13089529.040 4010560.230, -13089521...      3632.0   \n",
       "2  06065041500  POLYGON ((-13096164.800 4014145.990, -13096149...      2079.0   \n",
       "3  06065040809  POLYGON ((-13087670.230 4014380.140, -13087646...      2625.0   \n",
       "4  06065040615  POLYGON ((-13087499.580 4023599.500, -13087495...      6604.0   \n",
       "\n",
       "   No schooling completed  B15003_003E  B15003_004E  B15003_005E  B15003_006E  \\\n",
       "0                    50.0          0.0          0.0          0.0         16.0   \n",
       "1                   102.0          0.0          0.0          0.0         34.0   \n",
       "2                    86.0          0.0          0.0          0.0          0.0   \n",
       "3                   164.0          0.0          0.0          0.0          0.0   \n",
       "4                   127.0          0.0          0.0          0.0          0.0   \n",
       "\n",
       "   B15003_007E  B15003_008E  ...  Masters degree  Professional school degree  \\\n",
       "0          0.0          0.0  ...           253.0                         5.0   \n",
       "1          0.0          0.0  ...            86.0                        43.0   \n",
       "2          4.0         18.0  ...           170.0                       156.0   \n",
       "3          0.0          0.0  ...           124.0                        21.0   \n",
       "4          0.0          0.0  ...           575.0                        48.0   \n",
       "\n",
       "   Doctorate degree                                               NAME  state  \\\n",
       "0              27.0  Census Tract 419.04, Riverside County, California     06   \n",
       "1               0.0  Census Tract 417.02, Riverside County, California     06   \n",
       "2               0.0     Census Tract 415, Riverside County, California     06   \n",
       "3              36.0  Census Tract 408.09, Riverside County, California     06   \n",
       "4              43.0  Census Tract 406.15, Riverside County, California     06   \n",
       "\n",
       "   county   tract  less_highschool  some_college  high school diploma  \n",
       "0     065  041904            317.0         904.0               1062.0  \n",
       "1     065  041702            405.0         630.0               1498.0  \n",
       "2     065  041500            319.0         494.0                513.0  \n",
       "3     065  040809            263.0         449.0                808.0  \n",
       "4     065  040615            392.0        1489.0               1264.0  \n",
       "\n",
       "[5 rows x 34 columns]"
      ]
     },
     "execution_count": 31,
     "metadata": {},
     "output_type": "execute_result"
    }
   ],
   "source": [
    "educ_gdf.head()"
   ]
  },
  {
   "cell_type": "code",
   "execution_count": 32,
   "id": "c0006419-1fd1-4f3f-af36-a1e53f2950be",
   "metadata": {},
   "outputs": [],
   "source": [
    "#educ_gdf.columns.values.tolist()"
   ]
  },
  {
   "cell_type": "code",
   "execution_count": 33,
   "id": "24d04eea-7c8c-4e31-99bc-62cc9910c31a",
   "metadata": {},
   "outputs": [],
   "source": [
    "#drop columns we don't need\n",
    "educ_gdf = educ_gdf[['GEOID', \n",
    " 'geometry',\n",
    " 'Total_Educ',\n",
    " 'No schooling completed',\n",
    " 'high school diploma',\n",
    " 'Associates degree',\n",
    " 'Bachelors degree',\n",
    " 'Masters degree',\n",
    " 'Professional school degree',\n",
    " 'Doctorate degree',\n",
    " 'NAME',\n",
    " 'state',\n",
    " 'county',\n",
    " 'tract',\n",
    " 'less_highschool',\n",
    " 'some_college']]"
   ]
  },
  {
   "cell_type": "code",
   "execution_count": 34,
   "id": "f22a4987-7fbd-4347-8dda-e728e253467e",
   "metadata": {},
   "outputs": [],
   "source": [
    "cols =  ['No schooling completed',\n",
    " 'high school diploma',\n",
    " 'Associates degree',\n",
    " 'Bachelors degree',\n",
    " 'Masters degree',\n",
    " 'Professional school degree',\n",
    " 'Doctorate degree',\n",
    " 'less_highschool',\n",
    " 'some_college']"
   ]
  },
  {
   "cell_type": "code",
   "execution_count": 35,
   "id": "13ef08e6-83b7-4c8a-a488-5a4db2a4cf0d",
   "metadata": {},
   "outputs": [],
   "source": [
    "for col in cols:\n",
    "    educ_gdf[\"Percent \" + col] = (educ_gdf[col]/educ_gdf['Total_Educ']) * 100"
   ]
  },
  {
   "cell_type": "code",
   "execution_count": 36,
   "id": "4d601d1c-c254-4e0a-b1f5-a9483334a392",
   "metadata": {},
   "outputs": [],
   "source": [
    "educ_gdf = educ_gdf.drop(cols, axis=1)"
   ]
  },
  {
   "cell_type": "code",
   "execution_count": 37,
   "id": "67efe63e-dbce-4a98-b804-7240f5887806",
   "metadata": {},
   "outputs": [
    {
     "data": {
      "text/html": [
       "<div>\n",
       "<style scoped>\n",
       "    .dataframe tbody tr th:only-of-type {\n",
       "        vertical-align: middle;\n",
       "    }\n",
       "\n",
       "    .dataframe tbody tr th {\n",
       "        vertical-align: top;\n",
       "    }\n",
       "\n",
       "    .dataframe thead th {\n",
       "        text-align: right;\n",
       "    }\n",
       "</style>\n",
       "<table border=\"1\" class=\"dataframe\">\n",
       "  <thead>\n",
       "    <tr style=\"text-align: right;\">\n",
       "      <th></th>\n",
       "      <th>GEOID</th>\n",
       "      <th>geometry</th>\n",
       "      <th>Total_Educ</th>\n",
       "      <th>NAME</th>\n",
       "      <th>state</th>\n",
       "      <th>county</th>\n",
       "      <th>tract</th>\n",
       "      <th>Percent No schooling completed</th>\n",
       "      <th>Percent high school diploma</th>\n",
       "      <th>Percent Associates degree</th>\n",
       "      <th>Percent Bachelors degree</th>\n",
       "      <th>Percent Masters degree</th>\n",
       "      <th>Percent Professional school degree</th>\n",
       "      <th>Percent Doctorate degree</th>\n",
       "      <th>Percent less_highschool</th>\n",
       "      <th>Percent some_college</th>\n",
       "    </tr>\n",
       "  </thead>\n",
       "  <tbody>\n",
       "    <tr>\n",
       "      <th>0</th>\n",
       "      <td>06065041904</td>\n",
       "      <td>POLYGON ((-13099233.990 4011396.270, -13099207...</td>\n",
       "      <td>3480.0</td>\n",
       "      <td>Census Tract 419.04, Riverside County, California</td>\n",
       "      <td>06</td>\n",
       "      <td>065</td>\n",
       "      <td>041904</td>\n",
       "      <td>1.436782</td>\n",
       "      <td>30.517241</td>\n",
       "      <td>8.879310</td>\n",
       "      <td>15.890805</td>\n",
       "      <td>7.270115</td>\n",
       "      <td>0.143678</td>\n",
       "      <td>0.775862</td>\n",
       "      <td>9.109195</td>\n",
       "      <td>25.977011</td>\n",
       "    </tr>\n",
       "    <tr>\n",
       "      <th>1</th>\n",
       "      <td>06065041702</td>\n",
       "      <td>POLYGON ((-13089529.040 4010560.230, -13089521...</td>\n",
       "      <td>3632.0</td>\n",
       "      <td>Census Tract 417.02, Riverside County, California</td>\n",
       "      <td>06</td>\n",
       "      <td>065</td>\n",
       "      <td>041702</td>\n",
       "      <td>2.808370</td>\n",
       "      <td>41.244493</td>\n",
       "      <td>9.003304</td>\n",
       "      <td>14.895374</td>\n",
       "      <td>2.367841</td>\n",
       "      <td>1.183921</td>\n",
       "      <td>0.000000</td>\n",
       "      <td>11.150881</td>\n",
       "      <td>17.345815</td>\n",
       "    </tr>\n",
       "    <tr>\n",
       "      <th>2</th>\n",
       "      <td>06065041500</td>\n",
       "      <td>POLYGON ((-13096164.800 4014145.990, -13096149...</td>\n",
       "      <td>2079.0</td>\n",
       "      <td>Census Tract 415, Riverside County, California</td>\n",
       "      <td>06</td>\n",
       "      <td>065</td>\n",
       "      <td>041500</td>\n",
       "      <td>4.136604</td>\n",
       "      <td>24.675325</td>\n",
       "      <td>6.301106</td>\n",
       "      <td>10.101010</td>\n",
       "      <td>8.177008</td>\n",
       "      <td>7.503608</td>\n",
       "      <td>0.000000</td>\n",
       "      <td>15.343915</td>\n",
       "      <td>23.761424</td>\n",
       "    </tr>\n",
       "    <tr>\n",
       "      <th>3</th>\n",
       "      <td>06065040809</td>\n",
       "      <td>POLYGON ((-13087670.230 4014380.140, -13087646...</td>\n",
       "      <td>2625.0</td>\n",
       "      <td>Census Tract 408.09, Riverside County, California</td>\n",
       "      <td>06</td>\n",
       "      <td>065</td>\n",
       "      <td>040809</td>\n",
       "      <td>6.247619</td>\n",
       "      <td>30.780952</td>\n",
       "      <td>10.742857</td>\n",
       "      <td>18.209524</td>\n",
       "      <td>4.723810</td>\n",
       "      <td>0.800000</td>\n",
       "      <td>1.371429</td>\n",
       "      <td>10.019048</td>\n",
       "      <td>17.104762</td>\n",
       "    </tr>\n",
       "    <tr>\n",
       "      <th>4</th>\n",
       "      <td>06065040615</td>\n",
       "      <td>POLYGON ((-13087499.580 4023599.500, -13087495...</td>\n",
       "      <td>6604.0</td>\n",
       "      <td>Census Tract 406.15, Riverside County, California</td>\n",
       "      <td>06</td>\n",
       "      <td>065</td>\n",
       "      <td>040615</td>\n",
       "      <td>1.923077</td>\n",
       "      <td>19.139915</td>\n",
       "      <td>13.461538</td>\n",
       "      <td>26.907935</td>\n",
       "      <td>8.706844</td>\n",
       "      <td>0.726832</td>\n",
       "      <td>0.651121</td>\n",
       "      <td>5.935796</td>\n",
       "      <td>22.546941</td>\n",
       "    </tr>\n",
       "  </tbody>\n",
       "</table>\n",
       "</div>"
      ],
      "text/plain": [
       "         GEOID                                           geometry  Total_Educ  \\\n",
       "0  06065041904  POLYGON ((-13099233.990 4011396.270, -13099207...      3480.0   \n",
       "1  06065041702  POLYGON ((-13089529.040 4010560.230, -13089521...      3632.0   \n",
       "2  06065041500  POLYGON ((-13096164.800 4014145.990, -13096149...      2079.0   \n",
       "3  06065040809  POLYGON ((-13087670.230 4014380.140, -13087646...      2625.0   \n",
       "4  06065040615  POLYGON ((-13087499.580 4023599.500, -13087495...      6604.0   \n",
       "\n",
       "                                                NAME state county   tract  \\\n",
       "0  Census Tract 419.04, Riverside County, California    06    065  041904   \n",
       "1  Census Tract 417.02, Riverside County, California    06    065  041702   \n",
       "2     Census Tract 415, Riverside County, California    06    065  041500   \n",
       "3  Census Tract 408.09, Riverside County, California    06    065  040809   \n",
       "4  Census Tract 406.15, Riverside County, California    06    065  040615   \n",
       "\n",
       "   Percent No schooling completed  Percent high school diploma  \\\n",
       "0                        1.436782                    30.517241   \n",
       "1                        2.808370                    41.244493   \n",
       "2                        4.136604                    24.675325   \n",
       "3                        6.247619                    30.780952   \n",
       "4                        1.923077                    19.139915   \n",
       "\n",
       "   Percent Associates degree  Percent Bachelors degree  \\\n",
       "0                   8.879310                 15.890805   \n",
       "1                   9.003304                 14.895374   \n",
       "2                   6.301106                 10.101010   \n",
       "3                  10.742857                 18.209524   \n",
       "4                  13.461538                 26.907935   \n",
       "\n",
       "   Percent Masters degree  Percent Professional school degree  \\\n",
       "0                7.270115                            0.143678   \n",
       "1                2.367841                            1.183921   \n",
       "2                8.177008                            7.503608   \n",
       "3                4.723810                            0.800000   \n",
       "4                8.706844                            0.726832   \n",
       "\n",
       "   Percent Doctorate degree  Percent less_highschool  Percent some_college  \n",
       "0                  0.775862                 9.109195             25.977011  \n",
       "1                  0.000000                11.150881             17.345815  \n",
       "2                  0.000000                15.343915             23.761424  \n",
       "3                  1.371429                10.019048             17.104762  \n",
       "4                  0.651121                 5.935796             22.546941  "
      ]
     },
     "execution_count": 37,
     "metadata": {},
     "output_type": "execute_result"
    }
   ],
   "source": [
    "educ_gdf.head()"
   ]
  },
  {
   "cell_type": "code",
   "execution_count": 38,
   "id": "520850d4-f6ef-44e2-a7cf-b2cd8ba6eb7d",
   "metadata": {},
   "outputs": [
    {
     "data": {
      "text/plain": [
       "822"
      ]
     },
     "execution_count": 38,
     "metadata": {},
     "output_type": "execute_result"
    }
   ],
   "source": [
    "len(educ_gdf)"
   ]
  },
  {
   "cell_type": "markdown",
   "id": "68287949-2a62-48eb-859f-bdb77b68bf20",
   "metadata": {},
   "source": [
    "## Occupation"
   ]
  },
  {
   "cell_type": "code",
   "execution_count": 39,
   "id": "3c8a7287-4064-4862-8082-05807d822b72",
   "metadata": {},
   "outputs": [
    {
     "name": "stderr",
     "output_type": "stream",
     "text": [
      "C:\\Users\\cpugh\\anaconda3\\envs\\environment\\lib\\site-packages\\cenpy\\products.py:762: FutureWarning: The `op` parameter is deprecated and will be removed in a future release. Please use the `predicate` parameter instead.\n",
      "  return self._from_name(county, variables, level, \"Counties\", **kwargs)\n",
      "C:\\Users\\cpugh\\anaconda3\\envs\\environment\\lib\\site-packages\\cenpy\\products.py:762: FutureWarning: The `op` parameter is deprecated and will be removed in a future release. Please use the `predicate` parameter instead.\n",
      "  return self._from_name(county, variables, level, \"Counties\", **kwargs)\n"
     ]
    }
   ],
   "source": [
    "#Table B24080: Sex by Class of Worker for the Civilian Population).\n",
    "riverside_oc = products.ACS(2019).from_county('Riverside, CA', level='tract',\n",
    "                                        variables='B24080')\n",
    "\n",
    "SB_oc = products.ACS(2019).from_county('San Bernardino, CA', level='tract', variables='B24080')\n",
    "\n",
    "#LA_oc = products.ACS(2019).from_county('Los Angeles, CA', level='tract',variables='B24080')"
   ]
  },
  {
   "cell_type": "code",
   "execution_count": 40,
   "id": "e6297929-a59b-4bfc-9245-14c6c7c2822b",
   "metadata": {},
   "outputs": [],
   "source": [
    "oc_gdf = gpd.GeoDataFrame(pd.concat([riverside_oc,SB_oc], ignore_index=True), crs=riverside_oc.crs)"
   ]
  },
  {
   "cell_type": "code",
   "execution_count": 41,
   "id": "42185c26-8e09-4256-93c0-f6377d59b923",
   "metadata": {},
   "outputs": [],
   "source": [
    "#oc_gdf.columns.values.tolist()\n"
   ]
  },
  {
   "cell_type": "code",
   "execution_count": 42,
   "id": "ada2206b-1b9b-4423-9026-ca736800b92a",
   "metadata": {},
   "outputs": [],
   "source": [
    "#get male and female columns to sum\n",
    "male_cols = oc_gdf[[\n",
    " 'B24080_003E',\n",
    " 'B24080_004E',\n",
    " 'B24080_005E',\n",
    " 'B24080_006E',\n",
    " 'B24080_007E',\n",
    " 'B24080_008E',\n",
    " 'B24080_009E',\n",
    " 'B24080_010E',\n",
    " 'B24080_011E']]\n",
    "female_cols = oc_gdf[[\n",
    " 'B24080_013E',\n",
    " 'B24080_014E',\n",
    " 'B24080_015E',\n",
    " 'B24080_016E',\n",
    " 'B24080_017E',\n",
    " 'B24080_018E',\n",
    " 'B24080_019E',\n",
    " 'B24080_020E',\n",
    " 'B24080_021E',\n",
    "]]\n"
   ]
  },
  {
   "cell_type": "code",
   "execution_count": 43,
   "id": "bc762e29-797b-4fa0-9c92-0778c4abc2b9",
   "metadata": {},
   "outputs": [
    {
     "name": "stderr",
     "output_type": "stream",
     "text": [
      "C:\\Users\\cpugh\\AppData\\Local\\Temp\\ipykernel_22472\\2738484696.py:2: SettingWithCopyWarning: \n",
      "A value is trying to be set on a copy of a slice from a DataFrame\n",
      "\n",
      "See the caveats in the documentation: https://pandas.pydata.org/pandas-docs/stable/user_guide/indexing.html#returning-a-view-versus-a-copy\n",
      "  male_cols.rename(columns={\n",
      "C:\\Users\\cpugh\\AppData\\Local\\Temp\\ipykernel_22472\\2738484696.py:12: SettingWithCopyWarning: \n",
      "A value is trying to be set on a copy of a slice from a DataFrame\n",
      "\n",
      "See the caveats in the documentation: https://pandas.pydata.org/pandas-docs/stable/user_guide/indexing.html#returning-a-view-versus-a-copy\n",
      "  female_cols.rename(columns={\n"
     ]
    }
   ],
   "source": [
    "#rename columns to match\n",
    "male_cols.rename(columns={\n",
    "                \"B24080_003E\":  \"Private for-profit wage and salary workers:\",\n",
    "                \"B24080_004E\": \"Employee of private company workers\",\n",
    "                \"B24080_005E\":\"Self-employed in own incorporated business workers\",\n",
    "                \"B24080_006E\": \"Private not-for-profit wage and salary workers\",\n",
    "                \"B24080_007E\": \"Local government workers\",\n",
    "                \"B24080_008E\": \"State government workers\",\n",
    "                \"B24080_009E\": \"Federal government workers\",\n",
    "                \"B24080_010E\":  \"Self-employed in own not incorporated business workers\",\n",
    "                \"B24080_011E\": \"Unpaid family workers\"}, inplace=True)\n",
    "female_cols.rename(columns={     \n",
    "                \"B24080_013E\": \"Private for-profit wage and salary workers:\", \n",
    "                \"B24080_014E\": \"Employee of private company workers\", \n",
    "                \"B24080_015E\":\"Self-employed in own incorporated business workers\",\n",
    "                \"B24080_016E\": \"Private not-for-profit wage and salary workers\",\n",
    "                \"B24080_017E\": \"Local government workers\",\n",
    "                \"B24080_018E\": \"State government workers\", \n",
    "                \"B24080_019E\": \"Federal government workers\",\n",
    "                \"B24080_020E\":\"Self-employed in own not incorporated business workers\",  \n",
    "                \"B24080_021E\": \"Unpaid family workers\"}, inplace=True)"
   ]
  },
  {
   "cell_type": "code",
   "execution_count": 44,
   "id": "d87157d9-4f28-47b0-a20a-9a6caa41a2a0",
   "metadata": {},
   "outputs": [],
   "source": [
    "#sum to get total\n",
    "df_sum = male_cols.add(female_cols, fill_value=0)"
   ]
  },
  {
   "cell_type": "code",
   "execution_count": 45,
   "id": "fc056544-ffad-4716-8b3d-190a83cdc4cd",
   "metadata": {},
   "outputs": [],
   "source": [
    "#add back tract column\n",
    "df_sum['tract'] = oc_gdf['tract']"
   ]
  },
  {
   "cell_type": "code",
   "execution_count": 46,
   "id": "e30ffe5a-286f-4cab-a958-6686a001d04a",
   "metadata": {},
   "outputs": [
    {
     "data": {
      "text/html": [
       "<div>\n",
       "<style scoped>\n",
       "    .dataframe tbody tr th:only-of-type {\n",
       "        vertical-align: middle;\n",
       "    }\n",
       "\n",
       "    .dataframe tbody tr th {\n",
       "        vertical-align: top;\n",
       "    }\n",
       "\n",
       "    .dataframe thead th {\n",
       "        text-align: right;\n",
       "    }\n",
       "</style>\n",
       "<table border=\"1\" class=\"dataframe\">\n",
       "  <thead>\n",
       "    <tr style=\"text-align: right;\">\n",
       "      <th></th>\n",
       "      <th>Private for-profit wage and salary workers:</th>\n",
       "      <th>Employee of private company workers</th>\n",
       "      <th>Self-employed in own incorporated business workers</th>\n",
       "      <th>Private not-for-profit wage and salary workers</th>\n",
       "      <th>Local government workers</th>\n",
       "      <th>State government workers</th>\n",
       "      <th>Federal government workers</th>\n",
       "      <th>Self-employed in own not incorporated business workers</th>\n",
       "      <th>Unpaid family workers</th>\n",
       "      <th>tract</th>\n",
       "    </tr>\n",
       "  </thead>\n",
       "  <tbody>\n",
       "    <tr>\n",
       "      <th>0</th>\n",
       "      <td>2303.0</td>\n",
       "      <td>2208.0</td>\n",
       "      <td>95.0</td>\n",
       "      <td>145.0</td>\n",
       "      <td>188.0</td>\n",
       "      <td>132.0</td>\n",
       "      <td>43.0</td>\n",
       "      <td>176.0</td>\n",
       "      <td>6.0</td>\n",
       "      <td>041904</td>\n",
       "    </tr>\n",
       "  </tbody>\n",
       "</table>\n",
       "</div>"
      ],
      "text/plain": [
       "   Private for-profit wage and salary workers:  \\\n",
       "0                                       2303.0   \n",
       "\n",
       "   Employee of private company workers  \\\n",
       "0                               2208.0   \n",
       "\n",
       "   Self-employed in own incorporated business workers  \\\n",
       "0                                               95.0    \n",
       "\n",
       "   Private not-for-profit wage and salary workers  Local government workers  \\\n",
       "0                                           145.0                     188.0   \n",
       "\n",
       "   State government workers  Federal government workers  \\\n",
       "0                     132.0                        43.0   \n",
       "\n",
       "   Self-employed in own not incorporated business workers  \\\n",
       "0                                              176.0        \n",
       "\n",
       "   Unpaid family workers   tract  \n",
       "0                    6.0  041904  "
      ]
     },
     "execution_count": 46,
     "metadata": {},
     "output_type": "execute_result"
    }
   ],
   "source": [
    "df_sum.head(1)"
   ]
  },
  {
   "cell_type": "code",
   "execution_count": 47,
   "id": "dbb3aad2-eddc-40fb-b0f8-8e98286086d9",
   "metadata": {},
   "outputs": [],
   "source": [
    "#merge to get back geometries\n",
    "oc_gdf = pd.merge(df_sum,oc_gdf,on='tract')"
   ]
  },
  {
   "cell_type": "code",
   "execution_count": 48,
   "id": "7a039bfb-02fd-487a-8f1f-62113bec067e",
   "metadata": {},
   "outputs": [
    {
     "data": {
      "text/html": [
       "<div>\n",
       "<style scoped>\n",
       "    .dataframe tbody tr th:only-of-type {\n",
       "        vertical-align: middle;\n",
       "    }\n",
       "\n",
       "    .dataframe tbody tr th {\n",
       "        vertical-align: top;\n",
       "    }\n",
       "\n",
       "    .dataframe thead th {\n",
       "        text-align: right;\n",
       "    }\n",
       "</style>\n",
       "<table border=\"1\" class=\"dataframe\">\n",
       "  <thead>\n",
       "    <tr style=\"text-align: right;\">\n",
       "      <th></th>\n",
       "      <th>Private for-profit wage and salary workers:</th>\n",
       "      <th>Employee of private company workers</th>\n",
       "      <th>Self-employed in own incorporated business workers</th>\n",
       "      <th>Private not-for-profit wage and salary workers</th>\n",
       "      <th>Local government workers</th>\n",
       "      <th>State government workers</th>\n",
       "      <th>Federal government workers</th>\n",
       "      <th>Self-employed in own not incorporated business workers</th>\n",
       "      <th>Unpaid family workers</th>\n",
       "      <th>tract</th>\n",
       "      <th>...</th>\n",
       "      <th>B24080_015E</th>\n",
       "      <th>B24080_016E</th>\n",
       "      <th>B24080_017E</th>\n",
       "      <th>B24080_018E</th>\n",
       "      <th>B24080_019E</th>\n",
       "      <th>B24080_020E</th>\n",
       "      <th>B24080_021E</th>\n",
       "      <th>NAME</th>\n",
       "      <th>state</th>\n",
       "      <th>county</th>\n",
       "    </tr>\n",
       "  </thead>\n",
       "  <tbody>\n",
       "    <tr>\n",
       "      <th>0</th>\n",
       "      <td>2303.0</td>\n",
       "      <td>2208.0</td>\n",
       "      <td>95.0</td>\n",
       "      <td>145.0</td>\n",
       "      <td>188.0</td>\n",
       "      <td>132.0</td>\n",
       "      <td>43.0</td>\n",
       "      <td>176.0</td>\n",
       "      <td>6.0</td>\n",
       "      <td>041904</td>\n",
       "      <td>...</td>\n",
       "      <td>23.0</td>\n",
       "      <td>82.0</td>\n",
       "      <td>80.0</td>\n",
       "      <td>66.0</td>\n",
       "      <td>0.0</td>\n",
       "      <td>90.0</td>\n",
       "      <td>6.0</td>\n",
       "      <td>Census Tract 419.04, Riverside County, California</td>\n",
       "      <td>06</td>\n",
       "      <td>065</td>\n",
       "    </tr>\n",
       "  </tbody>\n",
       "</table>\n",
       "<p>1 rows × 36 columns</p>\n",
       "</div>"
      ],
      "text/plain": [
       "   Private for-profit wage and salary workers:  \\\n",
       "0                                       2303.0   \n",
       "\n",
       "   Employee of private company workers  \\\n",
       "0                               2208.0   \n",
       "\n",
       "   Self-employed in own incorporated business workers  \\\n",
       "0                                               95.0    \n",
       "\n",
       "   Private not-for-profit wage and salary workers  Local government workers  \\\n",
       "0                                           145.0                     188.0   \n",
       "\n",
       "   State government workers  Federal government workers  \\\n",
       "0                     132.0                        43.0   \n",
       "\n",
       "   Self-employed in own not incorporated business workers  \\\n",
       "0                                              176.0        \n",
       "\n",
       "   Unpaid family workers   tract  ... B24080_015E B24080_016E  B24080_017E  \\\n",
       "0                    6.0  041904  ...        23.0        82.0         80.0   \n",
       "\n",
       "   B24080_018E  B24080_019E  B24080_020E  B24080_021E  \\\n",
       "0         66.0          0.0         90.0          6.0   \n",
       "\n",
       "                                                NAME  state  county  \n",
       "0  Census Tract 419.04, Riverside County, California     06     065  \n",
       "\n",
       "[1 rows x 36 columns]"
      ]
     },
     "execution_count": 48,
     "metadata": {},
     "output_type": "execute_result"
    }
   ],
   "source": [
    "oc_gdf.head(1)"
   ]
  },
  {
   "cell_type": "code",
   "execution_count": 49,
   "id": "8bd895af-3763-4ecd-942f-62dbe54f8392",
   "metadata": {},
   "outputs": [],
   "source": [
    "#rename total workers column\n",
    "oc_gdf.rename(columns={\"B24080_001E\": \"Total Workers:\"}, inplace=True)"
   ]
  },
  {
   "cell_type": "code",
   "execution_count": 50,
   "id": "9d1a406e-7e4d-4298-8709-0b005717b21f",
   "metadata": {},
   "outputs": [],
   "source": [
    "#oc_gdf.columns.values.tolist()"
   ]
  },
  {
   "cell_type": "code",
   "execution_count": 51,
   "id": "ec6f96af-4ff8-4038-a456-04c189c2c003",
   "metadata": {},
   "outputs": [],
   "source": [
    "#drop columns\n",
    "oc_gdf = oc_gdf[['Private for-profit wage and salary workers:',\n",
    " 'Employee of private company workers',\n",
    " 'Self-employed in own incorporated business workers',\n",
    " 'Private not-for-profit wage and salary workers',\n",
    " 'Local government workers',\n",
    " 'State government workers',\n",
    " 'Federal government workers',\n",
    " 'Self-employed in own not incorporated business workers',\n",
    " 'Unpaid family workers',\n",
    "                 \"Total Workers:\",\n",
    " 'geometry']]"
   ]
  },
  {
   "cell_type": "code",
   "execution_count": 52,
   "id": "cbf43646-f73c-4f44-b6f3-b1dd15b62af6",
   "metadata": {},
   "outputs": [],
   "source": [
    "cols = [ 'Private for-profit wage and salary workers:',\n",
    " 'Employee of private company workers',\n",
    " 'Self-employed in own incorporated business workers',\n",
    " 'Private not-for-profit wage and salary workers',\n",
    " 'Local government workers',\n",
    " 'State government workers',\n",
    " 'Federal government workers',\n",
    " 'Self-employed in own not incorporated business workers',\n",
    " 'Unpaid family workers']"
   ]
  },
  {
   "cell_type": "code",
   "execution_count": 53,
   "id": "dcffad32-1f5b-47ad-8d67-f7ac5b729111",
   "metadata": {},
   "outputs": [],
   "source": [
    "for col in cols:\n",
    "    oc_gdf[\"Percent \" + col] = (oc_gdf[col]/oc_gdf['Total Workers:']) * 100"
   ]
  },
  {
   "cell_type": "code",
   "execution_count": 54,
   "id": "dfe43809-400e-4125-9b6f-156eea1ccab0",
   "metadata": {},
   "outputs": [],
   "source": [
    "oc_gdf = oc_gdf.drop(cols, axis=1)\n",
    "\n"
   ]
  },
  {
   "cell_type": "code",
   "execution_count": 55,
   "id": "794d5506-6a82-4b2d-b157-de95c752936f",
   "metadata": {},
   "outputs": [],
   "source": [
    "##Percent Private for-profit wage and salary workers = employee of private company + self-employed  - dropping\n",
    "oc_gdf = oc_gdf.drop(columns=['Percent Private for-profit wage and salary workers:'], axis=1)"
   ]
  },
  {
   "cell_type": "code",
   "execution_count": 56,
   "id": "09d626bc-0f1d-48f4-a1b9-77204205429d",
   "metadata": {},
   "outputs": [],
   "source": [
    "oc_gdf = gpd.GeoDataFrame(oc_gdf, crs=riverside.crs, geometry='geometry')"
   ]
  },
  {
   "cell_type": "code",
   "execution_count": 57,
   "id": "d97b4e1d-bb01-4647-90b4-75c6fb0e5480",
   "metadata": {},
   "outputs": [
    {
     "data": {
      "text/html": [
       "<div>\n",
       "<style scoped>\n",
       "    .dataframe tbody tr th:only-of-type {\n",
       "        vertical-align: middle;\n",
       "    }\n",
       "\n",
       "    .dataframe tbody tr th {\n",
       "        vertical-align: top;\n",
       "    }\n",
       "\n",
       "    .dataframe thead th {\n",
       "        text-align: right;\n",
       "    }\n",
       "</style>\n",
       "<table border=\"1\" class=\"dataframe\">\n",
       "  <thead>\n",
       "    <tr style=\"text-align: right;\">\n",
       "      <th></th>\n",
       "      <th>Total Workers:</th>\n",
       "      <th>geometry</th>\n",
       "      <th>Percent Employee of private company workers</th>\n",
       "      <th>Percent Self-employed in own incorporated business workers</th>\n",
       "      <th>Percent Private not-for-profit wage and salary workers</th>\n",
       "      <th>Percent Local government workers</th>\n",
       "      <th>Percent State government workers</th>\n",
       "      <th>Percent Federal government workers</th>\n",
       "      <th>Percent Self-employed in own not incorporated business workers</th>\n",
       "      <th>Percent Unpaid family workers</th>\n",
       "    </tr>\n",
       "  </thead>\n",
       "  <tbody>\n",
       "    <tr>\n",
       "      <th>0</th>\n",
       "      <td>2993.0</td>\n",
       "      <td>POLYGON ((-13099233.990 4011396.270, -13099207...</td>\n",
       "      <td>73.772135</td>\n",
       "      <td>3.174073</td>\n",
       "      <td>4.844637</td>\n",
       "      <td>6.281323</td>\n",
       "      <td>4.410291</td>\n",
       "      <td>1.436686</td>\n",
       "      <td>5.880388</td>\n",
       "      <td>0.200468</td>\n",
       "    </tr>\n",
       "    <tr>\n",
       "      <th>1</th>\n",
       "      <td>2660.0</td>\n",
       "      <td>POLYGON ((-13089529.040 4010560.230, -13089521...</td>\n",
       "      <td>68.796992</td>\n",
       "      <td>2.593985</td>\n",
       "      <td>4.398496</td>\n",
       "      <td>7.518797</td>\n",
       "      <td>1.654135</td>\n",
       "      <td>6.541353</td>\n",
       "      <td>8.496241</td>\n",
       "      <td>0.000000</td>\n",
       "    </tr>\n",
       "    <tr>\n",
       "      <th>2</th>\n",
       "      <td>1561.0</td>\n",
       "      <td>POLYGON ((-13096164.800 4014145.990, -13096149...</td>\n",
       "      <td>72.901986</td>\n",
       "      <td>2.498398</td>\n",
       "      <td>9.160794</td>\n",
       "      <td>6.918642</td>\n",
       "      <td>4.996797</td>\n",
       "      <td>0.000000</td>\n",
       "      <td>3.523382</td>\n",
       "      <td>0.000000</td>\n",
       "    </tr>\n",
       "    <tr>\n",
       "      <th>3</th>\n",
       "      <td>2133.0</td>\n",
       "      <td>POLYGON ((-13087670.230 4014380.140, -13087646...</td>\n",
       "      <td>66.994843</td>\n",
       "      <td>1.125176</td>\n",
       "      <td>6.704173</td>\n",
       "      <td>10.407876</td>\n",
       "      <td>3.141116</td>\n",
       "      <td>4.172527</td>\n",
       "      <td>7.454290</td>\n",
       "      <td>0.000000</td>\n",
       "    </tr>\n",
       "    <tr>\n",
       "      <th>4</th>\n",
       "      <td>5462.0</td>\n",
       "      <td>POLYGON ((-13087499.580 4023599.500, -13087495...</td>\n",
       "      <td>71.841816</td>\n",
       "      <td>3.149030</td>\n",
       "      <td>4.943244</td>\n",
       "      <td>8.238740</td>\n",
       "      <td>5.748810</td>\n",
       "      <td>1.446357</td>\n",
       "      <td>4.284145</td>\n",
       "      <td>0.347858</td>\n",
       "    </tr>\n",
       "  </tbody>\n",
       "</table>\n",
       "</div>"
      ],
      "text/plain": [
       "   Total Workers:                                           geometry  \\\n",
       "0          2993.0  POLYGON ((-13099233.990 4011396.270, -13099207...   \n",
       "1          2660.0  POLYGON ((-13089529.040 4010560.230, -13089521...   \n",
       "2          1561.0  POLYGON ((-13096164.800 4014145.990, -13096149...   \n",
       "3          2133.0  POLYGON ((-13087670.230 4014380.140, -13087646...   \n",
       "4          5462.0  POLYGON ((-13087499.580 4023599.500, -13087495...   \n",
       "\n",
       "   Percent Employee of private company workers  \\\n",
       "0                                    73.772135   \n",
       "1                                    68.796992   \n",
       "2                                    72.901986   \n",
       "3                                    66.994843   \n",
       "4                                    71.841816   \n",
       "\n",
       "   Percent Self-employed in own incorporated business workers  \\\n",
       "0                                           3.174073            \n",
       "1                                           2.593985            \n",
       "2                                           2.498398            \n",
       "3                                           1.125176            \n",
       "4                                           3.149030            \n",
       "\n",
       "   Percent Private not-for-profit wage and salary workers  \\\n",
       "0                                           4.844637        \n",
       "1                                           4.398496        \n",
       "2                                           9.160794        \n",
       "3                                           6.704173        \n",
       "4                                           4.943244        \n",
       "\n",
       "   Percent Local government workers  Percent State government workers  \\\n",
       "0                          6.281323                          4.410291   \n",
       "1                          7.518797                          1.654135   \n",
       "2                          6.918642                          4.996797   \n",
       "3                         10.407876                          3.141116   \n",
       "4                          8.238740                          5.748810   \n",
       "\n",
       "   Percent Federal government workers  \\\n",
       "0                            1.436686   \n",
       "1                            6.541353   \n",
       "2                            0.000000   \n",
       "3                            4.172527   \n",
       "4                            1.446357   \n",
       "\n",
       "   Percent Self-employed in own not incorporated business workers  \\\n",
       "0                                           5.880388                \n",
       "1                                           8.496241                \n",
       "2                                           3.523382                \n",
       "3                                           7.454290                \n",
       "4                                           4.284145                \n",
       "\n",
       "   Percent Unpaid family workers  \n",
       "0                       0.200468  \n",
       "1                       0.000000  \n",
       "2                       0.000000  \n",
       "3                       0.000000  \n",
       "4                       0.347858  "
      ]
     },
     "execution_count": 57,
     "metadata": {},
     "output_type": "execute_result"
    }
   ],
   "source": [
    "oc_gdf.head()"
   ]
  },
  {
   "cell_type": "code",
   "execution_count": 58,
   "id": "f0bc0617-52cb-4256-a53d-3529fb1234d4",
   "metadata": {},
   "outputs": [
    {
     "data": {
      "text/plain": [
       "824"
      ]
     },
     "execution_count": 58,
     "metadata": {},
     "output_type": "execute_result"
    }
   ],
   "source": [
    "len(oc_gdf)"
   ]
  },
  {
   "cell_type": "code",
   "execution_count": 59,
   "id": "5efe1a40-fdec-4cd2-8491-eb0888d12cea",
   "metadata": {},
   "outputs": [],
   "source": [
    "oc_gdf = oc_gdf.drop_duplicates(subset='geometry')"
   ]
  },
  {
   "cell_type": "code",
   "execution_count": 60,
   "id": "00e7c9af-7d09-4410-9cd1-ae975f2354dd",
   "metadata": {},
   "outputs": [
    {
     "data": {
      "text/plain": [
       "822"
      ]
     },
     "execution_count": 60,
     "metadata": {},
     "output_type": "execute_result"
    }
   ],
   "source": [
    "len(oc_gdf)"
   ]
  },
  {
   "cell_type": "markdown",
   "id": "28ed5d75-42f7-4a91-8af3-1b98759f21e6",
   "metadata": {},
   "source": [
    "## Joining all the dataframes"
   ]
  },
  {
   "cell_type": "code",
   "execution_count": 61,
   "id": "fbe45bda-145e-4080-bbb3-85d1db267bb6",
   "metadata": {},
   "outputs": [],
   "source": [
    "#oc_gdf + educ_gdf + HI_gdf + gdf\n",
    "\n",
    "census_gdf = pd.merge(gdf,HI_gdf, how='inner')\n",
    "\n"
   ]
  },
  {
   "cell_type": "code",
   "execution_count": 62,
   "id": "58388eaa-0d4a-4509-8a2f-b435e64d488e",
   "metadata": {},
   "outputs": [
    {
     "data": {
      "text/plain": [
       "822"
      ]
     },
     "execution_count": 62,
     "metadata": {},
     "output_type": "execute_result"
    }
   ],
   "source": [
    "len(census_gdf)"
   ]
  },
  {
   "cell_type": "code",
   "execution_count": 63,
   "id": "871c71e3-3af1-4a8d-beab-faaa81f51a89",
   "metadata": {},
   "outputs": [],
   "source": [
    "census_gdf = pd.merge(census_gdf,educ_gdf, how='inner')"
   ]
  },
  {
   "cell_type": "code",
   "execution_count": 64,
   "id": "19335a98-9f98-408d-b469-ad260c7ddd98",
   "metadata": {},
   "outputs": [
    {
     "data": {
      "text/plain": [
       "822"
      ]
     },
     "execution_count": 64,
     "metadata": {},
     "output_type": "execute_result"
    }
   ],
   "source": [
    "len(census_gdf)"
   ]
  },
  {
   "cell_type": "code",
   "execution_count": 65,
   "id": "d65a1a16-df95-41d5-ba1a-2348d907c7db",
   "metadata": {},
   "outputs": [],
   "source": [
    "census_gdf = pd.merge(census_gdf,oc_gdf,how = 'inner')"
   ]
  },
  {
   "cell_type": "code",
   "execution_count": 66,
   "id": "994e384c-4c29-443c-826e-ae9d75be9018",
   "metadata": {},
   "outputs": [
    {
     "data": {
      "text/plain": [
       "822"
      ]
     },
     "execution_count": 66,
     "metadata": {},
     "output_type": "execute_result"
    }
   ],
   "source": [
    "len(census_gdf)"
   ]
  },
  {
   "cell_type": "code",
   "execution_count": 67,
   "id": "bacb806e-ae64-46c7-b3d2-ee9de4b55276",
   "metadata": {},
   "outputs": [
    {
     "name": "stdout",
     "output_type": "stream",
     "text": [
      "<class 'geopandas.geodataframe.GeoDataFrame'>\n",
      "Int64Index: 822 entries, 0 to 821\n",
      "Data columns (total 55 columns):\n",
      " #   Column                                                                Non-Null Count  Dtype   \n",
      "---  ------                                                                --------------  -----   \n",
      " 0   GEOID                                                                 822 non-null    object  \n",
      " 1   geometry                                                              822 non-null    geometry\n",
      " 2   Total Pop                                                             822 non-null    float64 \n",
      " 3   Median HH Income                                                      817 non-null    float64 \n",
      " 4   NAME                                                                  822 non-null    object  \n",
      " 5   state                                                                 822 non-null    object  \n",
      " 6   county                                                                822 non-null    object  \n",
      " 7   tract                                                                 822 non-null    object  \n",
      " 8   Percent White alone                                                   820 non-null    float64 \n",
      " 9   Percent Black or African American alone                               820 non-null    float64 \n",
      " 10  Percent American Indian and Alaska Native alone                       820 non-null    float64 \n",
      " 11  Percent Asian alone                                                   820 non-null    float64 \n",
      " 12  Percent Native Hawaiian and Other Pacific Islander alone              820 non-null    float64 \n",
      " 13  Percent Some other race alone                                         820 non-null    float64 \n",
      " 14  Percent Two or more races:                                            820 non-null    float64 \n",
      " 15  Percent Two races including Some other race                           820 non-null    float64 \n",
      " 16  Percent Two races excluding Some other race, and three or more races  820 non-null    float64 \n",
      " 17  Percent Owner Occupied                                                817 non-null    float64 \n",
      " 18  Percent Renter Occupied                                               817 non-null    float64 \n",
      " 19  Total:                                                                822 non-null    float64 \n",
      " 20  Percent <$10,000                                                      817 non-null    float64 \n",
      " 21  Percent $10,000-$14,999                                               817 non-null    float64 \n",
      " 22  Percent $15,000 - $19,999                                             817 non-null    float64 \n",
      " 23  Percent $20,000 - $24,999                                             817 non-null    float64 \n",
      " 24  Percent $25,000 - $29,999                                             817 non-null    float64 \n",
      " 25  Percent $30,000 - $34,999                                             817 non-null    float64 \n",
      " 26  Percent $35,000 - $39,999                                             817 non-null    float64 \n",
      " 27  Percent $40,000 - $44,999                                             817 non-null    float64 \n",
      " 28  Percent $45,000 - $49,999                                             817 non-null    float64 \n",
      " 29  Percent $50,000 - $59,999                                             817 non-null    float64 \n",
      " 30  Percent $60,000 - $74,999                                             817 non-null    float64 \n",
      " 31  Percent $75,000 - $99,999                                             817 non-null    float64 \n",
      " 32  Percent $100,000 - $124,999                                           817 non-null    float64 \n",
      " 33  Percent $125,000 - $149,999                                           817 non-null    float64 \n",
      " 34  Percent $150,000 - $199,999                                           817 non-null    float64 \n",
      " 35  Percent $200,000 or more                                              817 non-null    float64 \n",
      " 36  Total_Educ                                                            822 non-null    float64 \n",
      " 37  Percent No schooling completed                                        820 non-null    float64 \n",
      " 38  Percent high school diploma                                           820 non-null    float64 \n",
      " 39  Percent Associates degree                                             820 non-null    float64 \n",
      " 40  Percent Bachelors degree                                              820 non-null    float64 \n",
      " 41  Percent Masters degree                                                820 non-null    float64 \n",
      " 42  Percent Professional school degree                                    820 non-null    float64 \n",
      " 43  Percent Doctorate degree                                              820 non-null    float64 \n",
      " 44  Percent less_highschool                                               820 non-null    float64 \n",
      " 45  Percent some_college                                                  820 non-null    float64 \n",
      " 46  Total Workers:                                                        822 non-null    float64 \n",
      " 47  Percent Employee of private company workers                           818 non-null    float64 \n",
      " 48  Percent Self-employed in own incorporated business workers            818 non-null    float64 \n",
      " 49  Percent Private not-for-profit wage and salary workers                818 non-null    float64 \n",
      " 50  Percent Local government workers                                      818 non-null    float64 \n",
      " 51  Percent State government workers                                      818 non-null    float64 \n",
      " 52  Percent Federal government workers                                    818 non-null    float64 \n",
      " 53  Percent Self-employed in own not incorporated business workers        818 non-null    float64 \n",
      " 54  Percent Unpaid family workers                                         818 non-null    float64 \n",
      "dtypes: float64(49), geometry(1), object(5)\n",
      "memory usage: 359.6+ KB\n"
     ]
    }
   ],
   "source": [
    "census_gdf.info()"
   ]
  },
  {
   "cell_type": "code",
   "execution_count": 68,
   "id": "f946576a-c45f-498d-bc3a-e09411600180",
   "metadata": {},
   "outputs": [],
   "source": [
    "census_gdf = census_gdf.drop(columns = ['Total:']  , axis=1)"
   ]
  },
  {
   "cell_type": "code",
   "execution_count": 69,
   "id": "c4eec080-4798-4e3f-959f-78a4e33144c3",
   "metadata": {},
   "outputs": [],
   "source": [
    "census_gdf.rename(columns={\"Total Workers:\":\"Total Workers\",\"state_left\":\"state\",\"county_left\":\"county\",\"tract_left\":\"tract\",\"NAME_left\":\"NAME\",\"GEOID_left\":\"GEO_ID\"}, inplace=True)"
   ]
  },
  {
   "cell_type": "code",
   "execution_count": 70,
   "id": "505226d2-9d6f-44fb-99cb-7a835d9cfd3b",
   "metadata": {},
   "outputs": [
    {
     "name": "stdout",
     "output_type": "stream",
     "text": [
      "<class 'geopandas.geodataframe.GeoDataFrame'>\n",
      "Int64Index: 822 entries, 0 to 821\n",
      "Data columns (total 54 columns):\n",
      " #   Column                                                                Non-Null Count  Dtype   \n",
      "---  ------                                                                --------------  -----   \n",
      " 0   GEOID                                                                 822 non-null    object  \n",
      " 1   geometry                                                              822 non-null    geometry\n",
      " 2   Total Pop                                                             822 non-null    float64 \n",
      " 3   Median HH Income                                                      817 non-null    float64 \n",
      " 4   NAME                                                                  822 non-null    object  \n",
      " 5   state                                                                 822 non-null    object  \n",
      " 6   county                                                                822 non-null    object  \n",
      " 7   tract                                                                 822 non-null    object  \n",
      " 8   Percent White alone                                                   820 non-null    float64 \n",
      " 9   Percent Black or African American alone                               820 non-null    float64 \n",
      " 10  Percent American Indian and Alaska Native alone                       820 non-null    float64 \n",
      " 11  Percent Asian alone                                                   820 non-null    float64 \n",
      " 12  Percent Native Hawaiian and Other Pacific Islander alone              820 non-null    float64 \n",
      " 13  Percent Some other race alone                                         820 non-null    float64 \n",
      " 14  Percent Two or more races:                                            820 non-null    float64 \n",
      " 15  Percent Two races including Some other race                           820 non-null    float64 \n",
      " 16  Percent Two races excluding Some other race, and three or more races  820 non-null    float64 \n",
      " 17  Percent Owner Occupied                                                817 non-null    float64 \n",
      " 18  Percent Renter Occupied                                               817 non-null    float64 \n",
      " 19  Percent <$10,000                                                      817 non-null    float64 \n",
      " 20  Percent $10,000-$14,999                                               817 non-null    float64 \n",
      " 21  Percent $15,000 - $19,999                                             817 non-null    float64 \n",
      " 22  Percent $20,000 - $24,999                                             817 non-null    float64 \n",
      " 23  Percent $25,000 - $29,999                                             817 non-null    float64 \n",
      " 24  Percent $30,000 - $34,999                                             817 non-null    float64 \n",
      " 25  Percent $35,000 - $39,999                                             817 non-null    float64 \n",
      " 26  Percent $40,000 - $44,999                                             817 non-null    float64 \n",
      " 27  Percent $45,000 - $49,999                                             817 non-null    float64 \n",
      " 28  Percent $50,000 - $59,999                                             817 non-null    float64 \n",
      " 29  Percent $60,000 - $74,999                                             817 non-null    float64 \n",
      " 30  Percent $75,000 - $99,999                                             817 non-null    float64 \n",
      " 31  Percent $100,000 - $124,999                                           817 non-null    float64 \n",
      " 32  Percent $125,000 - $149,999                                           817 non-null    float64 \n",
      " 33  Percent $150,000 - $199,999                                           817 non-null    float64 \n",
      " 34  Percent $200,000 or more                                              817 non-null    float64 \n",
      " 35  Total_Educ                                                            822 non-null    float64 \n",
      " 36  Percent No schooling completed                                        820 non-null    float64 \n",
      " 37  Percent high school diploma                                           820 non-null    float64 \n",
      " 38  Percent Associates degree                                             820 non-null    float64 \n",
      " 39  Percent Bachelors degree                                              820 non-null    float64 \n",
      " 40  Percent Masters degree                                                820 non-null    float64 \n",
      " 41  Percent Professional school degree                                    820 non-null    float64 \n",
      " 42  Percent Doctorate degree                                              820 non-null    float64 \n",
      " 43  Percent less_highschool                                               820 non-null    float64 \n",
      " 44  Percent some_college                                                  820 non-null    float64 \n",
      " 45  Total Workers                                                         822 non-null    float64 \n",
      " 46  Percent Employee of private company workers                           818 non-null    float64 \n",
      " 47  Percent Self-employed in own incorporated business workers            818 non-null    float64 \n",
      " 48  Percent Private not-for-profit wage and salary workers                818 non-null    float64 \n",
      " 49  Percent Local government workers                                      818 non-null    float64 \n",
      " 50  Percent State government workers                                      818 non-null    float64 \n",
      " 51  Percent Federal government workers                                    818 non-null    float64 \n",
      " 52  Percent Self-employed in own not incorporated business workers        818 non-null    float64 \n",
      " 53  Percent Unpaid family workers                                         818 non-null    float64 \n",
      "dtypes: float64(48), geometry(1), object(5)\n",
      "memory usage: 353.2+ KB\n"
     ]
    }
   ],
   "source": [
    "census_gdf.info()"
   ]
  },
  {
   "cell_type": "code",
   "execution_count": 71,
   "id": "bbc4e7c5-61e8-4170-a0d2-72aa8528c1e6",
   "metadata": {},
   "outputs": [
    {
     "data": {
      "text/plain": [
       "<Axes: >"
      ]
     },
     "execution_count": 71,
     "metadata": {},
     "output_type": "execute_result"
    },
    {
     "data": {
      "image/png": "[encoded data removed]",
      "text/plain": [
       "<Figure size 640x480 with 1 Axes>"
      ]
     },
     "metadata": {},
     "output_type": "display_data"
    }
   ],
   "source": [
    "census_gdf.plot()"
   ]
  },
  {
   "cell_type": "code",
   "execution_count": 72,
   "id": "cf8446f8-403f-4684-9042-99be6f648173",
   "metadata": {},
   "outputs": [],
   "source": [
    "census_gdf.to_file('census_2019.GPKG', driver='GPKG')"
   ]
  },
  {
   "cell_type": "code",
   "execution_count": null,
   "id": "e400e29f-107f-43d1-9a99-b2c13e798b2b",
   "metadata": {},
   "outputs": [],
   "source": []
  }
 ],
 "metadata": {
  "kernelspec": {
   "display_name": "Python 3 (ipykernel)",
   "language": "python",
   "name": "python3"
  },
  "language_info": {
   "codemirror_mode": {
    "name": "ipython",
    "version": 3
   },
   "file_extension": ".py",
   "mimetype": "text/x-python",
   "name": "python",
   "nbconvert_exporter": "python",
   "pygments_lexer": "ipython3",
   "version": "3.9.16"
  }
 },
 "nbformat": 4,
 "nbformat_minor": 5
}
