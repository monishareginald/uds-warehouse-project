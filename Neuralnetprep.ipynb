{
 "cells": [
  {
   "cell_type": "markdown",
   "id": "c4bb301a-4244-4363-851b-1937acddf8b0",
   "metadata": {},
   "source": [
    "## Neural Network Model"
   ]
  },
  {
   "cell_type": "code",
   "execution_count": null,
   "id": "5072a3ba-730e-4b3d-8928-515ebf952f56",
   "metadata": {},
   "outputs": [],
   "source": [
    "#import libraries \n",
    "import pandas as pd\n",
    "import geopandas as gpd\n",
    "from sklearn.model_selection import train_test_split\n",
    "from sklearn.metrics import classification_report, confusion_matrix, accuracy_score, ConfusionMatrixDisplay"
   ]
  },
  {
   "cell_type": "code",
   "execution_count": 3,
   "id": "5ac65256-5d83-4d08-a7d3-33dc79e66267",
   "metadata": {},
   "outputs": [],
   "source": [
    "#read in data\n",
    "df = gpd.read_file('XXX')"
   ]
  },
  {
   "cell_type": "code",
   "execution_count": null,
   "id": "1d70d205-bed5-4439-b9d2-34101b52d80a",
   "metadata": {},
   "outputs": [],
   "source": [
    "#define variables\n",
    "\n",
    "xvars = []\n",
    "yvar = 'X'\n",
    "\n",
    "#create dataframe to fit\n",
    "df_to_fit = df[xvars+[yvar]].dropna()"
   ]
  },
  {
   "cell_type": "code",
   "execution_count": 4,
   "id": "a6f7789d-ceaa-49d2-aca2-9864c0a8612b",
   "metadata": {},
   "outputs": [],
   "source": [
    "#standardize data\n",
    "cols_to_exclude = []\n",
    "otherCols = [col for col in df_to_fit.columns if col not in cols_to_exclude]\n",
    "otherCoLs"
   ]
  },
  {
   "cell_type": "code",
   "execution_count": null,
   "id": "f44b2833-2554-4da3-af1c-7da86d8e4e70",
   "metadata": {},
   "outputs": [],
   "source": [
    "#scale \"otherCols\"\n",
    "from sklearn import preprocessing\n",
    "scaler = preprocessing.StandardScaler().fit(df_to_fit[otherCols])\n",
    "\n",
    "# convert to DataFrame and specify the column names and index\n",
    "df_scaled = pd.DataFrame(scaler.transform(df_to_fit[otherCols]), \n",
    "                         columns=otherCols, index=df_to_fit.index)\n",
    "\n",
    "# create a DataFrame with these scaled columns joined to the columns that we didn't scale\n",
    "df_scaled = df_scaled.join(df_to_fit[cols_to_exclude])\n",
    "\n",
    "df_scaled.head()"
   ]
  },
  {
   "cell_type": "code",
   "execution_count": null,
   "id": "c9ac4e27-fe22-4870-9793-0141196759a8",
   "metadata": {},
   "outputs": [],
   "source": [
    "#train test split\n",
    "X_train, X_test, y_train, y_test = train_test_split(\n",
    "      df_scaled[xvars], df_scaled[yvar], test_size = 0.25, random_state = 1)"
   ]
  },
  {
   "cell_type": "code",
   "execution_count": null,
   "id": "fa5df922-5a40-4cd5-a44c-b3c8adf70b4a",
   "metadata": {},
   "outputs": [],
   "source": [
    "#predict\n",
    "from sklearn.neural_network import MLPClassifier\n",
    "mlp = MLPClassifier(hidden_layer_sizes=(10, 10, 10), max_iter=1000)\n",
    "mlp.fit(X_train, y_train)\n",
    "y_pred = mlp.predict(X_test)"
   ]
  },
  {
   "cell_type": "code",
   "execution_count": null,
   "id": "5aa588c4-b747-4771-9469-7265fa17184d",
   "metadata": {},
   "outputs": [],
   "source": [
    "#check how it did\n",
    "print(classification_report(y_test, y_pred))"
   ]
  },
  {
   "cell_type": "code",
   "execution_count": null,
   "id": "d1196860-e60c-4529-864e-704f3e63bc15",
   "metadata": {},
   "outputs": [],
   "source": [
    "#confusion matrix\n",
    "ConfusionMatrixDisplay.from_predictions(y_test, y_pred)"
   ]
  }
 ],
 "metadata": {
  "kernelspec": {
   "display_name": "Python 3 (ipykernel)",
   "language": "python",
   "name": "python3"
  },
  "language_info": {
   "codemirror_mode": {
    "name": "ipython",
    "version": 3
   },
   "file_extension": ".py",
   "mimetype": "text/x-python",
   "name": "python",
   "nbconvert_exporter": "python",
   "pygments_lexer": "ipython3",
   "version": "3.9.16"
  }
 },
 "nbformat": 4,
 "nbformat_minor": 5
}
