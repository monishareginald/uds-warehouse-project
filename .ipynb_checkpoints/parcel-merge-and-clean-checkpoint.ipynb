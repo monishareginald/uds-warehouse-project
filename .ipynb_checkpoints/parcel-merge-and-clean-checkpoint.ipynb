{
 "cells": [
  {
   "cell_type": "markdown",
   "id": "9312c4eb-748a-439d-92e0-fc6b8b42283e",
   "metadata": {},
   "source": [
    "<b>Data Sources</b>\n",
    "* Data on parcels from [San Bernardino Open Data Portal](https://open.sbcounty.gov/datasets/countywide-parcels/about) and <>INSERT SOURCE FOR RIVERSIDE HERE<>\n",
    "* Shapefiles for National Highway Freight Network from [Federal Highway Administration ](https://fpcb.ops.fhwa.dot.gov/tools_nhfn.aspx)\n",
    "* Data on warehouse locations and year built from [Warehouse CITY](https://radicalresearch.shinyapps.io/WarehouseCITY)"
   ]
  },
  {
   "cell_type": "code",
   "execution_count": 1,
   "id": "996304c7-4d61-489a-ace3-54481637b21c",
   "metadata": {},
   "outputs": [],
   "source": [
    "import pandas as pd\n",
    "import geopandas as gpd\n",
    "import matplotlib.pyplot as plt\n",
    "import contextily as ctx"
   ]
  },
  {
   "cell_type": "markdown",
   "id": "80f33830-7e83-4747-aed7-30ec69a50dae",
   "metadata": {},
   "source": [
    "<b>Part 1: Merge Assessor Parcels Together</b>"
   ]
  },
  {
   "cell_type": "markdown",
   "id": "aef23f6f-f096-4fbc-ae6f-7ce4dd1c69f1",
   "metadata": {},
   "source": [
    "Import Riverside data and clean it up so that it matches San Bernardino data"
   ]
  },
  {
   "cell_type": "code",
   "execution_count": 2,
   "id": "0e96954a-c13d-4590-aedf-6a2b1c05939d",
   "metadata": {},
   "outputs": [
    {
     "name": "stdout",
     "output_type": "stream",
     "text": [
      "True\n"
     ]
    },
    {
     "data": {
      "text/html": [
       "<div>\n",
       "<style scoped>\n",
       "    .dataframe tbody tr th:only-of-type {\n",
       "        vertical-align: middle;\n",
       "    }\n",
       "\n",
       "    .dataframe tbody tr th {\n",
       "        vertical-align: top;\n",
       "    }\n",
       "\n",
       "    .dataframe thead th {\n",
       "        text-align: right;\n",
       "    }\n",
       "</style>\n",
       "<table border=\"1\" class=\"dataframe\">\n",
       "  <thead>\n",
       "    <tr style=\"text-align: right;\">\n",
       "      <th></th>\n",
       "      <th>LAND_VALUE</th>\n",
       "      <th>geometry</th>\n",
       "    </tr>\n",
       "    <tr>\n",
       "      <th>APN</th>\n",
       "      <th></th>\n",
       "      <th></th>\n",
       "    </tr>\n",
       "  </thead>\n",
       "  <tbody>\n",
       "    <tr>\n",
       "      <th>101020003</th>\n",
       "      <td>913089.0</td>\n",
       "      <td>POLYGON ((6144418.489 2282740.357, 6144418.117...</td>\n",
       "    </tr>\n",
       "    <tr>\n",
       "      <th>101030005</th>\n",
       "      <td>71609.0</td>\n",
       "      <td>POLYGON ((6148748.783 2277997.776, 6148761.957...</td>\n",
       "    </tr>\n",
       "    <tr>\n",
       "      <th>101020005</th>\n",
       "      <td>249728.0</td>\n",
       "      <td>POLYGON ((6135980.318 2280787.576, 6136129.368...</td>\n",
       "    </tr>\n",
       "    <tr>\n",
       "      <th>101030007</th>\n",
       "      <td>9027.0</td>\n",
       "      <td>POLYGON ((6148745.188 2277443.456, 6148115.179...</td>\n",
       "    </tr>\n",
       "    <tr>\n",
       "      <th>101040001</th>\n",
       "      <td>20601.0</td>\n",
       "      <td>POLYGON ((6136604.245 2277632.378, 6136592.169...</td>\n",
       "    </tr>\n",
       "  </tbody>\n",
       "</table>\n",
       "</div>"
      ],
      "text/plain": [
       "           LAND_VALUE                                           geometry\n",
       "APN                                                                     \n",
       "101020003    913089.0  POLYGON ((6144418.489 2282740.357, 6144418.117...\n",
       "101030005     71609.0  POLYGON ((6148748.783 2277997.776, 6148761.957...\n",
       "101020005    249728.0  POLYGON ((6135980.318 2280787.576, 6136129.368...\n",
       "101030007      9027.0  POLYGON ((6148745.188 2277443.456, 6148115.179...\n",
       "101040001     20601.0  POLYGON ((6136604.245 2277632.378, 6136592.169..."
      ]
     },
     "execution_count": 2,
     "metadata": {},
     "output_type": "execute_result"
    }
   ],
   "source": [
    "# import data for all parcels in Riverside County\n",
    "riverside = gpd.read_file('riversideparcels/riversideparcels.shp')\n",
    "# set APN to be the index\n",
    "riverside.set_index('APN',inplace=True)\n",
    "# drop unneccessary columns\n",
    "riverside=riverside[['LAND','geometry']]\n",
    "# rename columns to match san bernardino parcels\n",
    "riverside.rename(columns={'LAND':'LAND_VALUE'},inplace=True)\n",
    "# check if APN is unique\n",
    "print(riverside.index.is_unique)\n",
    "riverside.head(5)"
   ]
  },
  {
   "cell_type": "markdown",
   "id": "e190c0b7-eaac-4239-ab18-a1157ef172ce",
   "metadata": {},
   "source": [
    "Import San Bernardino data and clean it up so that it matches Riverside data"
   ]
  },
  {
   "cell_type": "code",
   "execution_count": 3,
   "id": "f47ee7cb-c592-47d4-beb7-402ab61935ff",
   "metadata": {},
   "outputs": [
    {
     "data": {
      "text/plain": [
       "False"
      ]
     },
     "execution_count": 3,
     "metadata": {},
     "output_type": "execute_result"
    }
   ],
   "source": [
    "# import data for all parcels in San Bernadino County downloaded from https://open.sbcounty.gov/datasets/countywide-parcels/about.\n",
    "sanbernardino = gpd.read_file('data/countywide_parcels/pbmpoly.shp')\n",
    "# keep just columns we need to reduce file size\n",
    "sanbernardino=sanbernardino[['APN','LAND_VALUE', 'geometry']]\n",
    "# set APN to be the index\n",
    "sanbernardino.set_index('APN',inplace=True)\n",
    "# check that it is unique\n",
    "sanbernardino.index.is_unique"
   ]
  },
  {
   "cell_type": "code",
   "execution_count": 4,
   "id": "a4645489-7a4a-4915-bebd-78727cc9139c",
   "metadata": {},
   "outputs": [],
   "source": [
    "riverside.index = riverside.index.astype('int64')"
   ]
  },
  {
   "cell_type": "code",
   "execution_count": 5,
   "id": "aa64d54e-20ec-4ffb-85b8-1b949dc54dc9",
   "metadata": {},
   "outputs": [
    {
     "name": "stdout",
     "output_type": "stream",
     "text": [
      "True\n"
     ]
    },
    {
     "data": {
      "text/html": [
       "<div>\n",
       "<style scoped>\n",
       "    .dataframe tbody tr th:only-of-type {\n",
       "        vertical-align: middle;\n",
       "    }\n",
       "\n",
       "    .dataframe tbody tr th {\n",
       "        vertical-align: top;\n",
       "    }\n",
       "\n",
       "    .dataframe thead th {\n",
       "        text-align: right;\n",
       "    }\n",
       "</style>\n",
       "<table border=\"1\" class=\"dataframe\">\n",
       "  <thead>\n",
       "    <tr style=\"text-align: right;\">\n",
       "      <th></th>\n",
       "      <th>geometry</th>\n",
       "      <th>LAND_VALUE</th>\n",
       "    </tr>\n",
       "    <tr>\n",
       "      <th>APN</th>\n",
       "      <th></th>\n",
       "      <th></th>\n",
       "    </tr>\n",
       "  </thead>\n",
       "  <tbody>\n",
       "    <tr>\n",
       "      <th>0</th>\n",
       "      <td>MULTIPOLYGON (((6675702.282 1871816.103, 66757...</td>\n",
       "      <td>0.0</td>\n",
       "    </tr>\n",
       "    <tr>\n",
       "      <th>000000000</th>\n",
       "      <td>MULTIPOLYGON (((6692866.784 1825606.796, 66928...</td>\n",
       "      <td>0.0</td>\n",
       "    </tr>\n",
       "    <tr>\n",
       "      <th>010829107</th>\n",
       "      <td>POLYGON ((6675457.139 1853449.721, 6676118.522...</td>\n",
       "      <td>0.0</td>\n",
       "    </tr>\n",
       "    <tr>\n",
       "      <th>010829113</th>\n",
       "      <td>POLYGON ((6676118.522 1853450.723, 6676250.489...</td>\n",
       "      <td>0.0</td>\n",
       "    </tr>\n",
       "    <tr>\n",
       "      <th>010829114</th>\n",
       "      <td>POLYGON ((6676250.489 1853450.923, 6676382.774...</td>\n",
       "      <td>0.0</td>\n",
       "    </tr>\n",
       "  </tbody>\n",
       "</table>\n",
       "</div>"
      ],
      "text/plain": [
       "                                                    geometry  LAND_VALUE\n",
       "APN                                                                     \n",
       "0          MULTIPOLYGON (((6675702.282 1871816.103, 66757...         0.0\n",
       "000000000  MULTIPOLYGON (((6692866.784 1825606.796, 66928...         0.0\n",
       "010829107  POLYGON ((6675457.139 1853449.721, 6676118.522...         0.0\n",
       "010829113  POLYGON ((6676118.522 1853450.723, 6676250.489...         0.0\n",
       "010829114  POLYGON ((6676250.489 1853450.923, 6676382.774...         0.0"
      ]
     },
     "execution_count": 5,
     "metadata": {},
     "output_type": "execute_result"
    }
   ],
   "source": [
    "# dissolve parcel subdivisions\n",
    "sanbernardino = sanbernardino.dissolve(by='APN',aggfunc={\"LAND_VALUE\": 'sum'})\n",
    "print(sanbernardino.index.is_unique)\n",
    "sanbernardino.head()"
   ]
  },
  {
   "cell_type": "code",
   "execution_count": null,
   "id": "bcaed1b0-e485-435b-bf08-2aeb84b3220c",
   "metadata": {},
   "outputs": [],
   "source": [
    "sanbernardino.index = sanbernardino.index.astype('int64')"
   ]
  },
  {
   "cell_type": "markdown",
   "id": "970d3afa-3670-4c32-8ac8-126c90782be4",
   "metadata": {},
   "source": [
    "Concatenate the two datasets!"
   ]
  },
  {
   "cell_type": "code",
   "execution_count": 6,
   "id": "111281ef-50bd-45f6-9988-557578a9c3d8",
   "metadata": {},
   "outputs": [
    {
     "data": {
      "text/html": [
       "<div>\n",
       "<style scoped>\n",
       "    .dataframe tbody tr th:only-of-type {\n",
       "        vertical-align: middle;\n",
       "    }\n",
       "\n",
       "    .dataframe tbody tr th {\n",
       "        vertical-align: top;\n",
       "    }\n",
       "\n",
       "    .dataframe thead th {\n",
       "        text-align: right;\n",
       "    }\n",
       "</style>\n",
       "<table border=\"1\" class=\"dataframe\">\n",
       "  <thead>\n",
       "    <tr style=\"text-align: right;\">\n",
       "      <th></th>\n",
       "      <th>LAND_VALUE</th>\n",
       "      <th>geometry</th>\n",
       "    </tr>\n",
       "    <tr>\n",
       "      <th>APN</th>\n",
       "      <th></th>\n",
       "      <th></th>\n",
       "    </tr>\n",
       "  </thead>\n",
       "  <tbody>\n",
       "    <tr>\n",
       "      <th>338350004</th>\n",
       "      <td>91800.0</td>\n",
       "      <td>POLYGON ((6806943.453 1708917.087, 6806944.638...</td>\n",
       "    </tr>\n",
       "    <tr>\n",
       "      <th>338082002</th>\n",
       "      <td>66929.0</td>\n",
       "      <td>POLYGON ((6805813.349 1713461.683, 6805829.138...</td>\n",
       "    </tr>\n",
       "    <tr>\n",
       "      <th>234080016</th>\n",
       "      <td>14239.0</td>\n",
       "      <td>POLYGON ((6728006.205 1791941.700, 6727760.435...</td>\n",
       "    </tr>\n",
       "    <tr>\n",
       "      <th>652052002</th>\n",
       "      <td>123739.0</td>\n",
       "      <td>POLYGON ((7050253.884 1716551.776, 7050257.233...</td>\n",
       "    </tr>\n",
       "    <tr>\n",
       "      <th>661083008</th>\n",
       "      <td>35700.0</td>\n",
       "      <td>POLYGON ((7004864.584 1817757.385, 7004860.857...</td>\n",
       "    </tr>\n",
       "  </tbody>\n",
       "</table>\n",
       "</div>"
      ],
      "text/plain": [
       "           LAND_VALUE                                           geometry\n",
       "APN                                                                     \n",
       "338350004     91800.0  POLYGON ((6806943.453 1708917.087, 6806944.638...\n",
       "338082002     66929.0  POLYGON ((6805813.349 1713461.683, 6805829.138...\n",
       "234080016     14239.0  POLYGON ((6728006.205 1791941.700, 6727760.435...\n",
       "652052002    123739.0  POLYGON ((7050253.884 1716551.776, 7050257.233...\n",
       "661083008     35700.0  POLYGON ((7004864.584 1817757.385, 7004860.857..."
      ]
     },
     "execution_count": 6,
     "metadata": {},
     "output_type": "execute_result"
    }
   ],
   "source": [
    "# riverside and san bernardino have different projections, but we're going to go with san bernardino (2229) because it's the same as LA County\n",
    "riverside=riverside.to_crs(2229)\n",
    "# concatenate\n",
    "parcels = pd.concat([riverside, sanbernardino])\n",
    "parcels.sample(5)"
   ]
  },
  {
   "cell_type": "code",
   "execution_count": 8,
   "id": "6e4c0317-dccd-407a-885e-bc8a457f05bc",
   "metadata": {},
   "outputs": [
    {
     "data": {
      "text/html": [
       "<div>\n",
       "<style scoped>\n",
       "    .dataframe tbody tr th:only-of-type {\n",
       "        vertical-align: middle;\n",
       "    }\n",
       "\n",
       "    .dataframe tbody tr th {\n",
       "        vertical-align: top;\n",
       "    }\n",
       "\n",
       "    .dataframe thead th {\n",
       "        text-align: right;\n",
       "    }\n",
       "</style>\n",
       "<table border=\"1\" class=\"dataframe\">\n",
       "  <thead>\n",
       "    <tr style=\"text-align: right;\">\n",
       "      <th></th>\n",
       "      <th>LAND_VALUE</th>\n",
       "      <th>geometry</th>\n",
       "    </tr>\n",
       "    <tr>\n",
       "      <th>APN</th>\n",
       "      <th></th>\n",
       "      <th></th>\n",
       "    </tr>\n",
       "  </thead>\n",
       "  <tbody>\n",
       "    <tr>\n",
       "      <th>156030046</th>\n",
       "      <td>1871306.0</td>\n",
       "      <td>POLYGON ((6700449.361 1830840.949, 6700447.422...</td>\n",
       "    </tr>\n",
       "  </tbody>\n",
       "</table>\n",
       "</div>"
      ],
      "text/plain": [
       "           LAND_VALUE                                           geometry\n",
       "APN                                                                     \n",
       "156030046   1871306.0  POLYGON ((6700449.361 1830840.949, 6700447.422..."
      ]
     },
     "execution_count": 8,
     "metadata": {},
     "output_type": "execute_result"
    }
   ],
   "source": [
    "check1 = parcels[parcels.index==156030046]\n",
    "check1"
   ]
  },
  {
   "cell_type": "code",
   "execution_count": 81,
   "id": "856b9e49-9d43-43ba-bf3e-2d772c52c7a9",
   "metadata": {},
   "outputs": [
    {
     "name": "stdout",
     "output_type": "stream",
     "text": [
      "True\n"
     ]
    }
   ],
   "source": [
    "print(len(riverside)+len(sanbernardino)==len(parcels))"
   ]
  },
  {
   "cell_type": "markdown",
   "id": "36b405d9-7d32-43ea-a365-49aa6bf9eac6",
   "metadata": {},
   "source": [
    "<b>Part 2: Calculate Distance to Freight</b><br>\n",
    "Here we use shapefiles of the locations of the National Highway Freight Network to calculate the distance from each parcel to the network."
   ]
  },
  {
   "cell_type": "code",
   "execution_count": null,
   "id": "11019d49-ad30-4053-892f-de01b52868d1",
   "metadata": {},
   "outputs": [],
   "source": [
    "freight = gpd.read_file('data/NHFN_GIS_Shapefiles_Jan_2022/PublicRelease/National-NHFN-2022.shp')\n",
    "# Keep just columns we need to reduce file size.\n",
    "freight=freight[['NHFN_CODE','geometry']]\n",
    "# join info about nearest freight route to each parcel \n",
    "parcels = gpd.sjoin_nearest(parcels, freight.to_crs(2229), how='left',rsuffix='freight',distance_col=\"distances\",max_distance=400000)"
   ]
  },
  {
   "cell_type": "code",
   "execution_count": null,
   "id": "81afbdf8-fb3c-43ad-bafd-8cd67a110475",
   "metadata": {},
   "outputs": [],
   "source": [
    "check2 = parcels[parcels.index==156030046]\n",
    "check2"
   ]
  },
  {
   "cell_type": "code",
   "execution_count": null,
   "id": "577252a6-a46e-4755-accd-31f65a0944bc",
   "metadata": {},
   "outputs": [],
   "source": [
    "# plot 10% of parcels (to reduce drawing time) to make sure results seem reasonable\n",
    "minx, miny, maxx, maxy = parcels.geometry.total_bounds\n",
    "fig, ax = plt.subplots(figsize=(8, 6))\n",
    "parcels.sample(frac=0.1).plot(ax=ax,column='distances',legend=True,cmap='BrBG_r')\n",
    "freight.to_crs(2229).plot(ax=ax,color='grey')\n",
    "ax.axis('off')\n",
    "ax.set_xlim(minx-10000,maxx+10000)\n",
    "ax.set_ylim(miny-10000,maxy+10000)\n",
    "ax.set_title('Distance to National Highway Freight Network')\n",
    "#ctx.add_basemap(ax, source=ctx.providers.CartoDB.Positron, crs=2229)"
   ]
  },
  {
   "cell_type": "markdown",
   "id": "9822557a-41cd-4260-acc1-906f797d9643",
   "metadata": {},
   "source": [
    "<b>Part 3: Determine Presence of Warehouses</b>"
   ]
  },
  {
   "cell_type": "code",
   "execution_count": 59,
   "id": "30148be0-bda3-4a51-be52-b359c46a97ae",
   "metadata": {},
   "outputs": [
    {
     "data": {
      "text/html": [
       "<div>\n",
       "<style scoped>\n",
       "    .dataframe tbody tr th:only-of-type {\n",
       "        vertical-align: middle;\n",
       "    }\n",
       "\n",
       "    .dataframe tbody tr th {\n",
       "        vertical-align: top;\n",
       "    }\n",
       "\n",
       "    .dataframe thead th {\n",
       "        text-align: right;\n",
       "    }\n",
       "</style>\n",
       "<table border=\"1\" class=\"dataframe\">\n",
       "  <thead>\n",
       "    <tr style=\"text-align: right;\">\n",
       "      <th></th>\n",
       "      <th>Category</th>\n",
       "      <th>APN</th>\n",
       "      <th>building_class</th>\n",
       "      <th>year</th>\n",
       "      <th>acres</th>\n",
       "      <th>sqft</th>\n",
       "    </tr>\n",
       "  </thead>\n",
       "  <tbody>\n",
       "    <tr>\n",
       "      <th>0</th>\n",
       "      <td>Planned and Approved</td>\n",
       "      <td>World Logistics Center</td>\n",
       "      <td>TBD</td>\n",
       "      <td>2025</td>\n",
       "      <td>2650</td>\n",
       "      <td>63499000</td>\n",
       "    </tr>\n",
       "    <tr>\n",
       "      <th>1</th>\n",
       "      <td>Planned and Approved</td>\n",
       "      <td>Legacy Highlands Phase II Specific Plan</td>\n",
       "      <td>TBD</td>\n",
       "      <td>2025</td>\n",
       "      <td>1386</td>\n",
       "      <td>33207000</td>\n",
       "    </tr>\n",
       "    <tr>\n",
       "      <th>2</th>\n",
       "      <td>Planned and Approved</td>\n",
       "      <td>Airport Gateway Specific Plan Area</td>\n",
       "      <td>TBD</td>\n",
       "      <td>2025</td>\n",
       "      <td>613</td>\n",
       "      <td>14689000</td>\n",
       "    </tr>\n",
       "    <tr>\n",
       "      <th>3</th>\n",
       "      <td>Planned and Approved</td>\n",
       "      <td>Stoneridge Commerce Center</td>\n",
       "      <td>TBD</td>\n",
       "      <td>2025</td>\n",
       "      <td>606</td>\n",
       "      <td>14523000</td>\n",
       "    </tr>\n",
       "    <tr>\n",
       "      <th>4</th>\n",
       "      <td>Planned and Approved</td>\n",
       "      <td>Speedway Commerce Center</td>\n",
       "      <td>TBD</td>\n",
       "      <td>2025</td>\n",
       "      <td>464</td>\n",
       "      <td>11118000</td>\n",
       "    </tr>\n",
       "  </tbody>\n",
       "</table>\n",
       "</div>"
      ],
      "text/plain": [
       "               Category                                      APN  \\\n",
       "0  Planned and Approved                   World Logistics Center   \n",
       "1  Planned and Approved  Legacy Highlands Phase II Specific Plan   \n",
       "2  Planned and Approved       Airport Gateway Specific Plan Area   \n",
       "3  Planned and Approved               Stoneridge Commerce Center   \n",
       "4  Planned and Approved                 Speedway Commerce Center   \n",
       "\n",
       "  building_class  year  acres      sqft  \n",
       "0            TBD  2025   2650  63499000  \n",
       "1            TBD  2025   1386  33207000  \n",
       "2            TBD  2025    613  14689000  \n",
       "3            TBD  2025    606  14523000  \n",
       "4            TBD  2025    464  11118000  "
      ]
     },
     "execution_count": 59,
     "metadata": {},
     "output_type": "execute_result"
    }
   ],
   "source": [
    "# import warehouse data downloaded from Warehouse City (https://radicalresearch.shinyapps.io/WarehouseCITY/)\n",
    "warehouses = pd.read_csv('data/Warehouse_List.csv')\n",
    "\n",
    "# rename columnn names so that they don't have spaces and are easier to work with\n",
    "warehouses.rename(columns={'Assessor parcel number':'APN','Building classification':'building_class','Year built':'year',\n",
    "                           'Acres':'acres','Building sq.ft.':'sqft'},inplace=True)\n",
    "warehouses.head()"
   ]
  },
  {
   "cell_type": "markdown",
   "id": "62c6c79e-373c-467b-83c0-3319bd1bb846",
   "metadata": {},
   "source": [
    "Between the simple maps above and some additional research in the [County Zoning District Maps](https://sbcounty.maps.arcgis.com/apps/MapSeries/index.html?appid=f5a50c44766b4c36a3ae014497aa430d) we have confirmed that the duplicated Assessor Numbers are associated with parcels with multiple subdivisions with warehouses on them. We want our analysis to take place at the parcel level, so we will aggregate our data accordingly."
   ]
  },
  {
   "cell_type": "code",
   "execution_count": 62,
   "id": "ea2f7e24-9e06-45c0-8c8b-98f21ba94e65",
   "metadata": {},
   "outputs": [
    {
     "data": {
      "text/html": [
       "<div>\n",
       "<style scoped>\n",
       "    .dataframe tbody tr th:only-of-type {\n",
       "        vertical-align: middle;\n",
       "    }\n",
       "\n",
       "    .dataframe tbody tr th {\n",
       "        vertical-align: top;\n",
       "    }\n",
       "\n",
       "    .dataframe thead th {\n",
       "        text-align: right;\n",
       "    }\n",
       "</style>\n",
       "<table border=\"1\" class=\"dataframe\">\n",
       "  <thead>\n",
       "    <tr style=\"text-align: right;\">\n",
       "      <th></th>\n",
       "      <th>Category</th>\n",
       "      <th>APN</th>\n",
       "      <th>building_class</th>\n",
       "      <th>year</th>\n",
       "      <th>acres</th>\n",
       "      <th>sqft</th>\n",
       "    </tr>\n",
       "  </thead>\n",
       "  <tbody>\n",
       "    <tr>\n",
       "      <th>69</th>\n",
       "      <td>Existing</td>\n",
       "      <td>156030029</td>\n",
       "      <td>light industrial</td>\n",
       "      <td>1980</td>\n",
       "      <td>63</td>\n",
       "      <td>1502000</td>\n",
       "    </tr>\n",
       "  </tbody>\n",
       "</table>\n",
       "</div>"
      ],
      "text/plain": [
       "    Category        APN    building_class  year  acres     sqft\n",
       "69  Existing  156030029  light industrial  1980     63  1502000"
      ]
     },
     "execution_count": 62,
     "metadata": {},
     "output_type": "execute_result"
    }
   ],
   "source": [
    "check3 = warehouses[warehouses.APN==156030029]\n",
    "check3"
   ]
  },
  {
   "cell_type": "code",
   "execution_count": 63,
   "id": "365a739a-f281-4848-8976-d46050804a8c",
   "metadata": {},
   "outputs": [
    {
     "data": {
      "text/html": [
       "<div>\n",
       "<style scoped>\n",
       "    .dataframe tbody tr th:only-of-type {\n",
       "        vertical-align: middle;\n",
       "    }\n",
       "\n",
       "    .dataframe tbody tr th {\n",
       "        vertical-align: top;\n",
       "    }\n",
       "\n",
       "    .dataframe thead th {\n",
       "        text-align: right;\n",
       "    }\n",
       "</style>\n",
       "<table border=\"1\" class=\"dataframe\">\n",
       "  <thead>\n",
       "    <tr style=\"text-align: right;\">\n",
       "      <th></th>\n",
       "      <th>Category</th>\n",
       "      <th>building_class</th>\n",
       "      <th>year</th>\n",
       "      <th>acres</th>\n",
       "      <th>sqft</th>\n",
       "      <th>num_warehouses</th>\n",
       "    </tr>\n",
       "    <tr>\n",
       "      <th>APN</th>\n",
       "      <th></th>\n",
       "      <th></th>\n",
       "      <th></th>\n",
       "      <th></th>\n",
       "      <th></th>\n",
       "      <th></th>\n",
       "    </tr>\n",
       "  </thead>\n",
       "  <tbody>\n",
       "    <tr>\n",
       "      <th>8760-002-027</th>\n",
       "      <td>Existing</td>\n",
       "      <td>Warehousing, Distribution, Storage</td>\n",
       "      <td>1982</td>\n",
       "      <td>5</td>\n",
       "      <td>116000</td>\n",
       "      <td>1</td>\n",
       "    </tr>\n",
       "    <tr>\n",
       "      <th>211231024</th>\n",
       "      <td>Existing</td>\n",
       "      <td>light industrial</td>\n",
       "      <td>1980</td>\n",
       "      <td>7</td>\n",
       "      <td>159000</td>\n",
       "      <td>1</td>\n",
       "    </tr>\n",
       "    <tr>\n",
       "      <th>8005-023-020</th>\n",
       "      <td>Existing</td>\n",
       "      <td>Warehousing, Distribution, Storage</td>\n",
       "      <td>1998</td>\n",
       "      <td>2</td>\n",
       "      <td>57000</td>\n",
       "      <td>1</td>\n",
       "    </tr>\n",
       "    <tr>\n",
       "      <th>6045-022-011</th>\n",
       "      <td>Existing</td>\n",
       "      <td>Warehousing, Distribution, Storage</td>\n",
       "      <td>1980</td>\n",
       "      <td>2</td>\n",
       "      <td>45000</td>\n",
       "      <td>1</td>\n",
       "    </tr>\n",
       "    <tr>\n",
       "      <th>115200002</th>\n",
       "      <td>Existing</td>\n",
       "      <td>light industrial</td>\n",
       "      <td>2017</td>\n",
       "      <td>4</td>\n",
       "      <td>92000</td>\n",
       "      <td>1</td>\n",
       "    </tr>\n",
       "  </tbody>\n",
       "</table>\n",
       "</div>"
      ],
      "text/plain": [
       "              Category                      building_class  year  acres  \\\n",
       "APN                                                                       \n",
       "8760-002-027  Existing  Warehousing, Distribution, Storage  1982      5   \n",
       "211231024     Existing                    light industrial  1980      7   \n",
       "8005-023-020  Existing  Warehousing, Distribution, Storage  1998      2   \n",
       "6045-022-011  Existing  Warehousing, Distribution, Storage  1980      2   \n",
       "115200002     Existing                    light industrial  2017      4   \n",
       "\n",
       "                sqft  num_warehouses  \n",
       "APN                                   \n",
       "8760-002-027  116000               1  \n",
       "211231024     159000               1  \n",
       "8005-023-020   57000               1  \n",
       "6045-022-011   45000               1  \n",
       "115200002      92000               1  "
      ]
     },
     "execution_count": 63,
     "metadata": {},
     "output_type": "execute_result"
    }
   ],
   "source": [
    "# get category and buiding class associated with each parcel.\n",
    "warehouse_parcels=warehouses.groupby('APN')[['Category','building_class']].first()\n",
    "# get first year that a warehouse was built on the parcel.\n",
    "year=warehouses.groupby('APN')[['year']].min()\n",
    "# get total acres of warehouses built on the parcel.\n",
    "area=warehouses.groupby('APN')[['acres','sqft']].sum()\n",
    "# get number of warehouses\n",
    "num_warehouses=warehouses.groupby('APN').size()\n",
    "num_warehouses.name='num_warehouses'\n",
    "# join all of these column together on parcel_id.\n",
    "warehouse_parcels=warehouse_parcels.join(year).join(area).join(num_warehouses)\n",
    "warehouse_parcels.sample(5)"
   ]
  },
  {
   "cell_type": "code",
   "execution_count": 65,
   "id": "32e43e0c-5299-43fb-8e25-f95f1de150de",
   "metadata": {},
   "outputs": [
    {
     "data": {
      "text/html": [
       "<div>\n",
       "<style scoped>\n",
       "    .dataframe tbody tr th:only-of-type {\n",
       "        vertical-align: middle;\n",
       "    }\n",
       "\n",
       "    .dataframe tbody tr th {\n",
       "        vertical-align: top;\n",
       "    }\n",
       "\n",
       "    .dataframe thead th {\n",
       "        text-align: right;\n",
       "    }\n",
       "</style>\n",
       "<table border=\"1\" class=\"dataframe\">\n",
       "  <thead>\n",
       "    <tr style=\"text-align: right;\">\n",
       "      <th></th>\n",
       "      <th>Category</th>\n",
       "      <th>building_class</th>\n",
       "      <th>year</th>\n",
       "      <th>acres</th>\n",
       "      <th>sqft</th>\n",
       "      <th>num_warehouses</th>\n",
       "    </tr>\n",
       "    <tr>\n",
       "      <th>APN</th>\n",
       "      <th></th>\n",
       "      <th></th>\n",
       "      <th></th>\n",
       "      <th></th>\n",
       "      <th></th>\n",
       "      <th></th>\n",
       "    </tr>\n",
       "  </thead>\n",
       "  <tbody>\n",
       "    <tr>\n",
       "      <th>156030029</th>\n",
       "      <td>Existing</td>\n",
       "      <td>light industrial</td>\n",
       "      <td>1980</td>\n",
       "      <td>63</td>\n",
       "      <td>1502000</td>\n",
       "      <td>1</td>\n",
       "    </tr>\n",
       "  </tbody>\n",
       "</table>\n",
       "</div>"
      ],
      "text/plain": [
       "           Category    building_class  year  acres     sqft  num_warehouses\n",
       "APN                                                                        \n",
       "156030029  Existing  light industrial  1980     63  1502000               1"
      ]
     },
     "execution_count": 65,
     "metadata": {},
     "output_type": "execute_result"
    }
   ],
   "source": [
    "check4 = warehouse_parcels[warehouse_parcels.index==156030029]\n",
    "check4"
   ]
  },
  {
   "cell_type": "code",
   "execution_count": 66,
   "id": "71ef2078-72c1-4456-9774-94038549f8f5",
   "metadata": {},
   "outputs": [
    {
     "data": {
      "text/html": [
       "<div>\n",
       "<style scoped>\n",
       "    .dataframe tbody tr th:only-of-type {\n",
       "        vertical-align: middle;\n",
       "    }\n",
       "\n",
       "    .dataframe tbody tr th {\n",
       "        vertical-align: top;\n",
       "    }\n",
       "\n",
       "    .dataframe thead th {\n",
       "        text-align: right;\n",
       "    }\n",
       "</style>\n",
       "<table border=\"1\" class=\"dataframe\">\n",
       "  <thead>\n",
       "    <tr style=\"text-align: right;\">\n",
       "      <th></th>\n",
       "      <th>Category</th>\n",
       "      <th>building_class</th>\n",
       "      <th>year</th>\n",
       "      <th>acres</th>\n",
       "      <th>sqft</th>\n",
       "      <th>num_warehouses</th>\n",
       "      <th>warehouse_2010</th>\n",
       "      <th>warehouse_2020</th>\n",
       "      <th>built_2010s</th>\n",
       "    </tr>\n",
       "    <tr>\n",
       "      <th>APN</th>\n",
       "      <th></th>\n",
       "      <th></th>\n",
       "      <th></th>\n",
       "      <th></th>\n",
       "      <th></th>\n",
       "      <th></th>\n",
       "      <th></th>\n",
       "      <th></th>\n",
       "      <th></th>\n",
       "    </tr>\n",
       "  </thead>\n",
       "  <tbody>\n",
       "    <tr>\n",
       "      <th>2866-060-030</th>\n",
       "      <td>Existing</td>\n",
       "      <td>Warehousing, Distribution, Storage</td>\n",
       "      <td>2006</td>\n",
       "      <td>3</td>\n",
       "      <td>65000</td>\n",
       "      <td>1</td>\n",
       "      <td>True</td>\n",
       "      <td>True</td>\n",
       "      <td>False</td>\n",
       "    </tr>\n",
       "    <tr>\n",
       "      <th>020926128</th>\n",
       "      <td>Existing</td>\n",
       "      <td>distribution warehouse</td>\n",
       "      <td>2004</td>\n",
       "      <td>5</td>\n",
       "      <td>121000</td>\n",
       "      <td>1</td>\n",
       "      <td>True</td>\n",
       "      <td>True</td>\n",
       "      <td>False</td>\n",
       "    </tr>\n",
       "    <tr>\n",
       "      <th>8009-022-078</th>\n",
       "      <td>Existing</td>\n",
       "      <td>Warehousing, Distribution, Storage</td>\n",
       "      <td>2017</td>\n",
       "      <td>8</td>\n",
       "      <td>194000</td>\n",
       "      <td>1</td>\n",
       "      <td>False</td>\n",
       "      <td>True</td>\n",
       "      <td>True</td>\n",
       "    </tr>\n",
       "    <tr>\n",
       "      <th>257030036</th>\n",
       "      <td>Existing</td>\n",
       "      <td>light industrial</td>\n",
       "      <td>2004</td>\n",
       "      <td>14</td>\n",
       "      <td>342000</td>\n",
       "      <td>1</td>\n",
       "      <td>True</td>\n",
       "      <td>True</td>\n",
       "      <td>False</td>\n",
       "    </tr>\n",
       "    <tr>\n",
       "      <th>8069-002-078</th>\n",
       "      <td>Existing</td>\n",
       "      <td>Warehousing, Distribution, Storage</td>\n",
       "      <td>1980</td>\n",
       "      <td>2</td>\n",
       "      <td>44000</td>\n",
       "      <td>1</td>\n",
       "      <td>True</td>\n",
       "      <td>True</td>\n",
       "      <td>False</td>\n",
       "    </tr>\n",
       "  </tbody>\n",
       "</table>\n",
       "</div>"
      ],
      "text/plain": [
       "              Category                      building_class  year  acres  \\\n",
       "APN                                                                       \n",
       "2866-060-030  Existing  Warehousing, Distribution, Storage  2006      3   \n",
       "020926128     Existing              distribution warehouse  2004      5   \n",
       "8009-022-078  Existing  Warehousing, Distribution, Storage  2017      8   \n",
       "257030036     Existing                    light industrial  2004     14   \n",
       "8069-002-078  Existing  Warehousing, Distribution, Storage  1980      2   \n",
       "\n",
       "                sqft  num_warehouses  warehouse_2010  warehouse_2020  \\\n",
       "APN                                                                    \n",
       "2866-060-030   65000               1            True            True   \n",
       "020926128     121000               1            True            True   \n",
       "8009-022-078  194000               1           False            True   \n",
       "257030036     342000               1            True            True   \n",
       "8069-002-078   44000               1            True            True   \n",
       "\n",
       "              built_2010s  \n",
       "APN                        \n",
       "2866-060-030        False  \n",
       "020926128           False  \n",
       "8009-022-078         True  \n",
       "257030036           False  \n",
       "8069-002-078        False  "
      ]
     },
     "execution_count": 66,
     "metadata": {},
     "output_type": "execute_result"
    }
   ],
   "source": [
    "# use lambda functions to denote whether warehouse had been built on each parcel by 2010 and by 2020.\n",
    "warehouse_parcels['warehouse_2010']=warehouse_parcels.year.apply(lambda x: True if x<=2010 else False)\n",
    "warehouse_parcels['warehouse_2020']=warehouse_parcels.year.apply(lambda x: True if x<=2020 else False)\n",
    "warehouse_parcels['built_2010s']=warehouse_parcels.year.apply(lambda x: True if (2010 <= x <= 2020) else False)\n",
    "# check to see that this has worked.\n",
    "warehouse_parcels.sample(5)"
   ]
  },
  {
   "cell_type": "code",
   "execution_count": 68,
   "id": "bed92e03-34ba-44ba-84bf-f56507434560",
   "metadata": {},
   "outputs": [
    {
     "data": {
      "text/html": [
       "<div>\n",
       "<style scoped>\n",
       "    .dataframe tbody tr th:only-of-type {\n",
       "        vertical-align: middle;\n",
       "    }\n",
       "\n",
       "    .dataframe tbody tr th {\n",
       "        vertical-align: top;\n",
       "    }\n",
       "\n",
       "    .dataframe thead th {\n",
       "        text-align: right;\n",
       "    }\n",
       "</style>\n",
       "<table border=\"1\" class=\"dataframe\">\n",
       "  <thead>\n",
       "    <tr style=\"text-align: right;\">\n",
       "      <th></th>\n",
       "      <th>Category</th>\n",
       "      <th>building_class</th>\n",
       "      <th>year</th>\n",
       "      <th>acres</th>\n",
       "      <th>sqft</th>\n",
       "      <th>num_warehouses</th>\n",
       "      <th>warehouse_2010</th>\n",
       "      <th>warehouse_2020</th>\n",
       "      <th>built_2010s</th>\n",
       "    </tr>\n",
       "    <tr>\n",
       "      <th>APN</th>\n",
       "      <th></th>\n",
       "      <th></th>\n",
       "      <th></th>\n",
       "      <th></th>\n",
       "      <th></th>\n",
       "      <th></th>\n",
       "      <th></th>\n",
       "      <th></th>\n",
       "      <th></th>\n",
       "    </tr>\n",
       "  </thead>\n",
       "  <tbody>\n",
       "    <tr>\n",
       "      <th>156030029</th>\n",
       "      <td>Existing</td>\n",
       "      <td>light industrial</td>\n",
       "      <td>1980</td>\n",
       "      <td>63</td>\n",
       "      <td>1502000</td>\n",
       "      <td>1</td>\n",
       "      <td>True</td>\n",
       "      <td>True</td>\n",
       "      <td>False</td>\n",
       "    </tr>\n",
       "  </tbody>\n",
       "</table>\n",
       "</div>"
      ],
      "text/plain": [
       "           Category    building_class  year  acres     sqft  num_warehouses  \\\n",
       "APN                                                                           \n",
       "156030029  Existing  light industrial  1980     63  1502000               1   \n",
       "\n",
       "           warehouse_2010  warehouse_2020  built_2010s  \n",
       "APN                                                     \n",
       "156030029            True            True        False  "
      ]
     },
     "execution_count": 68,
     "metadata": {},
     "output_type": "execute_result"
    }
   ],
   "source": [
    "check5 = warehouse_parcels[warehouse_parcels.index==156030029]\n",
    "check5"
   ]
  },
  {
   "cell_type": "code",
   "execution_count": 69,
   "id": "0f836e53-c188-4239-9c43-52c811fd7dda",
   "metadata": {},
   "outputs": [],
   "source": [
    "# join info about presence of warehouses to the parcel data\n",
    "parcels_warehouses=parcels.join(warehouse_parcels,how='left')"
   ]
  },
  {
   "cell_type": "code",
   "execution_count": 70,
   "id": "2c8e32dc-fdb3-4e51-a9b5-e822c6a7ff5a",
   "metadata": {},
   "outputs": [
    {
     "data": {
      "text/html": [
       "<div>\n",
       "<style scoped>\n",
       "    .dataframe tbody tr th:only-of-type {\n",
       "        vertical-align: middle;\n",
       "    }\n",
       "\n",
       "    .dataframe tbody tr th {\n",
       "        vertical-align: top;\n",
       "    }\n",
       "\n",
       "    .dataframe thead th {\n",
       "        text-align: right;\n",
       "    }\n",
       "</style>\n",
       "<table border=\"1\" class=\"dataframe\">\n",
       "  <thead>\n",
       "    <tr style=\"text-align: right;\">\n",
       "      <th></th>\n",
       "      <th>LAND_VALUE</th>\n",
       "      <th>geometry</th>\n",
       "      <th>index_freight</th>\n",
       "      <th>NHFN_CODE</th>\n",
       "      <th>distances</th>\n",
       "      <th>Category</th>\n",
       "      <th>building_class</th>\n",
       "      <th>year</th>\n",
       "      <th>acres</th>\n",
       "      <th>sqft</th>\n",
       "      <th>num_warehouses</th>\n",
       "      <th>warehouse_2010</th>\n",
       "      <th>warehouse_2020</th>\n",
       "      <th>built_2010s</th>\n",
       "    </tr>\n",
       "    <tr>\n",
       "      <th>APN</th>\n",
       "      <th></th>\n",
       "      <th></th>\n",
       "      <th></th>\n",
       "      <th></th>\n",
       "      <th></th>\n",
       "      <th></th>\n",
       "      <th></th>\n",
       "      <th></th>\n",
       "      <th></th>\n",
       "      <th></th>\n",
       "      <th></th>\n",
       "      <th></th>\n",
       "      <th></th>\n",
       "      <th></th>\n",
       "    </tr>\n",
       "  </thead>\n",
       "  <tbody>\n",
       "    <tr>\n",
       "      <th>156030046</th>\n",
       "      <td>1871306.0</td>\n",
       "      <td>POLYGON ((6700449.361 1830840.949, 6700447.422...</td>\n",
       "      <td>656.0</td>\n",
       "      <td>1.0</td>\n",
       "      <td>367.91406</td>\n",
       "      <td>NaN</td>\n",
       "      <td>NaN</td>\n",
       "      <td>NaN</td>\n",
       "      <td>NaN</td>\n",
       "      <td>NaN</td>\n",
       "      <td>NaN</td>\n",
       "      <td>NaN</td>\n",
       "      <td>NaN</td>\n",
       "      <td>NaN</td>\n",
       "    </tr>\n",
       "  </tbody>\n",
       "</table>\n",
       "</div>"
      ],
      "text/plain": [
       "           LAND_VALUE                                           geometry  \\\n",
       "APN                                                                        \n",
       "156030046   1871306.0  POLYGON ((6700449.361 1830840.949, 6700447.422...   \n",
       "\n",
       "           index_freight  NHFN_CODE  distances Category building_class  year  \\\n",
       "APN                                                                            \n",
       "156030046          656.0        1.0  367.91406      NaN            NaN   NaN   \n",
       "\n",
       "           acres  sqft  num_warehouses warehouse_2010 warehouse_2020  \\\n",
       "APN                                                                    \n",
       "156030046    NaN   NaN             NaN            NaN            NaN   \n",
       "\n",
       "          built_2010s  \n",
       "APN                    \n",
       "156030046         NaN  "
      ]
     },
     "execution_count": 70,
     "metadata": {},
     "output_type": "execute_result"
    }
   ],
   "source": [
    "check6 = parcels_warehouses[parcels_warehouses.index==156030046]\n",
    "check6"
   ]
  },
  {
   "cell_type": "markdown",
   "id": "e326e6d9-7d2c-45f5-9804-d6223af1e2f0",
   "metadata": {},
   "source": [
    "Map to ensure that this looks like Warehouse City (map below is screenshot)"
   ]
  },
  {
   "attachments": {
    "0553d23c-9c57-4ced-9d60-ab1f4f5f559d.jpg": {
     "image/jpeg": "[encoded data removed]"
    }
   },
   "cell_type": "markdown",
   "id": "e77e3d12-467c-42b0-89e9-696196df38c8",
   "metadata": {},
   "source": [
    "![WarehouseCityScreenshot.jpg](attachment:0553d23c-9c57-4ced-9d60-ab1f4f5f559d.jpg)"
   ]
  },
  {
   "cell_type": "code",
   "execution_count": 24,
   "id": "5979367a-f891-460c-83db-bfc7d78c6c23",
   "metadata": {},
   "outputs": [],
   "source": [
    "counties=gpd.read_file('data/CA_Counties/CA_Counties_TIGER2016.shp')\n",
    "counties=counties[counties.NAME.apply(lambda x: True if x in ('Riverside','San Bernardino') else False)]"
   ]
  },
  {
   "cell_type": "code",
   "execution_count": 26,
   "id": "48fd45f0-4ccd-4cae-a786-c17f84d3fafc",
   "metadata": {},
   "outputs": [
    {
     "ename": "TypeError",
     "evalue": "Value should be either a BaseGeometry or None, got False",
     "output_type": "error",
     "traceback": [
      "\u001b[1;31m---------------------------------------------------------------------------\u001b[0m",
      "\u001b[1;31mTypeError\u001b[0m                                 Traceback (most recent call last)",
      "Cell \u001b[1;32mIn[44], line 2\u001b[0m\n\u001b[0;32m      1\u001b[0m fig, ax \u001b[38;5;241m=\u001b[39m plt\u001b[38;5;241m.\u001b[39msubplots(figsize\u001b[38;5;241m=\u001b[39m(\u001b[38;5;241m10\u001b[39m, \u001b[38;5;241m8\u001b[39m))\n\u001b[1;32m----> 2\u001b[0m \u001b[43mparcels_warehouses\u001b[49m\u001b[43m[\u001b[49m\u001b[43mparcels_warehouses\u001b[49m\u001b[43m]\u001b[49m\u001b[38;5;241m.\u001b[39mplot(ax\u001b[38;5;241m=\u001b[39max,color\u001b[38;5;241m=\u001b[39m\u001b[38;5;124m'\u001b[39m\u001b[38;5;124mred\u001b[39m\u001b[38;5;124m'\u001b[39m)\n\u001b[0;32m      3\u001b[0m freight\u001b[38;5;241m.\u001b[39mto_crs(\u001b[38;5;241m2229\u001b[39m)\u001b[38;5;241m.\u001b[39mplot(ax\u001b[38;5;241m=\u001b[39max,color\u001b[38;5;241m=\u001b[39m\u001b[38;5;124m'\u001b[39m\u001b[38;5;124m#daa520\u001b[39m\u001b[38;5;124m'\u001b[39m)\n\u001b[0;32m      4\u001b[0m counties\u001b[38;5;241m.\u001b[39mplot(ax\u001b[38;5;241m=\u001b[39max,color\u001b[38;5;241m=\u001b[39m\u001b[38;5;124m'\u001b[39m\u001b[38;5;124mnone\u001b[39m\u001b[38;5;124m'\u001b[39m)\n",
      "File \u001b[1;32m~\\anaconda3\\lib\\site-packages\\geopandas\\geodataframe.py:1415\u001b[0m, in \u001b[0;36mGeoDataFrame.__getitem__\u001b[1;34m(self, key)\u001b[0m\n\u001b[0;32m   1409\u001b[0m \u001b[38;5;28;01mdef\u001b[39;00m \u001b[38;5;21m__getitem__\u001b[39m(\u001b[38;5;28mself\u001b[39m, key):\n\u001b[0;32m   1410\u001b[0m     \u001b[38;5;124;03m\"\"\"\u001b[39;00m\n\u001b[0;32m   1411\u001b[0m \u001b[38;5;124;03m    If the result is a column containing only 'geometry', return a\u001b[39;00m\n\u001b[0;32m   1412\u001b[0m \u001b[38;5;124;03m    GeoSeries. If it's a DataFrame with any columns of GeometryDtype,\u001b[39;00m\n\u001b[0;32m   1413\u001b[0m \u001b[38;5;124;03m    return a GeoDataFrame.\u001b[39;00m\n\u001b[0;32m   1414\u001b[0m \u001b[38;5;124;03m    \"\"\"\u001b[39;00m\n\u001b[1;32m-> 1415\u001b[0m     result \u001b[38;5;241m=\u001b[39m \u001b[38;5;28;43msuper\u001b[39;49m\u001b[43m(\u001b[49m\u001b[43m)\u001b[49m\u001b[38;5;241;43m.\u001b[39;49m\u001b[38;5;21;43m__getitem__\u001b[39;49m\u001b[43m(\u001b[49m\u001b[43mkey\u001b[49m\u001b[43m)\u001b[49m\n\u001b[0;32m   1416\u001b[0m     geo_col \u001b[38;5;241m=\u001b[39m \u001b[38;5;28mself\u001b[39m\u001b[38;5;241m.\u001b[39m_geometry_column_name\n\u001b[0;32m   1417\u001b[0m     \u001b[38;5;28;01mif\u001b[39;00m \u001b[38;5;28misinstance\u001b[39m(result, Series) \u001b[38;5;129;01mand\u001b[39;00m \u001b[38;5;28misinstance\u001b[39m(result\u001b[38;5;241m.\u001b[39mdtype, GeometryDtype):\n",
      "File \u001b[1;32m~\\anaconda3\\lib\\site-packages\\pandas\\core\\frame.py:3794\u001b[0m, in \u001b[0;36mDataFrame.__getitem__\u001b[1;34m(self, key)\u001b[0m\n\u001b[0;32m   3792\u001b[0m \u001b[38;5;66;03m# Do we have a (boolean) DataFrame?\u001b[39;00m\n\u001b[0;32m   3793\u001b[0m \u001b[38;5;28;01mif\u001b[39;00m \u001b[38;5;28misinstance\u001b[39m(key, DataFrame):\n\u001b[1;32m-> 3794\u001b[0m     \u001b[38;5;28;01mreturn\u001b[39;00m \u001b[38;5;28;43mself\u001b[39;49m\u001b[38;5;241;43m.\u001b[39;49m\u001b[43mwhere\u001b[49m\u001b[43m(\u001b[49m\u001b[43mkey\u001b[49m\u001b[43m)\u001b[49m\n\u001b[0;32m   3796\u001b[0m \u001b[38;5;66;03m# Do we have a (boolean) 1d indexer?\u001b[39;00m\n\u001b[0;32m   3797\u001b[0m \u001b[38;5;28;01mif\u001b[39;00m com\u001b[38;5;241m.\u001b[39mis_bool_indexer(key):\n",
      "File \u001b[1;32m~\\anaconda3\\lib\\site-packages\\pandas\\util\\_decorators.py:211\u001b[0m, in \u001b[0;36mdeprecate_kwarg.<locals>._deprecate_kwarg.<locals>.wrapper\u001b[1;34m(*args, **kwargs)\u001b[0m\n\u001b[0;32m    209\u001b[0m     \u001b[38;5;28;01melse\u001b[39;00m:\n\u001b[0;32m    210\u001b[0m         kwargs[new_arg_name] \u001b[38;5;241m=\u001b[39m new_arg_value\n\u001b[1;32m--> 211\u001b[0m \u001b[38;5;28;01mreturn\u001b[39;00m func(\u001b[38;5;241m*\u001b[39margs, \u001b[38;5;241m*\u001b[39m\u001b[38;5;241m*\u001b[39mkwargs)\n",
      "File \u001b[1;32m~\\anaconda3\\lib\\site-packages\\pandas\\util\\_decorators.py:331\u001b[0m, in \u001b[0;36mdeprecate_nonkeyword_arguments.<locals>.decorate.<locals>.wrapper\u001b[1;34m(*args, **kwargs)\u001b[0m\n\u001b[0;32m    325\u001b[0m \u001b[38;5;28;01mif\u001b[39;00m \u001b[38;5;28mlen\u001b[39m(args) \u001b[38;5;241m>\u001b[39m num_allow_args:\n\u001b[0;32m    326\u001b[0m     warnings\u001b[38;5;241m.\u001b[39mwarn(\n\u001b[0;32m    327\u001b[0m         msg\u001b[38;5;241m.\u001b[39mformat(arguments\u001b[38;5;241m=\u001b[39m_format_argument_list(allow_args)),\n\u001b[0;32m    328\u001b[0m         \u001b[38;5;167;01mFutureWarning\u001b[39;00m,\n\u001b[0;32m    329\u001b[0m         stacklevel\u001b[38;5;241m=\u001b[39mfind_stack_level(),\n\u001b[0;32m    330\u001b[0m     )\n\u001b[1;32m--> 331\u001b[0m \u001b[38;5;28;01mreturn\u001b[39;00m func(\u001b[38;5;241m*\u001b[39margs, \u001b[38;5;241m*\u001b[39m\u001b[38;5;241m*\u001b[39mkwargs)\n",
      "File \u001b[1;32m~\\anaconda3\\lib\\site-packages\\pandas\\core\\frame.py:11923\u001b[0m, in \u001b[0;36mDataFrame.where\u001b[1;34m(self, cond, other, inplace, axis, level, errors, try_cast)\u001b[0m\n\u001b[0;32m  11909\u001b[0m \u001b[38;5;129m@deprecate_kwarg\u001b[39m(old_arg_name\u001b[38;5;241m=\u001b[39m\u001b[38;5;124m\"\u001b[39m\u001b[38;5;124merrors\u001b[39m\u001b[38;5;124m\"\u001b[39m, new_arg_name\u001b[38;5;241m=\u001b[39m\u001b[38;5;28;01mNone\u001b[39;00m)\n\u001b[0;32m  11910\u001b[0m \u001b[38;5;129m@deprecate_nonkeyword_arguments\u001b[39m(\n\u001b[0;32m  11911\u001b[0m     version\u001b[38;5;241m=\u001b[39m\u001b[38;5;28;01mNone\u001b[39;00m, allowed_args\u001b[38;5;241m=\u001b[39m[\u001b[38;5;124m\"\u001b[39m\u001b[38;5;124mself\u001b[39m\u001b[38;5;124m\"\u001b[39m, \u001b[38;5;124m\"\u001b[39m\u001b[38;5;124mcond\u001b[39m\u001b[38;5;124m\"\u001b[39m, \u001b[38;5;124m\"\u001b[39m\u001b[38;5;124mother\u001b[39m\u001b[38;5;124m\"\u001b[39m]\n\u001b[1;32m   (...)\u001b[0m\n\u001b[0;32m  11921\u001b[0m     try_cast: \u001b[38;5;28mbool\u001b[39m \u001b[38;5;241m|\u001b[39m lib\u001b[38;5;241m.\u001b[39mNoDefault \u001b[38;5;241m=\u001b[39m lib\u001b[38;5;241m.\u001b[39mno_default,\n\u001b[0;32m  11922\u001b[0m ) \u001b[38;5;241m-\u001b[39m\u001b[38;5;241m>\u001b[39m DataFrame \u001b[38;5;241m|\u001b[39m \u001b[38;5;28;01mNone\u001b[39;00m:\n\u001b[1;32m> 11923\u001b[0m     \u001b[38;5;28;01mreturn\u001b[39;00m \u001b[38;5;28;43msuper\u001b[39;49m\u001b[43m(\u001b[49m\u001b[43m)\u001b[49m\u001b[38;5;241;43m.\u001b[39;49m\u001b[43mwhere\u001b[49m\u001b[43m(\u001b[49m\n\u001b[0;32m  11924\u001b[0m \u001b[43m        \u001b[49m\u001b[43mcond\u001b[49m\u001b[43m,\u001b[49m\n\u001b[0;32m  11925\u001b[0m \u001b[43m        \u001b[49m\u001b[43mother\u001b[49m\u001b[43m,\u001b[49m\n\u001b[0;32m  11926\u001b[0m \u001b[43m        \u001b[49m\u001b[43minplace\u001b[49m\u001b[38;5;241;43m=\u001b[39;49m\u001b[43minplace\u001b[49m\u001b[43m,\u001b[49m\n\u001b[0;32m  11927\u001b[0m \u001b[43m        \u001b[49m\u001b[43maxis\u001b[49m\u001b[38;5;241;43m=\u001b[39;49m\u001b[43maxis\u001b[49m\u001b[43m,\u001b[49m\n\u001b[0;32m  11928\u001b[0m \u001b[43m        \u001b[49m\u001b[43mlevel\u001b[49m\u001b[38;5;241;43m=\u001b[39;49m\u001b[43mlevel\u001b[49m\u001b[43m,\u001b[49m\n\u001b[0;32m  11929\u001b[0m \u001b[43m        \u001b[49m\u001b[43mtry_cast\u001b[49m\u001b[38;5;241;43m=\u001b[39;49m\u001b[43mtry_cast\u001b[49m\u001b[43m,\u001b[49m\n\u001b[0;32m  11930\u001b[0m \u001b[43m    \u001b[49m\u001b[43m)\u001b[49m\n",
      "File \u001b[1;32m~\\anaconda3\\lib\\site-packages\\pandas\\util\\_decorators.py:211\u001b[0m, in \u001b[0;36mdeprecate_kwarg.<locals>._deprecate_kwarg.<locals>.wrapper\u001b[1;34m(*args, **kwargs)\u001b[0m\n\u001b[0;32m    209\u001b[0m     \u001b[38;5;28;01melse\u001b[39;00m:\n\u001b[0;32m    210\u001b[0m         kwargs[new_arg_name] \u001b[38;5;241m=\u001b[39m new_arg_value\n\u001b[1;32m--> 211\u001b[0m \u001b[38;5;28;01mreturn\u001b[39;00m func(\u001b[38;5;241m*\u001b[39margs, \u001b[38;5;241m*\u001b[39m\u001b[38;5;241m*\u001b[39mkwargs)\n",
      "File \u001b[1;32m~\\anaconda3\\lib\\site-packages\\pandas\\util\\_decorators.py:331\u001b[0m, in \u001b[0;36mdeprecate_nonkeyword_arguments.<locals>.decorate.<locals>.wrapper\u001b[1;34m(*args, **kwargs)\u001b[0m\n\u001b[0;32m    325\u001b[0m \u001b[38;5;28;01mif\u001b[39;00m \u001b[38;5;28mlen\u001b[39m(args) \u001b[38;5;241m>\u001b[39m num_allow_args:\n\u001b[0;32m    326\u001b[0m     warnings\u001b[38;5;241m.\u001b[39mwarn(\n\u001b[0;32m    327\u001b[0m         msg\u001b[38;5;241m.\u001b[39mformat(arguments\u001b[38;5;241m=\u001b[39m_format_argument_list(allow_args)),\n\u001b[0;32m    328\u001b[0m         \u001b[38;5;167;01mFutureWarning\u001b[39;00m,\n\u001b[0;32m    329\u001b[0m         stacklevel\u001b[38;5;241m=\u001b[39mfind_stack_level(),\n\u001b[0;32m    330\u001b[0m     )\n\u001b[1;32m--> 331\u001b[0m \u001b[38;5;28;01mreturn\u001b[39;00m func(\u001b[38;5;241m*\u001b[39margs, \u001b[38;5;241m*\u001b[39m\u001b[38;5;241m*\u001b[39mkwargs)\n",
      "File \u001b[1;32m~\\anaconda3\\lib\\site-packages\\pandas\\core\\generic.py:9968\u001b[0m, in \u001b[0;36mNDFrame.where\u001b[1;34m(self, cond, other, inplace, axis, level, errors, try_cast)\u001b[0m\n\u001b[0;32m   9960\u001b[0m \u001b[38;5;28;01mif\u001b[39;00m try_cast \u001b[38;5;129;01mis\u001b[39;00m \u001b[38;5;129;01mnot\u001b[39;00m lib\u001b[38;5;241m.\u001b[39mno_default:\n\u001b[0;32m   9961\u001b[0m     warnings\u001b[38;5;241m.\u001b[39mwarn(\n\u001b[0;32m   9962\u001b[0m         \u001b[38;5;124m\"\u001b[39m\u001b[38;5;124mtry_cast keyword is deprecated and will be removed in a \u001b[39m\u001b[38;5;124m\"\u001b[39m\n\u001b[0;32m   9963\u001b[0m         \u001b[38;5;124m\"\u001b[39m\u001b[38;5;124mfuture version.\u001b[39m\u001b[38;5;124m\"\u001b[39m,\n\u001b[0;32m   9964\u001b[0m         \u001b[38;5;167;01mFutureWarning\u001b[39;00m,\n\u001b[0;32m   9965\u001b[0m         stacklevel\u001b[38;5;241m=\u001b[39mfind_stack_level(),\n\u001b[0;32m   9966\u001b[0m     )\n\u001b[1;32m-> 9968\u001b[0m \u001b[38;5;28;01mreturn\u001b[39;00m \u001b[38;5;28;43mself\u001b[39;49m\u001b[38;5;241;43m.\u001b[39;49m\u001b[43m_where\u001b[49m\u001b[43m(\u001b[49m\u001b[43mcond\u001b[49m\u001b[43m,\u001b[49m\u001b[43m \u001b[49m\u001b[43mother\u001b[49m\u001b[43m,\u001b[49m\u001b[43m \u001b[49m\u001b[43minplace\u001b[49m\u001b[43m,\u001b[49m\u001b[43m \u001b[49m\u001b[43maxis\u001b[49m\u001b[43m,\u001b[49m\u001b[43m \u001b[49m\u001b[43mlevel\u001b[49m\u001b[43m)\u001b[49m\n",
      "File \u001b[1;32m~\\anaconda3\\lib\\site-packages\\pandas\\core\\generic.py:9645\u001b[0m, in \u001b[0;36mNDFrame._where\u001b[1;34m(self, cond, other, inplace, axis, level)\u001b[0m\n\u001b[0;32m   9643\u001b[0m \u001b[38;5;66;03m# make sure we are boolean\u001b[39;00m\n\u001b[0;32m   9644\u001b[0m fill_value \u001b[38;5;241m=\u001b[39m \u001b[38;5;28mbool\u001b[39m(inplace)\n\u001b[1;32m-> 9645\u001b[0m cond \u001b[38;5;241m=\u001b[39m \u001b[43mcond\u001b[49m\u001b[38;5;241;43m.\u001b[39;49m\u001b[43mfillna\u001b[49m\u001b[43m(\u001b[49m\u001b[43mfill_value\u001b[49m\u001b[43m)\u001b[49m\n\u001b[0;32m   9647\u001b[0m msg \u001b[38;5;241m=\u001b[39m \u001b[38;5;124m\"\u001b[39m\u001b[38;5;124mBoolean array expected for the condition, not \u001b[39m\u001b[38;5;132;01m{dtype}\u001b[39;00m\u001b[38;5;124m\"\u001b[39m\n\u001b[0;32m   9649\u001b[0m \u001b[38;5;28;01mif\u001b[39;00m \u001b[38;5;129;01mnot\u001b[39;00m cond\u001b[38;5;241m.\u001b[39mempty:\n",
      "File \u001b[1;32m~\\anaconda3\\lib\\site-packages\\pandas\\util\\_decorators.py:331\u001b[0m, in \u001b[0;36mdeprecate_nonkeyword_arguments.<locals>.decorate.<locals>.wrapper\u001b[1;34m(*args, **kwargs)\u001b[0m\n\u001b[0;32m    325\u001b[0m \u001b[38;5;28;01mif\u001b[39;00m \u001b[38;5;28mlen\u001b[39m(args) \u001b[38;5;241m>\u001b[39m num_allow_args:\n\u001b[0;32m    326\u001b[0m     warnings\u001b[38;5;241m.\u001b[39mwarn(\n\u001b[0;32m    327\u001b[0m         msg\u001b[38;5;241m.\u001b[39mformat(arguments\u001b[38;5;241m=\u001b[39m_format_argument_list(allow_args)),\n\u001b[0;32m    328\u001b[0m         \u001b[38;5;167;01mFutureWarning\u001b[39;00m,\n\u001b[0;32m    329\u001b[0m         stacklevel\u001b[38;5;241m=\u001b[39mfind_stack_level(),\n\u001b[0;32m    330\u001b[0m     )\n\u001b[1;32m--> 331\u001b[0m \u001b[38;5;28;01mreturn\u001b[39;00m func(\u001b[38;5;241m*\u001b[39margs, \u001b[38;5;241m*\u001b[39m\u001b[38;5;241m*\u001b[39mkwargs)\n",
      "File \u001b[1;32m~\\anaconda3\\lib\\site-packages\\pandas\\core\\frame.py:5635\u001b[0m, in \u001b[0;36mDataFrame.fillna\u001b[1;34m(self, value, method, axis, inplace, limit, downcast)\u001b[0m\n\u001b[0;32m   5624\u001b[0m \u001b[38;5;129m@deprecate_nonkeyword_arguments\u001b[39m(version\u001b[38;5;241m=\u001b[39m\u001b[38;5;28;01mNone\u001b[39;00m, allowed_args\u001b[38;5;241m=\u001b[39m[\u001b[38;5;124m\"\u001b[39m\u001b[38;5;124mself\u001b[39m\u001b[38;5;124m\"\u001b[39m, \u001b[38;5;124m\"\u001b[39m\u001b[38;5;124mvalue\u001b[39m\u001b[38;5;124m\"\u001b[39m])\n\u001b[0;32m   5625\u001b[0m \u001b[38;5;129m@doc\u001b[39m(NDFrame\u001b[38;5;241m.\u001b[39mfillna, \u001b[38;5;241m*\u001b[39m\u001b[38;5;241m*\u001b[39m_shared_doc_kwargs)\n\u001b[0;32m   5626\u001b[0m \u001b[38;5;28;01mdef\u001b[39;00m \u001b[38;5;21mfillna\u001b[39m(  \u001b[38;5;66;03m# type: ignore[override]\u001b[39;00m\n\u001b[1;32m   (...)\u001b[0m\n\u001b[0;32m   5633\u001b[0m     downcast: \u001b[38;5;28mdict\u001b[39m \u001b[38;5;241m|\u001b[39m \u001b[38;5;28;01mNone\u001b[39;00m \u001b[38;5;241m=\u001b[39m \u001b[38;5;28;01mNone\u001b[39;00m,\n\u001b[0;32m   5634\u001b[0m ) \u001b[38;5;241m-\u001b[39m\u001b[38;5;241m>\u001b[39m DataFrame \u001b[38;5;241m|\u001b[39m \u001b[38;5;28;01mNone\u001b[39;00m:\n\u001b[1;32m-> 5635\u001b[0m     \u001b[38;5;28;01mreturn\u001b[39;00m \u001b[38;5;28;43msuper\u001b[39;49m\u001b[43m(\u001b[49m\u001b[43m)\u001b[49m\u001b[38;5;241;43m.\u001b[39;49m\u001b[43mfillna\u001b[49m\u001b[43m(\u001b[49m\n\u001b[0;32m   5636\u001b[0m \u001b[43m        \u001b[49m\u001b[43mvalue\u001b[49m\u001b[38;5;241;43m=\u001b[39;49m\u001b[43mvalue\u001b[49m\u001b[43m,\u001b[49m\n\u001b[0;32m   5637\u001b[0m \u001b[43m        \u001b[49m\u001b[43mmethod\u001b[49m\u001b[38;5;241;43m=\u001b[39;49m\u001b[43mmethod\u001b[49m\u001b[43m,\u001b[49m\n\u001b[0;32m   5638\u001b[0m \u001b[43m        \u001b[49m\u001b[43maxis\u001b[49m\u001b[38;5;241;43m=\u001b[39;49m\u001b[43maxis\u001b[49m\u001b[43m,\u001b[49m\n\u001b[0;32m   5639\u001b[0m \u001b[43m        \u001b[49m\u001b[43minplace\u001b[49m\u001b[38;5;241;43m=\u001b[39;49m\u001b[43minplace\u001b[49m\u001b[43m,\u001b[49m\n\u001b[0;32m   5640\u001b[0m \u001b[43m        \u001b[49m\u001b[43mlimit\u001b[49m\u001b[38;5;241;43m=\u001b[39;49m\u001b[43mlimit\u001b[49m\u001b[43m,\u001b[49m\n\u001b[0;32m   5641\u001b[0m \u001b[43m        \u001b[49m\u001b[43mdowncast\u001b[49m\u001b[38;5;241;43m=\u001b[39;49m\u001b[43mdowncast\u001b[49m\u001b[43m,\u001b[49m\n\u001b[0;32m   5642\u001b[0m \u001b[43m    \u001b[49m\u001b[43m)\u001b[49m\n",
      "File \u001b[1;32m~\\anaconda3\\lib\\site-packages\\pandas\\core\\generic.py:6922\u001b[0m, in \u001b[0;36mNDFrame.fillna\u001b[1;34m(self, value, method, axis, inplace, limit, downcast)\u001b[0m\n\u001b[0;32m   6919\u001b[0m         new_data \u001b[38;5;241m=\u001b[39m result  \u001b[38;5;66;03m# type: ignore[assignment]\u001b[39;00m\n\u001b[0;32m   6920\u001b[0m     \u001b[38;5;28;01melse\u001b[39;00m:\n\u001b[1;32m-> 6922\u001b[0m         new_data \u001b[38;5;241m=\u001b[39m \u001b[38;5;28;43mself\u001b[39;49m\u001b[38;5;241;43m.\u001b[39;49m\u001b[43m_mgr\u001b[49m\u001b[38;5;241;43m.\u001b[39;49m\u001b[43mfillna\u001b[49m\u001b[43m(\u001b[49m\n\u001b[0;32m   6923\u001b[0m \u001b[43m            \u001b[49m\u001b[43mvalue\u001b[49m\u001b[38;5;241;43m=\u001b[39;49m\u001b[43mvalue\u001b[49m\u001b[43m,\u001b[49m\u001b[43m \u001b[49m\u001b[43mlimit\u001b[49m\u001b[38;5;241;43m=\u001b[39;49m\u001b[43mlimit\u001b[49m\u001b[43m,\u001b[49m\u001b[43m \u001b[49m\u001b[43minplace\u001b[49m\u001b[38;5;241;43m=\u001b[39;49m\u001b[43minplace\u001b[49m\u001b[43m,\u001b[49m\u001b[43m \u001b[49m\u001b[43mdowncast\u001b[49m\u001b[38;5;241;43m=\u001b[39;49m\u001b[43mdowncast\u001b[49m\n\u001b[0;32m   6924\u001b[0m \u001b[43m        \u001b[49m\u001b[43m)\u001b[49m\n\u001b[0;32m   6925\u001b[0m \u001b[38;5;28;01melif\u001b[39;00m \u001b[38;5;28misinstance\u001b[39m(value, ABCDataFrame) \u001b[38;5;129;01mand\u001b[39;00m \u001b[38;5;28mself\u001b[39m\u001b[38;5;241m.\u001b[39mndim \u001b[38;5;241m==\u001b[39m \u001b[38;5;241m2\u001b[39m:\n\u001b[0;32m   6927\u001b[0m     new_data \u001b[38;5;241m=\u001b[39m \u001b[38;5;28mself\u001b[39m\u001b[38;5;241m.\u001b[39mwhere(\u001b[38;5;28mself\u001b[39m\u001b[38;5;241m.\u001b[39mnotna(), value)\u001b[38;5;241m.\u001b[39m_mgr\n",
      "File \u001b[1;32m~\\anaconda3\\lib\\site-packages\\pandas\\core\\internals\\managers.py:443\u001b[0m, in \u001b[0;36mBaseBlockManager.fillna\u001b[1;34m(self, value, limit, inplace, downcast)\u001b[0m\n\u001b[0;32m    438\u001b[0m     \u001b[38;5;28;01mif\u001b[39;00m _using_copy_on_write() \u001b[38;5;129;01mand\u001b[39;00m \u001b[38;5;28many\u001b[39m(\n\u001b[0;32m    439\u001b[0m         \u001b[38;5;129;01mnot\u001b[39;00m \u001b[38;5;28mself\u001b[39m\u001b[38;5;241m.\u001b[39m_has_no_reference_block(i) \u001b[38;5;28;01mfor\u001b[39;00m i \u001b[38;5;129;01min\u001b[39;00m \u001b[38;5;28mrange\u001b[39m(\u001b[38;5;28mlen\u001b[39m(\u001b[38;5;28mself\u001b[39m\u001b[38;5;241m.\u001b[39mblocks))\n\u001b[0;32m    440\u001b[0m     ):\n\u001b[0;32m    441\u001b[0m         \u001b[38;5;28mself\u001b[39m \u001b[38;5;241m=\u001b[39m \u001b[38;5;28mself\u001b[39m\u001b[38;5;241m.\u001b[39mcopy()\n\u001b[1;32m--> 443\u001b[0m \u001b[38;5;28;01mreturn\u001b[39;00m \u001b[38;5;28;43mself\u001b[39;49m\u001b[38;5;241;43m.\u001b[39;49m\u001b[43mapply\u001b[49m\u001b[43m(\u001b[49m\n\u001b[0;32m    444\u001b[0m \u001b[43m    \u001b[49m\u001b[38;5;124;43m\"\u001b[39;49m\u001b[38;5;124;43mfillna\u001b[39;49m\u001b[38;5;124;43m\"\u001b[39;49m\u001b[43m,\u001b[49m\u001b[43m \u001b[49m\u001b[43mvalue\u001b[49m\u001b[38;5;241;43m=\u001b[39;49m\u001b[43mvalue\u001b[49m\u001b[43m,\u001b[49m\u001b[43m \u001b[49m\u001b[43mlimit\u001b[49m\u001b[38;5;241;43m=\u001b[39;49m\u001b[43mlimit\u001b[49m\u001b[43m,\u001b[49m\u001b[43m \u001b[49m\u001b[43minplace\u001b[49m\u001b[38;5;241;43m=\u001b[39;49m\u001b[43minplace\u001b[49m\u001b[43m,\u001b[49m\u001b[43m \u001b[49m\u001b[43mdowncast\u001b[49m\u001b[38;5;241;43m=\u001b[39;49m\u001b[43mdowncast\u001b[49m\n\u001b[0;32m    445\u001b[0m \u001b[43m\u001b[49m\u001b[43m)\u001b[49m\n",
      "File \u001b[1;32m~\\anaconda3\\lib\\site-packages\\pandas\\core\\internals\\managers.py:352\u001b[0m, in \u001b[0;36mBaseBlockManager.apply\u001b[1;34m(self, f, align_keys, ignore_failures, **kwargs)\u001b[0m\n\u001b[0;32m    350\u001b[0m         applied \u001b[38;5;241m=\u001b[39m b\u001b[38;5;241m.\u001b[39mapply(f, \u001b[38;5;241m*\u001b[39m\u001b[38;5;241m*\u001b[39mkwargs)\n\u001b[0;32m    351\u001b[0m     \u001b[38;5;28;01melse\u001b[39;00m:\n\u001b[1;32m--> 352\u001b[0m         applied \u001b[38;5;241m=\u001b[39m \u001b[38;5;28mgetattr\u001b[39m(b, f)(\u001b[38;5;241m*\u001b[39m\u001b[38;5;241m*\u001b[39mkwargs)\n\u001b[0;32m    353\u001b[0m \u001b[38;5;28;01mexcept\u001b[39;00m (\u001b[38;5;167;01mTypeError\u001b[39;00m, \u001b[38;5;167;01mNotImplementedError\u001b[39;00m):\n\u001b[0;32m    354\u001b[0m     \u001b[38;5;28;01mif\u001b[39;00m \u001b[38;5;129;01mnot\u001b[39;00m ignore_failures:\n",
      "File \u001b[1;32m~\\anaconda3\\lib\\site-packages\\pandas\\core\\internals\\blocks.py:1586\u001b[0m, in \u001b[0;36mEABackedBlock.fillna\u001b[1;34m(self, value, limit, inplace, downcast)\u001b[0m\n\u001b[0;32m   1581\u001b[0m         \u001b[38;5;28;01mreturn\u001b[39;00m [res_blk]\n\u001b[0;32m   1583\u001b[0m \u001b[38;5;66;03m# TODO: since this now dispatches to super, which in turn dispatches\u001b[39;00m\n\u001b[0;32m   1584\u001b[0m \u001b[38;5;66;03m#  to putmask, it may *actually* respect 'inplace=True'. If so, add\u001b[39;00m\n\u001b[0;32m   1585\u001b[0m \u001b[38;5;66;03m#  tests for this.\u001b[39;00m\n\u001b[1;32m-> 1586\u001b[0m \u001b[38;5;28;01mreturn\u001b[39;00m \u001b[38;5;28;43msuper\u001b[39;49m\u001b[43m(\u001b[49m\u001b[43m)\u001b[49m\u001b[38;5;241;43m.\u001b[39;49m\u001b[43mfillna\u001b[49m\u001b[43m(\u001b[49m\u001b[43mvalue\u001b[49m\u001b[43m,\u001b[49m\u001b[43m \u001b[49m\u001b[43mlimit\u001b[49m\u001b[38;5;241;43m=\u001b[39;49m\u001b[43mlimit\u001b[49m\u001b[43m,\u001b[49m\u001b[43m \u001b[49m\u001b[43minplace\u001b[49m\u001b[38;5;241;43m=\u001b[39;49m\u001b[43minplace\u001b[49m\u001b[43m,\u001b[49m\u001b[43m \u001b[49m\u001b[43mdowncast\u001b[49m\u001b[38;5;241;43m=\u001b[39;49m\u001b[43mdowncast\u001b[49m\u001b[43m)\u001b[49m\n",
      "File \u001b[1;32m~\\anaconda3\\lib\\site-packages\\pandas\\core\\internals\\blocks.py:1200\u001b[0m, in \u001b[0;36mBlock.fillna\u001b[1;34m(self, value, limit, inplace, downcast)\u001b[0m\n\u001b[0;32m   1196\u001b[0m     nbs \u001b[38;5;241m=\u001b[39m \u001b[38;5;28mself\u001b[39m\u001b[38;5;241m.\u001b[39mputmask(mask\u001b[38;5;241m.\u001b[39mT, value)\n\u001b[0;32m   1197\u001b[0m \u001b[38;5;28;01melse\u001b[39;00m:\n\u001b[0;32m   1198\u001b[0m     \u001b[38;5;66;03m# without _downcast, we would break\u001b[39;00m\n\u001b[0;32m   1199\u001b[0m     \u001b[38;5;66;03m#  test_fillna_dtype_conversion_equiv_replace\u001b[39;00m\n\u001b[1;32m-> 1200\u001b[0m     nbs \u001b[38;5;241m=\u001b[39m \u001b[38;5;28;43mself\u001b[39;49m\u001b[38;5;241;43m.\u001b[39;49m\u001b[43mwhere\u001b[49m\u001b[43m(\u001b[49m\u001b[43mvalue\u001b[49m\u001b[43m,\u001b[49m\u001b[43m \u001b[49m\u001b[38;5;241;43m~\u001b[39;49m\u001b[43mmask\u001b[49m\u001b[38;5;241;43m.\u001b[39;49m\u001b[43mT\u001b[49m\u001b[43m,\u001b[49m\u001b[43m \u001b[49m\u001b[43m_downcast\u001b[49m\u001b[38;5;241;43m=\u001b[39;49m\u001b[38;5;28;43;01mFalse\u001b[39;49;00m\u001b[43m)\u001b[49m\n\u001b[0;32m   1202\u001b[0m \u001b[38;5;66;03m# Note: blk._maybe_downcast vs self._maybe_downcast(nbs)\u001b[39;00m\n\u001b[0;32m   1203\u001b[0m \u001b[38;5;66;03m#  makes a difference bc blk may have object dtype, which has\u001b[39;00m\n\u001b[0;32m   1204\u001b[0m \u001b[38;5;66;03m#  different behavior in _maybe_downcast.\u001b[39;00m\n\u001b[0;32m   1205\u001b[0m \u001b[38;5;28;01mreturn\u001b[39;00m extend_blocks(\n\u001b[0;32m   1206\u001b[0m     [blk\u001b[38;5;241m.\u001b[39m_maybe_downcast([blk], downcast\u001b[38;5;241m=\u001b[39mdowncast) \u001b[38;5;28;01mfor\u001b[39;00m blk \u001b[38;5;129;01min\u001b[39;00m nbs]\n\u001b[0;32m   1207\u001b[0m )\n",
      "File \u001b[1;32m~\\anaconda3\\lib\\site-packages\\pandas\\core\\internals\\blocks.py:1457\u001b[0m, in \u001b[0;36mEABackedBlock.where\u001b[1;34m(self, other, cond, _downcast)\u001b[0m\n\u001b[0;32m   1454\u001b[0m     \u001b[38;5;28;01mreturn\u001b[39;00m [\u001b[38;5;28mself\u001b[39m\u001b[38;5;241m.\u001b[39mcopy()]\n\u001b[0;32m   1456\u001b[0m \u001b[38;5;28;01mtry\u001b[39;00m:\n\u001b[1;32m-> 1457\u001b[0m     res_values \u001b[38;5;241m=\u001b[39m \u001b[43marr\u001b[49m\u001b[38;5;241;43m.\u001b[39;49m\u001b[43m_where\u001b[49m\u001b[43m(\u001b[49m\u001b[43mcond\u001b[49m\u001b[43m,\u001b[49m\u001b[43m \u001b[49m\u001b[43mother\u001b[49m\u001b[43m)\u001b[49m\u001b[38;5;241m.\u001b[39mT\n\u001b[0;32m   1458\u001b[0m \u001b[38;5;28;01mexcept\u001b[39;00m (\u001b[38;5;167;01mValueError\u001b[39;00m, \u001b[38;5;167;01mTypeError\u001b[39;00m) \u001b[38;5;28;01mas\u001b[39;00m err:\n\u001b[0;32m   1459\u001b[0m     _catch_deprecated_value_error(err)\n",
      "File \u001b[1;32m~\\anaconda3\\lib\\site-packages\\pandas\\core\\arrays\\base.py:1547\u001b[0m, in \u001b[0;36mExtensionArray._where\u001b[1;34m(self, mask, value)\u001b[0m\n\u001b[0;32m   1544\u001b[0m \u001b[38;5;28;01melse\u001b[39;00m:\n\u001b[0;32m   1545\u001b[0m     val \u001b[38;5;241m=\u001b[39m value\n\u001b[1;32m-> 1547\u001b[0m result[\u001b[38;5;241m~\u001b[39mmask] \u001b[38;5;241m=\u001b[39m val\n\u001b[0;32m   1548\u001b[0m \u001b[38;5;28;01mreturn\u001b[39;00m result\n",
      "File \u001b[1;32m~\\anaconda3\\lib\\site-packages\\geopandas\\array.py:401\u001b[0m, in \u001b[0;36mGeometryArray.__setitem__\u001b[1;34m(self, key, value)\u001b[0m\n\u001b[0;32m    399\u001b[0m         \u001b[38;5;28mself\u001b[39m\u001b[38;5;241m.\u001b[39mdata[key] \u001b[38;5;241m=\u001b[39m value\n\u001b[0;32m    400\u001b[0m \u001b[38;5;28;01melse\u001b[39;00m:\n\u001b[1;32m--> 401\u001b[0m     \u001b[38;5;28;01mraise\u001b[39;00m \u001b[38;5;167;01mTypeError\u001b[39;00m(\n\u001b[0;32m    402\u001b[0m         \u001b[38;5;124m\"\u001b[39m\u001b[38;5;124mValue should be either a BaseGeometry or None, got \u001b[39m\u001b[38;5;132;01m%s\u001b[39;00m\u001b[38;5;124m\"\u001b[39m \u001b[38;5;241m%\u001b[39m \u001b[38;5;28mstr\u001b[39m(value)\n\u001b[0;32m    403\u001b[0m     )\n\u001b[0;32m    405\u001b[0m \u001b[38;5;66;03m# invalidate spatial index\u001b[39;00m\n\u001b[0;32m    406\u001b[0m \u001b[38;5;28mself\u001b[39m\u001b[38;5;241m.\u001b[39m_sindex \u001b[38;5;241m=\u001b[39m \u001b[38;5;28;01mNone\u001b[39;00m\n",
      "\u001b[1;31mTypeError\u001b[0m: Value should be either a BaseGeometry or None, got False"
     ]
    },
    {
     "data": {
      "image/png": "[encoded data removed]",
      "text/plain": [
       "<Figure size 1000x800 with 1 Axes>"
      ]
     },
     "metadata": {},
     "output_type": "display_data"
    }
   ],
   "source": [
    "fig, ax = plt.subplots(figsize=(10, 8))\n",
    "parcels_warehouses[parcels_warehouses['num_warehouses']>0].plot(ax=ax,color='red')\n",
    "freight.to_crs(2229).plot(ax=ax,color='#daa520')\n",
    "counties.plot(ax=ax,color='none')\n",
    "counties.to_crs(2229).plot(ax=ax,color='none',edgecolor='blue')\n",
    "ax.axis('off')\n",
    "ax.set_xlim(6643710, 6804764)\n",
    "ax.set_ylim(1740000,1882403)\n",
    "ctx.add_basemap(ax, source=ctx.providers.CartoDB.Positron, crs=2229)"
   ]
  },
  {
   "cell_type": "markdown",
   "id": "d038138e-5f97-462d-8487-50c6ae891aeb",
   "metadata": {},
   "source": [
    "San Bernardino is looking pretty good, but it looks like there are no warehouses in Riverside which we know isn't true :( \n",
    "To start troubleshooting, I used the [Riverside Assessor Database](https://ca-riverside-acr.publicaccessnow.com/Search.aspx?s=156030048&pg=1&g=-1&moduleId=478) to search for some three parcels that I knew were 1) in Riverside County, and 2) had warehouses on them (found examples on Warehouse CITY website). All three of these did return matches on the Riverside Assessor Database but are missing from the Riverside parcel data:\n",
    "* 156030029 \n",
    "* 156030046\n",
    "* 156030048\n",
    "\n",
    "This means that these parcels got lost somewhere earlier in the process that when I uploaded them into this notebook :("
   ]
  },
  {
   "cell_type": "code",
   "execution_count": null,
   "id": "04e21f03-bd8f-42f0-9f9e-6a56520e7d9f",
   "metadata": {},
   "outputs": [],
   "source": [
    "# even though this has to change i'm gonna save it \n",
    "parcels_warehouses.to_file('data/parcels_warehouses.geojson')"
   ]
  }
 ],
 "metadata": {
  "kernelspec": {
   "display_name": "Python 3 (ipykernel)",
   "language": "python",
   "name": "python3"
  },
  "language_info": {
   "codemirror_mode": {
    "name": "ipython",
    "version": 3
   },
   "file_extension": ".py",
   "mimetype": "text/x-python",
   "name": "python",
   "nbconvert_exporter": "python",
   "pygments_lexer": "ipython3",
   "version": "3.10.9"
  }
 },
 "nbformat": 4,
 "nbformat_minor": 5
}
