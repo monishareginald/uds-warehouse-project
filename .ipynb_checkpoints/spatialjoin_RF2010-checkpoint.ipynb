{
 "cells": [
  {
   "cell_type": "markdown",
   "id": "01eb2d86-05b2-4585-a3fc-307c3053b6f0",
   "metadata": {},
   "source": [
    "## Spatial Join Parcel/Scag to Census Data: 2010"
   ]
  },
  {
   "cell_type": "code",
   "execution_count": 91,
   "id": "ce1508fb-b9fc-4f08-9e99-f8843f8a5ae5",
   "metadata": {},
   "outputs": [],
   "source": [
    "# import libraries\n",
    "import pandas as pd\n",
    "import geopandas as gpd\n",
    "import numpy as np\n",
    "import matplotlib.pyplot as plt\n",
    "import seaborn as sns\n",
    "\n",
    "from sklearn.model_selection import train_test_split\n",
    "from sklearn.ensemble import RandomForestClassifier \n",
    "from sklearn.metrics import classification_report, confusion_matrix, accuracy_score, ConfusionMatrixDisplay\n",
    "from sklearn.inspection import PartialDependenceDisplay"
   ]
  },
  {
   "cell_type": "markdown",
   "id": "12240145-01b5-4020-bae6-7618a10926af",
   "metadata": {},
   "source": [
    "First we import and clean up the Parcel dataset that was created in LINK TO ALYSSA'S NOTEBOOK HERE"
   ]
  },
  {
   "cell_type": "code",
   "execution_count": 92,
   "id": "5e56db94-4d11-4056-be13-7268e8983ccb",
   "metadata": {},
   "outputs": [
    {
     "name": "stderr",
     "output_type": "stream",
     "text": [
      "C:\\Users\\lucyb\\AppData\\Local\\Temp\\ipykernel_17168\\984724337.py:2: DtypeWarning: Columns (3) have mixed types. Specify dtype option on import or set low_memory=False.\n",
      "  parcel_data=pd.read_csv('data/join_scag_to_parcels_left_2019.csv')\n"
     ]
    },
    {
     "data": {
      "text/html": [
       "<div>\n",
       "<style scoped>\n",
       "    .dataframe tbody tr th:only-of-type {\n",
       "        vertical-align: middle;\n",
       "    }\n",
       "\n",
       "    .dataframe tbody tr th {\n",
       "        vertical-align: top;\n",
       "    }\n",
       "\n",
       "    .dataframe thead th {\n",
       "        text-align: right;\n",
       "    }\n",
       "</style>\n",
       "<table border=\"1\" class=\"dataframe\">\n",
       "  <thead>\n",
       "    <tr style=\"text-align: right;\">\n",
       "      <th></th>\n",
       "      <th>APN</th>\n",
       "      <th>LAND_VALUE</th>\n",
       "      <th>distances</th>\n",
       "      <th>building_class</th>\n",
       "      <th>year</th>\n",
       "      <th>acres</th>\n",
       "      <th>sqft</th>\n",
       "      <th>num_warehouses</th>\n",
       "      <th>warehouse_2010</th>\n",
       "      <th>warehouse_2020</th>\n",
       "      <th>...</th>\n",
       "      <th>Specific Plan</th>\n",
       "      <th>Transportation, Communications, and Utilities</th>\n",
       "      <th>Under Construction</th>\n",
       "      <th>Undevelopable</th>\n",
       "      <th>Unknown</th>\n",
       "      <th>Vacant</th>\n",
       "      <th>Water</th>\n",
       "      <th>dollars_per_acre</th>\n",
       "      <th>county_Riverside</th>\n",
       "      <th>county_San Bernardino</th>\n",
       "    </tr>\n",
       "  </thead>\n",
       "  <tbody>\n",
       "    <tr>\n",
       "      <th>0</th>\n",
       "      <td>933260003.0</td>\n",
       "      <td>48418.0</td>\n",
       "      <td>38449.033944</td>\n",
       "      <td>NaN</td>\n",
       "      <td>NaN</td>\n",
       "      <td>NaN</td>\n",
       "      <td>NaN</td>\n",
       "      <td>0.0</td>\n",
       "      <td>0</td>\n",
       "      <td>0</td>\n",
       "      <td>...</td>\n",
       "      <td>0.0</td>\n",
       "      <td>0.0</td>\n",
       "      <td>0.0</td>\n",
       "      <td>0.0</td>\n",
       "      <td>0.0</td>\n",
       "      <td>0.0</td>\n",
       "      <td>0.0</td>\n",
       "      <td>2406.435207</td>\n",
       "      <td>1</td>\n",
       "      <td>0</td>\n",
       "    </tr>\n",
       "    <tr>\n",
       "      <th>1</th>\n",
       "      <td>933190003.0</td>\n",
       "      <td>210496.0</td>\n",
       "      <td>39355.337470</td>\n",
       "      <td>NaN</td>\n",
       "      <td>NaN</td>\n",
       "      <td>NaN</td>\n",
       "      <td>NaN</td>\n",
       "      <td>0.0</td>\n",
       "      <td>0</td>\n",
       "      <td>0</td>\n",
       "      <td>...</td>\n",
       "      <td>0.0</td>\n",
       "      <td>0.0</td>\n",
       "      <td>0.0</td>\n",
       "      <td>0.0</td>\n",
       "      <td>0.0</td>\n",
       "      <td>1.0</td>\n",
       "      <td>0.0</td>\n",
       "      <td>10667.570219</td>\n",
       "      <td>1</td>\n",
       "      <td>0</td>\n",
       "    </tr>\n",
       "    <tr>\n",
       "      <th>2</th>\n",
       "      <td>933200001.0</td>\n",
       "      <td>347975.0</td>\n",
       "      <td>39133.409768</td>\n",
       "      <td>NaN</td>\n",
       "      <td>NaN</td>\n",
       "      <td>NaN</td>\n",
       "      <td>NaN</td>\n",
       "      <td>0.0</td>\n",
       "      <td>0</td>\n",
       "      <td>0</td>\n",
       "      <td>...</td>\n",
       "      <td>0.0</td>\n",
       "      <td>0.0</td>\n",
       "      <td>0.0</td>\n",
       "      <td>0.0</td>\n",
       "      <td>0.0</td>\n",
       "      <td>1.0</td>\n",
       "      <td>0.0</td>\n",
       "      <td>17690.981870</td>\n",
       "      <td>1</td>\n",
       "      <td>0</td>\n",
       "    </tr>\n",
       "    <tr>\n",
       "      <th>3</th>\n",
       "      <td>933180027.0</td>\n",
       "      <td>88468.0</td>\n",
       "      <td>39830.303362</td>\n",
       "      <td>NaN</td>\n",
       "      <td>NaN</td>\n",
       "      <td>NaN</td>\n",
       "      <td>NaN</td>\n",
       "      <td>0.0</td>\n",
       "      <td>0</td>\n",
       "      <td>0</td>\n",
       "      <td>...</td>\n",
       "      <td>0.0</td>\n",
       "      <td>0.0</td>\n",
       "      <td>0.0</td>\n",
       "      <td>0.0</td>\n",
       "      <td>0.0</td>\n",
       "      <td>1.0</td>\n",
       "      <td>0.0</td>\n",
       "      <td>9505.916138</td>\n",
       "      <td>1</td>\n",
       "      <td>0</td>\n",
       "    </tr>\n",
       "    <tr>\n",
       "      <th>4</th>\n",
       "      <td>933180028.0</td>\n",
       "      <td>334555.0</td>\n",
       "      <td>38830.371787</td>\n",
       "      <td>NaN</td>\n",
       "      <td>NaN</td>\n",
       "      <td>NaN</td>\n",
       "      <td>NaN</td>\n",
       "      <td>0.0</td>\n",
       "      <td>0</td>\n",
       "      <td>0</td>\n",
       "      <td>...</td>\n",
       "      <td>0.0</td>\n",
       "      <td>0.0</td>\n",
       "      <td>0.0</td>\n",
       "      <td>0.0</td>\n",
       "      <td>0.0</td>\n",
       "      <td>0.0</td>\n",
       "      <td>0.0</td>\n",
       "      <td>16032.116147</td>\n",
       "      <td>1</td>\n",
       "      <td>0</td>\n",
       "    </tr>\n",
       "  </tbody>\n",
       "</table>\n",
       "<p>5 rows × 53 columns</p>\n",
       "</div>"
      ],
      "text/plain": [
       "           APN  LAND_VALUE     distances building_class  year  acres  sqft  \\\n",
       "0  933260003.0     48418.0  38449.033944            NaN   NaN    NaN   NaN   \n",
       "1  933190003.0    210496.0  39355.337470            NaN   NaN    NaN   NaN   \n",
       "2  933200001.0    347975.0  39133.409768            NaN   NaN    NaN   NaN   \n",
       "3  933180027.0     88468.0  39830.303362            NaN   NaN    NaN   NaN   \n",
       "4  933180028.0    334555.0  38830.371787            NaN   NaN    NaN   NaN   \n",
       "\n",
       "   num_warehouses  warehouse_2010  warehouse_2020  ...  Specific Plan  \\\n",
       "0             0.0               0               0  ...            0.0   \n",
       "1             0.0               0               0  ...            0.0   \n",
       "2             0.0               0               0  ...            0.0   \n",
       "3             0.0               0               0  ...            0.0   \n",
       "4             0.0               0               0  ...            0.0   \n",
       "\n",
       "   Transportation, Communications, and Utilities  Under Construction  \\\n",
       "0                                            0.0                 0.0   \n",
       "1                                            0.0                 0.0   \n",
       "2                                            0.0                 0.0   \n",
       "3                                            0.0                 0.0   \n",
       "4                                            0.0                 0.0   \n",
       "\n",
       "  Undevelopable  Unknown  Vacant Water dollars_per_acre  county_Riverside  \\\n",
       "0           0.0      0.0     0.0   0.0      2406.435207                 1   \n",
       "1           0.0      0.0     1.0   0.0     10667.570219                 1   \n",
       "2           0.0      0.0     1.0   0.0     17690.981870                 1   \n",
       "3           0.0      0.0     1.0   0.0      9505.916138                 1   \n",
       "4           0.0      0.0     0.0   0.0     16032.116147                 1   \n",
       "\n",
       "   county_San Bernardino  \n",
       "0                      0  \n",
       "1                      0  \n",
       "2                      0  \n",
       "3                      0  \n",
       "4                      0  \n",
       "\n",
       "[5 rows x 53 columns]"
      ]
     },
     "execution_count": 92,
     "metadata": {},
     "output_type": "execute_result"
    }
   ],
   "source": [
    "# read in data\n",
    "parcel_data=pd.read_csv('data/join_scag_to_parcels_left_2019.csv')\n",
    "\n",
    "# data clean-up\n",
    "# use lambda functions to denote whether warehouse had been built on each parcel by 2010 and by 2020 (fixing error in previous version)\n",
    "parcel_data['warehouse_2010']=parcel_data.year.apply(lambda x: 1 if x<2010 else 0)\n",
    "parcel_data['warehouse_2020']=parcel_data.year.apply(lambda x: 1 if x<2020 else 0)\n",
    "parcel_data['built_2010s']=parcel_data.year.apply(lambda x: 1 if (2010 <= x < 2020) else 0)\n",
    "\n",
    "# replace county names w/ dummies\n",
    "dummies=pd.get_dummies(parcel_data.COUNTY, prefix='county')\n",
    "parcel_data = parcel_data.join(dummies)\n",
    "parcel_data.head()"
   ]
  },
  {
   "cell_type": "markdown",
   "id": "792fadc4-f80b-4238-9d59-809610f72e88",
   "metadata": {},
   "source": [
    "### Spatial Join to Census Data"
   ]
  },
  {
   "cell_type": "code",
   "execution_count": 109,
   "id": "debc1428-49e8-4ea2-a3e3-072cbe91c231",
   "metadata": {},
   "outputs": [],
   "source": [
    "#turning everything into float32 to save memory\n",
    "for col in parcel_data.columns:\n",
    "    if parcel_data[col].dtype == 'float64': # skip the string column (srprec)\n",
    "        parcel_data[col] = parcel_data[col].astype('float16')\n",
    "for col in parcel_data.columns:\n",
    "    if parcel_data[col].dtype == 'int64': # skip the string column (srprec)\n",
    "        parcel_data[col] = parcel_data[col].astype('int8')"
   ]
  },
  {
   "cell_type": "code",
   "execution_count": 94,
   "id": "bef5dd4c-a5a6-4f09-944e-a3a8cf7700d5",
   "metadata": {},
   "outputs": [],
   "source": [
    "#read in 2009 census data\n",
    "census09 = gpd.read_file('data/census_2009.gpkg')"
   ]
  },
  {
   "cell_type": "code",
   "execution_count": 108,
   "id": "6569ffd2-5a88-415a-b309-e2835cedb17b",
   "metadata": {},
   "outputs": [],
   "source": [
    "for col in census09.columns:\n",
    "    if census09[col].dtype == 'float64': # skip the string column (srprec)\n",
    "        census09[col] = census09[col].astype('float16')"
   ]
  },
  {
   "cell_type": "code",
   "execution_count": 106,
   "id": "62f7200a-ec10-4b7d-8015-5a12f92edb9f",
   "metadata": {},
   "outputs": [],
   "source": [
    "#rejoining parcel geometry to make it into a Gdf\n",
    "parcels_geometry = gpd.read_file('data/parcels_warehouses.gpkg', include_fields=['APN', 'geometry'])\n",
    "#make APN into float32\n",
    "parcels_geometry.APN = parcels_geometry.APN.astype('float16')"
   ]
  },
  {
   "cell_type": "code",
   "execution_count": 110,
   "id": "aaa8bf00-12ad-4eb5-b881-3794f62b5df6",
   "metadata": {},
   "outputs": [
    {
     "data": {
      "text/plain": [
       "APN          float16\n",
       "geometry    geometry\n",
       "dtype: object"
      ]
     },
     "execution_count": 110,
     "metadata": {},
     "output_type": "execute_result"
    }
   ],
   "source": [
    "parcels_geometry.dtypes"
   ]
  },
  {
   "cell_type": "code",
   "execution_count": 107,
   "id": "24e2927b-3ac4-4936-9749-a533e6aa7d88",
   "metadata": {},
   "outputs": [
    {
     "data": {
      "text/plain": [
       "APN                                              float16\n",
       "LAND_VALUE                                       float16\n",
       "distances                                        float16\n",
       "building_class                                    object\n",
       "year                                             float16\n",
       "acres                                            float16\n",
       "sqft                                             float16\n",
       "num_warehouses                                   float16\n",
       "warehouse_2010                                      int8\n",
       "warehouse_2020                                      int8\n",
       "built_2010s                                         int8\n",
       "lon                                              float16\n",
       "lat                                              float16\n",
       "PID19                                            float16\n",
       "APN19                                            float16\n",
       "COUNTY                                            object\n",
       "CITY                                              object\n",
       "ACRES                                            float16\n",
       "IL_RATIO                                         float16\n",
       "LU19                                             float16\n",
       "LU16                                             float16\n",
       "JURISDICTI                                        object\n",
       "LU19_CLASS                                        object\n",
       "SCAG_ZN_CO                                       float16\n",
       "Shape_Leng                                       float16\n",
       "Shape_Area                                       float16\n",
       "Agriculture                                      float16\n",
       "Commercial and Services                          float16\n",
       "Education                                        float16\n",
       "Facilities                                       float16\n",
       "General Office                                   float16\n",
       "Industrial                                       float16\n",
       "Military Installations                           float16\n",
       "Mixed Commercial and Industrial                  float16\n",
       "Mixed Residential                                float16\n",
       "Mixed Residential and Commercial                 float16\n",
       "Mobile Homes and Trailer Parks                   float16\n",
       "Multi-Family Residential                         float16\n",
       "None                                             float16\n",
       "Open Space and Recreation                        float16\n",
       "Rural Residential                                float16\n",
       "Single Family Residential                        float16\n",
       "Specific Plan                                    float16\n",
       "Transportation, Communications, and Utilities    float16\n",
       "Under Construction                               float16\n",
       "Undevelopable                                    float16\n",
       "Unknown                                          float16\n",
       "Vacant                                           float16\n",
       "Water                                            float16\n",
       "dollars_per_acre                                 float16\n",
       "county_Riverside                                   uint8\n",
       "county_San Bernardino                              uint8\n",
       "dtype: object"
      ]
     },
     "execution_count": 107,
     "metadata": {},
     "output_type": "execute_result"
    }
   ],
   "source": [
    "parcel_data.dtypes"
   ]
  },
  {
   "cell_type": "code",
   "execution_count": 112,
   "id": "c86f441b-d7fd-4d00-ae0c-59d6febe1962",
   "metadata": {},
   "outputs": [
    {
     "ename": "MemoryError",
     "evalue": "Unable to allocate 14.1 TiB for an array with shape (1938749910240,) and data type int64",
     "output_type": "error",
     "traceback": [
      "\u001b[1;31m---------------------------------------------------------------------------\u001b[0m",
      "\u001b[1;31mMemoryError\u001b[0m                               Traceback (most recent call last)",
      "Cell \u001b[1;32mIn[112], line 4\u001b[0m\n\u001b[0;32m      1\u001b[0m \u001b[38;5;66;03m#drop old geometry column\u001b[39;00m\n\u001b[0;32m      2\u001b[0m \u001b[38;5;66;03m#parcel_data = parcel_data.drop('geometry', axis = 1)\u001b[39;00m\n\u001b[0;32m      3\u001b[0m \u001b[38;5;66;03m#joining back to scag/assessor data\u001b[39;00m\n\u001b[1;32m----> 4\u001b[0m parcel_data_geo \u001b[38;5;241m=\u001b[39m \u001b[43mparcel_data\u001b[49m\u001b[38;5;241;43m.\u001b[39;49m\u001b[43mjoin\u001b[49m\u001b[43m(\u001b[49m\u001b[43mparcels_geometry\u001b[49m\u001b[38;5;241;43m.\u001b[39;49m\u001b[43mset_index\u001b[49m\u001b[43m(\u001b[49m\u001b[38;5;124;43m'\u001b[39;49m\u001b[38;5;124;43mAPN\u001b[39;49m\u001b[38;5;124;43m'\u001b[39;49m\u001b[43m)\u001b[49m\u001b[43m,\u001b[49m\u001b[43m \u001b[49m\u001b[43mon\u001b[49m\u001b[43m \u001b[49m\u001b[38;5;241;43m=\u001b[39;49m\u001b[43m \u001b[49m\u001b[38;5;124;43m'\u001b[39;49m\u001b[38;5;124;43mAPN\u001b[39;49m\u001b[38;5;124;43m'\u001b[39;49m\u001b[43m,\u001b[49m\u001b[43m \u001b[49m\u001b[43mhow\u001b[49m\u001b[43m \u001b[49m\u001b[38;5;241;43m=\u001b[39;49m\u001b[43m \u001b[49m\u001b[38;5;124;43m'\u001b[39;49m\u001b[38;5;124;43mleft\u001b[39;49m\u001b[38;5;124;43m'\u001b[39;49m\u001b[43m)\u001b[49m\u001b[38;5;241m.\u001b[39mreset_index()\n\u001b[0;32m      5\u001b[0m parcel_data_geo \u001b[38;5;241m=\u001b[39m gpd\u001b[38;5;241m.\u001b[39mGeoDataFrame(parcel_data_geo, geometry \u001b[38;5;241m=\u001b[39m \u001b[38;5;124m'\u001b[39m\u001b[38;5;124mgeometry\u001b[39m\u001b[38;5;124m'\u001b[39m)\n",
      "File \u001b[1;32m~\\anaconda3\\lib\\site-packages\\pandas\\core\\frame.py:9979\u001b[0m, in \u001b[0;36mDataFrame.join\u001b[1;34m(self, other, on, how, lsuffix, rsuffix, sort, validate)\u001b[0m\n\u001b[0;32m   9816\u001b[0m \u001b[38;5;28;01mdef\u001b[39;00m \u001b[38;5;21mjoin\u001b[39m(\n\u001b[0;32m   9817\u001b[0m     \u001b[38;5;28mself\u001b[39m,\n\u001b[0;32m   9818\u001b[0m     other: DataFrame \u001b[38;5;241m|\u001b[39m Series \u001b[38;5;241m|\u001b[39m \u001b[38;5;28mlist\u001b[39m[DataFrame \u001b[38;5;241m|\u001b[39m Series],\n\u001b[1;32m   (...)\u001b[0m\n\u001b[0;32m   9824\u001b[0m     validate: \u001b[38;5;28mstr\u001b[39m \u001b[38;5;241m|\u001b[39m \u001b[38;5;28;01mNone\u001b[39;00m \u001b[38;5;241m=\u001b[39m \u001b[38;5;28;01mNone\u001b[39;00m,\n\u001b[0;32m   9825\u001b[0m ) \u001b[38;5;241m-\u001b[39m\u001b[38;5;241m>\u001b[39m DataFrame:\n\u001b[0;32m   9826\u001b[0m     \u001b[38;5;124;03m\"\"\"\u001b[39;00m\n\u001b[0;32m   9827\u001b[0m \u001b[38;5;124;03m    Join columns of another DataFrame.\u001b[39;00m\n\u001b[0;32m   9828\u001b[0m \n\u001b[1;32m   (...)\u001b[0m\n\u001b[0;32m   9977\u001b[0m \u001b[38;5;124;03m    5  K1  A5   B1\u001b[39;00m\n\u001b[0;32m   9978\u001b[0m \u001b[38;5;124;03m    \"\"\"\u001b[39;00m\n\u001b[1;32m-> 9979\u001b[0m     \u001b[38;5;28;01mreturn\u001b[39;00m \u001b[38;5;28;43mself\u001b[39;49m\u001b[38;5;241;43m.\u001b[39;49m\u001b[43m_join_compat\u001b[49m\u001b[43m(\u001b[49m\n\u001b[0;32m   9980\u001b[0m \u001b[43m        \u001b[49m\u001b[43mother\u001b[49m\u001b[43m,\u001b[49m\n\u001b[0;32m   9981\u001b[0m \u001b[43m        \u001b[49m\u001b[43mon\u001b[49m\u001b[38;5;241;43m=\u001b[39;49m\u001b[43mon\u001b[49m\u001b[43m,\u001b[49m\n\u001b[0;32m   9982\u001b[0m \u001b[43m        \u001b[49m\u001b[43mhow\u001b[49m\u001b[38;5;241;43m=\u001b[39;49m\u001b[43mhow\u001b[49m\u001b[43m,\u001b[49m\n\u001b[0;32m   9983\u001b[0m \u001b[43m        \u001b[49m\u001b[43mlsuffix\u001b[49m\u001b[38;5;241;43m=\u001b[39;49m\u001b[43mlsuffix\u001b[49m\u001b[43m,\u001b[49m\n\u001b[0;32m   9984\u001b[0m \u001b[43m        \u001b[49m\u001b[43mrsuffix\u001b[49m\u001b[38;5;241;43m=\u001b[39;49m\u001b[43mrsuffix\u001b[49m\u001b[43m,\u001b[49m\n\u001b[0;32m   9985\u001b[0m \u001b[43m        \u001b[49m\u001b[43msort\u001b[49m\u001b[38;5;241;43m=\u001b[39;49m\u001b[43msort\u001b[49m\u001b[43m,\u001b[49m\n\u001b[0;32m   9986\u001b[0m \u001b[43m        \u001b[49m\u001b[43mvalidate\u001b[49m\u001b[38;5;241;43m=\u001b[39;49m\u001b[43mvalidate\u001b[49m\u001b[43m,\u001b[49m\n\u001b[0;32m   9987\u001b[0m \u001b[43m    \u001b[49m\u001b[43m)\u001b[49m\n",
      "File \u001b[1;32m~\\anaconda3\\lib\\site-packages\\pandas\\core\\frame.py:10018\u001b[0m, in \u001b[0;36mDataFrame._join_compat\u001b[1;34m(self, other, on, how, lsuffix, rsuffix, sort, validate)\u001b[0m\n\u001b[0;32m  10008\u001b[0m     \u001b[38;5;28;01mif\u001b[39;00m how \u001b[38;5;241m==\u001b[39m \u001b[38;5;124m\"\u001b[39m\u001b[38;5;124mcross\u001b[39m\u001b[38;5;124m\"\u001b[39m:\n\u001b[0;32m  10009\u001b[0m         \u001b[38;5;28;01mreturn\u001b[39;00m merge(\n\u001b[0;32m  10010\u001b[0m             \u001b[38;5;28mself\u001b[39m,\n\u001b[0;32m  10011\u001b[0m             other,\n\u001b[1;32m   (...)\u001b[0m\n\u001b[0;32m  10016\u001b[0m             validate\u001b[38;5;241m=\u001b[39mvalidate,\n\u001b[0;32m  10017\u001b[0m         )\n\u001b[1;32m> 10018\u001b[0m     \u001b[38;5;28;01mreturn\u001b[39;00m \u001b[43mmerge\u001b[49m\u001b[43m(\u001b[49m\n\u001b[0;32m  10019\u001b[0m \u001b[43m        \u001b[49m\u001b[38;5;28;43mself\u001b[39;49m\u001b[43m,\u001b[49m\n\u001b[0;32m  10020\u001b[0m \u001b[43m        \u001b[49m\u001b[43mother\u001b[49m\u001b[43m,\u001b[49m\n\u001b[0;32m  10021\u001b[0m \u001b[43m        \u001b[49m\u001b[43mleft_on\u001b[49m\u001b[38;5;241;43m=\u001b[39;49m\u001b[43mon\u001b[49m\u001b[43m,\u001b[49m\n\u001b[0;32m  10022\u001b[0m \u001b[43m        \u001b[49m\u001b[43mhow\u001b[49m\u001b[38;5;241;43m=\u001b[39;49m\u001b[43mhow\u001b[49m\u001b[43m,\u001b[49m\n\u001b[0;32m  10023\u001b[0m \u001b[43m        \u001b[49m\u001b[43mleft_index\u001b[49m\u001b[38;5;241;43m=\u001b[39;49m\u001b[43mon\u001b[49m\u001b[43m \u001b[49m\u001b[38;5;129;43;01mis\u001b[39;49;00m\u001b[43m \u001b[49m\u001b[38;5;28;43;01mNone\u001b[39;49;00m\u001b[43m,\u001b[49m\n\u001b[0;32m  10024\u001b[0m \u001b[43m        \u001b[49m\u001b[43mright_index\u001b[49m\u001b[38;5;241;43m=\u001b[39;49m\u001b[38;5;28;43;01mTrue\u001b[39;49;00m\u001b[43m,\u001b[49m\n\u001b[0;32m  10025\u001b[0m \u001b[43m        \u001b[49m\u001b[43msuffixes\u001b[49m\u001b[38;5;241;43m=\u001b[39;49m\u001b[43m(\u001b[49m\u001b[43mlsuffix\u001b[49m\u001b[43m,\u001b[49m\u001b[43m \u001b[49m\u001b[43mrsuffix\u001b[49m\u001b[43m)\u001b[49m\u001b[43m,\u001b[49m\n\u001b[0;32m  10026\u001b[0m \u001b[43m        \u001b[49m\u001b[43msort\u001b[49m\u001b[38;5;241;43m=\u001b[39;49m\u001b[43msort\u001b[49m\u001b[43m,\u001b[49m\n\u001b[0;32m  10027\u001b[0m \u001b[43m        \u001b[49m\u001b[43mvalidate\u001b[49m\u001b[38;5;241;43m=\u001b[39;49m\u001b[43mvalidate\u001b[49m\u001b[43m,\u001b[49m\n\u001b[0;32m  10028\u001b[0m \u001b[43m    \u001b[49m\u001b[43m)\u001b[49m\n\u001b[0;32m  10029\u001b[0m \u001b[38;5;28;01melse\u001b[39;00m:\n\u001b[0;32m  10030\u001b[0m     \u001b[38;5;28;01mif\u001b[39;00m on \u001b[38;5;129;01mis\u001b[39;00m \u001b[38;5;129;01mnot\u001b[39;00m \u001b[38;5;28;01mNone\u001b[39;00m:\n",
      "File \u001b[1;32m~\\anaconda3\\lib\\site-packages\\pandas\\core\\reshape\\merge.py:124\u001b[0m, in \u001b[0;36mmerge\u001b[1;34m(left, right, how, on, left_on, right_on, left_index, right_index, sort, suffixes, copy, indicator, validate)\u001b[0m\n\u001b[0;32m     93\u001b[0m \u001b[38;5;129m@Substitution\u001b[39m(\u001b[38;5;124m\"\u001b[39m\u001b[38;5;130;01m\\n\u001b[39;00m\u001b[38;5;124mleft : DataFrame or named Series\u001b[39m\u001b[38;5;124m\"\u001b[39m)\n\u001b[0;32m     94\u001b[0m \u001b[38;5;129m@Appender\u001b[39m(_merge_doc, indents\u001b[38;5;241m=\u001b[39m\u001b[38;5;241m0\u001b[39m)\n\u001b[0;32m     95\u001b[0m \u001b[38;5;28;01mdef\u001b[39;00m \u001b[38;5;21mmerge\u001b[39m(\n\u001b[1;32m   (...)\u001b[0m\n\u001b[0;32m    108\u001b[0m     validate: \u001b[38;5;28mstr\u001b[39m \u001b[38;5;241m|\u001b[39m \u001b[38;5;28;01mNone\u001b[39;00m \u001b[38;5;241m=\u001b[39m \u001b[38;5;28;01mNone\u001b[39;00m,\n\u001b[0;32m    109\u001b[0m ) \u001b[38;5;241m-\u001b[39m\u001b[38;5;241m>\u001b[39m DataFrame:\n\u001b[0;32m    110\u001b[0m     op \u001b[38;5;241m=\u001b[39m _MergeOperation(\n\u001b[0;32m    111\u001b[0m         left,\n\u001b[0;32m    112\u001b[0m         right,\n\u001b[1;32m   (...)\u001b[0m\n\u001b[0;32m    122\u001b[0m         validate\u001b[38;5;241m=\u001b[39mvalidate,\n\u001b[0;32m    123\u001b[0m     )\n\u001b[1;32m--> 124\u001b[0m     \u001b[38;5;28;01mreturn\u001b[39;00m \u001b[43mop\u001b[49m\u001b[38;5;241;43m.\u001b[39;49m\u001b[43mget_result\u001b[49m\u001b[43m(\u001b[49m\u001b[43mcopy\u001b[49m\u001b[38;5;241;43m=\u001b[39;49m\u001b[43mcopy\u001b[49m\u001b[43m)\u001b[49m\n",
      "File \u001b[1;32m~\\anaconda3\\lib\\site-packages\\pandas\\core\\reshape\\merge.py:773\u001b[0m, in \u001b[0;36m_MergeOperation.get_result\u001b[1;34m(self, copy)\u001b[0m\n\u001b[0;32m    770\u001b[0m \u001b[38;5;28;01mif\u001b[39;00m \u001b[38;5;28mself\u001b[39m\u001b[38;5;241m.\u001b[39mindicator:\n\u001b[0;32m    771\u001b[0m     \u001b[38;5;28mself\u001b[39m\u001b[38;5;241m.\u001b[39mleft, \u001b[38;5;28mself\u001b[39m\u001b[38;5;241m.\u001b[39mright \u001b[38;5;241m=\u001b[39m \u001b[38;5;28mself\u001b[39m\u001b[38;5;241m.\u001b[39m_indicator_pre_merge(\u001b[38;5;28mself\u001b[39m\u001b[38;5;241m.\u001b[39mleft, \u001b[38;5;28mself\u001b[39m\u001b[38;5;241m.\u001b[39mright)\n\u001b[1;32m--> 773\u001b[0m join_index, left_indexer, right_indexer \u001b[38;5;241m=\u001b[39m \u001b[38;5;28;43mself\u001b[39;49m\u001b[38;5;241;43m.\u001b[39;49m\u001b[43m_get_join_info\u001b[49m\u001b[43m(\u001b[49m\u001b[43m)\u001b[49m\n\u001b[0;32m    775\u001b[0m result \u001b[38;5;241m=\u001b[39m \u001b[38;5;28mself\u001b[39m\u001b[38;5;241m.\u001b[39m_reindex_and_concat(\n\u001b[0;32m    776\u001b[0m     join_index, left_indexer, right_indexer, copy\u001b[38;5;241m=\u001b[39mcopy\n\u001b[0;32m    777\u001b[0m )\n\u001b[0;32m    778\u001b[0m result \u001b[38;5;241m=\u001b[39m result\u001b[38;5;241m.\u001b[39m__finalize__(\u001b[38;5;28mself\u001b[39m, method\u001b[38;5;241m=\u001b[39m\u001b[38;5;28mself\u001b[39m\u001b[38;5;241m.\u001b[39m_merge_type)\n",
      "File \u001b[1;32m~\\anaconda3\\lib\\site-packages\\pandas\\core\\reshape\\merge.py:1017\u001b[0m, in \u001b[0;36m_MergeOperation._get_join_info\u001b[1;34m(self)\u001b[0m\n\u001b[0;32m   1012\u001b[0m     join_index, left_indexer, right_indexer \u001b[38;5;241m=\u001b[39m left_ax\u001b[38;5;241m.\u001b[39mjoin(\n\u001b[0;32m   1013\u001b[0m         right_ax, how\u001b[38;5;241m=\u001b[39m\u001b[38;5;28mself\u001b[39m\u001b[38;5;241m.\u001b[39mhow, return_indexers\u001b[38;5;241m=\u001b[39m\u001b[38;5;28;01mTrue\u001b[39;00m, sort\u001b[38;5;241m=\u001b[39m\u001b[38;5;28mself\u001b[39m\u001b[38;5;241m.\u001b[39msort\n\u001b[0;32m   1014\u001b[0m     )\n\u001b[0;32m   1016\u001b[0m \u001b[38;5;28;01melif\u001b[39;00m \u001b[38;5;28mself\u001b[39m\u001b[38;5;241m.\u001b[39mright_index \u001b[38;5;129;01mand\u001b[39;00m \u001b[38;5;28mself\u001b[39m\u001b[38;5;241m.\u001b[39mhow \u001b[38;5;241m==\u001b[39m \u001b[38;5;124m\"\u001b[39m\u001b[38;5;124mleft\u001b[39m\u001b[38;5;124m\"\u001b[39m:\n\u001b[1;32m-> 1017\u001b[0m     join_index, left_indexer, right_indexer \u001b[38;5;241m=\u001b[39m \u001b[43m_left_join_on_index\u001b[49m\u001b[43m(\u001b[49m\n\u001b[0;32m   1018\u001b[0m \u001b[43m        \u001b[49m\u001b[43mleft_ax\u001b[49m\u001b[43m,\u001b[49m\u001b[43m \u001b[49m\u001b[43mright_ax\u001b[49m\u001b[43m,\u001b[49m\u001b[43m \u001b[49m\u001b[38;5;28;43mself\u001b[39;49m\u001b[38;5;241;43m.\u001b[39;49m\u001b[43mleft_join_keys\u001b[49m\u001b[43m,\u001b[49m\u001b[43m \u001b[49m\u001b[43msort\u001b[49m\u001b[38;5;241;43m=\u001b[39;49m\u001b[38;5;28;43mself\u001b[39;49m\u001b[38;5;241;43m.\u001b[39;49m\u001b[43msort\u001b[49m\n\u001b[0;32m   1019\u001b[0m \u001b[43m    \u001b[49m\u001b[43m)\u001b[49m\n\u001b[0;32m   1021\u001b[0m \u001b[38;5;28;01melif\u001b[39;00m \u001b[38;5;28mself\u001b[39m\u001b[38;5;241m.\u001b[39mleft_index \u001b[38;5;129;01mand\u001b[39;00m \u001b[38;5;28mself\u001b[39m\u001b[38;5;241m.\u001b[39mhow \u001b[38;5;241m==\u001b[39m \u001b[38;5;124m\"\u001b[39m\u001b[38;5;124mright\u001b[39m\u001b[38;5;124m\"\u001b[39m:\n\u001b[0;32m   1022\u001b[0m     join_index, right_indexer, left_indexer \u001b[38;5;241m=\u001b[39m _left_join_on_index(\n\u001b[0;32m   1023\u001b[0m         right_ax, left_ax, \u001b[38;5;28mself\u001b[39m\u001b[38;5;241m.\u001b[39mright_join_keys, sort\u001b[38;5;241m=\u001b[39m\u001b[38;5;28mself\u001b[39m\u001b[38;5;241m.\u001b[39msort\n\u001b[0;32m   1024\u001b[0m     )\n",
      "File \u001b[1;32m~\\anaconda3\\lib\\site-packages\\pandas\\core\\reshape\\merge.py:2208\u001b[0m, in \u001b[0;36m_left_join_on_index\u001b[1;34m(left_ax, right_ax, join_keys, sort)\u001b[0m\n\u001b[0;32m   2205\u001b[0m \u001b[38;5;28;01melse\u001b[39;00m:\n\u001b[0;32m   2206\u001b[0m     jkey \u001b[38;5;241m=\u001b[39m join_keys[\u001b[38;5;241m0\u001b[39m]\n\u001b[1;32m-> 2208\u001b[0m     left_indexer, right_indexer \u001b[38;5;241m=\u001b[39m \u001b[43m_get_single_indexer\u001b[49m\u001b[43m(\u001b[49m\u001b[43mjkey\u001b[49m\u001b[43m,\u001b[49m\u001b[43m \u001b[49m\u001b[43mright_ax\u001b[49m\u001b[43m,\u001b[49m\u001b[43m \u001b[49m\u001b[43msort\u001b[49m\u001b[38;5;241;43m=\u001b[39;49m\u001b[43msort\u001b[49m\u001b[43m)\u001b[49m\n\u001b[0;32m   2210\u001b[0m \u001b[38;5;28;01mif\u001b[39;00m sort \u001b[38;5;129;01mor\u001b[39;00m \u001b[38;5;28mlen\u001b[39m(left_ax) \u001b[38;5;241m!=\u001b[39m \u001b[38;5;28mlen\u001b[39m(left_indexer):\n\u001b[0;32m   2211\u001b[0m     \u001b[38;5;66;03m# if asked to sort or there are 1-to-many matches\u001b[39;00m\n\u001b[0;32m   2212\u001b[0m     join_index \u001b[38;5;241m=\u001b[39m left_ax\u001b[38;5;241m.\u001b[39mtake(left_indexer)\n",
      "File \u001b[1;32m~\\anaconda3\\lib\\site-packages\\pandas\\core\\reshape\\merge.py:2149\u001b[0m, in \u001b[0;36m_get_single_indexer\u001b[1;34m(join_key, index, sort)\u001b[0m\n\u001b[0;32m   2144\u001b[0m \u001b[38;5;28;01mdef\u001b[39;00m \u001b[38;5;21m_get_single_indexer\u001b[39m(\n\u001b[0;32m   2145\u001b[0m     join_key, index: Index, sort: \u001b[38;5;28mbool\u001b[39m \u001b[38;5;241m=\u001b[39m \u001b[38;5;28;01mFalse\u001b[39;00m\n\u001b[0;32m   2146\u001b[0m ) \u001b[38;5;241m-\u001b[39m\u001b[38;5;241m>\u001b[39m \u001b[38;5;28mtuple\u001b[39m[npt\u001b[38;5;241m.\u001b[39mNDArray[np\u001b[38;5;241m.\u001b[39mintp], npt\u001b[38;5;241m.\u001b[39mNDArray[np\u001b[38;5;241m.\u001b[39mintp]]:\n\u001b[0;32m   2147\u001b[0m     left_key, right_key, count \u001b[38;5;241m=\u001b[39m _factorize_keys(join_key, index\u001b[38;5;241m.\u001b[39m_values, sort\u001b[38;5;241m=\u001b[39msort)\n\u001b[1;32m-> 2149\u001b[0m     \u001b[38;5;28;01mreturn\u001b[39;00m \u001b[43mlibjoin\u001b[49m\u001b[38;5;241;43m.\u001b[39;49m\u001b[43mleft_outer_join\u001b[49m\u001b[43m(\u001b[49m\u001b[43mleft_key\u001b[49m\u001b[43m,\u001b[49m\u001b[43m \u001b[49m\u001b[43mright_key\u001b[49m\u001b[43m,\u001b[49m\u001b[43m \u001b[49m\u001b[43mcount\u001b[49m\u001b[43m,\u001b[49m\u001b[43m \u001b[49m\u001b[43msort\u001b[49m\u001b[38;5;241;43m=\u001b[39;49m\u001b[43msort\u001b[49m\u001b[43m)\u001b[49m\n",
      "File \u001b[1;32m~\\anaconda3\\lib\\site-packages\\pandas\\_libs\\join.pyx:104\u001b[0m, in \u001b[0;36mpandas._libs.join.left_outer_join\u001b[1;34m()\u001b[0m\n",
      "\u001b[1;31mMemoryError\u001b[0m: Unable to allocate 14.1 TiB for an array with shape (1938749910240,) and data type int64"
     ]
    }
   ],
   "source": [
    "#drop old geometry column\n",
    "#parcel_data = parcel_data.drop('geometry', axis = 1)\n",
    "#joining back to scag/assessor data\n",
    "parcel_data_geo = parcel_data.join(parcels_geometry.set_index('APN'), on = 'APN', how = 'left').reset_index()\n",
    "parcel_data_geo = gpd.GeoDataFrame(parcel_data_geo, geometry = 'geometry')"
   ]
  },
  {
   "cell_type": "markdown",
   "id": "733db5f3-0005-4f4a-8295-7d02f6a44aed",
   "metadata": {},
   "source": [
    "First we create a dataset to represent the conditions in the Inland Empire in 2010"
   ]
  },
  {
   "cell_type": "code",
   "execution_count": null,
   "id": "cd2b64c9-d2e7-4fa8-a826-7d4ff0476f8b",
   "metadata": {},
   "outputs": [],
   "source": [
    "for col in parcel_data_geo.columns:\n",
    "    if parcel_data_geo[col].dtype == 'int64': # skip the string column (srprec)\n",
    "        parcel_data_geo[col] = parcel_data_geo[col].astype('int8')"
   ]
  },
  {
   "cell_type": "code",
   "execution_count": 47,
   "id": "53807811-ebd0-4d16-9ffa-a50783855faf",
   "metadata": {},
   "outputs": [],
   "source": [
    "#parcel_data_geo.to_file('parcel_scag_geo.gpkg', driver = 'gpkg')"
   ]
  },
  {
   "cell_type": "code",
   "execution_count": null,
   "id": "1689af3a-9c17-4b01-a55e-662060af4c20",
   "metadata": {},
   "outputs": [],
   "source": [
    "parceldata_10=parcel_data_geo.copy()\n",
    "for col in parceldata_10.columns:\n",
    "    if parceldata_10[col].dtype == 'float32': # skip the string column (srprec)\n",
    "        parceldata_10[col] = parceldata_10[col].astype('float16')"
   ]
  },
  {
   "cell_type": "code",
   "execution_count": null,
   "id": "627f8adc-1540-4c7a-9106-649bd2ad3f00",
   "metadata": {},
   "outputs": [],
   "source": [
    "# copy dataset and delete/rename variables as needed\n",
    "parceldata_10.drop(columns=['warehouse_2020'],inplace=True)\n",
    "parceldata_10.rename(columns={'warehouse_2010':'warehouse_start','built_2010s':'buit_within_decade'},inplace=True)"
   ]
  },
  {
   "cell_type": "code",
   "execution_count": null,
   "id": "83a8946c-c9cb-4b5c-8f02-c2acedebff2c",
   "metadata": {},
   "outputs": [],
   "source": [
    "#spatial join to just the 2010 census data, use CA Zone 5 CRS 2229\n",
    "parceldata_10 = parceldata_10.to_crs(2229)\n",
    "census09 = census09.to_crs(2229)\n",
    "parcelcensus10 = gpd.sjoin(parceldata_10, census09, how = 'left', predicate='intersects')\n",
    "\n",
    "# need to set APN to be index so that we can join this back to other information later on\n",
    "parcelcensus10.set_index('APN',inplace=True)"
   ]
  },
  {
   "cell_type": "code",
   "execution_count": null,
   "id": "601b762e-ba09-401a-abaa-4d3d0281519a",
   "metadata": {},
   "outputs": [],
   "source": [
    "print(parceldata10.shape)\n",
    "print(parcelcensus10.shape)"
   ]
  },
  {
   "cell_type": "code",
   "execution_count": null,
   "id": "d530b47a-ad47-4658-823a-ff208c3d34a8",
   "metadata": {},
   "outputs": [],
   "source": [
    "for col in parcelcensus10.columns:\n",
    "    if parcelcensus10[col].dtype == 'int64': # skip the string column (srprec)\n",
    "        parcelcensus10[col] = parcelcensus10[col].astype('int8')"
   ]
  },
  {
   "cell_type": "code",
   "execution_count": 21,
   "id": "eaaee275-a257-4dd4-a63f-ef8b458cba3f",
   "metadata": {},
   "outputs": [],
   "source": [
    "#parcelcensus10.to_csv('data/parcelcensus10.csv')"
   ]
  },
  {
   "cell_type": "code",
   "execution_count": null,
   "id": "4212fa62-0c75-471a-8c1c-d489896b6db8",
   "metadata": {},
   "outputs": [],
   "source": [
    "for col in parcelcensus10.columns:\n",
    "    if parcelcensus10[col].dtype == 'float32': # skip the string column (srprec)\n",
    "        parcelcensus10[col] = parcelcensus10[col].astype('float16')\n",
    "for col in parcelcensus10.columns:\n",
    "    if parcelcensus10[col].dtype == 'float64': # skip the string column (srprec)\n",
    "        parcelcensus10[col] = parcelcensus10[col].astype('float16')\n",
    "parcelcensus10.info()"
   ]
  },
  {
   "cell_type": "code",
   "execution_count": null,
   "id": "d90d7fb2-9de4-4d5a-a7ac-ce9ffd4846f5",
   "metadata": {},
   "outputs": [],
   "source": [
    "# define variables \n",
    "cols=parcelcensus10.columns.to_list()\n",
    "xvars=[col for col in cols if col not in ('APN','building_class','year','acres','sqft','num_warehouses','buit_within_decade',\n",
    "                                          'geometry','PID19','APN19','CITY','COUNTY','LU19','LU16','JURISDICTI','LU19_CLASS','SCAG_ZN_CO','NAME',\n",
    "                                          'Shape_Leng','Shape_Area')]\n",
    "yvar = 'buit_within_decade'\n",
    "\n",
    "# create a dataframe with no NaNs\n",
    "parceldata_10_model = parcelcensus10[xvars+[yvar]].dropna()\n",
    "\n",
    "# create train-test split\n",
    "X_train, X_test, y_train, y_test = train_test_split(\n",
    "    parceldata_10_model[xvars], parceldata_10_model[yvar], test_size = 0.25, random_state = 1)"
   ]
  },
  {
   "cell_type": "code",
   "execution_count": null,
   "id": "e689f5ab-43d0-4443-ab71-e8351f5df1ff",
   "metadata": {},
   "outputs": [],
   "source": [
    "# initialize the random forest classifer object\n",
    "rf = RandomForestClassifier(n_estimators = 10, random_state = 1)\n",
    "\n",
    "# fit the model\n",
    "rf.fit(X_train, y_train)\n",
    "\n",
    "# apply predictions to test dataset\n",
    "y_pred = rf.predict(X_test)"
   ]
  },
  {
   "cell_type": "code",
   "execution_count": null,
   "id": "4247f65c-c429-4da9-9731-0ccdefb7a1b6",
   "metadata": {},
   "outputs": [],
   "source": [
    "# stop if the length of the predictions doesn't match the training dataset\n",
    "assert len(X_test)==len(y_pred)"
   ]
  },
  {
   "cell_type": "markdown",
   "id": "d6f23aa5-098d-48a5-b8cd-234d5afc7fb2",
   "metadata": {},
   "source": [
    "We used a Confusion Matrix for an initial assessment of performance"
   ]
  },
  {
   "cell_type": "code",
   "execution_count": null,
   "id": "1b8ace55-4633-4603-80b2-4a043d456e39",
   "metadata": {},
   "outputs": [],
   "source": [
    "print('Predicted fraction True: {:.4f}. Actual fraction True: {:.4f}'.format(\n",
    "    y_pred.mean(), y_test.mean()))\n",
    "ConfusionMatrixDisplay.from_predictions(y_test, y_pred)"
   ]
  },
  {
   "cell_type": "markdown",
   "id": "55881575-59fd-49a6-8cc8-85d0a2714b84",
   "metadata": {},
   "source": [
    "We used the feature importances to identify variables worth looking into further"
   ]
  },
  {
   "cell_type": "code",
   "execution_count": null,
   "id": "87c26b72-ce5b-4c2a-bd23-1c8443b72afb",
   "metadata": {},
   "outputs": [],
   "source": [
    "# create series of importances\n",
    "importances = rf.feature_importances_\n",
    "forest_importances = pd.Series(importances, index=X_train.columns)\n",
    "forest_importances.sort_values(inplace=True, ascending=False)\n",
    "\n",
    "# plot them\n",
    "fig, ax = plt.subplots(figsize=(5,4))\n",
    "sns.barplot(x=forest_importances[:15].values, y=forest_importances[:15].index, ax=ax)\n",
    "ax.set_title(\"Feature importances using MDI\")\n",
    "ax.set_ylabel(\"Mean decrease in impurity\")"
   ]
  }
 ],
 "metadata": {
  "kernelspec": {
   "display_name": "Python 3 (ipykernel)",
   "language": "python",
   "name": "python3"
  },
  "language_info": {
   "codemirror_mode": {
    "name": "ipython",
    "version": 3
   },
   "file_extension": ".py",
   "mimetype": "text/x-python",
   "name": "python",
   "nbconvert_exporter": "python",
   "pygments_lexer": "ipython3",
   "version": "3.10.9"
  }
 },
 "nbformat": 4,
 "nbformat_minor": 5
}
