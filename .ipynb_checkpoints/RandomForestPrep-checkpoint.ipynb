{
 "cells": [
  {
   "cell_type": "markdown",
   "id": "01eb2d86-05b2-4585-a3fc-307c3053b6f0",
   "metadata": {},
   "source": [
    "## Random Forest Model Prep"
   ]
  },
  {
   "cell_type": "code",
   "execution_count": null,
   "id": "f2062004-60e4-4b41-9202-72de67f347f5",
   "metadata": {},
   "outputs": [],
   "source": [
    "#import libraries\n",
    "import pandas as pd\n",
    "\n",
    "from sklearn.model_selection import train_test_split\n",
    "train_test_split?\n",
    "\n",
    "from sklearn.ensemble import RandomForestClassifier \n"
   ]
  },
  {
   "cell_type": "code",
   "execution_count": null,
   "id": "46a8af95-c175-4f7c-a9d5-1e88b42c65eb",
   "metadata": {},
   "outputs": [],
   "source": [
    "#Read in file\n",
    "df = pd.read_pickle(file)"
   ]
  },
  {
   "cell_type": "code",
   "execution_count": null,
   "id": "d376296f-4ba4-4ec3-aa17-ccd3b2a80ff1",
   "metadata": {},
   "outputs": [],
   "source": [
    "# create a dataframe with no NaNs\n",
    "df_to_fit = df[xvars+[yvar]].dropna()\n",
    "\n",
    "X_train, X_test, y_train, y_test = train_test_split(\n",
    "    df_to_fit[xvars], df_to_fit[yvar], test_size = 0.25, random_state = 1)"
   ]
  },
  {
   "cell_type": "code",
   "execution_count": null,
   "id": "f200a060-bf3b-447f-89d8-a6aa02ee73f8",
   "metadata": {},
   "outputs": [],
   "source": [
    "# check we have a reasonable split\n",
    "print(len(X_train), len(y_train) )\n",
    "print(len(X_test), len(y_test) )"
   ]
  },
  {
   "cell_type": "code",
   "execution_count": null,
   "id": "f6b2acd8-b6df-4f1b-81f0-3608b8cd90da",
   "metadata": {},
   "outputs": [],
   "source": [
    "#check training dataset\n",
    "X_train.head()"
   ]
  },
  {
   "cell_type": "code",
   "execution_count": null,
   "id": "e3754b89-2303-4efa-b5a4-987afe2ada12",
   "metadata": {},
   "outputs": [],
   "source": [
    "# initialize the random forest classifer object\n",
    "rf = RandomForestClassifier(n_estimators = 50, random_state = 1)\n",
    "\n",
    "# now fit the model\n",
    "rf.fit(X_train, y_train)"
   ]
  },
  {
   "cell_type": "code",
   "execution_count": null,
   "id": "a307ae6d-0815-4fe5-9833-5519f478807b",
   "metadata": {},
   "outputs": [],
   "source": [
    "#apply predictions to test dataset\n",
    "y_pred = rf.predict(X_test)\n",
    "y_pred"
   ]
  },
  {
   "cell_type": "code",
   "execution_count": null,
   "id": "ddb38e67-37a6-4628-8369-42aaaafea3e4",
   "metadata": {},
   "outputs": [],
   "source": [
    "#check that the lengths match\n",
    "print(len(X_test), len(y_pred))"
   ]
  },
  {
   "cell_type": "code",
   "execution_count": null,
   "id": "6e9ac99e-ce06-4728-84b7-520faca2bf38",
   "metadata": {},
   "outputs": [],
   "source": [
    "print('Predicted fraction True: {:.4f}. Actual fraction True: {:.4f}'.format(\n",
    "    y_pred.mean(), y_test.mean()))"
   ]
  }
 ],
 "metadata": {
  "kernelspec": {
   "display_name": "Python 3 (ipykernel)",
   "language": "python",
   "name": "python3"
  },
  "language_info": {
   "codemirror_mode": {
    "name": "ipython",
    "version": 3
   },
   "file_extension": ".py",
   "mimetype": "text/x-python",
   "name": "python",
   "nbconvert_exporter": "python",
   "pygments_lexer": "ipython3",
   "version": "3.9.16"
  }
 },
 "nbformat": 4,
 "nbformat_minor": 5
}
