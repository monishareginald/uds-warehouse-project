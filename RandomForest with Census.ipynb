{
 "cells": [
  {
   "cell_type": "markdown",
   "id": "01eb2d86-05b2-4585-a3fc-307c3053b6f0",
   "metadata": {},
   "source": [
    "## Random Forest Model"
   ]
  },
  {
   "cell_type": "code",
   "execution_count": 2,
   "id": "ce1508fb-b9fc-4f08-9e99-f8843f8a5ae5",
   "metadata": {},
   "outputs": [],
   "source": [
    "# import libraries\n",
    "import pandas as pd\n",
    "import geopandas as gpd\n",
    "import numpy as np\n",
    "import matplotlib.pyplot as plt\n",
    "import seaborn as sns\n",
    "\n",
    "from sklearn.model_selection import train_test_split\n",
    "from sklearn.ensemble import RandomForestClassifier \n",
    "from sklearn.metrics import classification_report, confusion_matrix, accuracy_score, ConfusionMatrixDisplay\n",
    "from sklearn.inspection import PartialDependenceDisplay"
   ]
  },
  {
   "cell_type": "markdown",
   "id": "12240145-01b5-4020-bae6-7618a10926af",
   "metadata": {},
   "source": [
    "First we import the 2010 and 2020 dataset created in these notebooks: 2010 and 2020"
   ]
  },
  {
   "cell_type": "code",
   "execution_count": null,
   "id": "5e56db94-4d11-4056-be13-7268e8983ccb",
   "metadata": {},
   "outputs": [],
   "source": [
    "# read in data\n",
    "parceldata_10=pd.read_csv('all_data_joined_2010.csv')\n",
    "\n",
    "# need to set APN to be index so that we can join this back to other information later on\n",
    "parceldata_10.set_index('APN',inplace=True)\n",
    "parceldata_10.head()"
   ]
  },
  {
   "cell_type": "code",
   "execution_count": 3,
   "id": "afe8db03-ba33-493a-b72a-c4b1ea7c9a53",
   "metadata": {},
   "outputs": [
    {
     "name": "stderr",
     "output_type": "stream",
     "text": [
      "C:\\Users\\Monisha\\AppData\\Local\\Temp\\ipykernel_38016\\1273726340.py:2: DtypeWarning: Columns (4) have mixed types. Specify dtype option on import or set low_memory=False.\n",
      "  parceldata_20=pd.read_csv('data/all_data_joined_2020.csv')\n"
     ]
    },
    {
     "data": {
      "text/html": [
       "<div>\n",
       "<style scoped>\n",
       "    .dataframe tbody tr th:only-of-type {\n",
       "        vertical-align: middle;\n",
       "    }\n",
       "\n",
       "    .dataframe tbody tr th {\n",
       "        vertical-align: top;\n",
       "    }\n",
       "\n",
       "    .dataframe thead th {\n",
       "        text-align: right;\n",
       "    }\n",
       "</style>\n",
       "<table border=\"1\" class=\"dataframe\">\n",
       "  <thead>\n",
       "    <tr style=\"text-align: right;\">\n",
       "      <th></th>\n",
       "      <th>GEO_ID</th>\n",
       "      <th>LAND_VALUE</th>\n",
       "      <th>distances</th>\n",
       "      <th>building_class</th>\n",
       "      <th>year</th>\n",
       "      <th>acres</th>\n",
       "      <th>sqft</th>\n",
       "      <th>num_warehouses</th>\n",
       "      <th>warehouse_start</th>\n",
       "      <th>buit_within_decade</th>\n",
       "      <th>...</th>\n",
       "      <th>Total Workers</th>\n",
       "      <th>Percent Employee of private company workers</th>\n",
       "      <th>Percent Self-employed in own incorporated business workers</th>\n",
       "      <th>Percent Private not-for-profit wage and salary workers</th>\n",
       "      <th>Percent Local government workers</th>\n",
       "      <th>Percent State government workers</th>\n",
       "      <th>Percent Federal government workers</th>\n",
       "      <th>Percent Self-employed in own not incorporated business workers</th>\n",
       "      <th>Percent Unpaid family workers</th>\n",
       "      <th>geometry_census</th>\n",
       "    </tr>\n",
       "    <tr>\n",
       "      <th>APN</th>\n",
       "      <th></th>\n",
       "      <th></th>\n",
       "      <th></th>\n",
       "      <th></th>\n",
       "      <th></th>\n",
       "      <th></th>\n",
       "      <th></th>\n",
       "      <th></th>\n",
       "      <th></th>\n",
       "      <th></th>\n",
       "      <th></th>\n",
       "      <th></th>\n",
       "      <th></th>\n",
       "      <th></th>\n",
       "      <th></th>\n",
       "      <th></th>\n",
       "      <th></th>\n",
       "      <th></th>\n",
       "      <th></th>\n",
       "      <th></th>\n",
       "      <th></th>\n",
       "    </tr>\n",
       "  </thead>\n",
       "  <tbody>\n",
       "    <tr>\n",
       "      <th>210080008.0</th>\n",
       "      <td>6.065030e+09</td>\n",
       "      <td>415583.0</td>\n",
       "      <td>1276.949816</td>\n",
       "      <td>NaN</td>\n",
       "      <td>NaN</td>\n",
       "      <td>NaN</td>\n",
       "      <td>NaN</td>\n",
       "      <td>0.0</td>\n",
       "      <td>0</td>\n",
       "      <td>0</td>\n",
       "      <td>...</td>\n",
       "      <td>571.0</td>\n",
       "      <td>78.458844</td>\n",
       "      <td>2.802102</td>\n",
       "      <td>7.180385</td>\n",
       "      <td>6.830123</td>\n",
       "      <td>1.050788</td>\n",
       "      <td>0.0</td>\n",
       "      <td>3.677758</td>\n",
       "      <td>0.0</td>\n",
       "      <td>POLYGON ((-13064177.03 4027912.35, -13064167.1...</td>\n",
       "    </tr>\n",
       "    <tr>\n",
       "      <th>210060035.0</th>\n",
       "      <td>6.065030e+09</td>\n",
       "      <td>0.0</td>\n",
       "      <td>1448.959298</td>\n",
       "      <td>NaN</td>\n",
       "      <td>NaN</td>\n",
       "      <td>NaN</td>\n",
       "      <td>NaN</td>\n",
       "      <td>0.0</td>\n",
       "      <td>0</td>\n",
       "      <td>0</td>\n",
       "      <td>...</td>\n",
       "      <td>571.0</td>\n",
       "      <td>78.458844</td>\n",
       "      <td>2.802102</td>\n",
       "      <td>7.180385</td>\n",
       "      <td>6.830123</td>\n",
       "      <td>1.050788</td>\n",
       "      <td>0.0</td>\n",
       "      <td>3.677758</td>\n",
       "      <td>0.0</td>\n",
       "      <td>POLYGON ((-13064177.03 4027912.35, -13064167.1...</td>\n",
       "    </tr>\n",
       "    <tr>\n",
       "      <th>210210051.0</th>\n",
       "      <td>6.065030e+09</td>\n",
       "      <td>154517.0</td>\n",
       "      <td>960.746466</td>\n",
       "      <td>NaN</td>\n",
       "      <td>NaN</td>\n",
       "      <td>NaN</td>\n",
       "      <td>NaN</td>\n",
       "      <td>0.0</td>\n",
       "      <td>0</td>\n",
       "      <td>0</td>\n",
       "      <td>...</td>\n",
       "      <td>571.0</td>\n",
       "      <td>78.458844</td>\n",
       "      <td>2.802102</td>\n",
       "      <td>7.180385</td>\n",
       "      <td>6.830123</td>\n",
       "      <td>1.050788</td>\n",
       "      <td>0.0</td>\n",
       "      <td>3.677758</td>\n",
       "      <td>0.0</td>\n",
       "      <td>POLYGON ((-13064177.03 4027912.35, -13064167.1...</td>\n",
       "    </tr>\n",
       "    <tr>\n",
       "      <th>210210076.0</th>\n",
       "      <td>6.065030e+09</td>\n",
       "      <td>0.0</td>\n",
       "      <td>885.698095</td>\n",
       "      <td>NaN</td>\n",
       "      <td>NaN</td>\n",
       "      <td>NaN</td>\n",
       "      <td>NaN</td>\n",
       "      <td>0.0</td>\n",
       "      <td>0</td>\n",
       "      <td>0</td>\n",
       "      <td>...</td>\n",
       "      <td>571.0</td>\n",
       "      <td>78.458844</td>\n",
       "      <td>2.802102</td>\n",
       "      <td>7.180385</td>\n",
       "      <td>6.830123</td>\n",
       "      <td>1.050788</td>\n",
       "      <td>0.0</td>\n",
       "      <td>3.677758</td>\n",
       "      <td>0.0</td>\n",
       "      <td>POLYGON ((-13064177.03 4027912.35, -13064167.1...</td>\n",
       "    </tr>\n",
       "    <tr>\n",
       "      <th>210210046.0</th>\n",
       "      <td>6.065030e+09</td>\n",
       "      <td>73581.0</td>\n",
       "      <td>852.249225</td>\n",
       "      <td>NaN</td>\n",
       "      <td>NaN</td>\n",
       "      <td>NaN</td>\n",
       "      <td>NaN</td>\n",
       "      <td>0.0</td>\n",
       "      <td>0</td>\n",
       "      <td>0</td>\n",
       "      <td>...</td>\n",
       "      <td>571.0</td>\n",
       "      <td>78.458844</td>\n",
       "      <td>2.802102</td>\n",
       "      <td>7.180385</td>\n",
       "      <td>6.830123</td>\n",
       "      <td>1.050788</td>\n",
       "      <td>0.0</td>\n",
       "      <td>3.677758</td>\n",
       "      <td>0.0</td>\n",
       "      <td>POLYGON ((-13064177.03 4027912.35, -13064167.1...</td>\n",
       "    </tr>\n",
       "  </tbody>\n",
       "</table>\n",
       "<p>5 rows × 105 columns</p>\n",
       "</div>"
      ],
      "text/plain": [
       "                   GEO_ID  LAND_VALUE    distances building_class  year  \\\n",
       "APN                                                                       \n",
       "210080008.0  6.065030e+09    415583.0  1276.949816            NaN   NaN   \n",
       "210060035.0  6.065030e+09         0.0  1448.959298            NaN   NaN   \n",
       "210210051.0  6.065030e+09    154517.0   960.746466            NaN   NaN   \n",
       "210210076.0  6.065030e+09         0.0   885.698095            NaN   NaN   \n",
       "210210046.0  6.065030e+09     73581.0   852.249225            NaN   NaN   \n",
       "\n",
       "             acres  sqft  num_warehouses  warehouse_start  buit_within_decade  \\\n",
       "APN                                                                             \n",
       "210080008.0    NaN   NaN             0.0                0                   0   \n",
       "210060035.0    NaN   NaN             0.0                0                   0   \n",
       "210210051.0    NaN   NaN             0.0                0                   0   \n",
       "210210076.0    NaN   NaN             0.0                0                   0   \n",
       "210210046.0    NaN   NaN             0.0                0                   0   \n",
       "\n",
       "             ...  Total Workers  Percent Employee of private company workers  \\\n",
       "APN          ...                                                               \n",
       "210080008.0  ...          571.0                                    78.458844   \n",
       "210060035.0  ...          571.0                                    78.458844   \n",
       "210210051.0  ...          571.0                                    78.458844   \n",
       "210210076.0  ...          571.0                                    78.458844   \n",
       "210210046.0  ...          571.0                                    78.458844   \n",
       "\n",
       "            Percent Self-employed in own incorporated business workers  \\\n",
       "APN                                                                      \n",
       "210080008.0                                           2.802102           \n",
       "210060035.0                                           2.802102           \n",
       "210210051.0                                           2.802102           \n",
       "210210076.0                                           2.802102           \n",
       "210210046.0                                           2.802102           \n",
       "\n",
       "             Percent Private not-for-profit wage and salary workers  \\\n",
       "APN                                                                   \n",
       "210080008.0                                           7.180385        \n",
       "210060035.0                                           7.180385        \n",
       "210210051.0                                           7.180385        \n",
       "210210076.0                                           7.180385        \n",
       "210210046.0                                           7.180385        \n",
       "\n",
       "             Percent Local government workers  \\\n",
       "APN                                             \n",
       "210080008.0                          6.830123   \n",
       "210060035.0                          6.830123   \n",
       "210210051.0                          6.830123   \n",
       "210210076.0                          6.830123   \n",
       "210210046.0                          6.830123   \n",
       "\n",
       "            Percent State government workers  \\\n",
       "APN                                            \n",
       "210080008.0                         1.050788   \n",
       "210060035.0                         1.050788   \n",
       "210210051.0                         1.050788   \n",
       "210210076.0                         1.050788   \n",
       "210210046.0                         1.050788   \n",
       "\n",
       "            Percent Federal government workers  \\\n",
       "APN                                              \n",
       "210080008.0                                0.0   \n",
       "210060035.0                                0.0   \n",
       "210210051.0                                0.0   \n",
       "210210076.0                                0.0   \n",
       "210210046.0                                0.0   \n",
       "\n",
       "             Percent Self-employed in own not incorporated business workers  \\\n",
       "APN                                                                           \n",
       "210080008.0                                           3.677758                \n",
       "210060035.0                                           3.677758                \n",
       "210210051.0                                           3.677758                \n",
       "210210076.0                                           3.677758                \n",
       "210210046.0                                           3.677758                \n",
       "\n",
       "             Percent Unpaid family workers  \\\n",
       "APN                                          \n",
       "210080008.0                            0.0   \n",
       "210060035.0                            0.0   \n",
       "210210051.0                            0.0   \n",
       "210210076.0                            0.0   \n",
       "210210046.0                            0.0   \n",
       "\n",
       "                                               geometry_census  \n",
       "APN                                                             \n",
       "210080008.0  POLYGON ((-13064177.03 4027912.35, -13064167.1...  \n",
       "210060035.0  POLYGON ((-13064177.03 4027912.35, -13064167.1...  \n",
       "210210051.0  POLYGON ((-13064177.03 4027912.35, -13064167.1...  \n",
       "210210076.0  POLYGON ((-13064177.03 4027912.35, -13064167.1...  \n",
       "210210046.0  POLYGON ((-13064177.03 4027912.35, -13064167.1...  \n",
       "\n",
       "[5 rows x 105 columns]"
      ]
     },
     "execution_count": 3,
     "metadata": {},
     "output_type": "execute_result"
    }
   ],
   "source": [
    "# Create a dataset for data as of 2020\n",
    "parceldata_20=pd.read_csv('data/all_data_joined_2020.csv')\n",
    "\n",
    "# need to set APN to be index so that we can join this back to other information later on\n",
    "parceldata_20.set_index('APN',inplace=True)\n",
    "parceldata_20.head()"
   ]
  },
  {
   "cell_type": "markdown",
   "id": "d7a12b58-70e3-4179-9c6c-f09a1c9e7059",
   "metadata": {},
   "source": [
    "### Train Random Forest Model with 2010 Dataset"
   ]
  },
  {
   "cell_type": "markdown",
   "id": "117b25ce-e297-4536-8ade-5f972bbe7aca",
   "metadata": {},
   "source": [
    "Here we set up the training model by specifying the x and y variables to use and creating a train/test split"
   ]
  },
  {
   "cell_type": "code",
   "execution_count": 4,
   "id": "d376296f-4ba4-4ec3-aa17-ccd3b2a80ff1",
   "metadata": {},
   "outputs": [],
   "source": [
    "# define variables \n",
    "cols=parceldata_10.columns.to_list()\n",
    "xvars=[col for col in cols if col not in ('APN','building_class','year','acres','sqft','num_warehouses','buit_within_decade',\n",
    "                                          'geometry','PID19','APN19','CITY','COUNTY','LU19','LU16','JURISDICTI','LU19_CLASS','SCAG_ZN_CO','Shape_Leng','Shape_Area',\n",
    "                                          'GEO_ID','state_x','county_x','tract_x','NAME','tract_y_x','tract','tract_y_y','geometry_census')]\n",
    "yvar = 'buit_within_decade'\n",
    "\n",
    "# create a dataframe with no NaNs\n",
    "parceldata_10_model = parceldata_10[xvars+[yvar]].dropna()\n",
    "\n",
    "# create train-test split\n",
    "X_train, X_test, y_train, y_test = train_test_split(\n",
    "    parceldata_10_model[xvars], parceldata_10_model[yvar], test_size = 0.25, random_state = 1)"
   ]
  },
  {
   "cell_type": "markdown",
   "id": "2f83503b-c819-4b94-8e19-554b0a2538c2",
   "metadata": {},
   "source": [
    "Now we run the model and use it to make predictions with the test dataset"
   ]
  },
  {
   "cell_type": "code",
   "execution_count": 5,
   "id": "e3754b89-2303-4efa-b5a4-987afe2ada12",
   "metadata": {},
   "outputs": [],
   "source": [
    "# initialize the random forest classifer object\n",
    "rf = RandomForestClassifier(n_estimators = 50, random_state = 1)\n",
    "\n",
    "# fit the model\n",
    "rf.fit(X_train, y_train)\n",
    "\n",
    "# apply predictions to test dataset\n",
    "y_pred = rf.predict(X_test)"
   ]
  },
  {
   "cell_type": "code",
   "execution_count": 6,
   "id": "ddb38e67-37a6-4628-8369-42aaaafea3e4",
   "metadata": {},
   "outputs": [],
   "source": [
    "# stop if the length of the predictions doesn't match the training dataset\n",
    "assert len(X_test)==len(y_pred)"
   ]
  },
  {
   "cell_type": "markdown",
   "id": "ee3ffd68-cb9b-4d1d-96e2-edb7f823a043",
   "metadata": {},
   "source": [
    "We used a Confusion Matrix for an initial assessment of performance"
   ]
  },
  {
   "cell_type": "code",
   "execution_count": 7,
   "id": "6e9ac99e-ce06-4728-84b7-520faca2bf38",
   "metadata": {},
   "outputs": [
    {
     "name": "stdout",
     "output_type": "stream",
     "text": [
      "Predicted fraction True: 0.0001. Actual fraction True: 0.0003\n"
     ]
    },
    {
     "data": {
      "text/plain": [
       "<sklearn.metrics._plot.confusion_matrix.ConfusionMatrixDisplay at 0x2628f4e8c40>"
      ]
     },
     "execution_count": 7,
     "metadata": {},
     "output_type": "execute_result"
    },
    {
     "data": {
      "image/png": "[encoded data removed]",
      "text/plain": [
       "<Figure size 640x480 with 2 Axes>"
      ]
     },
     "metadata": {},
     "output_type": "display_data"
    }
   ],
   "source": [
    "print('Predicted fraction True: {:.4f}. Actual fraction True: {:.4f}'.format(\n",
    "    y_pred.mean(), y_test.mean()))\n",
    "ConfusionMatrixDisplay.from_predictions(y_test, y_pred)"
   ]
  },
  {
   "cell_type": "markdown",
   "id": "a8618ad3-c323-4a5c-9349-07db80eb7a8a",
   "metadata": {},
   "source": [
    "We used the feature importances to identify variables worth looking into further"
   ]
  },
  {
   "cell_type": "code",
   "execution_count": 8,
   "id": "3ccfab76-9aed-41cf-9412-c19f36f6c461",
   "metadata": {},
   "outputs": [
    {
     "data": {
      "text/plain": [
       "Text(0, 0.5, 'Mean decrease in impurity')"
      ]
     },
     "execution_count": 8,
     "metadata": {},
     "output_type": "execute_result"
    },
    {
     "data": {
      "image/png": "[encoded data removed]",
      "text/plain": [
       "<Figure size 500x400 with 1 Axes>"
      ]
     },
     "metadata": {},
     "output_type": "display_data"
    }
   ],
   "source": [
    "# create series of importances\n",
    "importances = rf.feature_importances_\n",
    "forest_importances = pd.Series(importances, index=X_train.columns)\n",
    "forest_importances.sort_values(inplace=True, ascending=False)\n",
    "\n",
    "# plot them\n",
    "fig, ax = plt.subplots(figsize=(5,4))\n",
    "sns.barplot(x=forest_importances[:20].values, y=forest_importances[:15].index, ax=ax)\n",
    "ax.set_title(\"Feature importances using MDI\")\n",
    "ax.set_ylabel(\"Mean decrease in impurity\")"
   ]
  },
  {
   "cell_type": "markdown",
   "id": "eac904d6-10a1-4d88-a1fe-2696be9e86e6",
   "metadata": {},
   "source": [
    "### Apply Model to 2020 Dataset"
   ]
  },
  {
   "cell_type": "code",
   "execution_count": 9,
   "id": "b0740ab4-4f41-42e3-9d3e-ded119a24688",
   "metadata": {},
   "outputs": [],
   "source": [
    "# define variables \n",
    "cols=parceldata_20.columns.to_list()\n",
    "xvars=[col for col in cols if col not in ('APN','building_class','year','acres','sqft','num_warehouses','buit_within_decade',\n",
    "                                          'geometry','PID19','APN19','CITY','COUNTY','LU19','LU16','JURISDICTI','LU19_CLASS','SCAG_ZN_CO','Shape_Leng','Shape_Area',\n",
    "                                          'GEO_ID','state_x','county_x','tract_x','NAME','tract_y_x','tract','tract_y_y','geometry_census')]\n",
    "yvar = 'buit_within_decade'\n",
    "\n",
    "# create a dataframe with no NaNs\n",
    "parceldata_20_model = parceldata_20[xvars+[yvar]].dropna()"
   ]
  },
  {
   "cell_type": "markdown",
   "id": "e71a053f-ea59-4c3a-833f-ce262d8395a3",
   "metadata": {},
   "source": [
    "We now use the same RF model from before to predict the percent chance that a warehouse will be built within a decade on the 2020 data"
   ]
  },
  {
   "cell_type": "code",
   "execution_count": 10,
   "id": "f21c6110-6e21-4e52-aca2-9620e64b0919",
   "metadata": {},
   "outputs": [
    {
     "ename": "ValueError",
     "evalue": "The feature names should match those that were passed during fit.\nFeature names unseen at fit time:\n- county\n- state\nFeature names seen at fit time, yet now missing:\n- Total:\n",
     "output_type": "error",
     "traceback": [
      "\u001b[1;31m---------------------------------------------------------------------------\u001b[0m",
      "\u001b[1;31mValueError\u001b[0m                                Traceback (most recent call last)",
      "Cell \u001b[1;32mIn[10], line 3\u001b[0m\n\u001b[0;32m      1\u001b[0m \u001b[38;5;66;03m# apply predictions from previous model to test dataset\u001b[39;00m\n\u001b[0;32m      2\u001b[0m X_test\u001b[38;5;241m=\u001b[39mparceldata_20_model[xvars]\n\u001b[1;32m----> 3\u001b[0m y_pred \u001b[38;5;241m=\u001b[39m \u001b[43mrf\u001b[49m\u001b[38;5;241;43m.\u001b[39;49m\u001b[43mpredict\u001b[49m\u001b[43m(\u001b[49m\u001b[43mX_test\u001b[49m\u001b[43m)\u001b[49m\n",
      "File \u001b[1;32m~\\anaconda3\\envs\\uds\\lib\\site-packages\\sklearn\\ensemble\\_forest.py:820\u001b[0m, in \u001b[0;36mForestClassifier.predict\u001b[1;34m(self, X)\u001b[0m\n\u001b[0;32m    799\u001b[0m \u001b[38;5;28;01mdef\u001b[39;00m \u001b[38;5;21mpredict\u001b[39m(\u001b[38;5;28mself\u001b[39m, X):\n\u001b[0;32m    800\u001b[0m \u001b[38;5;250m    \u001b[39m\u001b[38;5;124;03m\"\"\"\u001b[39;00m\n\u001b[0;32m    801\u001b[0m \u001b[38;5;124;03m    Predict class for X.\u001b[39;00m\n\u001b[0;32m    802\u001b[0m \n\u001b[1;32m   (...)\u001b[0m\n\u001b[0;32m    818\u001b[0m \u001b[38;5;124;03m        The predicted classes.\u001b[39;00m\n\u001b[0;32m    819\u001b[0m \u001b[38;5;124;03m    \"\"\"\u001b[39;00m\n\u001b[1;32m--> 820\u001b[0m     proba \u001b[38;5;241m=\u001b[39m \u001b[38;5;28;43mself\u001b[39;49m\u001b[38;5;241;43m.\u001b[39;49m\u001b[43mpredict_proba\u001b[49m\u001b[43m(\u001b[49m\u001b[43mX\u001b[49m\u001b[43m)\u001b[49m\n\u001b[0;32m    822\u001b[0m     \u001b[38;5;28;01mif\u001b[39;00m \u001b[38;5;28mself\u001b[39m\u001b[38;5;241m.\u001b[39mn_outputs_ \u001b[38;5;241m==\u001b[39m \u001b[38;5;241m1\u001b[39m:\n\u001b[0;32m    823\u001b[0m         \u001b[38;5;28;01mreturn\u001b[39;00m \u001b[38;5;28mself\u001b[39m\u001b[38;5;241m.\u001b[39mclasses_\u001b[38;5;241m.\u001b[39mtake(np\u001b[38;5;241m.\u001b[39margmax(proba, axis\u001b[38;5;241m=\u001b[39m\u001b[38;5;241m1\u001b[39m), axis\u001b[38;5;241m=\u001b[39m\u001b[38;5;241m0\u001b[39m)\n",
      "File \u001b[1;32m~\\anaconda3\\envs\\uds\\lib\\site-packages\\sklearn\\ensemble\\_forest.py:862\u001b[0m, in \u001b[0;36mForestClassifier.predict_proba\u001b[1;34m(self, X)\u001b[0m\n\u001b[0;32m    860\u001b[0m check_is_fitted(\u001b[38;5;28mself\u001b[39m)\n\u001b[0;32m    861\u001b[0m \u001b[38;5;66;03m# Check data\u001b[39;00m\n\u001b[1;32m--> 862\u001b[0m X \u001b[38;5;241m=\u001b[39m \u001b[38;5;28;43mself\u001b[39;49m\u001b[38;5;241;43m.\u001b[39;49m\u001b[43m_validate_X_predict\u001b[49m\u001b[43m(\u001b[49m\u001b[43mX\u001b[49m\u001b[43m)\u001b[49m\n\u001b[0;32m    864\u001b[0m \u001b[38;5;66;03m# Assign chunk of trees to jobs\u001b[39;00m\n\u001b[0;32m    865\u001b[0m n_jobs, _, _ \u001b[38;5;241m=\u001b[39m _partition_estimators(\u001b[38;5;28mself\u001b[39m\u001b[38;5;241m.\u001b[39mn_estimators, \u001b[38;5;28mself\u001b[39m\u001b[38;5;241m.\u001b[39mn_jobs)\n",
      "File \u001b[1;32m~\\anaconda3\\envs\\uds\\lib\\site-packages\\sklearn\\ensemble\\_forest.py:602\u001b[0m, in \u001b[0;36mBaseForest._validate_X_predict\u001b[1;34m(self, X)\u001b[0m\n\u001b[0;32m    599\u001b[0m \u001b[38;5;250m\u001b[39m\u001b[38;5;124;03m\"\"\"\u001b[39;00m\n\u001b[0;32m    600\u001b[0m \u001b[38;5;124;03mValidate X whenever one tries to predict, apply, predict_proba.\"\"\"\u001b[39;00m\n\u001b[0;32m    601\u001b[0m check_is_fitted(\u001b[38;5;28mself\u001b[39m)\n\u001b[1;32m--> 602\u001b[0m X \u001b[38;5;241m=\u001b[39m \u001b[38;5;28;43mself\u001b[39;49m\u001b[38;5;241;43m.\u001b[39;49m\u001b[43m_validate_data\u001b[49m\u001b[43m(\u001b[49m\u001b[43mX\u001b[49m\u001b[43m,\u001b[49m\u001b[43m \u001b[49m\u001b[43mdtype\u001b[49m\u001b[38;5;241;43m=\u001b[39;49m\u001b[43mDTYPE\u001b[49m\u001b[43m,\u001b[49m\u001b[43m \u001b[49m\u001b[43maccept_sparse\u001b[49m\u001b[38;5;241;43m=\u001b[39;49m\u001b[38;5;124;43m\"\u001b[39;49m\u001b[38;5;124;43mcsr\u001b[39;49m\u001b[38;5;124;43m\"\u001b[39;49m\u001b[43m,\u001b[49m\u001b[43m \u001b[49m\u001b[43mreset\u001b[49m\u001b[38;5;241;43m=\u001b[39;49m\u001b[38;5;28;43;01mFalse\u001b[39;49;00m\u001b[43m)\u001b[49m\n\u001b[0;32m    603\u001b[0m \u001b[38;5;28;01mif\u001b[39;00m issparse(X) \u001b[38;5;129;01mand\u001b[39;00m (X\u001b[38;5;241m.\u001b[39mindices\u001b[38;5;241m.\u001b[39mdtype \u001b[38;5;241m!=\u001b[39m np\u001b[38;5;241m.\u001b[39mintc \u001b[38;5;129;01mor\u001b[39;00m X\u001b[38;5;241m.\u001b[39mindptr\u001b[38;5;241m.\u001b[39mdtype \u001b[38;5;241m!=\u001b[39m np\u001b[38;5;241m.\u001b[39mintc):\n\u001b[0;32m    604\u001b[0m     \u001b[38;5;28;01mraise\u001b[39;00m \u001b[38;5;167;01mValueError\u001b[39;00m(\u001b[38;5;124m\"\u001b[39m\u001b[38;5;124mNo support for np.int64 index based sparse matrices\u001b[39m\u001b[38;5;124m\"\u001b[39m)\n",
      "File \u001b[1;32m~\\anaconda3\\envs\\uds\\lib\\site-packages\\sklearn\\base.py:548\u001b[0m, in \u001b[0;36mBaseEstimator._validate_data\u001b[1;34m(self, X, y, reset, validate_separately, **check_params)\u001b[0m\n\u001b[0;32m    483\u001b[0m \u001b[38;5;28;01mdef\u001b[39;00m \u001b[38;5;21m_validate_data\u001b[39m(\n\u001b[0;32m    484\u001b[0m     \u001b[38;5;28mself\u001b[39m,\n\u001b[0;32m    485\u001b[0m     X\u001b[38;5;241m=\u001b[39m\u001b[38;5;124m\"\u001b[39m\u001b[38;5;124mno_validation\u001b[39m\u001b[38;5;124m\"\u001b[39m,\n\u001b[1;32m   (...)\u001b[0m\n\u001b[0;32m    489\u001b[0m     \u001b[38;5;241m*\u001b[39m\u001b[38;5;241m*\u001b[39mcheck_params,\n\u001b[0;32m    490\u001b[0m ):\n\u001b[0;32m    491\u001b[0m \u001b[38;5;250m    \u001b[39m\u001b[38;5;124;03m\"\"\"Validate input data and set or check the `n_features_in_` attribute.\u001b[39;00m\n\u001b[0;32m    492\u001b[0m \n\u001b[0;32m    493\u001b[0m \u001b[38;5;124;03m    Parameters\u001b[39;00m\n\u001b[1;32m   (...)\u001b[0m\n\u001b[0;32m    546\u001b[0m \u001b[38;5;124;03m        validated.\u001b[39;00m\n\u001b[0;32m    547\u001b[0m \u001b[38;5;124;03m    \"\"\"\u001b[39;00m\n\u001b[1;32m--> 548\u001b[0m     \u001b[38;5;28;43mself\u001b[39;49m\u001b[38;5;241;43m.\u001b[39;49m\u001b[43m_check_feature_names\u001b[49m\u001b[43m(\u001b[49m\u001b[43mX\u001b[49m\u001b[43m,\u001b[49m\u001b[43m \u001b[49m\u001b[43mreset\u001b[49m\u001b[38;5;241;43m=\u001b[39;49m\u001b[43mreset\u001b[49m\u001b[43m)\u001b[49m\n\u001b[0;32m    550\u001b[0m     \u001b[38;5;28;01mif\u001b[39;00m y \u001b[38;5;129;01mis\u001b[39;00m \u001b[38;5;28;01mNone\u001b[39;00m \u001b[38;5;129;01mand\u001b[39;00m \u001b[38;5;28mself\u001b[39m\u001b[38;5;241m.\u001b[39m_get_tags()[\u001b[38;5;124m\"\u001b[39m\u001b[38;5;124mrequires_y\u001b[39m\u001b[38;5;124m\"\u001b[39m]:\n\u001b[0;32m    551\u001b[0m         \u001b[38;5;28;01mraise\u001b[39;00m \u001b[38;5;167;01mValueError\u001b[39;00m(\n\u001b[0;32m    552\u001b[0m             \u001b[38;5;124mf\u001b[39m\u001b[38;5;124m\"\u001b[39m\u001b[38;5;124mThis \u001b[39m\u001b[38;5;132;01m{\u001b[39;00m\u001b[38;5;28mself\u001b[39m\u001b[38;5;241m.\u001b[39m\u001b[38;5;18m__class__\u001b[39m\u001b[38;5;241m.\u001b[39m\u001b[38;5;18m__name__\u001b[39m\u001b[38;5;132;01m}\u001b[39;00m\u001b[38;5;124m estimator \u001b[39m\u001b[38;5;124m\"\u001b[39m\n\u001b[0;32m    553\u001b[0m             \u001b[38;5;124m\"\u001b[39m\u001b[38;5;124mrequires y to be passed, but the target y is None.\u001b[39m\u001b[38;5;124m\"\u001b[39m\n\u001b[0;32m    554\u001b[0m         )\n",
      "File \u001b[1;32m~\\anaconda3\\envs\\uds\\lib\\site-packages\\sklearn\\base.py:481\u001b[0m, in \u001b[0;36mBaseEstimator._check_feature_names\u001b[1;34m(self, X, reset)\u001b[0m\n\u001b[0;32m    476\u001b[0m \u001b[38;5;28;01mif\u001b[39;00m \u001b[38;5;129;01mnot\u001b[39;00m missing_names \u001b[38;5;129;01mand\u001b[39;00m \u001b[38;5;129;01mnot\u001b[39;00m unexpected_names:\n\u001b[0;32m    477\u001b[0m     message \u001b[38;5;241m+\u001b[39m\u001b[38;5;241m=\u001b[39m (\n\u001b[0;32m    478\u001b[0m         \u001b[38;5;124m\"\u001b[39m\u001b[38;5;124mFeature names must be in the same order as they were in fit.\u001b[39m\u001b[38;5;130;01m\\n\u001b[39;00m\u001b[38;5;124m\"\u001b[39m\n\u001b[0;32m    479\u001b[0m     )\n\u001b[1;32m--> 481\u001b[0m \u001b[38;5;28;01mraise\u001b[39;00m \u001b[38;5;167;01mValueError\u001b[39;00m(message)\n",
      "\u001b[1;31mValueError\u001b[0m: The feature names should match those that were passed during fit.\nFeature names unseen at fit time:\n- county\n- state\nFeature names seen at fit time, yet now missing:\n- Total:\n"
     ]
    }
   ],
   "source": [
    "# apply predictions from previous model to test dataset\n",
    "X_test=parceldata_20_model[xvars]\n",
    "y_pred = rf.predict(X_test)"
   ]
  },
  {
   "cell_type": "code",
   "execution_count": null,
   "id": "e8eb1b49-5d8a-4260-8d05-ebbd12047289",
   "metadata": {},
   "outputs": [],
   "source": [
    "# stop if lengths don't match\n",
    "assert len(X_test)==len(y_pred)\n",
    "# how many does it predict?\n",
    "print('Predicted fraction True: {:.4f}'.format(y_pred.mean()))\n",
    "print('Predicted number True: {:.0f}'.format(y_pred.sum()))"
   ]
  },
  {
   "cell_type": "markdown",
   "id": "a896db71-59d0-4cc3-836d-7580a0d4d67e",
   "metadata": {},
   "source": [
    "We will now create a dataframe of predictions to be able to visualize the results"
   ]
  },
  {
   "cell_type": "code",
   "execution_count": null,
   "id": "e3a458f4-cfa6-4740-9f5f-7ebade5c03b4",
   "metadata": {},
   "outputs": [],
   "source": [
    "# create a dataframe of predictions about whether or not a parcel will have a warehouse built on it within 10 years & join this to the full df\n",
    "predictions = pd.DataFrame(rf.predict_proba(X_test),columns = ['pred_noWH', 'pred_WH'])\n",
    "predictions= predictions.join((X_test).reset_index())\n",
    "predictions.set_index('APN',inplace=True)\n",
    "predictions.head()"
   ]
  },
  {
   "cell_type": "code",
   "execution_count": null,
   "id": "2fa6c508-59ce-4411-b508-0212a27d80c0",
   "metadata": {},
   "outputs": [],
   "source": [
    "# not a whole lot actally predicted to become warehouses... maybe visualize percentages above a certain point if census data doesn't fix\n",
    "print(len(predictions[predictions.pred_WH>0.5]))\n",
    "print(len(predictions[predictions.pred_WH>0.25]))"
   ]
  },
  {
   "cell_type": "code",
   "execution_count": null,
   "id": "ce664393-dbe4-4700-9ae0-c53a91cddd8d",
   "metadata": {},
   "outputs": [],
   "source": [
    "# save her!!!!\n",
    "predictions.to_csv('predictions.csv')"
   ]
  }
 ],
 "metadata": {
  "kernelspec": {
   "display_name": "Python 3 (ipykernel)",
   "language": "python",
   "name": "python3"
  },
  "language_info": {
   "codemirror_mode": {
    "name": "ipython",
    "version": 3
   },
   "file_extension": ".py",
   "mimetype": "text/x-python",
   "name": "python",
   "nbconvert_exporter": "python",
   "pygments_lexer": "ipython3",
   "version": "3.10.9"
  }
 },
 "nbformat": 4,
 "nbformat_minor": 5
}
