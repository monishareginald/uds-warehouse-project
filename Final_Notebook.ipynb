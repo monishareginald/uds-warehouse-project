{
 "cells": [
  {
   "cell_type": "code",
   "execution_count": null,
   "id": "a53bb00a-c8ac-4e66-8498-4a9ce6cd2d60",
   "metadata": {},
   "outputs": [],
   "source": [
    "#"
   ]
  },
  {
   "cell_type": "markdown",
   "id": "ad04a44f-7382-4d70-97c4-2dd968e5d69a",
   "metadata": {},
   "source": [
    "## Random Forest Models"
   ]
  },
  {
   "cell_type": "code",
   "execution_count": null,
   "id": "4147155d-2ff8-4771-897b-8eb816f5cf74",
   "metadata": {},
   "outputs": [],
   "source": []
  },
  {
   "cell_type": "code",
   "execution_count": null,
   "id": "2cab80d0-c165-454c-8b57-4ae6980a9fb5",
   "metadata": {},
   "outputs": [],
   "source": []
  },
  {
   "cell_type": "markdown",
   "id": "267fdb32-1314-4ecc-933d-3bf6ce16c0e6",
   "metadata": {},
   "source": [
    "## Model results:\n",
    "\n",
    "Export feature importances bar charts & confusion matrix"
   ]
  },
  {
   "cell_type": "markdown",
   "id": "64a90a85-707a-4185-afa7-ae85c2e264f3",
   "metadata": {},
   "source": [
    "## Visualizations (Alyssa)"
   ]
  },
  {
   "cell_type": "markdown",
   "id": "4643dcbd-c792-498b-a42a-3ee600478816",
   "metadata": {},
   "source": [
    "1. 2010 & 2020 Warehouse Locations (maybe over income/race demographics, or CalEnviroscreen?)\n",
    "\n",
    "2. Using the 'best' model: (likely the random forest  top 20 feature importance one):\n",
    "\n",
    "-Predicted 2030 Warehouse Locations \n",
    "\n",
    "-Places that are above a 25% or 50% chance 2030 Warehouse Locations\n",
    "\n",
    "-layer with CalEnviroscreen index (already read this in for lecture/class, alternatively could use demographics we have in census data)\n",
    "\n",
    "\n"
   ]
  },
  {
   "cell_type": "code",
   "execution_count": null,
   "id": "6a78196d-b94a-4b74-b911-3f72c323951b",
   "metadata": {},
   "outputs": [],
   "source": []
  }
 ],
 "metadata": {
  "kernelspec": {
   "display_name": "Python 3 (ipykernel)",
   "language": "python",
   "name": "python3"
  },
  "language_info": {
   "codemirror_mode": {
    "name": "ipython",
    "version": 3
   },
   "file_extension": ".py",
   "mimetype": "text/x-python",
   "name": "python",
   "nbconvert_exporter": "python",
   "pygments_lexer": "ipython3",
   "version": "3.9.16"
  }
 },
 "nbformat": 4,
 "nbformat_minor": 5
}
