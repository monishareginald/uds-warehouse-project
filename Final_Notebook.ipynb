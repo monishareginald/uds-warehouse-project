{
 "cells": [
  {
   "cell_type": "markdown",
   "id": "8e13a723-c0d4-473a-8b30-40c702f0d75b",
   "metadata": {},
   "source": [
    "# Predicting Inland Empire Warehouse Growth\n",
    "\n",
    "### UDS Final Project -  Lucy Briggs, Carolyn Pugh, Monisha Reginald, Alyssa Suzukawa"
   ]
  },
  {
   "cell_type": "markdown",
   "id": "23bff8af-7ed3-4b91-b639-6672077e9976",
   "metadata": {},
   "source": [
    "### Research Question\n",
    "#### If warehouses continue growing at the same rate in Southern California, what will the region look like by the year 2030?\n",
    "Warehouses have been rapidly expanding in the Inland Empire, and have significant environmental justice implications. We wanted to understand where, based on trends from 2010-2020, future warehouses might be built in San Bernardino and Riverside, California. To do this, we collected data that might be related to warehouse siting, such as land values, existing warehouse locations, distance to major roadways, and local demographics. We then used machine learning to train models for predicting the probability that a warehouse will be built on a land parcel by 2030. \n",
    "\n",
    "### Overview of Notebook:\n",
    "Section 1. Data Collection & Cleaning\n",
    "\n",
    "Section 2. Random Forest Models\n",
    "\n",
    "Section 3. Neural Network Models\n",
    "\n",
    "Section 4. Discussion of Results\n"
   ]
  },
  {
   "cell_type": "markdown",
   "id": "c3e1d5d2-16fd-40f7-ac4c-e2b03d175c6d",
   "metadata": {},
   "source": [
    "## Data Collection & Cleaning"
   ]
  },
  {
   "cell_type": "markdown",
   "id": "cf8c8673-1d49-425b-b129-5ccfcc1fa072",
   "metadata": {},
   "source": [
    "#### Warehouse Data (Lucy to fill in this section & link to data/prep notebooks)"
   ]
  },
  {
   "cell_type": "code",
   "execution_count": 8,
   "id": "d6effe8f-4c96-4947-9b26-f48255aa1519",
   "metadata": {},
   "outputs": [],
   "source": [
    "#Add Alyssa's map of current warehouse locations here"
   ]
  },
  {
   "cell_type": "markdown",
   "id": "9218a9f6-b73d-4ac6-b059-492af4080ebb",
   "metadata": {},
   "source": [
    "#### SCAG Data (Alyssa to fill in this section & link to data/prep notebooks) \n"
   ]
  },
  {
   "cell_type": "markdown",
   "id": "055354a8-bd20-4b14-a3ff-9881a6963dd1",
   "metadata": {},
   "source": [
    "#### Census Data (Carolyn to fill in this section & link to data/prep notebooks) "
   ]
  },
  {
   "cell_type": "markdown",
   "id": "19623279-7953-497b-bd09-4dd783e07c1b",
   "metadata": {},
   "source": [
    "#### Transportation Corridors (Monisha to describe methods and link to data/prep notebooks) "
   ]
  },
  {
   "cell_type": "markdown",
   "id": "f6851bbe-be72-4cd0-a9e0-6b40ddfa6df8",
   "metadata": {},
   "source": [
    "#### Joins (Monisha to describe methods and link to data/prep notebooks) "
   ]
  },
  {
   "cell_type": "markdown",
   "id": "ad04a44f-7382-4d70-97c4-2dd968e5d69a",
   "metadata": {},
   "source": [
    "## Random Forest Models"
   ]
  },
  {
   "cell_type": "markdown",
   "id": "b18da4c2-e32a-445a-804d-88adf6fa4d7d",
   "metadata": {},
   "source": [
    "#### Random Forest Methodology (Monisha)"
   ]
  },
  {
   "cell_type": "markdown",
   "id": "6344a52b-26e9-4849-8859-07c9779deb5d",
   "metadata": {},
   "source": [
    "### Parcel Level Data (Monisha)"
   ]
  },
  {
   "cell_type": "code",
   "execution_count": 9,
   "id": "03e45136-e0fa-46e5-a8d6-6e67c538aa0b",
   "metadata": {},
   "outputs": [],
   "source": [
    "#### link to prep notebook, discuss results, add png of feature importances figure & confusion matrix"
   ]
  },
  {
   "cell_type": "markdown",
   "id": "a7b5a756-dd61-4ead-bd50-acd443c6e9e6",
   "metadata": {},
   "source": [
    "### Parcel Level and Census Data (Lucy)"
   ]
  },
  {
   "cell_type": "code",
   "execution_count": 11,
   "id": "fe3cff71-1abf-4bdf-883d-19f3bc742eaa",
   "metadata": {},
   "outputs": [],
   "source": [
    "#### link to prep notebook, discuss methods/results, add png of feature importances figure & confusion matrix"
   ]
  },
  {
   "cell_type": "markdown",
   "id": "3fc6e028-df01-402c-92fd-c9492e342c48",
   "metadata": {},
   "source": [
    "## Neural Networks (Carolyn)"
   ]
  },
  {
   "cell_type": "markdown",
   "id": "8089327d-0c62-4407-956f-374a28a4f22c",
   "metadata": {},
   "source": [
    "### Parcel Level Data Only"
   ]
  },
  {
   "cell_type": "code",
   "execution_count": null,
   "id": "bd2294e6-6c5d-4398-b2fd-8fec52a98773",
   "metadata": {},
   "outputs": [],
   "source": [
    "#### link to prep notebook, discuss results, add png of confusion matrix"
   ]
  },
  {
   "cell_type": "markdown",
   "id": "8ae67728-3a22-4151-afcb-11c0f6dc57ca",
   "metadata": {},
   "source": [
    "### With Census Data"
   ]
  },
  {
   "cell_type": "code",
   "execution_count": null,
   "id": "81963252-86fb-4010-8c51-c7af5fcec363",
   "metadata": {},
   "outputs": [],
   "source": [
    "#### link to prep notebook, discuss results, add png of confusion matrix"
   ]
  },
  {
   "cell_type": "markdown",
   "id": "34ed00ff-ed6d-4e7f-acf7-b78d485ee7ae",
   "metadata": {},
   "source": [
    "# Discussion of Results (Alyssa)"
   ]
  },
  {
   "cell_type": "markdown",
   "id": "64a90a85-707a-4185-afa7-ae85c2e264f3",
   "metadata": {},
   "source": [
    "## Visualizations to make (Alyssa)"
   ]
  },
  {
   "cell_type": "markdown",
   "id": "4643dcbd-c792-498b-a42a-3ee600478816",
   "metadata": {},
   "source": [
    "1. 2010 & 2020 Warehouse Locations (maybe over income/race demographics, or CalEnviroscreen?)\n",
    "\n",
    "2. Using the 'best' model: (likely the random forest  top 20 feature importance one):\n",
    "\n",
    "        -Predicted 2030 Warehouse Locations \n",
    "\n",
    "        -Places that are above a 25% or 50% chance 2030 Warehouse Locations\n",
    "\n",
    "        -layer with CalEnviroscreen index (already read this in for lecture/class, alternatively could use demographics we have in census data)\n",
    "\n",
    "\n"
   ]
  },
  {
   "cell_type": "code",
   "execution_count": null,
   "id": "6a78196d-b94a-4b74-b911-3f72c323951b",
   "metadata": {},
   "outputs": [],
   "source": []
  }
 ],
 "metadata": {
  "kernelspec": {
   "display_name": "Python 3 (ipykernel)",
   "language": "python",
   "name": "python3"
  },
  "language_info": {
   "codemirror_mode": {
    "name": "ipython",
    "version": 3
   },
   "file_extension": ".py",
   "mimetype": "text/x-python",
   "name": "python",
   "nbconvert_exporter": "python",
   "pygments_lexer": "ipython3",
   "version": "3.9.16"
  }
 },
 "nbformat": 4,
 "nbformat_minor": 5
}
